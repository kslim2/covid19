{
 "cells": [
  {
   "cell_type": "markdown",
   "metadata": {},
   "source": [
    "# Import packages"
   ]
  },
  {
   "cell_type": "code",
   "execution_count": 1,
   "metadata": {},
   "outputs": [],
   "source": [
    "import math \n",
    "import numpy as np \n",
    "\n",
    "import pandas as pd \n",
    "import os \n",
    "import csv \n",
    "\n",
    "from tqdm import tqdm \n",
    "\n",
    "import torch \n",
    "import torch.nn as nn \n",
    "from torch.utils.data import Dataset, DataLoader, random_split \n",
    "\n",
    "from torch.utils.tensorboard import SummaryWriter"
   ]
  },
  {
   "cell_type": "markdown",
   "metadata": {},
   "source": [
    "# Some utility function"
   ]
  },
  {
   "cell_type": "code",
   "execution_count": 2,
   "metadata": {},
   "outputs": [],
   "source": [
    "def same_seed(seed):\n",
    "    '''Fixes random number generator seeds for reproducibility'''\n",
    "    torch.backends.cudnn.deterministic = True \n",
    "    torch.backends.cudnn.benchmark = False \n",
    "    np.random.seed(seed)\n",
    "    torch.manual_seed(seed)\n",
    "    if torch.cuda.is_available():\n",
    "        torch.cuda.manual_seed_all(seed)\n"
   ]
  },
  {
   "cell_type": "code",
   "execution_count": 3,
   "metadata": {},
   "outputs": [],
   "source": [
    "def train_valid_split(data_set, valid_ratio, seed):\n",
    "    '''Split provided training data into training set and \n",
    "    validation set'''\n",
    "    valid_set_size = int(valid_ratio * len(data_set))\n",
    "    train_set_size = len(data_set) - valid_set_size \n",
    "    train_set, valid_set = random_split(data_set, \n",
    "        [train_set_size, valid_set_size])\n",
    "    return np.array(train_set), np.array(valid_set)"
   ]
  },
  {
   "cell_type": "code",
   "execution_count": 4,
   "metadata": {},
   "outputs": [],
   "source": [
    "def predict(test_loader, model, device):\n",
    "    model.eval() # set the model for evaluation \n",
    "    preds = []\n",
    "    for x in tqdm(test_loader):\n",
    "        x = x.to(device)\n",
    "        with torch.no_grad():\n",
    "            pred = model(x)\n",
    "            preds.append(pred.detach().cpu())\n",
    "    \n",
    "    preds = torch.cat(preds, dim=0).numpy()\n",
    "    return preds"
   ]
  },
  {
   "cell_type": "markdown",
   "metadata": {},
   "source": [
    "# Dataset"
   ]
  },
  {
   "cell_type": "code",
   "execution_count": 5,
   "metadata": {},
   "outputs": [],
   "source": [
    "class COVID19Dataset(Dataset):\n",
    "    '''\n",
    "    x: features\n",
    "    y: targets, if none, do predictions\n",
    "    '''\n",
    "    def __init__(self, x, y=None):\n",
    "        if y is None:\n",
    "            self.y = y  \n",
    "        else:\n",
    "            self.y = torch.FloatTensor(y)\n",
    "        self.x = torch.FloatTensor(x)\n",
    "\n",
    "    def __getitem__(self, idx):\n",
    "        if self.y is None:\n",
    "            return self.x[idx]\n",
    "        else:\n",
    "            return self.x[idx], self.y[idx]\n",
    "\n",
    "    def __len__(self):\n",
    "        return len(self.x)"
   ]
  },
  {
   "cell_type": "markdown",
   "metadata": {},
   "source": [
    "# Neural Network Model \n",
    "\n"
   ]
  },
  {
   "cell_type": "code",
   "execution_count": 6,
   "metadata": {},
   "outputs": [],
   "source": [
    "class My_Model(nn.Module):\n",
    "\n",
    "    def __init__(self, input_dim):\n",
    "        super(My_Model, self).__init__()\n",
    "        self.layers = nn.Sequential(\n",
    "            nn.Linear(input_dim, 16),\n",
    "            nn.ReLU(),\n",
    "            nn.Linear(16, 8),\n",
    "            nn.ReLU(),\n",
    "            nn.Linear(8, 1)\n",
    "        )\n",
    "\n",
    "    def forward(self, x):\n",
    "        x = self.layers(x)\n",
    "        x = x.squeeze(1) # (B, 1) - > (B)\n",
    "        return x"
   ]
  },
  {
   "cell_type": "markdown",
   "metadata": {},
   "source": [
    "# Feature Selection"
   ]
  },
  {
   "cell_type": "code",
   "execution_count": 7,
   "metadata": {},
   "outputs": [],
   "source": [
    "def select_feat(train_data, valid_data, test_data, select_all=True):\n",
    "    '''Select useful features to perform regression'''\n",
    "    y_train, y_valid = train_data[:, -1], valid_data[:, -1]\n",
    "    raw_x_train, raw_x_valid, raw_x_test = train_data[:, :-1], \\\n",
    "        valid_data[:, :-1], test_data\n",
    "    \n",
    "    if select_all:\n",
    "        feat_idx = list(range(raw_x_train.shape[1]))\n",
    "    else:\n",
    "        feat_idx = [0, 1, 2, 3, 4]\n",
    "    \n",
    "    return raw_x_train[:, feat_idx], raw_x_valid[:, feat_idx], \\\n",
    "        raw_x_test[:, feat_idx], y_train, y_valid"
   ]
  },
  {
   "cell_type": "markdown",
   "metadata": {},
   "source": [
    "# Training loop"
   ]
  },
  {
   "cell_type": "code",
   "execution_count": 8,
   "metadata": {},
   "outputs": [],
   "source": [
    "def trainer(train_loader, valid_loader, model, config, device):\n",
    "    criterion = nn.MSELoss(reduction=\"mean\") # define loss function \n",
    "\n",
    "    # define the optimization algoritum\n",
    "    optimizer = torch.optim.SGD(model.parameters(), \n",
    "        lr=config['learning_rate'], momentum=0.9)\n",
    "    writer = SummaryWriter() # writer of tensorboard\n",
    "\n",
    "    if not os.path.isdir('./models'):\n",
    "        os.mkdir('./models') # create directory of saving models \n",
    "\n",
    "    n_epochs, best_loss, step, early_stop_count = \\\n",
    "        config['n_epochs'], math.inf, 0, 0 \n",
    "\n",
    "    for epoch in range(n_epochs):\n",
    "        model.train() # set the model to train mode\n",
    "        loss_record = []\n",
    "\n",
    "        # tqdm is a package to visualize the training progress\n",
    "        train_pbar = tqdm(train_loader, position=0, leave=True)\n",
    "\n",
    "        for x, y in train_pbar:\n",
    "            optimizer.zero_grad() # set the gradient to zero\n",
    "            x, y = x.to(device), y.to(device) # move data to device\n",
    "            pred = model(x)\n",
    "            loss = criterion(pred, y)\n",
    "            loss.backward() # compute gradient (backpropagation)\n",
    "            optimizer.step() # update parameter\n",
    "            step += 1\n",
    "            loss_record.append(loss.detach().item())\n",
    "\n",
    "            # display current epoch number and loss on tqdm progress bar\n",
    "            train_pbar.set_description(f'epoch [{epoch+1}/{n_epochs}]')\n",
    "            train_pbar.set_postfix({'loss': loss.detach().item()})\n",
    "        \n",
    "        mean_train_loss = sum(loss_record)/len(loss_record)\n",
    "        writer.add_scalar('Loss/train', mean_train_loss, step)\n",
    "\n",
    "        model.eval() # set the model to evaluation mode\n",
    "        loss_record = [] \n",
    "        for x, y in valid_loader:\n",
    "            x, y = x.to(device), y.to(device)\n",
    "            with torch.no_grad():\n",
    "                pred = model(x)\n",
    "                loss = criterion(pred, y)\n",
    "\n",
    "            loss_record.append(loss.item())\n",
    "\n",
    "        mean_valid_loss = sum(loss_record) / len(loss_record)\n",
    "        print(f'Epoch [{epoch+1}/{n_epochs}]: Train loss: {mean_train_loss:.4f}, \\\n",
    "            Valid loss: {mean_valid_loss:.4f}')\n",
    "        writer.add_scalar('Loss/valid', mean_valid_loss, step)\n",
    "\n",
    "        if mean_valid_loss < best_loss:\n",
    "            best_loss = mean_valid_loss\n",
    "            torch.save(model.state_dict(), config['save_path']) # save the best model\n",
    "            print('Saving model with loss {:.3f}'.format(best_loss))\n",
    "            early_stop_count = 0\n",
    "        else:\n",
    "            early_stop_count += 1 \n",
    "\n",
    "        if early_stop_count >= config['early_stop']:\n",
    "            print('\\nModel is not improving, so we halt the training session')\n",
    "            return "
   ]
  },
  {
   "cell_type": "markdown",
   "metadata": {},
   "source": [
    "# Configurations \n",
    "\n",
    "config containss the hyper-parameter for training and the path to save the model"
   ]
  },
  {
   "cell_type": "code",
   "execution_count": 9,
   "metadata": {},
   "outputs": [],
   "source": [
    "device = 'cuda' if torch.cuda.is_available() else 'cpu'\n",
    "config = {\n",
    "    'seed': 5201314, # defined your seed number\n",
    "    'select_all': True, # whether to use all features\n",
    "    'valid_ratio': 0.2, # validation_size = train_size * valid_ratio\n",
    "    'n_epochs': 3000, # number of epochs\n",
    "    'batch_size': 256, \n",
    "    'learning_rate': 1e-5,\n",
    "    'early_stop': 400, # if model has not improved for some epochs\n",
    "    'save_path': './models/model.ckpt'\n",
    "}"
   ]
  },
  {
   "cell_type": "markdown",
   "metadata": {},
   "source": [
    "# Data loader"
   ]
  },
  {
   "cell_type": "code",
   "execution_count": 10,
   "metadata": {},
   "outputs": [
    {
     "data": {
      "text/plain": [
       "(array([[0.00000000e+00, 0.00000000e+00, 0.00000000e+00, ...,\n",
       "         8.62711740e+00, 3.73295118e+01, 7.45615380e+00],\n",
       "        [1.00000000e+00, 0.00000000e+00, 0.00000000e+00, ...,\n",
       "         9.95433280e+00, 3.25088806e+01, 8.01095700e+00],\n",
       "        [2.00000000e+00, 0.00000000e+00, 0.00000000e+00, ...,\n",
       "         7.95613890e+00, 3.67455876e+01, 2.90697740e+00],\n",
       "        ...,\n",
       "        [2.69700000e+03, 0.00000000e+00, 0.00000000e+00, ...,\n",
       "         1.28882747e+01, 4.24524509e+01, 1.36182563e+01],\n",
       "        [2.69800000e+03, 0.00000000e+00, 0.00000000e+00, ...,\n",
       "         1.00969392e+01, 2.96688018e+01, 9.51258460e+00],\n",
       "        [2.69900000e+03, 0.00000000e+00, 0.00000000e+00, ...,\n",
       "         9.61811390e+00, 3.77441952e+01, 1.10694227e+01]]),\n",
       " array([[0.00000000e+00, 0.00000000e+00, 0.00000000e+00, ...,\n",
       "         1.24525703e+01, 9.40002440e+00, 3.05508734e+01],\n",
       "        [1.00000000e+00, 0.00000000e+00, 0.00000000e+00, ...,\n",
       "         1.17475281e+01, 7.43860580e+00, 3.53648714e+01],\n",
       "        [2.00000000e+00, 0.00000000e+00, 0.00000000e+00, ...,\n",
       "         1.28980889e+01, 1.02147107e+01, 3.70287053e+01],\n",
       "        ...,\n",
       "        [1.07500000e+03, 0.00000000e+00, 0.00000000e+00, ...,\n",
       "         1.36469982e+01, 1.09437572e+01, 3.25646431e+01],\n",
       "        [1.07600000e+03, 0.00000000e+00, 0.00000000e+00, ...,\n",
       "         1.57997773e+01, 1.14043682e+01, 4.38621766e+01],\n",
       "        [1.07700000e+03, 0.00000000e+00, 0.00000000e+00, ...,\n",
       "         1.41463771e+01, 1.08294526e+01, 3.34778761e+01]]))"
      ]
     },
     "execution_count": 10,
     "metadata": {},
     "output_type": "execute_result"
    }
   ],
   "source": [
    "# set seed for reproducibility\n",
    "same_seed(config['seed'])\n",
    "\n",
    "# train_data size: 2699 * 118 (id + 37 states + 16 features * 5 days)\n",
    "# test_data size: 1078 * 177 (without last day's positive rate)\n",
    "train_data, test_data = pd.read_csv('./datasets/covid.train.csv').values, \\\n",
    "    pd.read_csv('./datasets/covid.test.csv').values \n",
    "\n",
    "train_data, test_data"
   ]
  },
  {
   "cell_type": "code",
   "execution_count": 11,
   "metadata": {},
   "outputs": [
    {
     "name": "stdout",
     "output_type": "stream",
     "text": [
      "train_data size: (2160, 118)\n",
      "valid_data size: (539, 118)\n",
      "test_data size: (1078, 117)\n",
      "\n"
     ]
    }
   ],
   "source": [
    "train_data, valid_data = train_valid_split(train_data,\n",
    "    config['valid_ratio'], config['seed'])\n",
    "\n",
    "# print the data size\n",
    "print(f\"\"\"train_data size: {train_data.shape}\n",
    "valid_data size: {valid_data.shape}\n",
    "test_data size: {test_data.shape}\n",
    "\"\"\")"
   ]
  },
  {
   "cell_type": "code",
   "execution_count": 12,
   "metadata": {},
   "outputs": [
    {
     "name": "stdout",
     "output_type": "stream",
     "text": [
      "number of features: 117\n"
     ]
    }
   ],
   "source": [
    "# select features \n",
    "x_train, x_valid, x_test, y_train, y_valid = select_feat(train_data, \n",
    "    valid_data, test_data, config['select_all'])\n",
    "\n",
    "# print the number of features\n",
    "print(f'number of features: {x_train.shape[1]}')"
   ]
  },
  {
   "cell_type": "code",
   "execution_count": 13,
   "metadata": {},
   "outputs": [],
   "source": [
    "train_dataset, valid_dataset, test_dataset = \\\n",
    "        COVID19Dataset(x_train, y_train), \\\n",
    "        COVID19Dataset(x_valid, y_valid), \\\n",
    "        COVID19Dataset(x_test)\n",
    "\n",
    "# pytorch data loader loads pytorch dataset into batches \n",
    "train_loader = DataLoader(\n",
    "    train_dataset, batch_size=config['batch_size'])\n",
    "valid_loader = DataLoader(\n",
    "    valid_dataset, batch_size=config['batch_size'],\n",
    "    shuffle=True, pin_memory=True)\n",
    "test_loader = DataLoader(test_dataset, \n",
    "    batch_size=config['batch_size'], shuffle=False, pin_memory=True)"
   ]
  },
  {
   "cell_type": "markdown",
   "metadata": {},
   "source": [
    "# Start Training"
   ]
  },
  {
   "cell_type": "code",
   "execution_count": 14,
   "metadata": {},
   "outputs": [
    {
     "name": "stderr",
     "output_type": "stream",
     "text": [
      "2023-02-25 00:45:03.066342: I tensorflow/core/platform/cpu_feature_guard.cc:193] This TensorFlow binary is optimized with oneAPI Deep Neural Network Library (oneDNN) to use the following CPU instructions in performance-critical operations:  AVX2 AVX512F AVX512_VNNI FMA\n",
      "To enable them in other operations, rebuild TensorFlow with the appropriate compiler flags.\n",
      "2023-02-25 00:45:04.151593: I tensorflow/core/util/port.cc:104] oneDNN custom operations are on. You may see slightly different numerical results due to floating-point round-off errors from different computation orders. To turn them off, set the environment variable `TF_ENABLE_ONEDNN_OPTS=0`.\n",
      "2023-02-25 00:45:09.045521: W tensorflow/compiler/xla/stream_executor/platform/default/dso_loader.cc:64] Could not load dynamic library 'libnvinfer.so.7'; dlerror: libnvinfer.so.7: cannot open shared object file: No such file or directory; LD_LIBRARY_PATH: /opt/ros/humble/opt/rviz_ogre_vendor/lib:/opt/ros/humble/lib/x86_64-linux-gnu:/opt/ros/humble/lib\n",
      "2023-02-25 00:45:09.046742: W tensorflow/compiler/xla/stream_executor/platform/default/dso_loader.cc:64] Could not load dynamic library 'libnvinfer_plugin.so.7'; dlerror: libnvinfer_plugin.so.7: cannot open shared object file: No such file or directory; LD_LIBRARY_PATH: /opt/ros/humble/opt/rviz_ogre_vendor/lib:/opt/ros/humble/lib/x86_64-linux-gnu:/opt/ros/humble/lib\n",
      "2023-02-25 00:45:09.046790: W tensorflow/compiler/tf2tensorrt/utils/py_utils.cc:38] TF-TRT Warning: Cannot dlopen some TensorRT libraries. If you would like to use Nvidia GPU with TensorRT, please make sure the missing libraries mentioned above are installed properly.\n",
      "epoch [1/3000]: 100%|██████████| 9/9 [00:01<00:00,  5.81it/s, loss=104] \n"
     ]
    },
    {
     "name": "stdout",
     "output_type": "stream",
     "text": [
      "Epoch [1/3000]: Train loss: 76.6408,             Valid loss: 62.9660\n",
      "Saving model with loss 62.966\n"
     ]
    },
    {
     "name": "stderr",
     "output_type": "stream",
     "text": [
      "epoch [2/3000]: 100%|██████████| 9/9 [00:00<00:00, 76.41it/s, loss=33.3]\n"
     ]
    },
    {
     "name": "stdout",
     "output_type": "stream",
     "text": [
      "Epoch [2/3000]: Train loss: 45.3118,             Valid loss: 35.0970\n",
      "Saving model with loss 35.097\n"
     ]
    },
    {
     "name": "stderr",
     "output_type": "stream",
     "text": [
      "epoch [3/3000]: 100%|██████████| 9/9 [00:00<00:00, 77.45it/s, loss=31.7]\n"
     ]
    },
    {
     "name": "stdout",
     "output_type": "stream",
     "text": [
      "Epoch [3/3000]: Train loss: 35.7621,             Valid loss: 34.5169\n",
      "Saving model with loss 34.517\n"
     ]
    },
    {
     "name": "stderr",
     "output_type": "stream",
     "text": [
      "epoch [4/3000]: 100%|██████████| 9/9 [00:00<00:00, 76.23it/s, loss=25.4]\n"
     ]
    },
    {
     "name": "stdout",
     "output_type": "stream",
     "text": [
      "Epoch [4/3000]: Train loss: 33.3438,             Valid loss: 38.5631\n"
     ]
    },
    {
     "name": "stderr",
     "output_type": "stream",
     "text": [
      "epoch [5/3000]: 100%|██████████| 9/9 [00:00<00:00, 82.97it/s, loss=22.5]\n"
     ]
    },
    {
     "name": "stdout",
     "output_type": "stream",
     "text": [
      "Epoch [5/3000]: Train loss: 32.1885,             Valid loss: 37.5847\n"
     ]
    },
    {
     "name": "stderr",
     "output_type": "stream",
     "text": [
      "epoch [6/3000]: 100%|██████████| 9/9 [00:00<00:00, 72.15it/s, loss=27.2]\n"
     ]
    },
    {
     "name": "stdout",
     "output_type": "stream",
     "text": [
      "Epoch [6/3000]: Train loss: 29.1050,             Valid loss: 32.1851\n",
      "Saving model with loss 32.185\n"
     ]
    },
    {
     "name": "stderr",
     "output_type": "stream",
     "text": [
      "epoch [7/3000]: 100%|██████████| 9/9 [00:00<00:00, 72.00it/s, loss=30.3]\n"
     ]
    },
    {
     "name": "stdout",
     "output_type": "stream",
     "text": [
      "Epoch [7/3000]: Train loss: 28.5628,             Valid loss: 25.6004\n",
      "Saving model with loss 25.600\n"
     ]
    },
    {
     "name": "stderr",
     "output_type": "stream",
     "text": [
      "epoch [8/3000]: 100%|██████████| 9/9 [00:00<00:00, 73.32it/s, loss=32]  \n"
     ]
    },
    {
     "name": "stdout",
     "output_type": "stream",
     "text": [
      "Epoch [8/3000]: Train loss: 26.7034,             Valid loss: 29.2343\n"
     ]
    },
    {
     "name": "stderr",
     "output_type": "stream",
     "text": [
      "epoch [9/3000]: 100%|██████████| 9/9 [00:00<00:00, 72.91it/s, loss=29.5]\n"
     ]
    },
    {
     "name": "stdout",
     "output_type": "stream",
     "text": [
      "Epoch [9/3000]: Train loss: 27.6361,             Valid loss: 36.9553\n"
     ]
    },
    {
     "name": "stderr",
     "output_type": "stream",
     "text": [
      "epoch [10/3000]: 100%|██████████| 9/9 [00:00<00:00, 63.71it/s, loss=37.4]\n"
     ]
    },
    {
     "name": "stdout",
     "output_type": "stream",
     "text": [
      "Epoch [10/3000]: Train loss: 29.0295,             Valid loss: 22.5309\n",
      "Saving model with loss 22.531\n"
     ]
    },
    {
     "name": "stderr",
     "output_type": "stream",
     "text": [
      "epoch [11/3000]: 100%|██████████| 9/9 [00:00<00:00, 50.15it/s, loss=34.2]\n"
     ]
    },
    {
     "name": "stdout",
     "output_type": "stream",
     "text": [
      "Epoch [11/3000]: Train loss: 27.7098,             Valid loss: 19.2878\n",
      "Saving model with loss 19.288\n"
     ]
    },
    {
     "name": "stderr",
     "output_type": "stream",
     "text": [
      "epoch [12/3000]: 100%|██████████| 9/9 [00:00<00:00, 58.73it/s, loss=24.6]\n"
     ]
    },
    {
     "name": "stdout",
     "output_type": "stream",
     "text": [
      "Epoch [12/3000]: Train loss: 23.3003,             Valid loss: 18.4416\n",
      "Saving model with loss 18.442\n"
     ]
    },
    {
     "name": "stderr",
     "output_type": "stream",
     "text": [
      "epoch [13/3000]: 100%|██████████| 9/9 [00:00<00:00, 67.17it/s, loss=11.6]\n"
     ]
    },
    {
     "name": "stdout",
     "output_type": "stream",
     "text": [
      "Epoch [13/3000]: Train loss: 17.6508,             Valid loss: 28.9106\n"
     ]
    },
    {
     "name": "stderr",
     "output_type": "stream",
     "text": [
      "epoch [14/3000]: 100%|██████████| 9/9 [00:00<00:00, 64.06it/s, loss=8.86]\n"
     ]
    },
    {
     "name": "stdout",
     "output_type": "stream",
     "text": [
      "Epoch [14/3000]: Train loss: 19.2506,             Valid loss: 12.7295\n",
      "Saving model with loss 12.729\n"
     ]
    },
    {
     "name": "stderr",
     "output_type": "stream",
     "text": [
      "epoch [15/3000]: 100%|██████████| 9/9 [00:00<00:00, 63.28it/s, loss=8.17]\n"
     ]
    },
    {
     "name": "stdout",
     "output_type": "stream",
     "text": [
      "Epoch [15/3000]: Train loss: 11.9784,             Valid loss: 20.5920\n"
     ]
    },
    {
     "name": "stderr",
     "output_type": "stream",
     "text": [
      "epoch [16/3000]: 100%|██████████| 9/9 [00:00<00:00, 65.72it/s, loss=12.2]\n"
     ]
    },
    {
     "name": "stdout",
     "output_type": "stream",
     "text": [
      "Epoch [16/3000]: Train loss: 13.0296,             Valid loss: 42.4063\n"
     ]
    },
    {
     "name": "stderr",
     "output_type": "stream",
     "text": [
      "epoch [17/3000]: 100%|██████████| 9/9 [00:00<00:00, 68.51it/s, loss=13.2]\n"
     ]
    },
    {
     "name": "stdout",
     "output_type": "stream",
     "text": [
      "Epoch [17/3000]: Train loss: 23.4708,             Valid loss: 34.2982\n"
     ]
    },
    {
     "name": "stderr",
     "output_type": "stream",
     "text": [
      "epoch [18/3000]: 100%|██████████| 9/9 [00:00<00:00, 64.07it/s, loss=21.7]\n"
     ]
    },
    {
     "name": "stdout",
     "output_type": "stream",
     "text": [
      "Epoch [18/3000]: Train loss: 22.7731,             Valid loss: 19.5710\n"
     ]
    },
    {
     "name": "stderr",
     "output_type": "stream",
     "text": [
      "epoch [19/3000]: 100%|██████████| 9/9 [00:00<00:00, 70.25it/s, loss=9.53]\n"
     ]
    },
    {
     "name": "stdout",
     "output_type": "stream",
     "text": [
      "Epoch [19/3000]: Train loss: 16.8738,             Valid loss: 15.7192\n"
     ]
    },
    {
     "name": "stderr",
     "output_type": "stream",
     "text": [
      "epoch [20/3000]: 100%|██████████| 9/9 [00:00<00:00, 69.71it/s, loss=5.23]\n"
     ]
    },
    {
     "name": "stdout",
     "output_type": "stream",
     "text": [
      "Epoch [20/3000]: Train loss: 10.4692,             Valid loss: 13.3999\n"
     ]
    },
    {
     "name": "stderr",
     "output_type": "stream",
     "text": [
      "epoch [21/3000]: 100%|██████████| 9/9 [00:00<00:00, 64.45it/s, loss=4.99]\n"
     ]
    },
    {
     "name": "stdout",
     "output_type": "stream",
     "text": [
      "Epoch [21/3000]: Train loss: 8.9590,             Valid loss: 15.9410\n"
     ]
    },
    {
     "name": "stderr",
     "output_type": "stream",
     "text": [
      "epoch [22/3000]: 100%|██████████| 9/9 [00:00<00:00, 70.74it/s, loss=5.15]\n"
     ]
    },
    {
     "name": "stdout",
     "output_type": "stream",
     "text": [
      "Epoch [22/3000]: Train loss: 9.3874,             Valid loss: 8.2437\n",
      "Saving model with loss 8.244\n"
     ]
    },
    {
     "name": "stderr",
     "output_type": "stream",
     "text": [
      "epoch [23/3000]: 100%|██████████| 9/9 [00:00<00:00, 66.33it/s, loss=4.11]\n"
     ]
    },
    {
     "name": "stdout",
     "output_type": "stream",
     "text": [
      "Epoch [23/3000]: Train loss: 11.2264,             Valid loss: 7.1797\n",
      "Saving model with loss 7.180\n"
     ]
    },
    {
     "name": "stderr",
     "output_type": "stream",
     "text": [
      "epoch [24/3000]: 100%|██████████| 9/9 [00:00<00:00, 73.94it/s, loss=3.53]\n"
     ]
    },
    {
     "name": "stdout",
     "output_type": "stream",
     "text": [
      "Epoch [24/3000]: Train loss: 7.0764,             Valid loss: 8.4395\n"
     ]
    },
    {
     "name": "stderr",
     "output_type": "stream",
     "text": [
      "epoch [25/3000]: 100%|██████████| 9/9 [00:00<00:00, 61.62it/s, loss=4.12]\n"
     ]
    },
    {
     "name": "stdout",
     "output_type": "stream",
     "text": [
      "Epoch [25/3000]: Train loss: 8.2389,             Valid loss: 9.4894\n"
     ]
    },
    {
     "name": "stderr",
     "output_type": "stream",
     "text": [
      "epoch [26/3000]: 100%|██████████| 9/9 [00:00<00:00, 66.32it/s, loss=3.7] \n"
     ]
    },
    {
     "name": "stdout",
     "output_type": "stream",
     "text": [
      "Epoch [26/3000]: Train loss: 7.9616,             Valid loss: 8.0553\n"
     ]
    },
    {
     "name": "stderr",
     "output_type": "stream",
     "text": [
      "epoch [27/3000]: 100%|██████████| 9/9 [00:00<00:00, 73.11it/s, loss=3.93]\n"
     ]
    },
    {
     "name": "stdout",
     "output_type": "stream",
     "text": [
      "Epoch [27/3000]: Train loss: 8.5984,             Valid loss: 8.4206\n"
     ]
    },
    {
     "name": "stderr",
     "output_type": "stream",
     "text": [
      "epoch [28/3000]: 100%|██████████| 9/9 [00:00<00:00, 63.10it/s, loss=3.63]\n"
     ]
    },
    {
     "name": "stdout",
     "output_type": "stream",
     "text": [
      "Epoch [28/3000]: Train loss: 7.8303,             Valid loss: 7.2816\n"
     ]
    },
    {
     "name": "stderr",
     "output_type": "stream",
     "text": [
      "epoch [29/3000]: 100%|██████████| 9/9 [00:00<00:00, 95.99it/s, loss=3.57]\n"
     ]
    },
    {
     "name": "stdout",
     "output_type": "stream",
     "text": [
      "Epoch [29/3000]: Train loss: 7.6192,             Valid loss: 6.8653\n",
      "Saving model with loss 6.865\n"
     ]
    },
    {
     "name": "stderr",
     "output_type": "stream",
     "text": [
      "epoch [30/3000]: 100%|██████████| 9/9 [00:00<00:00, 86.52it/s, loss=3.49]\n"
     ]
    },
    {
     "name": "stdout",
     "output_type": "stream",
     "text": [
      "Epoch [30/3000]: Train loss: 7.1512,             Valid loss: 9.3465\n"
     ]
    },
    {
     "name": "stderr",
     "output_type": "stream",
     "text": [
      "epoch [31/3000]: 100%|██████████| 9/9 [00:00<00:00, 86.06it/s, loss=3.41]\n"
     ]
    },
    {
     "name": "stdout",
     "output_type": "stream",
     "text": [
      "Epoch [31/3000]: Train loss: 6.8289,             Valid loss: 6.8890\n"
     ]
    },
    {
     "name": "stderr",
     "output_type": "stream",
     "text": [
      "epoch [32/3000]: 100%|██████████| 9/9 [00:00<00:00, 100.61it/s, loss=3.53]\n"
     ]
    },
    {
     "name": "stdout",
     "output_type": "stream",
     "text": [
      "Epoch [32/3000]: Train loss: 6.9148,             Valid loss: 7.5424\n"
     ]
    },
    {
     "name": "stderr",
     "output_type": "stream",
     "text": [
      "epoch [33/3000]: 100%|██████████| 9/9 [00:00<00:00, 113.06it/s, loss=3.48]\n"
     ]
    },
    {
     "name": "stdout",
     "output_type": "stream",
     "text": [
      "Epoch [33/3000]: Train loss: 6.8767,             Valid loss: 9.4051\n"
     ]
    },
    {
     "name": "stderr",
     "output_type": "stream",
     "text": [
      "epoch [34/3000]: 100%|██████████| 9/9 [00:00<00:00, 98.85it/s, loss=3.52]\n"
     ]
    },
    {
     "name": "stdout",
     "output_type": "stream",
     "text": [
      "Epoch [34/3000]: Train loss: 6.8882,             Valid loss: 6.1962\n",
      "Saving model with loss 6.196\n"
     ]
    },
    {
     "name": "stderr",
     "output_type": "stream",
     "text": [
      "epoch [35/3000]: 100%|██████████| 9/9 [00:00<00:00, 107.58it/s, loss=3.36]\n"
     ]
    },
    {
     "name": "stdout",
     "output_type": "stream",
     "text": [
      "Epoch [35/3000]: Train loss: 6.5904,             Valid loss: 6.7659\n"
     ]
    },
    {
     "name": "stderr",
     "output_type": "stream",
     "text": [
      "epoch [36/3000]: 100%|██████████| 9/9 [00:00<00:00, 113.29it/s, loss=3.52]\n"
     ]
    },
    {
     "name": "stdout",
     "output_type": "stream",
     "text": [
      "Epoch [36/3000]: Train loss: 7.1040,             Valid loss: 6.1744\n",
      "Saving model with loss 6.174\n"
     ]
    },
    {
     "name": "stderr",
     "output_type": "stream",
     "text": [
      "epoch [37/3000]: 100%|██████████| 9/9 [00:00<00:00, 98.53it/s, loss=3.32]\n"
     ]
    },
    {
     "name": "stdout",
     "output_type": "stream",
     "text": [
      "Epoch [37/3000]: Train loss: 6.4102,             Valid loss: 6.1885\n"
     ]
    },
    {
     "name": "stderr",
     "output_type": "stream",
     "text": [
      "epoch [38/3000]: 100%|██████████| 9/9 [00:00<00:00, 93.64it/s, loss=3.43]\n"
     ]
    },
    {
     "name": "stdout",
     "output_type": "stream",
     "text": [
      "Epoch [38/3000]: Train loss: 6.8569,             Valid loss: 6.3952\n"
     ]
    },
    {
     "name": "stderr",
     "output_type": "stream",
     "text": [
      "epoch [39/3000]: 100%|██████████| 9/9 [00:00<00:00, 91.72it/s, loss=3.3]\n"
     ]
    },
    {
     "name": "stdout",
     "output_type": "stream",
     "text": [
      "Epoch [39/3000]: Train loss: 6.3373,             Valid loss: 7.2521\n"
     ]
    },
    {
     "name": "stderr",
     "output_type": "stream",
     "text": [
      "epoch [40/3000]: 100%|██████████| 9/9 [00:00<00:00, 83.38it/s, loss=3.35]\n"
     ]
    },
    {
     "name": "stdout",
     "output_type": "stream",
     "text": [
      "Epoch [40/3000]: Train loss: 6.6384,             Valid loss: 6.0581\n",
      "Saving model with loss 6.058\n"
     ]
    },
    {
     "name": "stderr",
     "output_type": "stream",
     "text": [
      "epoch [41/3000]: 100%|██████████| 9/9 [00:00<00:00, 72.58it/s, loss=3.3] \n"
     ]
    },
    {
     "name": "stdout",
     "output_type": "stream",
     "text": [
      "Epoch [41/3000]: Train loss: 6.2923,             Valid loss: 7.4051\n"
     ]
    },
    {
     "name": "stderr",
     "output_type": "stream",
     "text": [
      "epoch [42/3000]: 100%|██████████| 9/9 [00:00<00:00, 74.82it/s, loss=3.3] \n"
     ]
    },
    {
     "name": "stdout",
     "output_type": "stream",
     "text": [
      "Epoch [42/3000]: Train loss: 6.4753,             Valid loss: 5.6598\n",
      "Saving model with loss 5.660\n"
     ]
    },
    {
     "name": "stderr",
     "output_type": "stream",
     "text": [
      "epoch [43/3000]: 100%|██████████| 9/9 [00:00<00:00, 77.56it/s, loss=3.27]\n"
     ]
    },
    {
     "name": "stdout",
     "output_type": "stream",
     "text": [
      "Epoch [43/3000]: Train loss: 6.2107,             Valid loss: 7.2048\n"
     ]
    },
    {
     "name": "stderr",
     "output_type": "stream",
     "text": [
      "epoch [44/3000]: 100%|██████████| 9/9 [00:00<00:00, 82.61it/s, loss=3.24]\n"
     ]
    },
    {
     "name": "stdout",
     "output_type": "stream",
     "text": [
      "Epoch [44/3000]: Train loss: 6.3620,             Valid loss: 5.3987\n",
      "Saving model with loss 5.399\n"
     ]
    },
    {
     "name": "stderr",
     "output_type": "stream",
     "text": [
      "epoch [45/3000]: 100%|██████████| 9/9 [00:00<00:00, 107.20it/s, loss=3.25]\n"
     ]
    },
    {
     "name": "stdout",
     "output_type": "stream",
     "text": [
      "Epoch [45/3000]: Train loss: 6.1381,             Valid loss: 6.4720\n"
     ]
    },
    {
     "name": "stderr",
     "output_type": "stream",
     "text": [
      "epoch [46/3000]: 100%|██████████| 9/9 [00:00<00:00, 70.98it/s, loss=3.19]\n"
     ]
    },
    {
     "name": "stdout",
     "output_type": "stream",
     "text": [
      "Epoch [46/3000]: Train loss: 6.2327,             Valid loss: 7.3440\n"
     ]
    },
    {
     "name": "stderr",
     "output_type": "stream",
     "text": [
      "epoch [47/3000]: 100%|██████████| 9/9 [00:00<00:00, 58.61it/s, loss=3.23]\n"
     ]
    },
    {
     "name": "stdout",
     "output_type": "stream",
     "text": [
      "Epoch [47/3000]: Train loss: 6.0982,             Valid loss: 6.3971\n"
     ]
    },
    {
     "name": "stderr",
     "output_type": "stream",
     "text": [
      "epoch [48/3000]: 100%|██████████| 9/9 [00:00<00:00, 74.53it/s, loss=3.17]\n"
     ]
    },
    {
     "name": "stdout",
     "output_type": "stream",
     "text": [
      "Epoch [48/3000]: Train loss: 6.1173,             Valid loss: 7.5983\n"
     ]
    },
    {
     "name": "stderr",
     "output_type": "stream",
     "text": [
      "epoch [49/3000]: 100%|██████████| 9/9 [00:00<00:00, 73.72it/s, loss=3.17]\n"
     ]
    },
    {
     "name": "stdout",
     "output_type": "stream",
     "text": [
      "Epoch [49/3000]: Train loss: 6.0176,             Valid loss: 6.9488\n"
     ]
    },
    {
     "name": "stderr",
     "output_type": "stream",
     "text": [
      "epoch [50/3000]: 100%|██████████| 9/9 [00:00<00:00, 69.20it/s, loss=3.14]\n"
     ]
    },
    {
     "name": "stdout",
     "output_type": "stream",
     "text": [
      "Epoch [50/3000]: Train loss: 6.0504,             Valid loss: 6.8299\n"
     ]
    },
    {
     "name": "stderr",
     "output_type": "stream",
     "text": [
      "epoch [51/3000]: 100%|██████████| 9/9 [00:00<00:00, 68.46it/s, loss=3.16]\n"
     ]
    },
    {
     "name": "stdout",
     "output_type": "stream",
     "text": [
      "Epoch [51/3000]: Train loss: 5.9580,             Valid loss: 5.9554\n"
     ]
    },
    {
     "name": "stderr",
     "output_type": "stream",
     "text": [
      "epoch [52/3000]: 100%|██████████| 9/9 [00:00<00:00, 60.73it/s, loss=3.11]\n"
     ]
    },
    {
     "name": "stdout",
     "output_type": "stream",
     "text": [
      "Epoch [52/3000]: Train loss: 5.8825,             Valid loss: 5.4066\n"
     ]
    },
    {
     "name": "stderr",
     "output_type": "stream",
     "text": [
      "epoch [53/3000]: 100%|██████████| 9/9 [00:00<00:00, 65.88it/s, loss=3.1] \n"
     ]
    },
    {
     "name": "stdout",
     "output_type": "stream",
     "text": [
      "Epoch [53/3000]: Train loss: 5.9519,             Valid loss: 5.1245\n",
      "Saving model with loss 5.125\n"
     ]
    },
    {
     "name": "stderr",
     "output_type": "stream",
     "text": [
      "epoch [54/3000]: 100%|██████████| 9/9 [00:00<00:00, 80.67it/s, loss=3.1]\n"
     ]
    },
    {
     "name": "stdout",
     "output_type": "stream",
     "text": [
      "Epoch [54/3000]: Train loss: 5.8461,             Valid loss: 5.8328\n"
     ]
    },
    {
     "name": "stderr",
     "output_type": "stream",
     "text": [
      "epoch [55/3000]: 100%|██████████| 9/9 [00:00<00:00, 71.83it/s, loss=3.08]\n"
     ]
    },
    {
     "name": "stdout",
     "output_type": "stream",
     "text": [
      "Epoch [55/3000]: Train loss: 5.8144,             Valid loss: 5.9858\n"
     ]
    },
    {
     "name": "stderr",
     "output_type": "stream",
     "text": [
      "epoch [56/3000]: 100%|██████████| 9/9 [00:00<00:00, 82.25it/s, loss=3.06]\n"
     ]
    },
    {
     "name": "stdout",
     "output_type": "stream",
     "text": [
      "Epoch [56/3000]: Train loss: 5.8188,             Valid loss: 5.8503\n"
     ]
    },
    {
     "name": "stderr",
     "output_type": "stream",
     "text": [
      "epoch [57/3000]: 100%|██████████| 9/9 [00:00<00:00, 71.85it/s, loss=3.05]\n"
     ]
    },
    {
     "name": "stdout",
     "output_type": "stream",
     "text": [
      "Epoch [57/3000]: Train loss: 5.7574,             Valid loss: 6.9402\n"
     ]
    },
    {
     "name": "stderr",
     "output_type": "stream",
     "text": [
      "epoch [58/3000]: 100%|██████████| 9/9 [00:00<00:00, 75.25it/s, loss=3.04]\n"
     ]
    },
    {
     "name": "stdout",
     "output_type": "stream",
     "text": [
      "Epoch [58/3000]: Train loss: 5.7262,             Valid loss: 6.1275\n"
     ]
    },
    {
     "name": "stderr",
     "output_type": "stream",
     "text": [
      "epoch [59/3000]: 100%|██████████| 9/9 [00:00<00:00, 81.12it/s, loss=3.03]\n"
     ]
    },
    {
     "name": "stdout",
     "output_type": "stream",
     "text": [
      "Epoch [59/3000]: Train loss: 5.7113,             Valid loss: 6.2666\n"
     ]
    },
    {
     "name": "stderr",
     "output_type": "stream",
     "text": [
      "epoch [60/3000]: 100%|██████████| 9/9 [00:00<00:00, 71.94it/s, loss=3.03]\n"
     ]
    },
    {
     "name": "stdout",
     "output_type": "stream",
     "text": [
      "Epoch [60/3000]: Train loss: 5.7070,             Valid loss: 6.4119\n"
     ]
    },
    {
     "name": "stderr",
     "output_type": "stream",
     "text": [
      "epoch [61/3000]: 100%|██████████| 9/9 [00:00<00:00, 60.00it/s, loss=3.02]\n"
     ]
    },
    {
     "name": "stdout",
     "output_type": "stream",
     "text": [
      "Epoch [61/3000]: Train loss: 5.6602,             Valid loss: 5.7556\n"
     ]
    },
    {
     "name": "stderr",
     "output_type": "stream",
     "text": [
      "epoch [62/3000]: 100%|██████████| 9/9 [00:00<00:00, 65.24it/s, loss=3]   \n"
     ]
    },
    {
     "name": "stdout",
     "output_type": "stream",
     "text": [
      "Epoch [62/3000]: Train loss: 5.6308,             Valid loss: 5.4077\n"
     ]
    },
    {
     "name": "stderr",
     "output_type": "stream",
     "text": [
      "epoch [63/3000]: 100%|██████████| 9/9 [00:00<00:00, 69.23it/s, loss=2.99]\n"
     ]
    },
    {
     "name": "stdout",
     "output_type": "stream",
     "text": [
      "Epoch [63/3000]: Train loss: 5.6439,             Valid loss: 4.9984\n",
      "Saving model with loss 4.998\n"
     ]
    },
    {
     "name": "stderr",
     "output_type": "stream",
     "text": [
      "epoch [64/3000]: 100%|██████████| 9/9 [00:00<00:00, 73.11it/s, loss=2.99]\n"
     ]
    },
    {
     "name": "stdout",
     "output_type": "stream",
     "text": [
      "Epoch [64/3000]: Train loss: 5.6018,             Valid loss: 4.9992\n"
     ]
    },
    {
     "name": "stderr",
     "output_type": "stream",
     "text": [
      "epoch [65/3000]: 100%|██████████| 9/9 [00:00<00:00, 76.89it/s, loss=2.98]\n"
     ]
    },
    {
     "name": "stdout",
     "output_type": "stream",
     "text": [
      "Epoch [65/3000]: Train loss: 5.5363,             Valid loss: 5.7800\n"
     ]
    },
    {
     "name": "stderr",
     "output_type": "stream",
     "text": [
      "epoch [66/3000]: 100%|██████████| 9/9 [00:00<00:00, 78.25it/s, loss=2.96]\n"
     ]
    },
    {
     "name": "stdout",
     "output_type": "stream",
     "text": [
      "Epoch [66/3000]: Train loss: 5.5298,             Valid loss: 5.9946\n"
     ]
    },
    {
     "name": "stderr",
     "output_type": "stream",
     "text": [
      "epoch [67/3000]: 100%|██████████| 9/9 [00:00<00:00, 77.68it/s, loss=2.96]\n"
     ]
    },
    {
     "name": "stdout",
     "output_type": "stream",
     "text": [
      "Epoch [67/3000]: Train loss: 5.5354,             Valid loss: 5.9427\n"
     ]
    },
    {
     "name": "stderr",
     "output_type": "stream",
     "text": [
      "epoch [68/3000]: 100%|██████████| 9/9 [00:00<00:00, 75.28it/s, loss=2.95]\n"
     ]
    },
    {
     "name": "stdout",
     "output_type": "stream",
     "text": [
      "Epoch [68/3000]: Train loss: 5.4838,             Valid loss: 5.9859\n"
     ]
    },
    {
     "name": "stderr",
     "output_type": "stream",
     "text": [
      "epoch [69/3000]: 100%|██████████| 9/9 [00:00<00:00, 89.34it/s, loss=2.93]\n"
     ]
    },
    {
     "name": "stdout",
     "output_type": "stream",
     "text": [
      "Epoch [69/3000]: Train loss: 5.4531,             Valid loss: 4.9164\n",
      "Saving model with loss 4.916\n"
     ]
    },
    {
     "name": "stderr",
     "output_type": "stream",
     "text": [
      "epoch [70/3000]: 100%|██████████| 9/9 [00:00<00:00, 74.10it/s, loss=2.92]\n"
     ]
    },
    {
     "name": "stdout",
     "output_type": "stream",
     "text": [
      "Epoch [70/3000]: Train loss: 5.4612,             Valid loss: 6.7625\n"
     ]
    },
    {
     "name": "stderr",
     "output_type": "stream",
     "text": [
      "epoch [71/3000]: 100%|██████████| 9/9 [00:00<00:00, 72.13it/s, loss=2.92]\n"
     ]
    },
    {
     "name": "stdout",
     "output_type": "stream",
     "text": [
      "Epoch [71/3000]: Train loss: 5.4158,             Valid loss: 4.9990\n"
     ]
    },
    {
     "name": "stderr",
     "output_type": "stream",
     "text": [
      "epoch [72/3000]: 100%|██████████| 9/9 [00:00<00:00, 66.29it/s, loss=2.91]\n"
     ]
    },
    {
     "name": "stdout",
     "output_type": "stream",
     "text": [
      "Epoch [72/3000]: Train loss: 5.3812,             Valid loss: 5.5896\n"
     ]
    },
    {
     "name": "stderr",
     "output_type": "stream",
     "text": [
      "epoch [73/3000]: 100%|██████████| 9/9 [00:00<00:00, 59.22it/s, loss=2.89]\n"
     ]
    },
    {
     "name": "stdout",
     "output_type": "stream",
     "text": [
      "Epoch [73/3000]: Train loss: 5.3733,             Valid loss: 5.0755\n"
     ]
    },
    {
     "name": "stderr",
     "output_type": "stream",
     "text": [
      "epoch [74/3000]: 100%|██████████| 9/9 [00:00<00:00, 57.72it/s, loss=2.89]\n"
     ]
    },
    {
     "name": "stdout",
     "output_type": "stream",
     "text": [
      "Epoch [74/3000]: Train loss: 5.3626,             Valid loss: 6.4444\n"
     ]
    },
    {
     "name": "stderr",
     "output_type": "stream",
     "text": [
      "epoch [75/3000]: 100%|██████████| 9/9 [00:00<00:00, 63.61it/s, loss=2.88]\n"
     ]
    },
    {
     "name": "stdout",
     "output_type": "stream",
     "text": [
      "Epoch [75/3000]: Train loss: 5.3272,             Valid loss: 5.3761\n"
     ]
    },
    {
     "name": "stderr",
     "output_type": "stream",
     "text": [
      "epoch [76/3000]: 100%|██████████| 9/9 [00:00<00:00, 68.49it/s, loss=2.87]\n"
     ]
    },
    {
     "name": "stdout",
     "output_type": "stream",
     "text": [
      "Epoch [76/3000]: Train loss: 5.3074,             Valid loss: 5.3642\n"
     ]
    },
    {
     "name": "stderr",
     "output_type": "stream",
     "text": [
      "epoch [77/3000]: 100%|██████████| 9/9 [00:00<00:00, 36.96it/s, loss=2.86]\n"
     ]
    },
    {
     "name": "stdout",
     "output_type": "stream",
     "text": [
      "Epoch [77/3000]: Train loss: 5.2904,             Valid loss: 4.6544\n",
      "Saving model with loss 4.654\n"
     ]
    },
    {
     "name": "stderr",
     "output_type": "stream",
     "text": [
      "epoch [78/3000]: 100%|██████████| 9/9 [00:00<00:00, 76.15it/s, loss=2.85]\n"
     ]
    },
    {
     "name": "stdout",
     "output_type": "stream",
     "text": [
      "Epoch [78/3000]: Train loss: 5.2698,             Valid loss: 5.1818\n"
     ]
    },
    {
     "name": "stderr",
     "output_type": "stream",
     "text": [
      "epoch [79/3000]: 100%|██████████| 9/9 [00:00<00:00, 81.23it/s, loss=2.84]\n"
     ]
    },
    {
     "name": "stdout",
     "output_type": "stream",
     "text": [
      "Epoch [79/3000]: Train loss: 5.2459,             Valid loss: 4.5614\n",
      "Saving model with loss 4.561\n"
     ]
    },
    {
     "name": "stderr",
     "output_type": "stream",
     "text": [
      "epoch [80/3000]: 100%|██████████| 9/9 [00:00<00:00, 86.39it/s, loss=2.84]\n"
     ]
    },
    {
     "name": "stdout",
     "output_type": "stream",
     "text": [
      "Epoch [80/3000]: Train loss: 5.2381,             Valid loss: 4.5000\n",
      "Saving model with loss 4.500\n"
     ]
    },
    {
     "name": "stderr",
     "output_type": "stream",
     "text": [
      "epoch [81/3000]: 100%|██████████| 9/9 [00:00<00:00, 76.04it/s, loss=2.82]\n"
     ]
    },
    {
     "name": "stdout",
     "output_type": "stream",
     "text": [
      "Epoch [81/3000]: Train loss: 5.2113,             Valid loss: 4.5191\n"
     ]
    },
    {
     "name": "stderr",
     "output_type": "stream",
     "text": [
      "epoch [82/3000]: 100%|██████████| 9/9 [00:00<00:00, 82.65it/s, loss=2.82]\n"
     ]
    },
    {
     "name": "stdout",
     "output_type": "stream",
     "text": [
      "Epoch [82/3000]: Train loss: 5.1992,             Valid loss: 4.8413\n"
     ]
    },
    {
     "name": "stderr",
     "output_type": "stream",
     "text": [
      "epoch [83/3000]: 100%|██████████| 9/9 [00:00<00:00, 86.85it/s, loss=2.81]\n"
     ]
    },
    {
     "name": "stdout",
     "output_type": "stream",
     "text": [
      "Epoch [83/3000]: Train loss: 5.1772,             Valid loss: 4.7814\n"
     ]
    },
    {
     "name": "stderr",
     "output_type": "stream",
     "text": [
      "epoch [84/3000]: 100%|██████████| 9/9 [00:00<00:00, 90.21it/s, loss=2.8]\n"
     ]
    },
    {
     "name": "stdout",
     "output_type": "stream",
     "text": [
      "Epoch [84/3000]: Train loss: 5.1491,             Valid loss: 5.2064\n"
     ]
    },
    {
     "name": "stderr",
     "output_type": "stream",
     "text": [
      "epoch [85/3000]: 100%|██████████| 9/9 [00:00<00:00, 80.02it/s, loss=2.79]\n"
     ]
    },
    {
     "name": "stdout",
     "output_type": "stream",
     "text": [
      "Epoch [85/3000]: Train loss: 5.1555,             Valid loss: 4.8536\n"
     ]
    },
    {
     "name": "stderr",
     "output_type": "stream",
     "text": [
      "epoch [86/3000]: 100%|██████████| 9/9 [00:00<00:00, 69.03it/s, loss=2.8] \n"
     ]
    },
    {
     "name": "stdout",
     "output_type": "stream",
     "text": [
      "Epoch [86/3000]: Train loss: 5.1166,             Valid loss: 5.7760\n"
     ]
    },
    {
     "name": "stderr",
     "output_type": "stream",
     "text": [
      "epoch [87/3000]: 100%|██████████| 9/9 [00:00<00:00, 66.97it/s, loss=2.77]\n"
     ]
    },
    {
     "name": "stdout",
     "output_type": "stream",
     "text": [
      "Epoch [87/3000]: Train loss: 5.1206,             Valid loss: 5.6086\n"
     ]
    },
    {
     "name": "stderr",
     "output_type": "stream",
     "text": [
      "epoch [88/3000]: 100%|██████████| 9/9 [00:00<00:00, 57.56it/s, loss=2.77]\n"
     ]
    },
    {
     "name": "stdout",
     "output_type": "stream",
     "text": [
      "Epoch [88/3000]: Train loss: 5.1131,             Valid loss: 4.7209\n"
     ]
    },
    {
     "name": "stderr",
     "output_type": "stream",
     "text": [
      "epoch [89/3000]: 100%|██████████| 9/9 [00:00<00:00, 70.67it/s, loss=2.77]\n"
     ]
    },
    {
     "name": "stdout",
     "output_type": "stream",
     "text": [
      "Epoch [89/3000]: Train loss: 5.0572,             Valid loss: 4.9196\n"
     ]
    },
    {
     "name": "stderr",
     "output_type": "stream",
     "text": [
      "epoch [90/3000]: 100%|██████████| 9/9 [00:00<00:00, 76.11it/s, loss=2.74]\n"
     ]
    },
    {
     "name": "stdout",
     "output_type": "stream",
     "text": [
      "Epoch [90/3000]: Train loss: 5.0623,             Valid loss: 4.3149\n",
      "Saving model with loss 4.315\n"
     ]
    },
    {
     "name": "stderr",
     "output_type": "stream",
     "text": [
      "epoch [91/3000]: 100%|██████████| 9/9 [00:00<00:00, 76.36it/s, loss=2.75]\n"
     ]
    },
    {
     "name": "stdout",
     "output_type": "stream",
     "text": [
      "Epoch [91/3000]: Train loss: 5.0436,             Valid loss: 6.3578\n"
     ]
    },
    {
     "name": "stderr",
     "output_type": "stream",
     "text": [
      "epoch [92/3000]: 100%|██████████| 9/9 [00:00<00:00, 76.20it/s, loss=2.74]\n"
     ]
    },
    {
     "name": "stdout",
     "output_type": "stream",
     "text": [
      "Epoch [92/3000]: Train loss: 5.0171,             Valid loss: 4.8849\n"
     ]
    },
    {
     "name": "stderr",
     "output_type": "stream",
     "text": [
      "epoch [93/3000]: 100%|██████████| 9/9 [00:00<00:00, 83.44it/s, loss=2.73]\n"
     ]
    },
    {
     "name": "stdout",
     "output_type": "stream",
     "text": [
      "Epoch [93/3000]: Train loss: 5.0004,             Valid loss: 4.9287\n"
     ]
    },
    {
     "name": "stderr",
     "output_type": "stream",
     "text": [
      "epoch [94/3000]: 100%|██████████| 9/9 [00:00<00:00, 69.05it/s, loss=2.72]\n"
     ]
    },
    {
     "name": "stdout",
     "output_type": "stream",
     "text": [
      "Epoch [94/3000]: Train loss: 4.9957,             Valid loss: 6.3543\n"
     ]
    },
    {
     "name": "stderr",
     "output_type": "stream",
     "text": [
      "epoch [95/3000]: 100%|██████████| 9/9 [00:00<00:00, 69.83it/s, loss=2.71]\n"
     ]
    },
    {
     "name": "stdout",
     "output_type": "stream",
     "text": [
      "Epoch [95/3000]: Train loss: 4.9718,             Valid loss: 4.9948\n"
     ]
    },
    {
     "name": "stderr",
     "output_type": "stream",
     "text": [
      "epoch [96/3000]: 100%|██████████| 9/9 [00:00<00:00, 74.27it/s, loss=2.71]\n"
     ]
    },
    {
     "name": "stdout",
     "output_type": "stream",
     "text": [
      "Epoch [96/3000]: Train loss: 4.9584,             Valid loss: 4.4394\n"
     ]
    },
    {
     "name": "stderr",
     "output_type": "stream",
     "text": [
      "epoch [97/3000]: 100%|██████████| 9/9 [00:00<00:00, 80.34it/s, loss=2.7]\n"
     ]
    },
    {
     "name": "stdout",
     "output_type": "stream",
     "text": [
      "Epoch [97/3000]: Train loss: 4.9476,             Valid loss: 4.5889\n"
     ]
    },
    {
     "name": "stderr",
     "output_type": "stream",
     "text": [
      "epoch [98/3000]: 100%|██████████| 9/9 [00:00<00:00, 84.34it/s, loss=2.69]\n"
     ]
    },
    {
     "name": "stdout",
     "output_type": "stream",
     "text": [
      "Epoch [98/3000]: Train loss: 4.9158,             Valid loss: 4.6672\n"
     ]
    },
    {
     "name": "stderr",
     "output_type": "stream",
     "text": [
      "epoch [99/3000]: 100%|██████████| 9/9 [00:00<00:00, 79.29it/s, loss=2.69]\n"
     ]
    },
    {
     "name": "stdout",
     "output_type": "stream",
     "text": [
      "Epoch [99/3000]: Train loss: 4.9367,             Valid loss: 4.2687\n",
      "Saving model with loss 4.269\n"
     ]
    },
    {
     "name": "stderr",
     "output_type": "stream",
     "text": [
      "epoch [100/3000]: 100%|██████████| 9/9 [00:00<00:00, 81.93it/s, loss=2.68]\n"
     ]
    },
    {
     "name": "stdout",
     "output_type": "stream",
     "text": [
      "Epoch [100/3000]: Train loss: 4.8871,             Valid loss: 4.4388\n"
     ]
    },
    {
     "name": "stderr",
     "output_type": "stream",
     "text": [
      "epoch [101/3000]: 100%|██████████| 9/9 [00:00<00:00, 86.13it/s, loss=2.67]\n"
     ]
    },
    {
     "name": "stdout",
     "output_type": "stream",
     "text": [
      "Epoch [101/3000]: Train loss: 4.9062,             Valid loss: 5.2367\n"
     ]
    },
    {
     "name": "stderr",
     "output_type": "stream",
     "text": [
      "epoch [102/3000]: 100%|██████████| 9/9 [00:00<00:00, 82.16it/s, loss=2.66]\n"
     ]
    },
    {
     "name": "stdout",
     "output_type": "stream",
     "text": [
      "Epoch [102/3000]: Train loss: 4.8654,             Valid loss: 4.7398\n"
     ]
    },
    {
     "name": "stderr",
     "output_type": "stream",
     "text": [
      "epoch [103/3000]: 100%|██████████| 9/9 [00:00<00:00, 61.72it/s, loss=2.66]\n"
     ]
    },
    {
     "name": "stdout",
     "output_type": "stream",
     "text": [
      "Epoch [103/3000]: Train loss: 4.8831,             Valid loss: 4.4054\n"
     ]
    },
    {
     "name": "stderr",
     "output_type": "stream",
     "text": [
      "epoch [104/3000]: 100%|██████████| 9/9 [00:00<00:00, 72.08it/s, loss=2.65]\n"
     ]
    },
    {
     "name": "stdout",
     "output_type": "stream",
     "text": [
      "Epoch [104/3000]: Train loss: 4.8377,             Valid loss: 5.7545\n"
     ]
    },
    {
     "name": "stderr",
     "output_type": "stream",
     "text": [
      "epoch [105/3000]: 100%|██████████| 9/9 [00:00<00:00, 59.31it/s, loss=2.65]\n"
     ]
    },
    {
     "name": "stdout",
     "output_type": "stream",
     "text": [
      "Epoch [105/3000]: Train loss: 4.8561,             Valid loss: 4.4246\n"
     ]
    },
    {
     "name": "stderr",
     "output_type": "stream",
     "text": [
      "epoch [106/3000]: 100%|██████████| 9/9 [00:00<00:00, 68.22it/s, loss=2.64]\n"
     ]
    },
    {
     "name": "stdout",
     "output_type": "stream",
     "text": [
      "Epoch [106/3000]: Train loss: 4.7955,             Valid loss: 4.2901\n"
     ]
    },
    {
     "name": "stderr",
     "output_type": "stream",
     "text": [
      "epoch [107/3000]: 100%|██████████| 9/9 [00:00<00:00, 74.24it/s, loss=2.63]\n"
     ]
    },
    {
     "name": "stdout",
     "output_type": "stream",
     "text": [
      "Epoch [107/3000]: Train loss: 4.8453,             Valid loss: 4.2904\n"
     ]
    },
    {
     "name": "stderr",
     "output_type": "stream",
     "text": [
      "epoch [108/3000]: 100%|██████████| 9/9 [00:00<00:00, 72.02it/s, loss=2.63]\n"
     ]
    },
    {
     "name": "stdout",
     "output_type": "stream",
     "text": [
      "Epoch [108/3000]: Train loss: 4.7736,             Valid loss: 4.3192\n"
     ]
    },
    {
     "name": "stderr",
     "output_type": "stream",
     "text": [
      "epoch [109/3000]: 100%|██████████| 9/9 [00:00<00:00, 75.35it/s, loss=2.62]\n"
     ]
    },
    {
     "name": "stdout",
     "output_type": "stream",
     "text": [
      "Epoch [109/3000]: Train loss: 4.8145,             Valid loss: 5.8524\n"
     ]
    },
    {
     "name": "stderr",
     "output_type": "stream",
     "text": [
      "epoch [110/3000]: 100%|██████████| 9/9 [00:00<00:00, 70.00it/s, loss=2.62]\n"
     ]
    },
    {
     "name": "stdout",
     "output_type": "stream",
     "text": [
      "Epoch [110/3000]: Train loss: 4.7511,             Valid loss: 4.7348\n"
     ]
    },
    {
     "name": "stderr",
     "output_type": "stream",
     "text": [
      "epoch [111/3000]: 100%|██████████| 9/9 [00:00<00:00, 75.35it/s, loss=2.61]\n"
     ]
    },
    {
     "name": "stdout",
     "output_type": "stream",
     "text": [
      "Epoch [111/3000]: Train loss: 4.7963,             Valid loss: 4.7650\n"
     ]
    },
    {
     "name": "stderr",
     "output_type": "stream",
     "text": [
      "epoch [112/3000]: 100%|██████████| 9/9 [00:00<00:00, 83.71it/s, loss=2.6]\n"
     ]
    },
    {
     "name": "stdout",
     "output_type": "stream",
     "text": [
      "Epoch [112/3000]: Train loss: 4.7190,             Valid loss: 6.1290\n"
     ]
    },
    {
     "name": "stderr",
     "output_type": "stream",
     "text": [
      "epoch [113/3000]: 100%|██████████| 9/9 [00:00<00:00, 80.77it/s, loss=2.6]\n"
     ]
    },
    {
     "name": "stdout",
     "output_type": "stream",
     "text": [
      "Epoch [113/3000]: Train loss: 4.7790,             Valid loss: 5.1530\n"
     ]
    },
    {
     "name": "stderr",
     "output_type": "stream",
     "text": [
      "epoch [114/3000]: 100%|██████████| 9/9 [00:00<00:00, 81.95it/s, loss=2.58]\n"
     ]
    },
    {
     "name": "stdout",
     "output_type": "stream",
     "text": [
      "Epoch [114/3000]: Train loss: 4.6896,             Valid loss: 4.9049\n"
     ]
    },
    {
     "name": "stderr",
     "output_type": "stream",
     "text": [
      "epoch [115/3000]: 100%|██████████| 9/9 [00:00<00:00, 78.54it/s, loss=2.59]\n"
     ]
    },
    {
     "name": "stdout",
     "output_type": "stream",
     "text": [
      "Epoch [115/3000]: Train loss: 4.7810,             Valid loss: 4.2976\n"
     ]
    },
    {
     "name": "stderr",
     "output_type": "stream",
     "text": [
      "epoch [116/3000]: 100%|██████████| 9/9 [00:00<00:00, 56.03it/s, loss=2.57]\n"
     ]
    },
    {
     "name": "stdout",
     "output_type": "stream",
     "text": [
      "Epoch [116/3000]: Train loss: 4.6508,             Valid loss: 4.0458\n",
      "Saving model with loss 4.046\n"
     ]
    },
    {
     "name": "stderr",
     "output_type": "stream",
     "text": [
      "epoch [117/3000]: 100%|██████████| 9/9 [00:00<00:00, 70.21it/s, loss=2.57]\n"
     ]
    },
    {
     "name": "stdout",
     "output_type": "stream",
     "text": [
      "Epoch [117/3000]: Train loss: 4.7681,             Valid loss: 4.8228\n"
     ]
    },
    {
     "name": "stderr",
     "output_type": "stream",
     "text": [
      "epoch [118/3000]: 100%|██████████| 9/9 [00:00<00:00, 70.26it/s, loss=2.56]\n"
     ]
    },
    {
     "name": "stdout",
     "output_type": "stream",
     "text": [
      "Epoch [118/3000]: Train loss: 4.6364,             Valid loss: 4.4521\n"
     ]
    },
    {
     "name": "stderr",
     "output_type": "stream",
     "text": [
      "epoch [119/3000]: 100%|██████████| 9/9 [00:00<00:00, 76.18it/s, loss=2.56]\n"
     ]
    },
    {
     "name": "stdout",
     "output_type": "stream",
     "text": [
      "Epoch [119/3000]: Train loss: 4.7376,             Valid loss: 4.0007\n",
      "Saving model with loss 4.001\n"
     ]
    },
    {
     "name": "stderr",
     "output_type": "stream",
     "text": [
      "epoch [120/3000]: 100%|██████████| 9/9 [00:00<00:00, 84.11it/s, loss=2.54]\n"
     ]
    },
    {
     "name": "stdout",
     "output_type": "stream",
     "text": [
      "Epoch [120/3000]: Train loss: 4.5967,             Valid loss: 4.8383\n"
     ]
    },
    {
     "name": "stderr",
     "output_type": "stream",
     "text": [
      "epoch [121/3000]: 100%|██████████| 9/9 [00:00<00:00, 85.13it/s, loss=2.55]\n"
     ]
    },
    {
     "name": "stdout",
     "output_type": "stream",
     "text": [
      "Epoch [121/3000]: Train loss: 4.7255,             Valid loss: 4.5139\n"
     ]
    },
    {
     "name": "stderr",
     "output_type": "stream",
     "text": [
      "epoch [122/3000]: 100%|██████████| 9/9 [00:00<00:00, 75.17it/s, loss=2.53]\n"
     ]
    },
    {
     "name": "stdout",
     "output_type": "stream",
     "text": [
      "Epoch [122/3000]: Train loss: 4.5903,             Valid loss: 4.7060\n"
     ]
    },
    {
     "name": "stderr",
     "output_type": "stream",
     "text": [
      "epoch [123/3000]: 100%|██████████| 9/9 [00:00<00:00, 92.06it/s, loss=2.53]\n"
     ]
    },
    {
     "name": "stdout",
     "output_type": "stream",
     "text": [
      "Epoch [123/3000]: Train loss: 4.6802,             Valid loss: 4.4230\n"
     ]
    },
    {
     "name": "stderr",
     "output_type": "stream",
     "text": [
      "epoch [124/3000]: 100%|██████████| 9/9 [00:00<00:00, 93.83it/s, loss=2.52]\n"
     ]
    },
    {
     "name": "stdout",
     "output_type": "stream",
     "text": [
      "Epoch [124/3000]: Train loss: 4.5713,             Valid loss: 4.3714\n"
     ]
    },
    {
     "name": "stderr",
     "output_type": "stream",
     "text": [
      "epoch [125/3000]: 100%|██████████| 9/9 [00:00<00:00, 80.77it/s, loss=2.52]\n"
     ]
    },
    {
     "name": "stdout",
     "output_type": "stream",
     "text": [
      "Epoch [125/3000]: Train loss: 4.6710,             Valid loss: 4.8010\n"
     ]
    },
    {
     "name": "stderr",
     "output_type": "stream",
     "text": [
      "epoch [126/3000]: 100%|██████████| 9/9 [00:00<00:00, 90.82it/s, loss=2.51]\n"
     ]
    },
    {
     "name": "stdout",
     "output_type": "stream",
     "text": [
      "Epoch [126/3000]: Train loss: 4.5524,             Valid loss: 4.6206\n"
     ]
    },
    {
     "name": "stderr",
     "output_type": "stream",
     "text": [
      "epoch [127/3000]: 100%|██████████| 9/9 [00:00<00:00, 93.43it/s, loss=2.52]\n"
     ]
    },
    {
     "name": "stdout",
     "output_type": "stream",
     "text": [
      "Epoch [127/3000]: Train loss: 4.6527,             Valid loss: 3.8606\n",
      "Saving model with loss 3.861\n"
     ]
    },
    {
     "name": "stderr",
     "output_type": "stream",
     "text": [
      "epoch [128/3000]: 100%|██████████| 9/9 [00:00<00:00, 87.38it/s, loss=2.49]\n"
     ]
    },
    {
     "name": "stdout",
     "output_type": "stream",
     "text": [
      "Epoch [128/3000]: Train loss: 4.5185,             Valid loss: 3.8741\n"
     ]
    },
    {
     "name": "stderr",
     "output_type": "stream",
     "text": [
      "epoch [129/3000]: 100%|██████████| 9/9 [00:00<00:00, 93.25it/s, loss=2.51]\n"
     ]
    },
    {
     "name": "stdout",
     "output_type": "stream",
     "text": [
      "Epoch [129/3000]: Train loss: 4.6521,             Valid loss: 5.1767\n"
     ]
    },
    {
     "name": "stderr",
     "output_type": "stream",
     "text": [
      "epoch [130/3000]: 100%|██████████| 9/9 [00:00<00:00, 66.75it/s, loss=2.48]\n"
     ]
    },
    {
     "name": "stdout",
     "output_type": "stream",
     "text": [
      "Epoch [130/3000]: Train loss: 4.4975,             Valid loss: 4.4636\n"
     ]
    },
    {
     "name": "stderr",
     "output_type": "stream",
     "text": [
      "epoch [131/3000]: 100%|██████████| 9/9 [00:00<00:00, 71.05it/s, loss=2.5] \n"
     ]
    },
    {
     "name": "stdout",
     "output_type": "stream",
     "text": [
      "Epoch [131/3000]: Train loss: 4.6236,             Valid loss: 4.0625\n"
     ]
    },
    {
     "name": "stderr",
     "output_type": "stream",
     "text": [
      "epoch [132/3000]: 100%|██████████| 9/9 [00:00<00:00, 75.85it/s, loss=2.47]\n"
     ]
    },
    {
     "name": "stdout",
     "output_type": "stream",
     "text": [
      "Epoch [132/3000]: Train loss: 4.4786,             Valid loss: 4.5934\n"
     ]
    },
    {
     "name": "stderr",
     "output_type": "stream",
     "text": [
      "epoch [133/3000]: 100%|██████████| 9/9 [00:00<00:00, 55.96it/s, loss=2.49]\n"
     ]
    },
    {
     "name": "stdout",
     "output_type": "stream",
     "text": [
      "Epoch [133/3000]: Train loss: 4.6158,             Valid loss: 4.3575\n"
     ]
    },
    {
     "name": "stderr",
     "output_type": "stream",
     "text": [
      "epoch [134/3000]: 100%|██████████| 9/9 [00:00<00:00, 70.96it/s, loss=2.46]\n"
     ]
    },
    {
     "name": "stdout",
     "output_type": "stream",
     "text": [
      "Epoch [134/3000]: Train loss: 4.4571,             Valid loss: 4.3562\n"
     ]
    },
    {
     "name": "stderr",
     "output_type": "stream",
     "text": [
      "epoch [135/3000]: 100%|██████████| 9/9 [00:00<00:00, 75.59it/s, loss=2.48]\n"
     ]
    },
    {
     "name": "stdout",
     "output_type": "stream",
     "text": [
      "Epoch [135/3000]: Train loss: 4.5962,             Valid loss: 4.3093\n"
     ]
    },
    {
     "name": "stderr",
     "output_type": "stream",
     "text": [
      "epoch [136/3000]: 100%|██████████| 9/9 [00:00<00:00, 78.02it/s, loss=2.44]\n"
     ]
    },
    {
     "name": "stdout",
     "output_type": "stream",
     "text": [
      "Epoch [136/3000]: Train loss: 4.4370,             Valid loss: 3.7393\n",
      "Saving model with loss 3.739\n"
     ]
    },
    {
     "name": "stderr",
     "output_type": "stream",
     "text": [
      "epoch [137/3000]: 100%|██████████| 9/9 [00:00<00:00, 85.27it/s, loss=2.45]\n"
     ]
    },
    {
     "name": "stdout",
     "output_type": "stream",
     "text": [
      "Epoch [137/3000]: Train loss: 4.5627,             Valid loss: 3.9745\n"
     ]
    },
    {
     "name": "stderr",
     "output_type": "stream",
     "text": [
      "epoch [138/3000]: 100%|██████████| 9/9 [00:00<00:00, 84.01it/s, loss=2.44]\n"
     ]
    },
    {
     "name": "stdout",
     "output_type": "stream",
     "text": [
      "Epoch [138/3000]: Train loss: 4.4402,             Valid loss: 4.3310\n"
     ]
    },
    {
     "name": "stderr",
     "output_type": "stream",
     "text": [
      "epoch [139/3000]: 100%|██████████| 9/9 [00:00<00:00, 85.40it/s, loss=2.43]\n"
     ]
    },
    {
     "name": "stdout",
     "output_type": "stream",
     "text": [
      "Epoch [139/3000]: Train loss: 4.4773,             Valid loss: 4.0718\n"
     ]
    },
    {
     "name": "stderr",
     "output_type": "stream",
     "text": [
      "epoch [140/3000]: 100%|██████████| 9/9 [00:00<00:00, 81.56it/s, loss=2.43]\n"
     ]
    },
    {
     "name": "stdout",
     "output_type": "stream",
     "text": [
      "Epoch [140/3000]: Train loss: 4.4933,             Valid loss: 4.4982\n"
     ]
    },
    {
     "name": "stderr",
     "output_type": "stream",
     "text": [
      "epoch [141/3000]: 100%|██████████| 9/9 [00:00<00:00, 101.63it/s, loss=2.43]\n"
     ]
    },
    {
     "name": "stdout",
     "output_type": "stream",
     "text": [
      "Epoch [141/3000]: Train loss: 4.4576,             Valid loss: 4.1503\n"
     ]
    },
    {
     "name": "stderr",
     "output_type": "stream",
     "text": [
      "epoch [142/3000]: 100%|██████████| 9/9 [00:00<00:00, 71.29it/s, loss=2.42]\n"
     ]
    },
    {
     "name": "stdout",
     "output_type": "stream",
     "text": [
      "Epoch [142/3000]: Train loss: 4.4136,             Valid loss: 4.9499\n"
     ]
    },
    {
     "name": "stderr",
     "output_type": "stream",
     "text": [
      "epoch [143/3000]: 100%|██████████| 9/9 [00:00<00:00, 83.52it/s, loss=2.43]\n"
     ]
    },
    {
     "name": "stdout",
     "output_type": "stream",
     "text": [
      "Epoch [143/3000]: Train loss: 4.4652,             Valid loss: 4.0231\n"
     ]
    },
    {
     "name": "stderr",
     "output_type": "stream",
     "text": [
      "epoch [144/3000]: 100%|██████████| 9/9 [00:00<00:00, 87.07it/s, loss=2.4]\n"
     ]
    },
    {
     "name": "stdout",
     "output_type": "stream",
     "text": [
      "Epoch [144/3000]: Train loss: 4.3952,             Valid loss: 3.8653\n"
     ]
    },
    {
     "name": "stderr",
     "output_type": "stream",
     "text": [
      "epoch [145/3000]: 100%|██████████| 9/9 [00:00<00:00, 93.64it/s, loss=2.41]\n"
     ]
    },
    {
     "name": "stdout",
     "output_type": "stream",
     "text": [
      "Epoch [145/3000]: Train loss: 4.4394,             Valid loss: 3.8346\n"
     ]
    },
    {
     "name": "stderr",
     "output_type": "stream",
     "text": [
      "epoch [146/3000]: 100%|██████████| 9/9 [00:00<00:00, 79.73it/s, loss=2.4]\n"
     ]
    },
    {
     "name": "stdout",
     "output_type": "stream",
     "text": [
      "Epoch [146/3000]: Train loss: 4.3882,             Valid loss: 4.3498\n"
     ]
    },
    {
     "name": "stderr",
     "output_type": "stream",
     "text": [
      "epoch [147/3000]: 100%|██████████| 9/9 [00:00<00:00, 64.23it/s, loss=2.41]\n"
     ]
    },
    {
     "name": "stdout",
     "output_type": "stream",
     "text": [
      "Epoch [147/3000]: Train loss: 4.4407,             Valid loss: 3.6289\n",
      "Saving model with loss 3.629\n"
     ]
    },
    {
     "name": "stderr",
     "output_type": "stream",
     "text": [
      "epoch [148/3000]: 100%|██████████| 9/9 [00:00<00:00, 72.40it/s, loss=2.37]\n"
     ]
    },
    {
     "name": "stdout",
     "output_type": "stream",
     "text": [
      "Epoch [148/3000]: Train loss: 4.3679,             Valid loss: 4.4564\n"
     ]
    },
    {
     "name": "stderr",
     "output_type": "stream",
     "text": [
      "epoch [149/3000]: 100%|██████████| 9/9 [00:00<00:00, 80.76it/s, loss=2.39]\n"
     ]
    },
    {
     "name": "stdout",
     "output_type": "stream",
     "text": [
      "Epoch [149/3000]: Train loss: 4.4200,             Valid loss: 3.7989\n"
     ]
    },
    {
     "name": "stderr",
     "output_type": "stream",
     "text": [
      "epoch [150/3000]: 100%|██████████| 9/9 [00:00<00:00, 81.91it/s, loss=2.38]\n"
     ]
    },
    {
     "name": "stdout",
     "output_type": "stream",
     "text": [
      "Epoch [150/3000]: Train loss: 4.3559,             Valid loss: 4.6553\n"
     ]
    },
    {
     "name": "stderr",
     "output_type": "stream",
     "text": [
      "epoch [151/3000]: 100%|██████████| 9/9 [00:00<00:00, 91.71it/s, loss=2.37]\n"
     ]
    },
    {
     "name": "stdout",
     "output_type": "stream",
     "text": [
      "Epoch [151/3000]: Train loss: 4.3937,             Valid loss: 3.9756\n"
     ]
    },
    {
     "name": "stderr",
     "output_type": "stream",
     "text": [
      "epoch [152/3000]: 100%|██████████| 9/9 [00:00<00:00, 89.60it/s, loss=2.36]\n"
     ]
    },
    {
     "name": "stdout",
     "output_type": "stream",
     "text": [
      "Epoch [152/3000]: Train loss: 4.3685,             Valid loss: 4.7578\n"
     ]
    },
    {
     "name": "stderr",
     "output_type": "stream",
     "text": [
      "epoch [153/3000]: 100%|██████████| 9/9 [00:00<00:00, 80.43it/s, loss=2.37]\n"
     ]
    },
    {
     "name": "stdout",
     "output_type": "stream",
     "text": [
      "Epoch [153/3000]: Train loss: 4.3787,             Valid loss: 3.8637\n"
     ]
    },
    {
     "name": "stderr",
     "output_type": "stream",
     "text": [
      "epoch [154/3000]: 100%|██████████| 9/9 [00:00<00:00, 79.36it/s, loss=2.35]\n"
     ]
    },
    {
     "name": "stdout",
     "output_type": "stream",
     "text": [
      "Epoch [154/3000]: Train loss: 4.3402,             Valid loss: 4.0760\n"
     ]
    },
    {
     "name": "stderr",
     "output_type": "stream",
     "text": [
      "epoch [155/3000]: 100%|██████████| 9/9 [00:00<00:00, 81.70it/s, loss=2.35]\n"
     ]
    },
    {
     "name": "stdout",
     "output_type": "stream",
     "text": [
      "Epoch [155/3000]: Train loss: 4.3638,             Valid loss: 4.5448\n"
     ]
    },
    {
     "name": "stderr",
     "output_type": "stream",
     "text": [
      "epoch [156/3000]: 100%|██████████| 9/9 [00:00<00:00, 83.80it/s, loss=2.34]\n"
     ]
    },
    {
     "name": "stdout",
     "output_type": "stream",
     "text": [
      "Epoch [156/3000]: Train loss: 4.3157,             Valid loss: 3.8555\n"
     ]
    },
    {
     "name": "stderr",
     "output_type": "stream",
     "text": [
      "epoch [157/3000]: 100%|██████████| 9/9 [00:00<00:00, 90.90it/s, loss=2.33]\n"
     ]
    },
    {
     "name": "stdout",
     "output_type": "stream",
     "text": [
      "Epoch [157/3000]: Train loss: 4.3234,             Valid loss: 4.8233\n"
     ]
    },
    {
     "name": "stderr",
     "output_type": "stream",
     "text": [
      "epoch [158/3000]: 100%|██████████| 9/9 [00:00<00:00, 43.26it/s, loss=2.33]\n"
     ]
    },
    {
     "name": "stdout",
     "output_type": "stream",
     "text": [
      "Epoch [158/3000]: Train loss: 4.3223,             Valid loss: 3.4440\n",
      "Saving model with loss 3.444\n"
     ]
    },
    {
     "name": "stderr",
     "output_type": "stream",
     "text": [
      "epoch [159/3000]: 100%|██████████| 9/9 [00:00<00:00, 73.78it/s, loss=2.33]\n"
     ]
    },
    {
     "name": "stdout",
     "output_type": "stream",
     "text": [
      "Epoch [159/3000]: Train loss: 4.3117,             Valid loss: 4.5209\n"
     ]
    },
    {
     "name": "stderr",
     "output_type": "stream",
     "text": [
      "epoch [160/3000]: 100%|██████████| 9/9 [00:00<00:00, 52.93it/s, loss=2.32]\n"
     ]
    },
    {
     "name": "stdout",
     "output_type": "stream",
     "text": [
      "Epoch [160/3000]: Train loss: 4.3060,             Valid loss: 3.9883\n"
     ]
    },
    {
     "name": "stderr",
     "output_type": "stream",
     "text": [
      "epoch [161/3000]: 100%|██████████| 9/9 [00:00<00:00, 72.97it/s, loss=2.31]\n"
     ]
    },
    {
     "name": "stdout",
     "output_type": "stream",
     "text": [
      "Epoch [161/3000]: Train loss: 4.3018,             Valid loss: 4.4314\n"
     ]
    },
    {
     "name": "stderr",
     "output_type": "stream",
     "text": [
      "epoch [162/3000]: 100%|██████████| 9/9 [00:00<00:00, 81.37it/s, loss=2.32]\n"
     ]
    },
    {
     "name": "stdout",
     "output_type": "stream",
     "text": [
      "Epoch [162/3000]: Train loss: 4.3097,             Valid loss: 4.2774\n"
     ]
    },
    {
     "name": "stderr",
     "output_type": "stream",
     "text": [
      "epoch [163/3000]: 100%|██████████| 9/9 [00:00<00:00, 83.94it/s, loss=2.3]\n"
     ]
    },
    {
     "name": "stdout",
     "output_type": "stream",
     "text": [
      "Epoch [163/3000]: Train loss: 4.2738,             Valid loss: 4.3651\n"
     ]
    },
    {
     "name": "stderr",
     "output_type": "stream",
     "text": [
      "epoch [164/3000]: 100%|██████████| 9/9 [00:00<00:00, 84.25it/s, loss=2.3]\n"
     ]
    },
    {
     "name": "stdout",
     "output_type": "stream",
     "text": [
      "Epoch [164/3000]: Train loss: 4.3057,             Valid loss: 3.5993\n"
     ]
    },
    {
     "name": "stderr",
     "output_type": "stream",
     "text": [
      "epoch [165/3000]: 100%|██████████| 9/9 [00:00<00:00, 91.29it/s, loss=2.3]\n"
     ]
    },
    {
     "name": "stdout",
     "output_type": "stream",
     "text": [
      "Epoch [165/3000]: Train loss: 4.2749,             Valid loss: 3.7913\n"
     ]
    },
    {
     "name": "stderr",
     "output_type": "stream",
     "text": [
      "epoch [166/3000]: 100%|██████████| 9/9 [00:00<00:00, 87.95it/s, loss=2.29]\n"
     ]
    },
    {
     "name": "stdout",
     "output_type": "stream",
     "text": [
      "Epoch [166/3000]: Train loss: 4.2805,             Valid loss: 4.1181\n"
     ]
    },
    {
     "name": "stderr",
     "output_type": "stream",
     "text": [
      "epoch [167/3000]: 100%|██████████| 9/9 [00:00<00:00, 92.61it/s, loss=2.29]\n"
     ]
    },
    {
     "name": "stdout",
     "output_type": "stream",
     "text": [
      "Epoch [167/3000]: Train loss: 4.2664,             Valid loss: 4.1017\n"
     ]
    },
    {
     "name": "stderr",
     "output_type": "stream",
     "text": [
      "epoch [168/3000]: 100%|██████████| 9/9 [00:00<00:00, 91.21it/s, loss=2.28]\n"
     ]
    },
    {
     "name": "stdout",
     "output_type": "stream",
     "text": [
      "Epoch [168/3000]: Train loss: 4.2648,             Valid loss: 4.2985\n"
     ]
    },
    {
     "name": "stderr",
     "output_type": "stream",
     "text": [
      "epoch [169/3000]: 100%|██████████| 9/9 [00:00<00:00, 93.58it/s, loss=2.28]\n"
     ]
    },
    {
     "name": "stdout",
     "output_type": "stream",
     "text": [
      "Epoch [169/3000]: Train loss: 4.2689,             Valid loss: 4.9890\n"
     ]
    },
    {
     "name": "stderr",
     "output_type": "stream",
     "text": [
      "epoch [170/3000]: 100%|██████████| 9/9 [00:00<00:00, 90.48it/s, loss=2.27]\n"
     ]
    },
    {
     "name": "stdout",
     "output_type": "stream",
     "text": [
      "Epoch [170/3000]: Train loss: 4.2433,             Valid loss: 3.7638\n"
     ]
    },
    {
     "name": "stderr",
     "output_type": "stream",
     "text": [
      "epoch [171/3000]: 100%|██████████| 9/9 [00:00<00:00, 89.78it/s, loss=2.27]\n"
     ]
    },
    {
     "name": "stdout",
     "output_type": "stream",
     "text": [
      "Epoch [171/3000]: Train loss: 4.2551,             Valid loss: 4.1292\n"
     ]
    },
    {
     "name": "stderr",
     "output_type": "stream",
     "text": [
      "epoch [172/3000]: 100%|██████████| 9/9 [00:00<00:00, 54.10it/s, loss=2.26]\n"
     ]
    },
    {
     "name": "stdout",
     "output_type": "stream",
     "text": [
      "Epoch [172/3000]: Train loss: 4.2436,             Valid loss: 4.1097\n"
     ]
    },
    {
     "name": "stderr",
     "output_type": "stream",
     "text": [
      "epoch [173/3000]: 100%|██████████| 9/9 [00:00<00:00, 71.94it/s, loss=2.26]\n"
     ]
    },
    {
     "name": "stdout",
     "output_type": "stream",
     "text": [
      "Epoch [173/3000]: Train loss: 4.2420,             Valid loss: 3.4460\n"
     ]
    },
    {
     "name": "stderr",
     "output_type": "stream",
     "text": [
      "epoch [174/3000]: 100%|██████████| 9/9 [00:00<00:00, 45.45it/s, loss=2.25]\n"
     ]
    },
    {
     "name": "stdout",
     "output_type": "stream",
     "text": [
      "Epoch [174/3000]: Train loss: 4.2299,             Valid loss: 3.5602\n"
     ]
    },
    {
     "name": "stderr",
     "output_type": "stream",
     "text": [
      "epoch [175/3000]: 100%|██████████| 9/9 [00:00<00:00, 56.90it/s, loss=2.25]\n"
     ]
    },
    {
     "name": "stdout",
     "output_type": "stream",
     "text": [
      "Epoch [175/3000]: Train loss: 4.2269,             Valid loss: 4.0369\n"
     ]
    },
    {
     "name": "stderr",
     "output_type": "stream",
     "text": [
      "epoch [176/3000]: 100%|██████████| 9/9 [00:00<00:00, 57.49it/s, loss=2.25]\n"
     ]
    },
    {
     "name": "stdout",
     "output_type": "stream",
     "text": [
      "Epoch [176/3000]: Train loss: 4.2213,             Valid loss: 4.3085\n"
     ]
    },
    {
     "name": "stderr",
     "output_type": "stream",
     "text": [
      "epoch [177/3000]: 100%|██████████| 9/9 [00:00<00:00, 40.73it/s, loss=2.24]\n"
     ]
    },
    {
     "name": "stdout",
     "output_type": "stream",
     "text": [
      "Epoch [177/3000]: Train loss: 4.2166,             Valid loss: 3.6106\n"
     ]
    },
    {
     "name": "stderr",
     "output_type": "stream",
     "text": [
      "epoch [178/3000]: 100%|██████████| 9/9 [00:00<00:00, 51.52it/s, loss=2.24]\n"
     ]
    },
    {
     "name": "stdout",
     "output_type": "stream",
     "text": [
      "Epoch [178/3000]: Train loss: 4.2092,             Valid loss: 3.7011\n"
     ]
    },
    {
     "name": "stderr",
     "output_type": "stream",
     "text": [
      "epoch [179/3000]: 100%|██████████| 9/9 [00:00<00:00, 51.63it/s, loss=2.23]\n"
     ]
    },
    {
     "name": "stdout",
     "output_type": "stream",
     "text": [
      "Epoch [179/3000]: Train loss: 4.1992,             Valid loss: 4.3022\n"
     ]
    },
    {
     "name": "stderr",
     "output_type": "stream",
     "text": [
      "epoch [180/3000]: 100%|██████████| 9/9 [00:00<00:00, 49.36it/s, loss=2.23]\n"
     ]
    },
    {
     "name": "stdout",
     "output_type": "stream",
     "text": [
      "Epoch [180/3000]: Train loss: 4.1892,             Valid loss: 3.4066\n",
      "Saving model with loss 3.407\n"
     ]
    },
    {
     "name": "stderr",
     "output_type": "stream",
     "text": [
      "epoch [181/3000]: 100%|██████████| 9/9 [00:00<00:00, 61.30it/s, loss=2.22]\n"
     ]
    },
    {
     "name": "stdout",
     "output_type": "stream",
     "text": [
      "Epoch [181/3000]: Train loss: 4.1820,             Valid loss: 5.3487\n"
     ]
    },
    {
     "name": "stderr",
     "output_type": "stream",
     "text": [
      "epoch [182/3000]: 100%|██████████| 9/9 [00:00<00:00, 66.18it/s, loss=2.22]\n"
     ]
    },
    {
     "name": "stdout",
     "output_type": "stream",
     "text": [
      "Epoch [182/3000]: Train loss: 4.1796,             Valid loss: 3.8510\n"
     ]
    },
    {
     "name": "stderr",
     "output_type": "stream",
     "text": [
      "epoch [183/3000]: 100%|██████████| 9/9 [00:00<00:00, 69.67it/s, loss=2.22]\n"
     ]
    },
    {
     "name": "stdout",
     "output_type": "stream",
     "text": [
      "Epoch [183/3000]: Train loss: 4.1746,             Valid loss: 3.6163\n"
     ]
    },
    {
     "name": "stderr",
     "output_type": "stream",
     "text": [
      "epoch [184/3000]: 100%|██████████| 9/9 [00:00<00:00, 58.16it/s, loss=2.21]\n"
     ]
    },
    {
     "name": "stdout",
     "output_type": "stream",
     "text": [
      "Epoch [184/3000]: Train loss: 4.1500,             Valid loss: 3.7305\n"
     ]
    },
    {
     "name": "stderr",
     "output_type": "stream",
     "text": [
      "epoch [185/3000]: 100%|██████████| 9/9 [00:00<00:00, 55.04it/s, loss=2.21]\n"
     ]
    },
    {
     "name": "stdout",
     "output_type": "stream",
     "text": [
      "Epoch [185/3000]: Train loss: 4.1443,             Valid loss: 4.5916\n"
     ]
    },
    {
     "name": "stderr",
     "output_type": "stream",
     "text": [
      "epoch [186/3000]: 100%|██████████| 9/9 [00:00<00:00, 56.07it/s, loss=2.2] \n"
     ]
    },
    {
     "name": "stdout",
     "output_type": "stream",
     "text": [
      "Epoch [186/3000]: Train loss: 4.1474,             Valid loss: 3.4969\n"
     ]
    },
    {
     "name": "stderr",
     "output_type": "stream",
     "text": [
      "epoch [187/3000]: 100%|██████████| 9/9 [00:00<00:00, 46.60it/s, loss=2.2] \n"
     ]
    },
    {
     "name": "stdout",
     "output_type": "stream",
     "text": [
      "Epoch [187/3000]: Train loss: 4.1453,             Valid loss: 3.6652\n"
     ]
    },
    {
     "name": "stderr",
     "output_type": "stream",
     "text": [
      "epoch [188/3000]: 100%|██████████| 9/9 [00:00<00:00, 54.87it/s, loss=2.19]\n"
     ]
    },
    {
     "name": "stdout",
     "output_type": "stream",
     "text": [
      "Epoch [188/3000]: Train loss: 4.1253,             Valid loss: 3.8455\n"
     ]
    },
    {
     "name": "stderr",
     "output_type": "stream",
     "text": [
      "epoch [189/3000]: 100%|██████████| 9/9 [00:00<00:00, 51.90it/s, loss=2.19]\n"
     ]
    },
    {
     "name": "stdout",
     "output_type": "stream",
     "text": [
      "Epoch [189/3000]: Train loss: 4.1147,             Valid loss: 3.8750\n"
     ]
    },
    {
     "name": "stderr",
     "output_type": "stream",
     "text": [
      "epoch [190/3000]: 100%|██████████| 9/9 [00:00<00:00, 44.05it/s, loss=2.17]\n"
     ]
    },
    {
     "name": "stdout",
     "output_type": "stream",
     "text": [
      "Epoch [190/3000]: Train loss: 4.1022,             Valid loss: 3.8738\n"
     ]
    },
    {
     "name": "stderr",
     "output_type": "stream",
     "text": [
      "epoch [191/3000]: 100%|██████████| 9/9 [00:00<00:00, 47.59it/s, loss=2.19]\n"
     ]
    },
    {
     "name": "stdout",
     "output_type": "stream",
     "text": [
      "Epoch [191/3000]: Train loss: 4.1338,             Valid loss: 3.6649\n"
     ]
    },
    {
     "name": "stderr",
     "output_type": "stream",
     "text": [
      "epoch [192/3000]: 100%|██████████| 9/9 [00:00<00:00, 66.00it/s, loss=2.16]\n"
     ]
    },
    {
     "name": "stdout",
     "output_type": "stream",
     "text": [
      "Epoch [192/3000]: Train loss: 4.0918,             Valid loss: 4.2595\n"
     ]
    },
    {
     "name": "stderr",
     "output_type": "stream",
     "text": [
      "epoch [193/3000]: 100%|██████████| 9/9 [00:00<00:00, 65.78it/s, loss=2.18]\n"
     ]
    },
    {
     "name": "stdout",
     "output_type": "stream",
     "text": [
      "Epoch [193/3000]: Train loss: 4.1364,             Valid loss: 3.3132\n",
      "Saving model with loss 3.313\n"
     ]
    },
    {
     "name": "stderr",
     "output_type": "stream",
     "text": [
      "epoch [194/3000]: 100%|██████████| 9/9 [00:00<00:00, 73.65it/s, loss=2.15]\n"
     ]
    },
    {
     "name": "stdout",
     "output_type": "stream",
     "text": [
      "Epoch [194/3000]: Train loss: 4.0525,             Valid loss: 4.0613\n"
     ]
    },
    {
     "name": "stderr",
     "output_type": "stream",
     "text": [
      "epoch [195/3000]: 100%|██████████| 9/9 [00:00<00:00, 71.64it/s, loss=2.18]\n"
     ]
    },
    {
     "name": "stdout",
     "output_type": "stream",
     "text": [
      "Epoch [195/3000]: Train loss: 4.1368,             Valid loss: 3.2450\n",
      "Saving model with loss 3.245\n"
     ]
    },
    {
     "name": "stderr",
     "output_type": "stream",
     "text": [
      "epoch [196/3000]: 100%|██████████| 9/9 [00:00<00:00, 62.48it/s, loss=2.14]\n"
     ]
    },
    {
     "name": "stdout",
     "output_type": "stream",
     "text": [
      "Epoch [196/3000]: Train loss: 4.0364,             Valid loss: 4.3703\n"
     ]
    },
    {
     "name": "stderr",
     "output_type": "stream",
     "text": [
      "epoch [197/3000]: 100%|██████████| 9/9 [00:00<00:00, 55.90it/s, loss=2.17]\n"
     ]
    },
    {
     "name": "stdout",
     "output_type": "stream",
     "text": [
      "Epoch [197/3000]: Train loss: 4.1274,             Valid loss: 3.4661\n"
     ]
    },
    {
     "name": "stderr",
     "output_type": "stream",
     "text": [
      "epoch [198/3000]: 100%|██████████| 9/9 [00:00<00:00, 60.03it/s, loss=2.12]\n"
     ]
    },
    {
     "name": "stdout",
     "output_type": "stream",
     "text": [
      "Epoch [198/3000]: Train loss: 4.0142,             Valid loss: 4.1312\n"
     ]
    },
    {
     "name": "stderr",
     "output_type": "stream",
     "text": [
      "epoch [199/3000]: 100%|██████████| 9/9 [00:00<00:00, 59.63it/s, loss=2.18]\n"
     ]
    },
    {
     "name": "stdout",
     "output_type": "stream",
     "text": [
      "Epoch [199/3000]: Train loss: 4.1462,             Valid loss: 3.7852\n"
     ]
    },
    {
     "name": "stderr",
     "output_type": "stream",
     "text": [
      "epoch [200/3000]: 100%|██████████| 9/9 [00:00<00:00, 66.96it/s, loss=2.11]\n"
     ]
    },
    {
     "name": "stdout",
     "output_type": "stream",
     "text": [
      "Epoch [200/3000]: Train loss: 3.9903,             Valid loss: 3.3450\n"
     ]
    },
    {
     "name": "stderr",
     "output_type": "stream",
     "text": [
      "epoch [201/3000]: 100%|██████████| 9/9 [00:00<00:00, 64.21it/s, loss=2.19]\n"
     ]
    },
    {
     "name": "stdout",
     "output_type": "stream",
     "text": [
      "Epoch [201/3000]: Train loss: 4.2019,             Valid loss: 3.2194\n",
      "Saving model with loss 3.219\n"
     ]
    },
    {
     "name": "stderr",
     "output_type": "stream",
     "text": [
      "epoch [202/3000]: 100%|██████████| 9/9 [00:00<00:00, 54.86it/s, loss=2.1] \n"
     ]
    },
    {
     "name": "stdout",
     "output_type": "stream",
     "text": [
      "Epoch [202/3000]: Train loss: 3.9070,             Valid loss: 5.0215\n"
     ]
    },
    {
     "name": "stderr",
     "output_type": "stream",
     "text": [
      "epoch [203/3000]: 100%|██████████| 9/9 [00:00<00:00, 69.28it/s, loss=2.21]\n"
     ]
    },
    {
     "name": "stdout",
     "output_type": "stream",
     "text": [
      "Epoch [203/3000]: Train loss: 4.2910,             Valid loss: 3.7560\n"
     ]
    },
    {
     "name": "stderr",
     "output_type": "stream",
     "text": [
      "epoch [204/3000]: 100%|██████████| 9/9 [00:00<00:00, 81.42it/s, loss=2.09]\n"
     ]
    },
    {
     "name": "stdout",
     "output_type": "stream",
     "text": [
      "Epoch [204/3000]: Train loss: 3.8585,             Valid loss: 3.9953\n"
     ]
    },
    {
     "name": "stderr",
     "output_type": "stream",
     "text": [
      "epoch [205/3000]: 100%|██████████| 9/9 [00:00<00:00, 82.10it/s, loss=2.23]\n"
     ]
    },
    {
     "name": "stdout",
     "output_type": "stream",
     "text": [
      "Epoch [205/3000]: Train loss: 4.3193,             Valid loss: 3.1278\n",
      "Saving model with loss 3.128\n"
     ]
    },
    {
     "name": "stderr",
     "output_type": "stream",
     "text": [
      "epoch [206/3000]: 100%|██████████| 9/9 [00:00<00:00, 79.07it/s, loss=2.08]\n"
     ]
    },
    {
     "name": "stdout",
     "output_type": "stream",
     "text": [
      "Epoch [206/3000]: Train loss: 3.8310,             Valid loss: 3.3717\n"
     ]
    },
    {
     "name": "stderr",
     "output_type": "stream",
     "text": [
      "epoch [207/3000]: 100%|██████████| 9/9 [00:00<00:00, 80.45it/s, loss=2.22]\n"
     ]
    },
    {
     "name": "stdout",
     "output_type": "stream",
     "text": [
      "Epoch [207/3000]: Train loss: 4.3498,             Valid loss: 3.5867\n"
     ]
    },
    {
     "name": "stderr",
     "output_type": "stream",
     "text": [
      "epoch [208/3000]: 100%|██████████| 9/9 [00:00<00:00, 59.73it/s, loss=2.07]\n"
     ]
    },
    {
     "name": "stdout",
     "output_type": "stream",
     "text": [
      "Epoch [208/3000]: Train loss: 3.8022,             Valid loss: 3.5715\n"
     ]
    },
    {
     "name": "stderr",
     "output_type": "stream",
     "text": [
      "epoch [209/3000]: 100%|██████████| 9/9 [00:00<00:00, 77.51it/s, loss=2.2]\n"
     ]
    },
    {
     "name": "stdout",
     "output_type": "stream",
     "text": [
      "Epoch [209/3000]: Train loss: 4.3302,             Valid loss: 3.1910\n"
     ]
    },
    {
     "name": "stderr",
     "output_type": "stream",
     "text": [
      "epoch [210/3000]: 100%|██████████| 9/9 [00:00<00:00, 71.65it/s, loss=2.07]\n"
     ]
    },
    {
     "name": "stdout",
     "output_type": "stream",
     "text": [
      "Epoch [210/3000]: Train loss: 3.7913,             Valid loss: 4.1727\n"
     ]
    },
    {
     "name": "stderr",
     "output_type": "stream",
     "text": [
      "epoch [211/3000]: 100%|██████████| 9/9 [00:00<00:00, 75.01it/s, loss=2.19]\n"
     ]
    },
    {
     "name": "stdout",
     "output_type": "stream",
     "text": [
      "Epoch [211/3000]: Train loss: 4.3091,             Valid loss: 3.8440\n"
     ]
    },
    {
     "name": "stderr",
     "output_type": "stream",
     "text": [
      "epoch [212/3000]: 100%|██████████| 9/9 [00:00<00:00, 82.53it/s, loss=2.06]\n"
     ]
    },
    {
     "name": "stdout",
     "output_type": "stream",
     "text": [
      "Epoch [212/3000]: Train loss: 3.7788,             Valid loss: 3.6313\n"
     ]
    },
    {
     "name": "stderr",
     "output_type": "stream",
     "text": [
      "epoch [213/3000]: 100%|██████████| 9/9 [00:00<00:00, 89.38it/s, loss=2.18]\n"
     ]
    },
    {
     "name": "stdout",
     "output_type": "stream",
     "text": [
      "Epoch [213/3000]: Train loss: 4.2685,             Valid loss: 3.6056\n"
     ]
    },
    {
     "name": "stderr",
     "output_type": "stream",
     "text": [
      "epoch [214/3000]: 100%|██████████| 9/9 [00:00<00:00, 85.70it/s, loss=2.05]\n"
     ]
    },
    {
     "name": "stdout",
     "output_type": "stream",
     "text": [
      "Epoch [214/3000]: Train loss: 3.7684,             Valid loss: 3.6143\n"
     ]
    },
    {
     "name": "stderr",
     "output_type": "stream",
     "text": [
      "epoch [215/3000]: 100%|██████████| 9/9 [00:00<00:00, 79.21it/s, loss=2.18]\n"
     ]
    },
    {
     "name": "stdout",
     "output_type": "stream",
     "text": [
      "Epoch [215/3000]: Train loss: 4.2560,             Valid loss: 3.1863\n"
     ]
    },
    {
     "name": "stderr",
     "output_type": "stream",
     "text": [
      "epoch [216/3000]: 100%|██████████| 9/9 [00:00<00:00, 70.14it/s, loss=2.04]\n"
     ]
    },
    {
     "name": "stdout",
     "output_type": "stream",
     "text": [
      "Epoch [216/3000]: Train loss: 3.7470,             Valid loss: 3.6249\n"
     ]
    },
    {
     "name": "stderr",
     "output_type": "stream",
     "text": [
      "epoch [217/3000]: 100%|██████████| 9/9 [00:00<00:00, 78.73it/s, loss=2.16]\n"
     ]
    },
    {
     "name": "stdout",
     "output_type": "stream",
     "text": [
      "Epoch [217/3000]: Train loss: 4.2268,             Valid loss: 3.4018\n"
     ]
    },
    {
     "name": "stderr",
     "output_type": "stream",
     "text": [
      "epoch [218/3000]: 100%|██████████| 9/9 [00:00<00:00, 79.40it/s, loss=2.04]\n"
     ]
    },
    {
     "name": "stdout",
     "output_type": "stream",
     "text": [
      "Epoch [218/3000]: Train loss: 3.7447,             Valid loss: 3.1150\n",
      "Saving model with loss 3.115\n"
     ]
    },
    {
     "name": "stderr",
     "output_type": "stream",
     "text": [
      "epoch [219/3000]: 100%|██████████| 9/9 [00:00<00:00, 58.96it/s, loss=2.15]\n"
     ]
    },
    {
     "name": "stdout",
     "output_type": "stream",
     "text": [
      "Epoch [219/3000]: Train loss: 4.1992,             Valid loss: 3.8618\n"
     ]
    },
    {
     "name": "stderr",
     "output_type": "stream",
     "text": [
      "epoch [220/3000]: 100%|██████████| 9/9 [00:00<00:00, 91.11it/s, loss=2.03]\n"
     ]
    },
    {
     "name": "stdout",
     "output_type": "stream",
     "text": [
      "Epoch [220/3000]: Train loss: 3.7347,             Valid loss: 3.6993\n"
     ]
    },
    {
     "name": "stderr",
     "output_type": "stream",
     "text": [
      "epoch [221/3000]: 100%|██████████| 9/9 [00:00<00:00, 86.47it/s, loss=2.14]\n"
     ]
    },
    {
     "name": "stdout",
     "output_type": "stream",
     "text": [
      "Epoch [221/3000]: Train loss: 4.1850,             Valid loss: 3.4511\n"
     ]
    },
    {
     "name": "stderr",
     "output_type": "stream",
     "text": [
      "epoch [222/3000]: 100%|██████████| 9/9 [00:00<00:00, 88.14it/s, loss=2.03]\n"
     ]
    },
    {
     "name": "stdout",
     "output_type": "stream",
     "text": [
      "Epoch [222/3000]: Train loss: 3.7228,             Valid loss: 3.3813\n"
     ]
    },
    {
     "name": "stderr",
     "output_type": "stream",
     "text": [
      "epoch [223/3000]: 100%|██████████| 9/9 [00:00<00:00, 80.20it/s, loss=2.14]\n"
     ]
    },
    {
     "name": "stdout",
     "output_type": "stream",
     "text": [
      "Epoch [223/3000]: Train loss: 4.1827,             Valid loss: 4.0646\n"
     ]
    },
    {
     "name": "stderr",
     "output_type": "stream",
     "text": [
      "epoch [224/3000]: 100%|██████████| 9/9 [00:00<00:00, 79.58it/s, loss=2.02]\n"
     ]
    },
    {
     "name": "stdout",
     "output_type": "stream",
     "text": [
      "Epoch [224/3000]: Train loss: 3.6975,             Valid loss: 4.7365\n"
     ]
    },
    {
     "name": "stderr",
     "output_type": "stream",
     "text": [
      "epoch [225/3000]: 100%|██████████| 9/9 [00:00<00:00, 83.13it/s, loss=2.13]\n"
     ]
    },
    {
     "name": "stdout",
     "output_type": "stream",
     "text": [
      "Epoch [225/3000]: Train loss: 4.1482,             Valid loss: 3.5864\n"
     ]
    },
    {
     "name": "stderr",
     "output_type": "stream",
     "text": [
      "epoch [226/3000]: 100%|██████████| 9/9 [00:00<00:00, 84.62it/s, loss=2.01]\n"
     ]
    },
    {
     "name": "stdout",
     "output_type": "stream",
     "text": [
      "Epoch [226/3000]: Train loss: 3.7068,             Valid loss: 4.0492\n"
     ]
    },
    {
     "name": "stderr",
     "output_type": "stream",
     "text": [
      "epoch [227/3000]: 100%|██████████| 9/9 [00:00<00:00, 86.58it/s, loss=2.13]\n"
     ]
    },
    {
     "name": "stdout",
     "output_type": "stream",
     "text": [
      "Epoch [227/3000]: Train loss: 4.1733,             Valid loss: 3.7616\n"
     ]
    },
    {
     "name": "stderr",
     "output_type": "stream",
     "text": [
      "epoch [228/3000]: 100%|██████████| 9/9 [00:00<00:00, 84.04it/s, loss=2]\n"
     ]
    },
    {
     "name": "stdout",
     "output_type": "stream",
     "text": [
      "Epoch [228/3000]: Train loss: 3.6628,             Valid loss: 4.3957\n"
     ]
    },
    {
     "name": "stderr",
     "output_type": "stream",
     "text": [
      "epoch [229/3000]: 100%|██████████| 9/9 [00:00<00:00, 91.86it/s, loss=2.14]\n"
     ]
    },
    {
     "name": "stdout",
     "output_type": "stream",
     "text": [
      "Epoch [229/3000]: Train loss: 4.2078,             Valid loss: 3.0471\n",
      "Saving model with loss 3.047\n"
     ]
    },
    {
     "name": "stderr",
     "output_type": "stream",
     "text": [
      "epoch [230/3000]: 100%|██████████| 9/9 [00:00<00:00, 71.62it/s, loss=2]   \n"
     ]
    },
    {
     "name": "stdout",
     "output_type": "stream",
     "text": [
      "Epoch [230/3000]: Train loss: 3.6326,             Valid loss: 3.7079\n"
     ]
    },
    {
     "name": "stderr",
     "output_type": "stream",
     "text": [
      "epoch [231/3000]: 100%|██████████| 9/9 [00:00<00:00, 76.39it/s, loss=2.14]\n"
     ]
    },
    {
     "name": "stdout",
     "output_type": "stream",
     "text": [
      "Epoch [231/3000]: Train loss: 4.2108,             Valid loss: 3.3653\n"
     ]
    },
    {
     "name": "stderr",
     "output_type": "stream",
     "text": [
      "epoch [232/3000]: 100%|██████████| 9/9 [00:00<00:00, 82.10it/s, loss=1.99]\n"
     ]
    },
    {
     "name": "stdout",
     "output_type": "stream",
     "text": [
      "Epoch [232/3000]: Train loss: 3.6128,             Valid loss: 2.9790\n",
      "Saving model with loss 2.979\n"
     ]
    },
    {
     "name": "stderr",
     "output_type": "stream",
     "text": [
      "epoch [233/3000]: 100%|██████████| 9/9 [00:00<00:00, 84.27it/s, loss=2.12]\n"
     ]
    },
    {
     "name": "stdout",
     "output_type": "stream",
     "text": [
      "Epoch [233/3000]: Train loss: 4.1908,             Valid loss: 3.3333\n"
     ]
    },
    {
     "name": "stderr",
     "output_type": "stream",
     "text": [
      "epoch [234/3000]: 100%|██████████| 9/9 [00:00<00:00, 96.59it/s, loss=1.99]\n"
     ]
    },
    {
     "name": "stdout",
     "output_type": "stream",
     "text": [
      "Epoch [234/3000]: Train loss: 3.6026,             Valid loss: 4.0031\n"
     ]
    },
    {
     "name": "stderr",
     "output_type": "stream",
     "text": [
      "epoch [235/3000]: 100%|██████████| 9/9 [00:00<00:00, 93.97it/s, loss=2.12]\n"
     ]
    },
    {
     "name": "stdout",
     "output_type": "stream",
     "text": [
      "Epoch [235/3000]: Train loss: 4.1604,             Valid loss: 3.1656\n"
     ]
    },
    {
     "name": "stderr",
     "output_type": "stream",
     "text": [
      "epoch [236/3000]: 100%|██████████| 9/9 [00:00<00:00, 90.23it/s, loss=1.98]\n"
     ]
    },
    {
     "name": "stdout",
     "output_type": "stream",
     "text": [
      "Epoch [236/3000]: Train loss: 3.6039,             Valid loss: 2.9241\n",
      "Saving model with loss 2.924\n"
     ]
    },
    {
     "name": "stderr",
     "output_type": "stream",
     "text": [
      "epoch [237/3000]: 100%|██████████| 9/9 [00:00<00:00, 74.20it/s, loss=2.11]\n"
     ]
    },
    {
     "name": "stdout",
     "output_type": "stream",
     "text": [
      "Epoch [237/3000]: Train loss: 4.1696,             Valid loss: 3.0406\n"
     ]
    },
    {
     "name": "stderr",
     "output_type": "stream",
     "text": [
      "epoch [238/3000]: 100%|██████████| 9/9 [00:00<00:00, 72.53it/s, loss=1.98]\n"
     ]
    },
    {
     "name": "stdout",
     "output_type": "stream",
     "text": [
      "Epoch [238/3000]: Train loss: 3.5748,             Valid loss: 4.1270\n"
     ]
    },
    {
     "name": "stderr",
     "output_type": "stream",
     "text": [
      "epoch [239/3000]: 100%|██████████| 9/9 [00:00<00:00, 81.10it/s, loss=2.1]\n"
     ]
    },
    {
     "name": "stdout",
     "output_type": "stream",
     "text": [
      "Epoch [239/3000]: Train loss: 4.1310,             Valid loss: 3.3986\n"
     ]
    },
    {
     "name": "stderr",
     "output_type": "stream",
     "text": [
      "epoch [240/3000]: 100%|██████████| 9/9 [00:00<00:00, 38.51it/s, loss=1.97]\n"
     ]
    },
    {
     "name": "stdout",
     "output_type": "stream",
     "text": [
      "Epoch [240/3000]: Train loss: 3.5678,             Valid loss: 3.9759\n"
     ]
    },
    {
     "name": "stderr",
     "output_type": "stream",
     "text": [
      "epoch [241/3000]: 100%|██████████| 9/9 [00:00<00:00, 78.50it/s, loss=2.1]\n"
     ]
    },
    {
     "name": "stdout",
     "output_type": "stream",
     "text": [
      "Epoch [241/3000]: Train loss: 4.1367,             Valid loss: 3.0863\n"
     ]
    },
    {
     "name": "stderr",
     "output_type": "stream",
     "text": [
      "epoch [242/3000]: 100%|██████████| 9/9 [00:00<00:00, 80.27it/s, loss=1.96]\n"
     ]
    },
    {
     "name": "stdout",
     "output_type": "stream",
     "text": [
      "Epoch [242/3000]: Train loss: 3.5265,             Valid loss: 3.0570\n"
     ]
    },
    {
     "name": "stderr",
     "output_type": "stream",
     "text": [
      "epoch [243/3000]: 100%|██████████| 9/9 [00:00<00:00, 73.88it/s, loss=2.1] \n"
     ]
    },
    {
     "name": "stdout",
     "output_type": "stream",
     "text": [
      "Epoch [243/3000]: Train loss: 4.1285,             Valid loss: 3.1872\n"
     ]
    },
    {
     "name": "stderr",
     "output_type": "stream",
     "text": [
      "epoch [244/3000]: 100%|██████████| 9/9 [00:00<00:00, 73.62it/s, loss=1.96]\n"
     ]
    },
    {
     "name": "stdout",
     "output_type": "stream",
     "text": [
      "Epoch [244/3000]: Train loss: 3.5211,             Valid loss: 3.3868\n"
     ]
    },
    {
     "name": "stderr",
     "output_type": "stream",
     "text": [
      "epoch [245/3000]: 100%|██████████| 9/9 [00:00<00:00, 81.15it/s, loss=2.08]\n"
     ]
    },
    {
     "name": "stdout",
     "output_type": "stream",
     "text": [
      "Epoch [245/3000]: Train loss: 4.0868,             Valid loss: 3.4660\n"
     ]
    },
    {
     "name": "stderr",
     "output_type": "stream",
     "text": [
      "epoch [246/3000]: 100%|██████████| 9/9 [00:00<00:00, 93.47it/s, loss=1.95]\n"
     ]
    },
    {
     "name": "stdout",
     "output_type": "stream",
     "text": [
      "Epoch [246/3000]: Train loss: 3.5376,             Valid loss: 3.3014\n"
     ]
    },
    {
     "name": "stderr",
     "output_type": "stream",
     "text": [
      "epoch [247/3000]: 100%|██████████| 9/9 [00:00<00:00, 78.88it/s, loss=2.08]\n"
     ]
    },
    {
     "name": "stdout",
     "output_type": "stream",
     "text": [
      "Epoch [247/3000]: Train loss: 4.0791,             Valid loss: 4.0897\n"
     ]
    },
    {
     "name": "stderr",
     "output_type": "stream",
     "text": [
      "epoch [248/3000]: 100%|██████████| 9/9 [00:00<00:00, 97.60it/s, loss=1.95]\n"
     ]
    },
    {
     "name": "stdout",
     "output_type": "stream",
     "text": [
      "Epoch [248/3000]: Train loss: 3.5119,             Valid loss: 3.3833\n"
     ]
    },
    {
     "name": "stderr",
     "output_type": "stream",
     "text": [
      "epoch [249/3000]: 100%|██████████| 9/9 [00:00<00:00, 72.85it/s, loss=2.07]\n"
     ]
    },
    {
     "name": "stdout",
     "output_type": "stream",
     "text": [
      "Epoch [249/3000]: Train loss: 4.0674,             Valid loss: 3.5437\n"
     ]
    },
    {
     "name": "stderr",
     "output_type": "stream",
     "text": [
      "epoch [250/3000]: 100%|██████████| 9/9 [00:00<00:00, 66.80it/s, loss=1.94]\n"
     ]
    },
    {
     "name": "stdout",
     "output_type": "stream",
     "text": [
      "Epoch [250/3000]: Train loss: 3.5040,             Valid loss: 3.3660\n"
     ]
    },
    {
     "name": "stderr",
     "output_type": "stream",
     "text": [
      "epoch [251/3000]: 100%|██████████| 9/9 [00:00<00:00, 70.58it/s, loss=2.07]\n"
     ]
    },
    {
     "name": "stdout",
     "output_type": "stream",
     "text": [
      "Epoch [251/3000]: Train loss: 4.0566,             Valid loss: 3.3941\n"
     ]
    },
    {
     "name": "stderr",
     "output_type": "stream",
     "text": [
      "epoch [252/3000]: 100%|██████████| 9/9 [00:00<00:00, 62.06it/s, loss=1.94]\n"
     ]
    },
    {
     "name": "stdout",
     "output_type": "stream",
     "text": [
      "Epoch [252/3000]: Train loss: 3.4920,             Valid loss: 3.4108\n"
     ]
    },
    {
     "name": "stderr",
     "output_type": "stream",
     "text": [
      "epoch [253/3000]: 100%|██████████| 9/9 [00:00<00:00, 73.70it/s, loss=2.06]\n"
     ]
    },
    {
     "name": "stdout",
     "output_type": "stream",
     "text": [
      "Epoch [253/3000]: Train loss: 4.0488,             Valid loss: 3.8135\n"
     ]
    },
    {
     "name": "stderr",
     "output_type": "stream",
     "text": [
      "epoch [254/3000]: 100%|██████████| 9/9 [00:00<00:00, 60.36it/s, loss=1.93]\n"
     ]
    },
    {
     "name": "stdout",
     "output_type": "stream",
     "text": [
      "Epoch [254/3000]: Train loss: 3.4794,             Valid loss: 3.4277\n"
     ]
    },
    {
     "name": "stderr",
     "output_type": "stream",
     "text": [
      "epoch [255/3000]: 100%|██████████| 9/9 [00:00<00:00, 57.11it/s, loss=2.05]\n"
     ]
    },
    {
     "name": "stdout",
     "output_type": "stream",
     "text": [
      "Epoch [255/3000]: Train loss: 4.0342,             Valid loss: 3.1755\n"
     ]
    },
    {
     "name": "stderr",
     "output_type": "stream",
     "text": [
      "epoch [256/3000]: 100%|██████████| 9/9 [00:00<00:00, 71.30it/s, loss=1.93]\n"
     ]
    },
    {
     "name": "stdout",
     "output_type": "stream",
     "text": [
      "Epoch [256/3000]: Train loss: 3.4830,             Valid loss: 2.9943\n"
     ]
    },
    {
     "name": "stderr",
     "output_type": "stream",
     "text": [
      "epoch [257/3000]: 100%|██████████| 9/9 [00:00<00:00, 80.89it/s, loss=2.04]\n"
     ]
    },
    {
     "name": "stdout",
     "output_type": "stream",
     "text": [
      "Epoch [257/3000]: Train loss: 4.0100,             Valid loss: 3.6491\n"
     ]
    },
    {
     "name": "stderr",
     "output_type": "stream",
     "text": [
      "epoch [258/3000]: 100%|██████████| 9/9 [00:00<00:00, 82.97it/s, loss=1.92]\n"
     ]
    },
    {
     "name": "stdout",
     "output_type": "stream",
     "text": [
      "Epoch [258/3000]: Train loss: 3.4665,             Valid loss: 3.1652\n"
     ]
    },
    {
     "name": "stderr",
     "output_type": "stream",
     "text": [
      "epoch [259/3000]: 100%|██████████| 9/9 [00:00<00:00, 67.93it/s, loss=2.04]\n"
     ]
    },
    {
     "name": "stdout",
     "output_type": "stream",
     "text": [
      "Epoch [259/3000]: Train loss: 4.0034,             Valid loss: 3.7344\n"
     ]
    },
    {
     "name": "stderr",
     "output_type": "stream",
     "text": [
      "epoch [260/3000]: 100%|██████████| 9/9 [00:00<00:00, 87.00it/s, loss=1.92]\n"
     ]
    },
    {
     "name": "stdout",
     "output_type": "stream",
     "text": [
      "Epoch [260/3000]: Train loss: 3.4488,             Valid loss: 4.0368\n"
     ]
    },
    {
     "name": "stderr",
     "output_type": "stream",
     "text": [
      "epoch [261/3000]: 100%|██████████| 9/9 [00:00<00:00, 85.53it/s, loss=2.02]\n"
     ]
    },
    {
     "name": "stdout",
     "output_type": "stream",
     "text": [
      "Epoch [261/3000]: Train loss: 3.9727,             Valid loss: 3.8074\n"
     ]
    },
    {
     "name": "stderr",
     "output_type": "stream",
     "text": [
      "epoch [262/3000]: 100%|██████████| 9/9 [00:00<00:00, 80.47it/s, loss=1.91]\n"
     ]
    },
    {
     "name": "stdout",
     "output_type": "stream",
     "text": [
      "Epoch [262/3000]: Train loss: 3.4664,             Valid loss: 3.5233\n"
     ]
    },
    {
     "name": "stderr",
     "output_type": "stream",
     "text": [
      "epoch [263/3000]: 100%|██████████| 9/9 [00:00<00:00, 75.85it/s, loss=1.99]\n"
     ]
    },
    {
     "name": "stdout",
     "output_type": "stream",
     "text": [
      "Epoch [263/3000]: Train loss: 3.8920,             Valid loss: 3.2415\n"
     ]
    },
    {
     "name": "stderr",
     "output_type": "stream",
     "text": [
      "epoch [264/3000]: 100%|██████████| 9/9 [00:00<00:00, 82.64it/s, loss=1.91]\n"
     ]
    },
    {
     "name": "stdout",
     "output_type": "stream",
     "text": [
      "Epoch [264/3000]: Train loss: 3.4817,             Valid loss: 3.3753\n"
     ]
    },
    {
     "name": "stderr",
     "output_type": "stream",
     "text": [
      "epoch [265/3000]: 100%|██████████| 9/9 [00:00<00:00, 61.93it/s, loss=1.96]\n"
     ]
    },
    {
     "name": "stdout",
     "output_type": "stream",
     "text": [
      "Epoch [265/3000]: Train loss: 3.8286,             Valid loss: 3.7725\n"
     ]
    },
    {
     "name": "stderr",
     "output_type": "stream",
     "text": [
      "epoch [266/3000]: 100%|██████████| 9/9 [00:00<00:00, 61.87it/s, loss=1.91]\n"
     ]
    },
    {
     "name": "stdout",
     "output_type": "stream",
     "text": [
      "Epoch [266/3000]: Train loss: 3.5334,             Valid loss: 3.2967\n"
     ]
    },
    {
     "name": "stderr",
     "output_type": "stream",
     "text": [
      "epoch [267/3000]: 100%|██████████| 9/9 [00:00<00:00, 71.26it/s, loss=1.94]\n"
     ]
    },
    {
     "name": "stdout",
     "output_type": "stream",
     "text": [
      "Epoch [267/3000]: Train loss: 3.7469,             Valid loss: 3.1651\n"
     ]
    },
    {
     "name": "stderr",
     "output_type": "stream",
     "text": [
      "epoch [268/3000]: 100%|██████████| 9/9 [00:00<00:00, 71.09it/s, loss=1.91]\n"
     ]
    },
    {
     "name": "stdout",
     "output_type": "stream",
     "text": [
      "Epoch [268/3000]: Train loss: 3.5542,             Valid loss: 3.3404\n"
     ]
    },
    {
     "name": "stderr",
     "output_type": "stream",
     "text": [
      "epoch [269/3000]: 100%|██████████| 9/9 [00:00<00:00, 72.56it/s, loss=1.94]\n"
     ]
    },
    {
     "name": "stdout",
     "output_type": "stream",
     "text": [
      "Epoch [269/3000]: Train loss: 3.7089,             Valid loss: 3.5700\n"
     ]
    },
    {
     "name": "stderr",
     "output_type": "stream",
     "text": [
      "epoch [270/3000]: 100%|██████████| 9/9 [00:00<00:00, 69.53it/s, loss=1.91]\n"
     ]
    },
    {
     "name": "stdout",
     "output_type": "stream",
     "text": [
      "Epoch [270/3000]: Train loss: 3.5726,             Valid loss: 4.5995\n"
     ]
    },
    {
     "name": "stderr",
     "output_type": "stream",
     "text": [
      "epoch [271/3000]: 100%|██████████| 9/9 [00:00<00:00, 69.84it/s, loss=1.92]\n"
     ]
    },
    {
     "name": "stdout",
     "output_type": "stream",
     "text": [
      "Epoch [271/3000]: Train loss: 3.6793,             Valid loss: 3.3096\n"
     ]
    },
    {
     "name": "stderr",
     "output_type": "stream",
     "text": [
      "epoch [272/3000]: 100%|██████████| 9/9 [00:00<00:00, 70.83it/s, loss=1.9] \n"
     ]
    },
    {
     "name": "stdout",
     "output_type": "stream",
     "text": [
      "Epoch [272/3000]: Train loss: 3.5575,             Valid loss: 3.2847\n"
     ]
    },
    {
     "name": "stderr",
     "output_type": "stream",
     "text": [
      "epoch [273/3000]: 100%|██████████| 9/9 [00:00<00:00, 65.64it/s, loss=1.92]\n"
     ]
    },
    {
     "name": "stdout",
     "output_type": "stream",
     "text": [
      "Epoch [273/3000]: Train loss: 3.7024,             Valid loss: 3.3116\n"
     ]
    },
    {
     "name": "stderr",
     "output_type": "stream",
     "text": [
      "epoch [274/3000]: 100%|██████████| 9/9 [00:00<00:00, 69.04it/s, loss=1.89]\n"
     ]
    },
    {
     "name": "stdout",
     "output_type": "stream",
     "text": [
      "Epoch [274/3000]: Train loss: 3.5428,             Valid loss: 3.1192\n"
     ]
    },
    {
     "name": "stderr",
     "output_type": "stream",
     "text": [
      "epoch [275/3000]: 100%|██████████| 9/9 [00:00<00:00, 70.45it/s, loss=1.92]\n"
     ]
    },
    {
     "name": "stdout",
     "output_type": "stream",
     "text": [
      "Epoch [275/3000]: Train loss: 3.6984,             Valid loss: 3.5692\n"
     ]
    },
    {
     "name": "stderr",
     "output_type": "stream",
     "text": [
      "epoch [276/3000]: 100%|██████████| 9/9 [00:00<00:00, 68.56it/s, loss=1.89]\n"
     ]
    },
    {
     "name": "stdout",
     "output_type": "stream",
     "text": [
      "Epoch [276/3000]: Train loss: 3.5309,             Valid loss: 3.5242\n"
     ]
    },
    {
     "name": "stderr",
     "output_type": "stream",
     "text": [
      "epoch [277/3000]: 100%|██████████| 9/9 [00:00<00:00, 72.99it/s, loss=1.92]\n"
     ]
    },
    {
     "name": "stdout",
     "output_type": "stream",
     "text": [
      "Epoch [277/3000]: Train loss: 3.6990,             Valid loss: 2.9491\n"
     ]
    },
    {
     "name": "stderr",
     "output_type": "stream",
     "text": [
      "epoch [278/3000]: 100%|██████████| 9/9 [00:00<00:00, 68.86it/s, loss=1.88]\n"
     ]
    },
    {
     "name": "stdout",
     "output_type": "stream",
     "text": [
      "Epoch [278/3000]: Train loss: 3.5201,             Valid loss: 2.9637\n"
     ]
    },
    {
     "name": "stderr",
     "output_type": "stream",
     "text": [
      "epoch [279/3000]: 100%|██████████| 9/9 [00:00<00:00, 61.48it/s, loss=1.91]\n"
     ]
    },
    {
     "name": "stdout",
     "output_type": "stream",
     "text": [
      "Epoch [279/3000]: Train loss: 3.6945,             Valid loss: 3.7649\n"
     ]
    },
    {
     "name": "stderr",
     "output_type": "stream",
     "text": [
      "epoch [280/3000]: 100%|██████████| 9/9 [00:00<00:00, 61.20it/s, loss=1.88]\n"
     ]
    },
    {
     "name": "stdout",
     "output_type": "stream",
     "text": [
      "Epoch [280/3000]: Train loss: 3.5056,             Valid loss: 3.2170\n"
     ]
    },
    {
     "name": "stderr",
     "output_type": "stream",
     "text": [
      "epoch [281/3000]: 100%|██████████| 9/9 [00:00<00:00, 75.27it/s, loss=1.91]\n"
     ]
    },
    {
     "name": "stdout",
     "output_type": "stream",
     "text": [
      "Epoch [281/3000]: Train loss: 3.6763,             Valid loss: 2.9883\n"
     ]
    },
    {
     "name": "stderr",
     "output_type": "stream",
     "text": [
      "epoch [282/3000]: 100%|██████████| 9/9 [00:00<00:00, 69.60it/s, loss=1.87]\n"
     ]
    },
    {
     "name": "stdout",
     "output_type": "stream",
     "text": [
      "Epoch [282/3000]: Train loss: 3.5023,             Valid loss: 3.2796\n"
     ]
    },
    {
     "name": "stderr",
     "output_type": "stream",
     "text": [
      "epoch [283/3000]: 100%|██████████| 9/9 [00:00<00:00, 67.03it/s, loss=1.9] \n"
     ]
    },
    {
     "name": "stdout",
     "output_type": "stream",
     "text": [
      "Epoch [283/3000]: Train loss: 3.6736,             Valid loss: 2.7759\n",
      "Saving model with loss 2.776\n"
     ]
    },
    {
     "name": "stderr",
     "output_type": "stream",
     "text": [
      "epoch [284/3000]: 100%|██████████| 9/9 [00:00<00:00, 66.12it/s, loss=1.87]\n"
     ]
    },
    {
     "name": "stdout",
     "output_type": "stream",
     "text": [
      "Epoch [284/3000]: Train loss: 3.4944,             Valid loss: 2.8580\n"
     ]
    },
    {
     "name": "stderr",
     "output_type": "stream",
     "text": [
      "epoch [285/3000]: 100%|██████████| 9/9 [00:00<00:00, 74.97it/s, loss=1.9] \n"
     ]
    },
    {
     "name": "stdout",
     "output_type": "stream",
     "text": [
      "Epoch [285/3000]: Train loss: 3.6689,             Valid loss: 3.0295\n"
     ]
    },
    {
     "name": "stderr",
     "output_type": "stream",
     "text": [
      "epoch [286/3000]: 100%|██████████| 9/9 [00:00<00:00, 74.35it/s, loss=1.86]\n"
     ]
    },
    {
     "name": "stdout",
     "output_type": "stream",
     "text": [
      "Epoch [286/3000]: Train loss: 3.4847,             Valid loss: 3.4993\n"
     ]
    },
    {
     "name": "stderr",
     "output_type": "stream",
     "text": [
      "epoch [287/3000]: 100%|██████████| 9/9 [00:00<00:00, 67.70it/s, loss=1.89]\n"
     ]
    },
    {
     "name": "stdout",
     "output_type": "stream",
     "text": [
      "Epoch [287/3000]: Train loss: 3.6640,             Valid loss: 3.7702\n"
     ]
    },
    {
     "name": "stderr",
     "output_type": "stream",
     "text": [
      "epoch [288/3000]: 100%|██████████| 9/9 [00:00<00:00, 74.05it/s, loss=1.86]\n"
     ]
    },
    {
     "name": "stdout",
     "output_type": "stream",
     "text": [
      "Epoch [288/3000]: Train loss: 3.4813,             Valid loss: 3.4901\n"
     ]
    },
    {
     "name": "stderr",
     "output_type": "stream",
     "text": [
      "epoch [289/3000]: 100%|██████████| 9/9 [00:00<00:00, 83.98it/s, loss=1.89]\n"
     ]
    },
    {
     "name": "stdout",
     "output_type": "stream",
     "text": [
      "Epoch [289/3000]: Train loss: 3.6562,             Valid loss: 3.0685\n"
     ]
    },
    {
     "name": "stderr",
     "output_type": "stream",
     "text": [
      "epoch [290/3000]: 100%|██████████| 9/9 [00:00<00:00, 92.19it/s, loss=1.85]\n"
     ]
    },
    {
     "name": "stdout",
     "output_type": "stream",
     "text": [
      "Epoch [290/3000]: Train loss: 3.4659,             Valid loss: 2.7526\n",
      "Saving model with loss 2.753\n"
     ]
    },
    {
     "name": "stderr",
     "output_type": "stream",
     "text": [
      "epoch [291/3000]: 100%|██████████| 9/9 [00:00<00:00, 90.76it/s, loss=1.89]\n"
     ]
    },
    {
     "name": "stdout",
     "output_type": "stream",
     "text": [
      "Epoch [291/3000]: Train loss: 3.6499,             Valid loss: 3.1670\n"
     ]
    },
    {
     "name": "stderr",
     "output_type": "stream",
     "text": [
      "epoch [292/3000]: 100%|██████████| 9/9 [00:00<00:00, 95.82it/s, loss=1.84]\n"
     ]
    },
    {
     "name": "stdout",
     "output_type": "stream",
     "text": [
      "Epoch [292/3000]: Train loss: 3.4443,             Valid loss: 3.4164\n"
     ]
    },
    {
     "name": "stderr",
     "output_type": "stream",
     "text": [
      "epoch [293/3000]: 100%|██████████| 9/9 [00:00<00:00, 83.02it/s, loss=1.89]\n"
     ]
    },
    {
     "name": "stdout",
     "output_type": "stream",
     "text": [
      "Epoch [293/3000]: Train loss: 3.6680,             Valid loss: 3.1771\n"
     ]
    },
    {
     "name": "stderr",
     "output_type": "stream",
     "text": [
      "epoch [294/3000]: 100%|██████████| 9/9 [00:00<00:00, 66.72it/s, loss=1.83]\n"
     ]
    },
    {
     "name": "stdout",
     "output_type": "stream",
     "text": [
      "Epoch [294/3000]: Train loss: 3.4086,             Valid loss: 3.0405\n"
     ]
    },
    {
     "name": "stderr",
     "output_type": "stream",
     "text": [
      "epoch [295/3000]: 100%|██████████| 9/9 [00:00<00:00, 76.45it/s, loss=1.89]\n"
     ]
    },
    {
     "name": "stdout",
     "output_type": "stream",
     "text": [
      "Epoch [295/3000]: Train loss: 3.6914,             Valid loss: 2.9531\n"
     ]
    },
    {
     "name": "stderr",
     "output_type": "stream",
     "text": [
      "epoch [296/3000]: 100%|██████████| 9/9 [00:00<00:00, 83.28it/s, loss=1.83]\n"
     ]
    },
    {
     "name": "stdout",
     "output_type": "stream",
     "text": [
      "Epoch [296/3000]: Train loss: 3.3875,             Valid loss: 3.0110\n"
     ]
    },
    {
     "name": "stderr",
     "output_type": "stream",
     "text": [
      "epoch [297/3000]: 100%|██████████| 9/9 [00:00<00:00, 86.31it/s, loss=1.89]\n"
     ]
    },
    {
     "name": "stdout",
     "output_type": "stream",
     "text": [
      "Epoch [297/3000]: Train loss: 3.6947,             Valid loss: 3.4049\n"
     ]
    },
    {
     "name": "stderr",
     "output_type": "stream",
     "text": [
      "epoch [298/3000]: 100%|██████████| 9/9 [00:00<00:00, 81.87it/s, loss=1.83]\n"
     ]
    },
    {
     "name": "stdout",
     "output_type": "stream",
     "text": [
      "Epoch [298/3000]: Train loss: 3.3769,             Valid loss: 3.4364\n"
     ]
    },
    {
     "name": "stderr",
     "output_type": "stream",
     "text": [
      "epoch [299/3000]: 100%|██████████| 9/9 [00:00<00:00, 69.65it/s, loss=1.88]\n"
     ]
    },
    {
     "name": "stdout",
     "output_type": "stream",
     "text": [
      "Epoch [299/3000]: Train loss: 3.6798,             Valid loss: 2.5695\n",
      "Saving model with loss 2.569\n"
     ]
    },
    {
     "name": "stderr",
     "output_type": "stream",
     "text": [
      "epoch [300/3000]: 100%|██████████| 9/9 [00:00<00:00, 75.39it/s, loss=1.82]\n"
     ]
    },
    {
     "name": "stdout",
     "output_type": "stream",
     "text": [
      "Epoch [300/3000]: Train loss: 3.3743,             Valid loss: 3.3779\n"
     ]
    },
    {
     "name": "stderr",
     "output_type": "stream",
     "text": [
      "epoch [301/3000]: 100%|██████████| 9/9 [00:00<00:00, 87.35it/s, loss=1.87]\n"
     ]
    },
    {
     "name": "stdout",
     "output_type": "stream",
     "text": [
      "Epoch [301/3000]: Train loss: 3.6655,             Valid loss: 3.1849\n"
     ]
    },
    {
     "name": "stderr",
     "output_type": "stream",
     "text": [
      "epoch [302/3000]: 100%|██████████| 9/9 [00:00<00:00, 86.96it/s, loss=1.82]\n"
     ]
    },
    {
     "name": "stdout",
     "output_type": "stream",
     "text": [
      "Epoch [302/3000]: Train loss: 3.3632,             Valid loss: 3.8472\n"
     ]
    },
    {
     "name": "stderr",
     "output_type": "stream",
     "text": [
      "epoch [303/3000]: 100%|██████████| 9/9 [00:00<00:00, 76.76it/s, loss=1.86]\n"
     ]
    },
    {
     "name": "stdout",
     "output_type": "stream",
     "text": [
      "Epoch [303/3000]: Train loss: 3.6432,             Valid loss: 2.8367\n"
     ]
    },
    {
     "name": "stderr",
     "output_type": "stream",
     "text": [
      "epoch [304/3000]: 100%|██████████| 9/9 [00:00<00:00, 80.95it/s, loss=1.81]\n"
     ]
    },
    {
     "name": "stdout",
     "output_type": "stream",
     "text": [
      "Epoch [304/3000]: Train loss: 3.3531,             Valid loss: 3.1240\n"
     ]
    },
    {
     "name": "stderr",
     "output_type": "stream",
     "text": [
      "epoch [305/3000]: 100%|██████████| 9/9 [00:00<00:00, 92.25it/s, loss=1.86]\n"
     ]
    },
    {
     "name": "stdout",
     "output_type": "stream",
     "text": [
      "Epoch [305/3000]: Train loss: 3.6434,             Valid loss: 3.3638\n"
     ]
    },
    {
     "name": "stderr",
     "output_type": "stream",
     "text": [
      "epoch [306/3000]: 100%|██████████| 9/9 [00:00<00:00, 91.05it/s, loss=1.8]\n"
     ]
    },
    {
     "name": "stdout",
     "output_type": "stream",
     "text": [
      "Epoch [306/3000]: Train loss: 3.3317,             Valid loss: 3.3979\n"
     ]
    },
    {
     "name": "stderr",
     "output_type": "stream",
     "text": [
      "epoch [307/3000]: 100%|██████████| 9/9 [00:00<00:00, 96.43it/s, loss=1.86]\n"
     ]
    },
    {
     "name": "stdout",
     "output_type": "stream",
     "text": [
      "Epoch [307/3000]: Train loss: 3.6498,             Valid loss: 2.7707\n"
     ]
    },
    {
     "name": "stderr",
     "output_type": "stream",
     "text": [
      "epoch [308/3000]: 100%|██████████| 9/9 [00:00<00:00, 77.78it/s, loss=1.8] \n"
     ]
    },
    {
     "name": "stdout",
     "output_type": "stream",
     "text": [
      "Epoch [308/3000]: Train loss: 3.3191,             Valid loss: 3.0679\n"
     ]
    },
    {
     "name": "stderr",
     "output_type": "stream",
     "text": [
      "epoch [309/3000]: 100%|██████████| 9/9 [00:00<00:00, 91.53it/s, loss=1.86]\n"
     ]
    },
    {
     "name": "stdout",
     "output_type": "stream",
     "text": [
      "Epoch [309/3000]: Train loss: 3.6610,             Valid loss: 2.9944\n"
     ]
    },
    {
     "name": "stderr",
     "output_type": "stream",
     "text": [
      "epoch [310/3000]: 100%|██████████| 9/9 [00:00<00:00, 85.11it/s, loss=1.8]\n"
     ]
    },
    {
     "name": "stdout",
     "output_type": "stream",
     "text": [
      "Epoch [310/3000]: Train loss: 3.3139,             Valid loss: 3.7375\n"
     ]
    },
    {
     "name": "stderr",
     "output_type": "stream",
     "text": [
      "epoch [311/3000]: 100%|██████████| 9/9 [00:00<00:00, 82.49it/s, loss=1.85]\n"
     ]
    },
    {
     "name": "stdout",
     "output_type": "stream",
     "text": [
      "Epoch [311/3000]: Train loss: 3.6430,             Valid loss: 3.5069\n"
     ]
    },
    {
     "name": "stderr",
     "output_type": "stream",
     "text": [
      "epoch [312/3000]: 100%|██████████| 9/9 [00:00<00:00, 84.86it/s, loss=1.79]\n"
     ]
    },
    {
     "name": "stdout",
     "output_type": "stream",
     "text": [
      "Epoch [312/3000]: Train loss: 3.3118,             Valid loss: 3.1361\n"
     ]
    },
    {
     "name": "stderr",
     "output_type": "stream",
     "text": [
      "epoch [313/3000]: 100%|██████████| 9/9 [00:00<00:00, 69.22it/s, loss=1.85]\n"
     ]
    },
    {
     "name": "stdout",
     "output_type": "stream",
     "text": [
      "Epoch [313/3000]: Train loss: 3.6300,             Valid loss: 3.5841\n"
     ]
    },
    {
     "name": "stderr",
     "output_type": "stream",
     "text": [
      "epoch [314/3000]: 100%|██████████| 9/9 [00:00<00:00, 70.89it/s, loss=1.79]\n"
     ]
    },
    {
     "name": "stdout",
     "output_type": "stream",
     "text": [
      "Epoch [314/3000]: Train loss: 3.3058,             Valid loss: 3.8811\n"
     ]
    },
    {
     "name": "stderr",
     "output_type": "stream",
     "text": [
      "epoch [315/3000]: 100%|██████████| 9/9 [00:00<00:00, 64.12it/s, loss=1.85]\n"
     ]
    },
    {
     "name": "stdout",
     "output_type": "stream",
     "text": [
      "Epoch [315/3000]: Train loss: 3.6317,             Valid loss: 3.0871\n"
     ]
    },
    {
     "name": "stderr",
     "output_type": "stream",
     "text": [
      "epoch [316/3000]: 100%|██████████| 9/9 [00:00<00:00, 84.39it/s, loss=1.78]\n"
     ]
    },
    {
     "name": "stdout",
     "output_type": "stream",
     "text": [
      "Epoch [316/3000]: Train loss: 3.3093,             Valid loss: 3.4662\n"
     ]
    },
    {
     "name": "stderr",
     "output_type": "stream",
     "text": [
      "epoch [317/3000]: 100%|██████████| 9/9 [00:00<00:00, 78.51it/s, loss=1.85]\n"
     ]
    },
    {
     "name": "stdout",
     "output_type": "stream",
     "text": [
      "Epoch [317/3000]: Train loss: 3.6625,             Valid loss: 3.2411\n"
     ]
    },
    {
     "name": "stderr",
     "output_type": "stream",
     "text": [
      "epoch [318/3000]: 100%|██████████| 9/9 [00:00<00:00, 80.97it/s, loss=1.78]\n"
     ]
    },
    {
     "name": "stdout",
     "output_type": "stream",
     "text": [
      "Epoch [318/3000]: Train loss: 3.2874,             Valid loss: 3.0798\n"
     ]
    },
    {
     "name": "stderr",
     "output_type": "stream",
     "text": [
      "epoch [319/3000]: 100%|██████████| 9/9 [00:00<00:00, 95.66it/s, loss=1.84]\n"
     ]
    },
    {
     "name": "stdout",
     "output_type": "stream",
     "text": [
      "Epoch [319/3000]: Train loss: 3.6203,             Valid loss: 2.8241\n"
     ]
    },
    {
     "name": "stderr",
     "output_type": "stream",
     "text": [
      "epoch [320/3000]: 100%|██████████| 9/9 [00:00<00:00, 90.66it/s, loss=1.78]\n"
     ]
    },
    {
     "name": "stdout",
     "output_type": "stream",
     "text": [
      "Epoch [320/3000]: Train loss: 3.2852,             Valid loss: 3.1400\n"
     ]
    },
    {
     "name": "stderr",
     "output_type": "stream",
     "text": [
      "epoch [321/3000]: 100%|██████████| 9/9 [00:00<00:00, 84.47it/s, loss=1.84]\n"
     ]
    },
    {
     "name": "stdout",
     "output_type": "stream",
     "text": [
      "Epoch [321/3000]: Train loss: 3.6133,             Valid loss: 3.7443\n"
     ]
    },
    {
     "name": "stderr",
     "output_type": "stream",
     "text": [
      "epoch [322/3000]: 100%|██████████| 9/9 [00:00<00:00, 43.13it/s, loss=1.77]\n"
     ]
    },
    {
     "name": "stdout",
     "output_type": "stream",
     "text": [
      "Epoch [322/3000]: Train loss: 3.2687,             Valid loss: 3.0358\n"
     ]
    },
    {
     "name": "stderr",
     "output_type": "stream",
     "text": [
      "epoch [323/3000]: 100%|██████████| 9/9 [00:00<00:00, 87.11it/s, loss=1.85]\n"
     ]
    },
    {
     "name": "stdout",
     "output_type": "stream",
     "text": [
      "Epoch [323/3000]: Train loss: 3.6180,             Valid loss: 3.1615\n"
     ]
    },
    {
     "name": "stderr",
     "output_type": "stream",
     "text": [
      "epoch [324/3000]: 100%|██████████| 9/9 [00:00<00:00, 83.90it/s, loss=1.77]\n"
     ]
    },
    {
     "name": "stdout",
     "output_type": "stream",
     "text": [
      "Epoch [324/3000]: Train loss: 3.2623,             Valid loss: 2.7360\n"
     ]
    },
    {
     "name": "stderr",
     "output_type": "stream",
     "text": [
      "epoch [325/3000]: 100%|██████████| 9/9 [00:00<00:00, 81.93it/s, loss=1.84]\n"
     ]
    },
    {
     "name": "stdout",
     "output_type": "stream",
     "text": [
      "Epoch [325/3000]: Train loss: 3.6247,             Valid loss: 3.1984\n"
     ]
    },
    {
     "name": "stderr",
     "output_type": "stream",
     "text": [
      "epoch [326/3000]: 100%|██████████| 9/9 [00:00<00:00, 86.25it/s, loss=1.76]\n"
     ]
    },
    {
     "name": "stdout",
     "output_type": "stream",
     "text": [
      "Epoch [326/3000]: Train loss: 3.2456,             Valid loss: 2.9677\n"
     ]
    },
    {
     "name": "stderr",
     "output_type": "stream",
     "text": [
      "epoch [327/3000]: 100%|██████████| 9/9 [00:00<00:00, 89.80it/s, loss=1.84]\n"
     ]
    },
    {
     "name": "stdout",
     "output_type": "stream",
     "text": [
      "Epoch [327/3000]: Train loss: 3.6094,             Valid loss: 3.3764\n"
     ]
    },
    {
     "name": "stderr",
     "output_type": "stream",
     "text": [
      "epoch [328/3000]: 100%|██████████| 9/9 [00:00<00:00, 86.99it/s, loss=1.76]\n"
     ]
    },
    {
     "name": "stdout",
     "output_type": "stream",
     "text": [
      "Epoch [328/3000]: Train loss: 3.2416,             Valid loss: 3.2665\n"
     ]
    },
    {
     "name": "stderr",
     "output_type": "stream",
     "text": [
      "epoch [329/3000]: 100%|██████████| 9/9 [00:00<00:00, 85.92it/s, loss=1.83]\n"
     ]
    },
    {
     "name": "stdout",
     "output_type": "stream",
     "text": [
      "Epoch [329/3000]: Train loss: 3.5985,             Valid loss: 3.6093\n"
     ]
    },
    {
     "name": "stderr",
     "output_type": "stream",
     "text": [
      "epoch [330/3000]: 100%|██████████| 9/9 [00:00<00:00, 68.61it/s, loss=1.76]\n"
     ]
    },
    {
     "name": "stdout",
     "output_type": "stream",
     "text": [
      "Epoch [330/3000]: Train loss: 3.2326,             Valid loss: 2.5745\n"
     ]
    },
    {
     "name": "stderr",
     "output_type": "stream",
     "text": [
      "epoch [331/3000]: 100%|██████████| 9/9 [00:00<00:00, 83.33it/s, loss=1.83]\n"
     ]
    },
    {
     "name": "stdout",
     "output_type": "stream",
     "text": [
      "Epoch [331/3000]: Train loss: 3.5961,             Valid loss: 3.5854\n"
     ]
    },
    {
     "name": "stderr",
     "output_type": "stream",
     "text": [
      "epoch [332/3000]: 100%|██████████| 9/9 [00:00<00:00, 82.52it/s, loss=1.75]\n"
     ]
    },
    {
     "name": "stdout",
     "output_type": "stream",
     "text": [
      "Epoch [332/3000]: Train loss: 3.2186,             Valid loss: 3.0962\n"
     ]
    },
    {
     "name": "stderr",
     "output_type": "stream",
     "text": [
      "epoch [333/3000]: 100%|██████████| 9/9 [00:00<00:00, 79.11it/s, loss=1.83]\n"
     ]
    },
    {
     "name": "stdout",
     "output_type": "stream",
     "text": [
      "Epoch [333/3000]: Train loss: 3.5952,             Valid loss: 3.3570\n"
     ]
    },
    {
     "name": "stderr",
     "output_type": "stream",
     "text": [
      "epoch [334/3000]: 100%|██████████| 9/9 [00:00<00:00, 66.81it/s, loss=1.75]\n"
     ]
    },
    {
     "name": "stdout",
     "output_type": "stream",
     "text": [
      "Epoch [334/3000]: Train loss: 3.2073,             Valid loss: 2.8475\n"
     ]
    },
    {
     "name": "stderr",
     "output_type": "stream",
     "text": [
      "epoch [335/3000]: 100%|██████████| 9/9 [00:00<00:00, 81.36it/s, loss=1.82]\n"
     ]
    },
    {
     "name": "stdout",
     "output_type": "stream",
     "text": [
      "Epoch [335/3000]: Train loss: 3.5756,             Valid loss: 3.0002\n"
     ]
    },
    {
     "name": "stderr",
     "output_type": "stream",
     "text": [
      "epoch [336/3000]: 100%|██████████| 9/9 [00:00<00:00, 47.26it/s, loss=1.75]\n"
     ]
    },
    {
     "name": "stdout",
     "output_type": "stream",
     "text": [
      "Epoch [336/3000]: Train loss: 3.2096,             Valid loss: 2.9544\n"
     ]
    },
    {
     "name": "stderr",
     "output_type": "stream",
     "text": [
      "epoch [337/3000]: 100%|██████████| 9/9 [00:00<00:00, 63.38it/s, loss=1.81]\n"
     ]
    },
    {
     "name": "stdout",
     "output_type": "stream",
     "text": [
      "Epoch [337/3000]: Train loss: 3.5638,             Valid loss: 2.8056\n"
     ]
    },
    {
     "name": "stderr",
     "output_type": "stream",
     "text": [
      "epoch [338/3000]: 100%|██████████| 9/9 [00:00<00:00, 69.70it/s, loss=1.74]\n"
     ]
    },
    {
     "name": "stdout",
     "output_type": "stream",
     "text": [
      "Epoch [338/3000]: Train loss: 3.2059,             Valid loss: 3.1783\n"
     ]
    },
    {
     "name": "stderr",
     "output_type": "stream",
     "text": [
      "epoch [339/3000]: 100%|██████████| 9/9 [00:00<00:00, 79.14it/s, loss=1.81]\n"
     ]
    },
    {
     "name": "stdout",
     "output_type": "stream",
     "text": [
      "Epoch [339/3000]: Train loss: 3.5376,             Valid loss: 2.7052\n"
     ]
    },
    {
     "name": "stderr",
     "output_type": "stream",
     "text": [
      "epoch [340/3000]: 100%|██████████| 9/9 [00:00<00:00, 76.98it/s, loss=1.74]\n"
     ]
    },
    {
     "name": "stdout",
     "output_type": "stream",
     "text": [
      "Epoch [340/3000]: Train loss: 3.1989,             Valid loss: 3.0028\n"
     ]
    },
    {
     "name": "stderr",
     "output_type": "stream",
     "text": [
      "epoch [341/3000]: 100%|██████████| 9/9 [00:00<00:00, 66.22it/s, loss=1.8] \n"
     ]
    },
    {
     "name": "stdout",
     "output_type": "stream",
     "text": [
      "Epoch [341/3000]: Train loss: 3.5233,             Valid loss: 2.5040\n",
      "Saving model with loss 2.504\n"
     ]
    },
    {
     "name": "stderr",
     "output_type": "stream",
     "text": [
      "epoch [342/3000]: 100%|██████████| 9/9 [00:00<00:00, 65.05it/s, loss=1.74]\n"
     ]
    },
    {
     "name": "stdout",
     "output_type": "stream",
     "text": [
      "Epoch [342/3000]: Train loss: 3.1938,             Valid loss: 3.3338\n"
     ]
    },
    {
     "name": "stderr",
     "output_type": "stream",
     "text": [
      "epoch [343/3000]: 100%|██████████| 9/9 [00:00<00:00, 62.95it/s, loss=1.8] \n"
     ]
    },
    {
     "name": "stdout",
     "output_type": "stream",
     "text": [
      "Epoch [343/3000]: Train loss: 3.5103,             Valid loss: 3.2116\n"
     ]
    },
    {
     "name": "stderr",
     "output_type": "stream",
     "text": [
      "epoch [344/3000]: 100%|██████████| 9/9 [00:00<00:00, 66.86it/s, loss=1.73]\n"
     ]
    },
    {
     "name": "stdout",
     "output_type": "stream",
     "text": [
      "Epoch [344/3000]: Train loss: 3.1776,             Valid loss: 3.4578\n"
     ]
    },
    {
     "name": "stderr",
     "output_type": "stream",
     "text": [
      "epoch [345/3000]: 100%|██████████| 9/9 [00:00<00:00, 75.43it/s, loss=1.78]\n"
     ]
    },
    {
     "name": "stdout",
     "output_type": "stream",
     "text": [
      "Epoch [345/3000]: Train loss: 3.4708,             Valid loss: 3.0331\n"
     ]
    },
    {
     "name": "stderr",
     "output_type": "stream",
     "text": [
      "epoch [346/3000]: 100%|██████████| 9/9 [00:00<00:00, 71.05it/s, loss=1.73]\n"
     ]
    },
    {
     "name": "stdout",
     "output_type": "stream",
     "text": [
      "Epoch [346/3000]: Train loss: 3.2028,             Valid loss: 3.1964\n"
     ]
    },
    {
     "name": "stderr",
     "output_type": "stream",
     "text": [
      "epoch [347/3000]: 100%|██████████| 9/9 [00:00<00:00, 81.52it/s, loss=1.78]\n"
     ]
    },
    {
     "name": "stdout",
     "output_type": "stream",
     "text": [
      "Epoch [347/3000]: Train loss: 3.4431,             Valid loss: 3.0798\n"
     ]
    },
    {
     "name": "stderr",
     "output_type": "stream",
     "text": [
      "epoch [348/3000]: 100%|██████████| 9/9 [00:00<00:00, 84.47it/s, loss=1.73]\n"
     ]
    },
    {
     "name": "stdout",
     "output_type": "stream",
     "text": [
      "Epoch [348/3000]: Train loss: 3.1943,             Valid loss: 2.7584\n"
     ]
    },
    {
     "name": "stderr",
     "output_type": "stream",
     "text": [
      "epoch [349/3000]: 100%|██████████| 9/9 [00:00<00:00, 78.38it/s, loss=1.78]\n"
     ]
    },
    {
     "name": "stdout",
     "output_type": "stream",
     "text": [
      "Epoch [349/3000]: Train loss: 3.4463,             Valid loss: 3.1093\n"
     ]
    },
    {
     "name": "stderr",
     "output_type": "stream",
     "text": [
      "epoch [350/3000]: 100%|██████████| 9/9 [00:00<00:00, 74.58it/s, loss=1.72]\n"
     ]
    },
    {
     "name": "stdout",
     "output_type": "stream",
     "text": [
      "Epoch [350/3000]: Train loss: 3.1942,             Valid loss: 3.1636\n"
     ]
    },
    {
     "name": "stderr",
     "output_type": "stream",
     "text": [
      "epoch [351/3000]: 100%|██████████| 9/9 [00:00<00:00, 68.36it/s, loss=1.77]\n"
     ]
    },
    {
     "name": "stdout",
     "output_type": "stream",
     "text": [
      "Epoch [351/3000]: Train loss: 3.4387,             Valid loss: 3.0578\n"
     ]
    },
    {
     "name": "stderr",
     "output_type": "stream",
     "text": [
      "epoch [352/3000]: 100%|██████████| 9/9 [00:00<00:00, 56.04it/s, loss=1.72]\n"
     ]
    },
    {
     "name": "stdout",
     "output_type": "stream",
     "text": [
      "Epoch [352/3000]: Train loss: 3.1750,             Valid loss: 3.0726\n"
     ]
    },
    {
     "name": "stderr",
     "output_type": "stream",
     "text": [
      "epoch [353/3000]: 100%|██████████| 9/9 [00:00<00:00, 76.72it/s, loss=1.76]\n"
     ]
    },
    {
     "name": "stdout",
     "output_type": "stream",
     "text": [
      "Epoch [353/3000]: Train loss: 3.3964,             Valid loss: 3.9286\n"
     ]
    },
    {
     "name": "stderr",
     "output_type": "stream",
     "text": [
      "epoch [354/3000]: 100%|██████████| 9/9 [00:00<00:00, 68.72it/s, loss=1.72]\n"
     ]
    },
    {
     "name": "stdout",
     "output_type": "stream",
     "text": [
      "Epoch [354/3000]: Train loss: 3.2052,             Valid loss: 2.6717\n"
     ]
    },
    {
     "name": "stderr",
     "output_type": "stream",
     "text": [
      "epoch [355/3000]: 100%|██████████| 9/9 [00:00<00:00, 81.86it/s, loss=1.76]\n"
     ]
    },
    {
     "name": "stdout",
     "output_type": "stream",
     "text": [
      "Epoch [355/3000]: Train loss: 3.3910,             Valid loss: 3.0112\n"
     ]
    },
    {
     "name": "stderr",
     "output_type": "stream",
     "text": [
      "epoch [356/3000]: 100%|██████████| 9/9 [00:00<00:00, 64.35it/s, loss=1.72]\n"
     ]
    },
    {
     "name": "stdout",
     "output_type": "stream",
     "text": [
      "Epoch [356/3000]: Train loss: 3.1847,             Valid loss: 3.3300\n"
     ]
    },
    {
     "name": "stderr",
     "output_type": "stream",
     "text": [
      "epoch [357/3000]: 100%|██████████| 9/9 [00:00<00:00, 63.32it/s, loss=1.75]\n"
     ]
    },
    {
     "name": "stdout",
     "output_type": "stream",
     "text": [
      "Epoch [357/3000]: Train loss: 3.3923,             Valid loss: 2.8832\n"
     ]
    },
    {
     "name": "stderr",
     "output_type": "stream",
     "text": [
      "epoch [358/3000]: 100%|██████████| 9/9 [00:00<00:00, 65.88it/s, loss=1.72]\n"
     ]
    },
    {
     "name": "stdout",
     "output_type": "stream",
     "text": [
      "Epoch [358/3000]: Train loss: 3.1663,             Valid loss: 2.9969\n"
     ]
    },
    {
     "name": "stderr",
     "output_type": "stream",
     "text": [
      "epoch [359/3000]: 100%|██████████| 9/9 [00:00<00:00, 85.69it/s, loss=1.75]\n"
     ]
    },
    {
     "name": "stdout",
     "output_type": "stream",
     "text": [
      "Epoch [359/3000]: Train loss: 3.3830,             Valid loss: 3.7119\n"
     ]
    },
    {
     "name": "stderr",
     "output_type": "stream",
     "text": [
      "epoch [360/3000]: 100%|██████████| 9/9 [00:00<00:00, 71.61it/s, loss=1.71]\n"
     ]
    },
    {
     "name": "stdout",
     "output_type": "stream",
     "text": [
      "Epoch [360/3000]: Train loss: 3.1774,             Valid loss: 3.2095\n"
     ]
    },
    {
     "name": "stderr",
     "output_type": "stream",
     "text": [
      "epoch [361/3000]: 100%|██████████| 9/9 [00:00<00:00, 82.17it/s, loss=1.75]\n"
     ]
    },
    {
     "name": "stdout",
     "output_type": "stream",
     "text": [
      "Epoch [361/3000]: Train loss: 3.3681,             Valid loss: 2.6863\n"
     ]
    },
    {
     "name": "stderr",
     "output_type": "stream",
     "text": [
      "epoch [362/3000]: 100%|██████████| 9/9 [00:00<00:00, 69.61it/s, loss=1.71]\n"
     ]
    },
    {
     "name": "stdout",
     "output_type": "stream",
     "text": [
      "Epoch [362/3000]: Train loss: 3.1710,             Valid loss: 2.5456\n"
     ]
    },
    {
     "name": "stderr",
     "output_type": "stream",
     "text": [
      "epoch [363/3000]: 100%|██████████| 9/9 [00:00<00:00, 74.46it/s, loss=1.74]\n"
     ]
    },
    {
     "name": "stdout",
     "output_type": "stream",
     "text": [
      "Epoch [363/3000]: Train loss: 3.3572,             Valid loss: 3.6871\n"
     ]
    },
    {
     "name": "stderr",
     "output_type": "stream",
     "text": [
      "epoch [364/3000]: 100%|██████████| 9/9 [00:00<00:00, 73.33it/s, loss=1.71]\n"
     ]
    },
    {
     "name": "stdout",
     "output_type": "stream",
     "text": [
      "Epoch [364/3000]: Train loss: 3.1615,             Valid loss: 3.2661\n"
     ]
    },
    {
     "name": "stderr",
     "output_type": "stream",
     "text": [
      "epoch [365/3000]: 100%|██████████| 9/9 [00:00<00:00, 57.38it/s, loss=1.74]\n"
     ]
    },
    {
     "name": "stdout",
     "output_type": "stream",
     "text": [
      "Epoch [365/3000]: Train loss: 3.3439,             Valid loss: 2.7873\n"
     ]
    },
    {
     "name": "stderr",
     "output_type": "stream",
     "text": [
      "epoch [366/3000]: 100%|██████████| 9/9 [00:00<00:00, 62.72it/s, loss=1.7] \n"
     ]
    },
    {
     "name": "stdout",
     "output_type": "stream",
     "text": [
      "Epoch [366/3000]: Train loss: 3.1589,             Valid loss: 3.3053\n"
     ]
    },
    {
     "name": "stderr",
     "output_type": "stream",
     "text": [
      "epoch [367/3000]: 100%|██████████| 9/9 [00:00<00:00, 67.43it/s, loss=1.74]\n"
     ]
    },
    {
     "name": "stdout",
     "output_type": "stream",
     "text": [
      "Epoch [367/3000]: Train loss: 3.3409,             Valid loss: 2.7922\n"
     ]
    },
    {
     "name": "stderr",
     "output_type": "stream",
     "text": [
      "epoch [368/3000]: 100%|██████████| 9/9 [00:00<00:00, 70.44it/s, loss=1.7] \n"
     ]
    },
    {
     "name": "stdout",
     "output_type": "stream",
     "text": [
      "Epoch [368/3000]: Train loss: 3.1504,             Valid loss: 2.6470\n"
     ]
    },
    {
     "name": "stderr",
     "output_type": "stream",
     "text": [
      "epoch [369/3000]: 100%|██████████| 9/9 [00:00<00:00, 64.38it/s, loss=1.73]\n"
     ]
    },
    {
     "name": "stdout",
     "output_type": "stream",
     "text": [
      "Epoch [369/3000]: Train loss: 3.3365,             Valid loss: 3.4737\n"
     ]
    },
    {
     "name": "stderr",
     "output_type": "stream",
     "text": [
      "epoch [370/3000]: 100%|██████████| 9/9 [00:00<00:00, 74.60it/s, loss=1.7] \n"
     ]
    },
    {
     "name": "stdout",
     "output_type": "stream",
     "text": [
      "Epoch [370/3000]: Train loss: 3.1428,             Valid loss: 2.9683\n"
     ]
    },
    {
     "name": "stderr",
     "output_type": "stream",
     "text": [
      "epoch [371/3000]: 100%|██████████| 9/9 [00:00<00:00, 77.63it/s, loss=1.73]\n"
     ]
    },
    {
     "name": "stdout",
     "output_type": "stream",
     "text": [
      "Epoch [371/3000]: Train loss: 3.3242,             Valid loss: 3.3591\n"
     ]
    },
    {
     "name": "stderr",
     "output_type": "stream",
     "text": [
      "epoch [372/3000]: 100%|██████████| 9/9 [00:00<00:00, 78.10it/s, loss=1.69]\n"
     ]
    },
    {
     "name": "stdout",
     "output_type": "stream",
     "text": [
      "Epoch [372/3000]: Train loss: 3.1398,             Valid loss: 2.7381\n"
     ]
    },
    {
     "name": "stderr",
     "output_type": "stream",
     "text": [
      "epoch [373/3000]: 100%|██████████| 9/9 [00:00<00:00, 81.95it/s, loss=1.73]\n"
     ]
    },
    {
     "name": "stdout",
     "output_type": "stream",
     "text": [
      "Epoch [373/3000]: Train loss: 3.3210,             Valid loss: 2.7818\n"
     ]
    },
    {
     "name": "stderr",
     "output_type": "stream",
     "text": [
      "epoch [374/3000]: 100%|██████████| 9/9 [00:00<00:00, 85.42it/s, loss=1.69]\n"
     ]
    },
    {
     "name": "stdout",
     "output_type": "stream",
     "text": [
      "Epoch [374/3000]: Train loss: 3.1316,             Valid loss: 3.7863\n"
     ]
    },
    {
     "name": "stderr",
     "output_type": "stream",
     "text": [
      "epoch [375/3000]: 100%|██████████| 9/9 [00:00<00:00, 91.06it/s, loss=1.72]\n"
     ]
    },
    {
     "name": "stdout",
     "output_type": "stream",
     "text": [
      "Epoch [375/3000]: Train loss: 3.3006,             Valid loss: 2.8523\n"
     ]
    },
    {
     "name": "stderr",
     "output_type": "stream",
     "text": [
      "epoch [376/3000]: 100%|██████████| 9/9 [00:00<00:00, 88.13it/s, loss=1.69]\n"
     ]
    },
    {
     "name": "stdout",
     "output_type": "stream",
     "text": [
      "Epoch [376/3000]: Train loss: 3.1378,             Valid loss: 2.7124\n"
     ]
    },
    {
     "name": "stderr",
     "output_type": "stream",
     "text": [
      "epoch [377/3000]: 100%|██████████| 9/9 [00:00<00:00, 70.49it/s, loss=1.71]\n"
     ]
    },
    {
     "name": "stdout",
     "output_type": "stream",
     "text": [
      "Epoch [377/3000]: Train loss: 3.2842,             Valid loss: 3.2877\n"
     ]
    },
    {
     "name": "stderr",
     "output_type": "stream",
     "text": [
      "epoch [378/3000]: 100%|██████████| 9/9 [00:00<00:00, 76.10it/s, loss=1.69]\n"
     ]
    },
    {
     "name": "stdout",
     "output_type": "stream",
     "text": [
      "Epoch [378/3000]: Train loss: 3.1501,             Valid loss: 3.0743\n"
     ]
    },
    {
     "name": "stderr",
     "output_type": "stream",
     "text": [
      "epoch [379/3000]: 100%|██████████| 9/9 [00:00<00:00, 65.00it/s, loss=1.7] \n"
     ]
    },
    {
     "name": "stdout",
     "output_type": "stream",
     "text": [
      "Epoch [379/3000]: Train loss: 3.2408,             Valid loss: 3.8323\n"
     ]
    },
    {
     "name": "stderr",
     "output_type": "stream",
     "text": [
      "epoch [380/3000]: 100%|██████████| 9/9 [00:00<00:00, 72.57it/s, loss=1.69]\n"
     ]
    },
    {
     "name": "stdout",
     "output_type": "stream",
     "text": [
      "Epoch [380/3000]: Train loss: 3.1714,             Valid loss: 3.4196\n"
     ]
    },
    {
     "name": "stderr",
     "output_type": "stream",
     "text": [
      "epoch [381/3000]: 100%|██████████| 9/9 [00:00<00:00, 68.88it/s, loss=1.7] \n"
     ]
    },
    {
     "name": "stdout",
     "output_type": "stream",
     "text": [
      "Epoch [381/3000]: Train loss: 3.2480,             Valid loss: 3.0612\n"
     ]
    },
    {
     "name": "stderr",
     "output_type": "stream",
     "text": [
      "epoch [382/3000]: 100%|██████████| 9/9 [00:00<00:00, 50.32it/s, loss=1.68]\n"
     ]
    },
    {
     "name": "stdout",
     "output_type": "stream",
     "text": [
      "Epoch [382/3000]: Train loss: 3.1365,             Valid loss: 2.6155\n"
     ]
    },
    {
     "name": "stderr",
     "output_type": "stream",
     "text": [
      "epoch [383/3000]: 100%|██████████| 9/9 [00:00<00:00, 70.11it/s, loss=1.7] \n"
     ]
    },
    {
     "name": "stdout",
     "output_type": "stream",
     "text": [
      "Epoch [383/3000]: Train loss: 3.2251,             Valid loss: 2.5312\n"
     ]
    },
    {
     "name": "stderr",
     "output_type": "stream",
     "text": [
      "epoch [384/3000]: 100%|██████████| 9/9 [00:00<00:00, 74.96it/s, loss=1.68]\n"
     ]
    },
    {
     "name": "stdout",
     "output_type": "stream",
     "text": [
      "Epoch [384/3000]: Train loss: 3.1587,             Valid loss: 2.3732\n",
      "Saving model with loss 2.373\n"
     ]
    },
    {
     "name": "stderr",
     "output_type": "stream",
     "text": [
      "epoch [385/3000]: 100%|██████████| 9/9 [00:00<00:00, 61.31it/s, loss=1.69]\n"
     ]
    },
    {
     "name": "stdout",
     "output_type": "stream",
     "text": [
      "Epoch [385/3000]: Train loss: 3.2186,             Valid loss: 3.0913\n"
     ]
    },
    {
     "name": "stderr",
     "output_type": "stream",
     "text": [
      "epoch [386/3000]: 100%|██████████| 9/9 [00:00<00:00, 65.58it/s, loss=1.68]\n"
     ]
    },
    {
     "name": "stdout",
     "output_type": "stream",
     "text": [
      "Epoch [386/3000]: Train loss: 3.1487,             Valid loss: 2.9258\n"
     ]
    },
    {
     "name": "stderr",
     "output_type": "stream",
     "text": [
      "epoch [387/3000]: 100%|██████████| 9/9 [00:00<00:00, 73.08it/s, loss=1.69]\n"
     ]
    },
    {
     "name": "stdout",
     "output_type": "stream",
     "text": [
      "Epoch [387/3000]: Train loss: 3.2073,             Valid loss: 2.8901\n"
     ]
    },
    {
     "name": "stderr",
     "output_type": "stream",
     "text": [
      "epoch [388/3000]: 100%|██████████| 9/9 [00:00<00:00, 72.11it/s, loss=1.67]\n"
     ]
    },
    {
     "name": "stdout",
     "output_type": "stream",
     "text": [
      "Epoch [388/3000]: Train loss: 3.1453,             Valid loss: 2.7586\n"
     ]
    },
    {
     "name": "stderr",
     "output_type": "stream",
     "text": [
      "epoch [389/3000]: 100%|██████████| 9/9 [00:00<00:00, 72.05it/s, loss=1.69]\n"
     ]
    },
    {
     "name": "stdout",
     "output_type": "stream",
     "text": [
      "Epoch [389/3000]: Train loss: 3.2022,             Valid loss: 2.5550\n"
     ]
    },
    {
     "name": "stderr",
     "output_type": "stream",
     "text": [
      "epoch [390/3000]: 100%|██████████| 9/9 [00:00<00:00, 66.41it/s, loss=1.67]\n"
     ]
    },
    {
     "name": "stdout",
     "output_type": "stream",
     "text": [
      "Epoch [390/3000]: Train loss: 3.1381,             Valid loss: 2.4425\n"
     ]
    },
    {
     "name": "stderr",
     "output_type": "stream",
     "text": [
      "epoch [391/3000]: 100%|██████████| 9/9 [00:00<00:00, 70.40it/s, loss=1.68]\n"
     ]
    },
    {
     "name": "stdout",
     "output_type": "stream",
     "text": [
      "Epoch [391/3000]: Train loss: 3.1932,             Valid loss: 2.5293\n"
     ]
    },
    {
     "name": "stderr",
     "output_type": "stream",
     "text": [
      "epoch [392/3000]: 100%|██████████| 9/9 [00:00<00:00, 79.36it/s, loss=1.67]\n"
     ]
    },
    {
     "name": "stdout",
     "output_type": "stream",
     "text": [
      "Epoch [392/3000]: Train loss: 3.1341,             Valid loss: 3.0760\n"
     ]
    },
    {
     "name": "stderr",
     "output_type": "stream",
     "text": [
      "epoch [393/3000]: 100%|██████████| 9/9 [00:00<00:00, 55.41it/s, loss=1.68]\n"
     ]
    },
    {
     "name": "stdout",
     "output_type": "stream",
     "text": [
      "Epoch [393/3000]: Train loss: 3.1868,             Valid loss: 2.5746\n"
     ]
    },
    {
     "name": "stderr",
     "output_type": "stream",
     "text": [
      "epoch [394/3000]: 100%|██████████| 9/9 [00:00<00:00, 36.40it/s, loss=1.67]\n"
     ]
    },
    {
     "name": "stdout",
     "output_type": "stream",
     "text": [
      "Epoch [394/3000]: Train loss: 3.1199,             Valid loss: 3.0580\n"
     ]
    },
    {
     "name": "stderr",
     "output_type": "stream",
     "text": [
      "epoch [395/3000]: 100%|██████████| 9/9 [00:00<00:00, 40.68it/s, loss=1.68]\n"
     ]
    },
    {
     "name": "stdout",
     "output_type": "stream",
     "text": [
      "Epoch [395/3000]: Train loss: 3.1878,             Valid loss: 2.5709\n"
     ]
    },
    {
     "name": "stderr",
     "output_type": "stream",
     "text": [
      "epoch [396/3000]: 100%|██████████| 9/9 [00:00<00:00, 46.38it/s, loss=1.66]\n"
     ]
    },
    {
     "name": "stdout",
     "output_type": "stream",
     "text": [
      "Epoch [396/3000]: Train loss: 3.1130,             Valid loss: 2.9080\n"
     ]
    },
    {
     "name": "stderr",
     "output_type": "stream",
     "text": [
      "epoch [397/3000]: 100%|██████████| 9/9 [00:00<00:00, 51.52it/s, loss=1.67]\n"
     ]
    },
    {
     "name": "stdout",
     "output_type": "stream",
     "text": [
      "Epoch [397/3000]: Train loss: 3.1818,             Valid loss: 2.8454\n"
     ]
    },
    {
     "name": "stderr",
     "output_type": "stream",
     "text": [
      "epoch [398/3000]: 100%|██████████| 9/9 [00:00<00:00, 57.65it/s, loss=1.66]\n"
     ]
    },
    {
     "name": "stdout",
     "output_type": "stream",
     "text": [
      "Epoch [398/3000]: Train loss: 3.1020,             Valid loss: 2.8280\n"
     ]
    },
    {
     "name": "stderr",
     "output_type": "stream",
     "text": [
      "epoch [399/3000]: 100%|██████████| 9/9 [00:00<00:00, 75.32it/s, loss=1.67]\n"
     ]
    },
    {
     "name": "stdout",
     "output_type": "stream",
     "text": [
      "Epoch [399/3000]: Train loss: 3.1752,             Valid loss: 2.7154\n"
     ]
    },
    {
     "name": "stderr",
     "output_type": "stream",
     "text": [
      "epoch [400/3000]: 100%|██████████| 9/9 [00:00<00:00, 53.51it/s, loss=1.66]\n"
     ]
    },
    {
     "name": "stdout",
     "output_type": "stream",
     "text": [
      "Epoch [400/3000]: Train loss: 3.1072,             Valid loss: 2.6348\n"
     ]
    },
    {
     "name": "stderr",
     "output_type": "stream",
     "text": [
      "epoch [401/3000]: 100%|██████████| 9/9 [00:00<00:00, 59.42it/s, loss=1.66]\n"
     ]
    },
    {
     "name": "stdout",
     "output_type": "stream",
     "text": [
      "Epoch [401/3000]: Train loss: 3.1368,             Valid loss: 3.2705\n"
     ]
    },
    {
     "name": "stderr",
     "output_type": "stream",
     "text": [
      "epoch [402/3000]: 100%|██████████| 9/9 [00:00<00:00, 66.52it/s, loss=1.66]\n"
     ]
    },
    {
     "name": "stdout",
     "output_type": "stream",
     "text": [
      "Epoch [402/3000]: Train loss: 3.1266,             Valid loss: 3.0198\n"
     ]
    },
    {
     "name": "stderr",
     "output_type": "stream",
     "text": [
      "epoch [403/3000]: 100%|██████████| 9/9 [00:00<00:00, 75.12it/s, loss=1.66]\n"
     ]
    },
    {
     "name": "stdout",
     "output_type": "stream",
     "text": [
      "Epoch [403/3000]: Train loss: 3.1301,             Valid loss: 2.5871\n"
     ]
    },
    {
     "name": "stderr",
     "output_type": "stream",
     "text": [
      "epoch [404/3000]: 100%|██████████| 9/9 [00:00<00:00, 78.35it/s, loss=1.66]\n"
     ]
    },
    {
     "name": "stdout",
     "output_type": "stream",
     "text": [
      "Epoch [404/3000]: Train loss: 3.1179,             Valid loss: 3.5264\n"
     ]
    },
    {
     "name": "stderr",
     "output_type": "stream",
     "text": [
      "epoch [405/3000]: 100%|██████████| 9/9 [00:00<00:00, 79.38it/s, loss=1.66]\n"
     ]
    },
    {
     "name": "stdout",
     "output_type": "stream",
     "text": [
      "Epoch [405/3000]: Train loss: 3.1211,             Valid loss: 3.0808\n"
     ]
    },
    {
     "name": "stderr",
     "output_type": "stream",
     "text": [
      "epoch [406/3000]: 100%|██████████| 9/9 [00:00<00:00, 43.16it/s, loss=1.65]\n"
     ]
    },
    {
     "name": "stdout",
     "output_type": "stream",
     "text": [
      "Epoch [406/3000]: Train loss: 3.1141,             Valid loss: 2.9328\n"
     ]
    },
    {
     "name": "stderr",
     "output_type": "stream",
     "text": [
      "epoch [407/3000]: 100%|██████████| 9/9 [00:00<00:00, 52.26it/s, loss=1.65]\n"
     ]
    },
    {
     "name": "stdout",
     "output_type": "stream",
     "text": [
      "Epoch [407/3000]: Train loss: 3.1130,             Valid loss: 2.8112\n"
     ]
    },
    {
     "name": "stderr",
     "output_type": "stream",
     "text": [
      "epoch [408/3000]: 100%|██████████| 9/9 [00:00<00:00, 55.03it/s, loss=1.65]\n"
     ]
    },
    {
     "name": "stdout",
     "output_type": "stream",
     "text": [
      "Epoch [408/3000]: Train loss: 3.1086,             Valid loss: 2.9119\n"
     ]
    },
    {
     "name": "stderr",
     "output_type": "stream",
     "text": [
      "epoch [409/3000]: 100%|██████████| 9/9 [00:00<00:00, 65.58it/s, loss=1.65]\n"
     ]
    },
    {
     "name": "stdout",
     "output_type": "stream",
     "text": [
      "Epoch [409/3000]: Train loss: 3.1067,             Valid loss: 2.4933\n"
     ]
    },
    {
     "name": "stderr",
     "output_type": "stream",
     "text": [
      "epoch [410/3000]: 100%|██████████| 9/9 [00:00<00:00, 77.14it/s, loss=1.65]\n"
     ]
    },
    {
     "name": "stdout",
     "output_type": "stream",
     "text": [
      "Epoch [410/3000]: Train loss: 3.1032,             Valid loss: 2.4720\n"
     ]
    },
    {
     "name": "stderr",
     "output_type": "stream",
     "text": [
      "epoch [411/3000]: 100%|██████████| 9/9 [00:00<00:00, 77.05it/s, loss=1.65]\n"
     ]
    },
    {
     "name": "stdout",
     "output_type": "stream",
     "text": [
      "Epoch [411/3000]: Train loss: 3.0936,             Valid loss: 2.7974\n"
     ]
    },
    {
     "name": "stderr",
     "output_type": "stream",
     "text": [
      "epoch [412/3000]: 100%|██████████| 9/9 [00:00<00:00, 82.75it/s, loss=1.65]\n"
     ]
    },
    {
     "name": "stdout",
     "output_type": "stream",
     "text": [
      "Epoch [412/3000]: Train loss: 3.1060,             Valid loss: 3.1880\n"
     ]
    },
    {
     "name": "stderr",
     "output_type": "stream",
     "text": [
      "epoch [413/3000]: 100%|██████████| 9/9 [00:00<00:00, 77.95it/s, loss=1.64]\n"
     ]
    },
    {
     "name": "stdout",
     "output_type": "stream",
     "text": [
      "Epoch [413/3000]: Train loss: 3.0841,             Valid loss: 2.9457\n"
     ]
    },
    {
     "name": "stderr",
     "output_type": "stream",
     "text": [
      "epoch [414/3000]: 100%|██████████| 9/9 [00:00<00:00, 76.70it/s, loss=1.64]\n"
     ]
    },
    {
     "name": "stdout",
     "output_type": "stream",
     "text": [
      "Epoch [414/3000]: Train loss: 3.1043,             Valid loss: 2.7575\n"
     ]
    },
    {
     "name": "stderr",
     "output_type": "stream",
     "text": [
      "epoch [415/3000]: 100%|██████████| 9/9 [00:00<00:00, 83.49it/s, loss=1.64]\n"
     ]
    },
    {
     "name": "stdout",
     "output_type": "stream",
     "text": [
      "Epoch [415/3000]: Train loss: 3.0806,             Valid loss: 2.4598\n"
     ]
    },
    {
     "name": "stderr",
     "output_type": "stream",
     "text": [
      "epoch [416/3000]: 100%|██████████| 9/9 [00:00<00:00, 75.32it/s, loss=1.64]\n"
     ]
    },
    {
     "name": "stdout",
     "output_type": "stream",
     "text": [
      "Epoch [416/3000]: Train loss: 3.0979,             Valid loss: 3.0695\n"
     ]
    },
    {
     "name": "stderr",
     "output_type": "stream",
     "text": [
      "epoch [417/3000]: 100%|██████████| 9/9 [00:00<00:00, 72.89it/s, loss=1.64]\n"
     ]
    },
    {
     "name": "stdout",
     "output_type": "stream",
     "text": [
      "Epoch [417/3000]: Train loss: 3.0720,             Valid loss: 3.1614\n"
     ]
    },
    {
     "name": "stderr",
     "output_type": "stream",
     "text": [
      "epoch [418/3000]: 100%|██████████| 9/9 [00:00<00:00, 89.07it/s, loss=1.64]\n"
     ]
    },
    {
     "name": "stdout",
     "output_type": "stream",
     "text": [
      "Epoch [418/3000]: Train loss: 3.0793,             Valid loss: 3.4244\n"
     ]
    },
    {
     "name": "stderr",
     "output_type": "stream",
     "text": [
      "epoch [419/3000]: 100%|██████████| 9/9 [00:00<00:00, 66.35it/s, loss=1.63]\n"
     ]
    },
    {
     "name": "stdout",
     "output_type": "stream",
     "text": [
      "Epoch [419/3000]: Train loss: 3.0709,             Valid loss: 3.1216\n"
     ]
    },
    {
     "name": "stderr",
     "output_type": "stream",
     "text": [
      "epoch [420/3000]: 100%|██████████| 9/9 [00:00<00:00, 90.76it/s, loss=1.64]\n"
     ]
    },
    {
     "name": "stdout",
     "output_type": "stream",
     "text": [
      "Epoch [420/3000]: Train loss: 3.0769,             Valid loss: 2.6598\n"
     ]
    },
    {
     "name": "stderr",
     "output_type": "stream",
     "text": [
      "epoch [421/3000]: 100%|██████████| 9/9 [00:00<00:00, 90.23it/s, loss=1.63]\n"
     ]
    },
    {
     "name": "stdout",
     "output_type": "stream",
     "text": [
      "Epoch [421/3000]: Train loss: 3.0624,             Valid loss: 2.7669\n"
     ]
    },
    {
     "name": "stderr",
     "output_type": "stream",
     "text": [
      "epoch [422/3000]: 100%|██████████| 9/9 [00:00<00:00, 93.96it/s, loss=1.63]\n"
     ]
    },
    {
     "name": "stdout",
     "output_type": "stream",
     "text": [
      "Epoch [422/3000]: Train loss: 3.0662,             Valid loss: 2.7841\n"
     ]
    },
    {
     "name": "stderr",
     "output_type": "stream",
     "text": [
      "epoch [423/3000]: 100%|██████████| 9/9 [00:00<00:00, 73.82it/s, loss=1.63]\n"
     ]
    },
    {
     "name": "stdout",
     "output_type": "stream",
     "text": [
      "Epoch [423/3000]: Train loss: 3.0623,             Valid loss: 2.7598\n"
     ]
    },
    {
     "name": "stderr",
     "output_type": "stream",
     "text": [
      "epoch [424/3000]: 100%|██████████| 9/9 [00:00<00:00, 44.43it/s, loss=1.63]\n"
     ]
    },
    {
     "name": "stdout",
     "output_type": "stream",
     "text": [
      "Epoch [424/3000]: Train loss: 3.0584,             Valid loss: 2.7590\n"
     ]
    },
    {
     "name": "stderr",
     "output_type": "stream",
     "text": [
      "epoch [425/3000]: 100%|██████████| 9/9 [00:00<00:00, 66.59it/s, loss=1.63]\n"
     ]
    },
    {
     "name": "stdout",
     "output_type": "stream",
     "text": [
      "Epoch [425/3000]: Train loss: 3.0545,             Valid loss: 2.9685\n"
     ]
    },
    {
     "name": "stderr",
     "output_type": "stream",
     "text": [
      "epoch [426/3000]: 100%|██████████| 9/9 [00:00<00:00, 65.15it/s, loss=1.63]\n"
     ]
    },
    {
     "name": "stdout",
     "output_type": "stream",
     "text": [
      "Epoch [426/3000]: Train loss: 3.0551,             Valid loss: 3.0860\n"
     ]
    },
    {
     "name": "stderr",
     "output_type": "stream",
     "text": [
      "epoch [427/3000]: 100%|██████████| 9/9 [00:00<00:00, 72.48it/s, loss=1.62]\n"
     ]
    },
    {
     "name": "stdout",
     "output_type": "stream",
     "text": [
      "Epoch [427/3000]: Train loss: 3.0482,             Valid loss: 2.6659\n"
     ]
    },
    {
     "name": "stderr",
     "output_type": "stream",
     "text": [
      "epoch [428/3000]: 100%|██████████| 9/9 [00:00<00:00, 61.05it/s, loss=1.62]\n"
     ]
    },
    {
     "name": "stdout",
     "output_type": "stream",
     "text": [
      "Epoch [428/3000]: Train loss: 3.0456,             Valid loss: 2.6704\n"
     ]
    },
    {
     "name": "stderr",
     "output_type": "stream",
     "text": [
      "epoch [429/3000]: 100%|██████████| 9/9 [00:00<00:00, 67.66it/s, loss=1.62]\n"
     ]
    },
    {
     "name": "stdout",
     "output_type": "stream",
     "text": [
      "Epoch [429/3000]: Train loss: 3.0423,             Valid loss: 3.2317\n"
     ]
    },
    {
     "name": "stderr",
     "output_type": "stream",
     "text": [
      "epoch [430/3000]: 100%|██████████| 9/9 [00:00<00:00, 89.77it/s, loss=1.62]\n"
     ]
    },
    {
     "name": "stdout",
     "output_type": "stream",
     "text": [
      "Epoch [430/3000]: Train loss: 3.0460,             Valid loss: 2.4942\n"
     ]
    },
    {
     "name": "stderr",
     "output_type": "stream",
     "text": [
      "epoch [431/3000]: 100%|██████████| 9/9 [00:00<00:00, 70.95it/s, loss=1.62]\n"
     ]
    },
    {
     "name": "stdout",
     "output_type": "stream",
     "text": [
      "Epoch [431/3000]: Train loss: 3.0343,             Valid loss: 2.7045\n"
     ]
    },
    {
     "name": "stderr",
     "output_type": "stream",
     "text": [
      "epoch [432/3000]: 100%|██████████| 9/9 [00:00<00:00, 103.84it/s, loss=1.62]\n"
     ]
    },
    {
     "name": "stdout",
     "output_type": "stream",
     "text": [
      "Epoch [432/3000]: Train loss: 3.0372,             Valid loss: 2.4346\n"
     ]
    },
    {
     "name": "stderr",
     "output_type": "stream",
     "text": [
      "epoch [433/3000]: 100%|██████████| 9/9 [00:00<00:00, 67.73it/s, loss=1.62]\n"
     ]
    },
    {
     "name": "stdout",
     "output_type": "stream",
     "text": [
      "Epoch [433/3000]: Train loss: 3.0312,             Valid loss: 2.4204\n"
     ]
    },
    {
     "name": "stderr",
     "output_type": "stream",
     "text": [
      "epoch [434/3000]: 100%|██████████| 9/9 [00:00<00:00, 62.11it/s, loss=1.62]\n"
     ]
    },
    {
     "name": "stdout",
     "output_type": "stream",
     "text": [
      "Epoch [434/3000]: Train loss: 3.0308,             Valid loss: 2.7028\n"
     ]
    },
    {
     "name": "stderr",
     "output_type": "stream",
     "text": [
      "epoch [435/3000]: 100%|██████████| 9/9 [00:00<00:00, 66.00it/s, loss=1.61]\n"
     ]
    },
    {
     "name": "stdout",
     "output_type": "stream",
     "text": [
      "Epoch [435/3000]: Train loss: 3.0194,             Valid loss: 2.8548\n"
     ]
    },
    {
     "name": "stderr",
     "output_type": "stream",
     "text": [
      "epoch [436/3000]: 100%|██████████| 9/9 [00:00<00:00, 94.88it/s, loss=1.61]\n"
     ]
    },
    {
     "name": "stdout",
     "output_type": "stream",
     "text": [
      "Epoch [436/3000]: Train loss: 3.0215,             Valid loss: 2.9066\n"
     ]
    },
    {
     "name": "stderr",
     "output_type": "stream",
     "text": [
      "epoch [437/3000]: 100%|██████████| 9/9 [00:00<00:00, 79.33it/s, loss=1.61]\n"
     ]
    },
    {
     "name": "stdout",
     "output_type": "stream",
     "text": [
      "Epoch [437/3000]: Train loss: 3.0168,             Valid loss: 2.6824\n"
     ]
    },
    {
     "name": "stderr",
     "output_type": "stream",
     "text": [
      "epoch [438/3000]: 100%|██████████| 9/9 [00:00<00:00, 89.84it/s, loss=1.61]\n"
     ]
    },
    {
     "name": "stdout",
     "output_type": "stream",
     "text": [
      "Epoch [438/3000]: Train loss: 3.0170,             Valid loss: 3.4100\n"
     ]
    },
    {
     "name": "stderr",
     "output_type": "stream",
     "text": [
      "epoch [439/3000]: 100%|██████████| 9/9 [00:00<00:00, 100.89it/s, loss=1.61]\n"
     ]
    },
    {
     "name": "stdout",
     "output_type": "stream",
     "text": [
      "Epoch [439/3000]: Train loss: 3.0130,             Valid loss: 2.7556\n"
     ]
    },
    {
     "name": "stderr",
     "output_type": "stream",
     "text": [
      "epoch [440/3000]: 100%|██████████| 9/9 [00:00<00:00, 74.19it/s, loss=1.61]\n"
     ]
    },
    {
     "name": "stdout",
     "output_type": "stream",
     "text": [
      "Epoch [440/3000]: Train loss: 3.0107,             Valid loss: 2.8791\n"
     ]
    },
    {
     "name": "stderr",
     "output_type": "stream",
     "text": [
      "epoch [441/3000]: 100%|██████████| 9/9 [00:00<00:00, 77.00it/s, loss=1.61]\n"
     ]
    },
    {
     "name": "stdout",
     "output_type": "stream",
     "text": [
      "Epoch [441/3000]: Train loss: 3.0078,             Valid loss: 2.9831\n"
     ]
    },
    {
     "name": "stderr",
     "output_type": "stream",
     "text": [
      "epoch [442/3000]: 100%|██████████| 9/9 [00:00<00:00, 79.11it/s, loss=1.61]\n"
     ]
    },
    {
     "name": "stdout",
     "output_type": "stream",
     "text": [
      "Epoch [442/3000]: Train loss: 3.0058,             Valid loss: 2.7049\n"
     ]
    },
    {
     "name": "stderr",
     "output_type": "stream",
     "text": [
      "epoch [443/3000]: 100%|██████████| 9/9 [00:00<00:00, 83.94it/s, loss=1.6]\n"
     ]
    },
    {
     "name": "stdout",
     "output_type": "stream",
     "text": [
      "Epoch [443/3000]: Train loss: 3.0028,             Valid loss: 2.9535\n"
     ]
    },
    {
     "name": "stderr",
     "output_type": "stream",
     "text": [
      "epoch [444/3000]: 100%|██████████| 9/9 [00:00<00:00, 73.21it/s, loss=1.6] \n"
     ]
    },
    {
     "name": "stdout",
     "output_type": "stream",
     "text": [
      "Epoch [444/3000]: Train loss: 2.9993,             Valid loss: 3.4700\n"
     ]
    },
    {
     "name": "stderr",
     "output_type": "stream",
     "text": [
      "epoch [445/3000]: 100%|██████████| 9/9 [00:00<00:00, 77.05it/s, loss=1.6] \n"
     ]
    },
    {
     "name": "stdout",
     "output_type": "stream",
     "text": [
      "Epoch [445/3000]: Train loss: 2.9992,             Valid loss: 2.8221\n"
     ]
    },
    {
     "name": "stderr",
     "output_type": "stream",
     "text": [
      "epoch [446/3000]: 100%|██████████| 9/9 [00:00<00:00, 74.71it/s, loss=1.6] \n"
     ]
    },
    {
     "name": "stdout",
     "output_type": "stream",
     "text": [
      "Epoch [446/3000]: Train loss: 2.9857,             Valid loss: 2.8943\n"
     ]
    },
    {
     "name": "stderr",
     "output_type": "stream",
     "text": [
      "epoch [447/3000]: 100%|██████████| 9/9 [00:00<00:00, 90.50it/s, loss=1.6]\n"
     ]
    },
    {
     "name": "stdout",
     "output_type": "stream",
     "text": [
      "Epoch [447/3000]: Train loss: 2.9886,             Valid loss: 2.7611\n"
     ]
    },
    {
     "name": "stderr",
     "output_type": "stream",
     "text": [
      "epoch [448/3000]: 100%|██████████| 9/9 [00:00<00:00, 71.62it/s, loss=1.6]\n"
     ]
    },
    {
     "name": "stdout",
     "output_type": "stream",
     "text": [
      "Epoch [448/3000]: Train loss: 2.9816,             Valid loss: 3.1354\n"
     ]
    },
    {
     "name": "stderr",
     "output_type": "stream",
     "text": [
      "epoch [449/3000]: 100%|██████████| 9/9 [00:00<00:00, 79.76it/s, loss=1.6]\n"
     ]
    },
    {
     "name": "stdout",
     "output_type": "stream",
     "text": [
      "Epoch [449/3000]: Train loss: 2.9872,             Valid loss: 2.6926\n"
     ]
    },
    {
     "name": "stderr",
     "output_type": "stream",
     "text": [
      "epoch [450/3000]: 100%|██████████| 9/9 [00:00<00:00, 80.00it/s, loss=1.59]\n"
     ]
    },
    {
     "name": "stdout",
     "output_type": "stream",
     "text": [
      "Epoch [450/3000]: Train loss: 2.9690,             Valid loss: 2.4216\n"
     ]
    },
    {
     "name": "stderr",
     "output_type": "stream",
     "text": [
      "epoch [451/3000]: 100%|██████████| 9/9 [00:00<00:00, 84.50it/s, loss=1.6]\n"
     ]
    },
    {
     "name": "stdout",
     "output_type": "stream",
     "text": [
      "Epoch [451/3000]: Train loss: 2.9948,             Valid loss: 2.3534\n",
      "Saving model with loss 2.353\n"
     ]
    },
    {
     "name": "stderr",
     "output_type": "stream",
     "text": [
      "epoch [452/3000]: 100%|██████████| 9/9 [00:00<00:00, 74.04it/s, loss=1.59]\n"
     ]
    },
    {
     "name": "stdout",
     "output_type": "stream",
     "text": [
      "Epoch [452/3000]: Train loss: 2.9571,             Valid loss: 3.3108\n"
     ]
    },
    {
     "name": "stderr",
     "output_type": "stream",
     "text": [
      "epoch [453/3000]: 100%|██████████| 9/9 [00:00<00:00, 66.96it/s, loss=1.6] \n"
     ]
    },
    {
     "name": "stdout",
     "output_type": "stream",
     "text": [
      "Epoch [453/3000]: Train loss: 2.9959,             Valid loss: 2.5678\n"
     ]
    },
    {
     "name": "stderr",
     "output_type": "stream",
     "text": [
      "epoch [454/3000]: 100%|██████████| 9/9 [00:00<00:00, 68.02it/s, loss=1.59]\n"
     ]
    },
    {
     "name": "stdout",
     "output_type": "stream",
     "text": [
      "Epoch [454/3000]: Train loss: 2.9484,             Valid loss: 2.5551\n"
     ]
    },
    {
     "name": "stderr",
     "output_type": "stream",
     "text": [
      "epoch [455/3000]: 100%|██████████| 9/9 [00:00<00:00, 75.96it/s, loss=1.59]\n"
     ]
    },
    {
     "name": "stdout",
     "output_type": "stream",
     "text": [
      "Epoch [455/3000]: Train loss: 2.9936,             Valid loss: 2.7525\n"
     ]
    },
    {
     "name": "stderr",
     "output_type": "stream",
     "text": [
      "epoch [456/3000]: 100%|██████████| 9/9 [00:00<00:00, 95.48it/s, loss=1.58]\n"
     ]
    },
    {
     "name": "stdout",
     "output_type": "stream",
     "text": [
      "Epoch [456/3000]: Train loss: 2.9476,             Valid loss: 2.5849\n"
     ]
    },
    {
     "name": "stderr",
     "output_type": "stream",
     "text": [
      "epoch [457/3000]: 100%|██████████| 9/9 [00:00<00:00, 76.73it/s, loss=1.59]\n"
     ]
    },
    {
     "name": "stdout",
     "output_type": "stream",
     "text": [
      "Epoch [457/3000]: Train loss: 2.9938,             Valid loss: 2.8879\n"
     ]
    },
    {
     "name": "stderr",
     "output_type": "stream",
     "text": [
      "epoch [458/3000]: 100%|██████████| 9/9 [00:00<00:00, 61.61it/s, loss=1.58]\n"
     ]
    },
    {
     "name": "stdout",
     "output_type": "stream",
     "text": [
      "Epoch [458/3000]: Train loss: 2.9322,             Valid loss: 2.3962\n"
     ]
    },
    {
     "name": "stderr",
     "output_type": "stream",
     "text": [
      "epoch [459/3000]: 100%|██████████| 9/9 [00:00<00:00, 79.81it/s, loss=1.59]\n"
     ]
    },
    {
     "name": "stdout",
     "output_type": "stream",
     "text": [
      "Epoch [459/3000]: Train loss: 2.9951,             Valid loss: 2.5066\n"
     ]
    },
    {
     "name": "stderr",
     "output_type": "stream",
     "text": [
      "epoch [460/3000]: 100%|██████████| 9/9 [00:00<00:00, 84.94it/s, loss=1.58]\n"
     ]
    },
    {
     "name": "stdout",
     "output_type": "stream",
     "text": [
      "Epoch [460/3000]: Train loss: 2.9267,             Valid loss: 3.1842\n"
     ]
    },
    {
     "name": "stderr",
     "output_type": "stream",
     "text": [
      "epoch [461/3000]: 100%|██████████| 9/9 [00:00<00:00, 83.52it/s, loss=1.59]\n"
     ]
    },
    {
     "name": "stdout",
     "output_type": "stream",
     "text": [
      "Epoch [461/3000]: Train loss: 2.9859,             Valid loss: 2.8576\n"
     ]
    },
    {
     "name": "stderr",
     "output_type": "stream",
     "text": [
      "epoch [462/3000]: 100%|██████████| 9/9 [00:00<00:00, 78.40it/s, loss=1.58]\n"
     ]
    },
    {
     "name": "stdout",
     "output_type": "stream",
     "text": [
      "Epoch [462/3000]: Train loss: 2.9303,             Valid loss: 2.5878\n"
     ]
    },
    {
     "name": "stderr",
     "output_type": "stream",
     "text": [
      "epoch [463/3000]: 100%|██████████| 9/9 [00:00<00:00, 85.18it/s, loss=1.58]\n"
     ]
    },
    {
     "name": "stdout",
     "output_type": "stream",
     "text": [
      "Epoch [463/3000]: Train loss: 2.9792,             Valid loss: 2.8855\n"
     ]
    },
    {
     "name": "stderr",
     "output_type": "stream",
     "text": [
      "epoch [464/3000]: 100%|██████████| 9/9 [00:00<00:00, 85.19it/s, loss=1.57]\n"
     ]
    },
    {
     "name": "stdout",
     "output_type": "stream",
     "text": [
      "Epoch [464/3000]: Train loss: 2.9285,             Valid loss: 3.0604\n"
     ]
    },
    {
     "name": "stderr",
     "output_type": "stream",
     "text": [
      "epoch [465/3000]: 100%|██████████| 9/9 [00:00<00:00, 83.30it/s, loss=1.58]\n"
     ]
    },
    {
     "name": "stdout",
     "output_type": "stream",
     "text": [
      "Epoch [465/3000]: Train loss: 2.9662,             Valid loss: 2.2848\n",
      "Saving model with loss 2.285\n"
     ]
    },
    {
     "name": "stderr",
     "output_type": "stream",
     "text": [
      "epoch [466/3000]: 100%|██████████| 9/9 [00:00<00:00, 65.80it/s, loss=1.57]\n"
     ]
    },
    {
     "name": "stdout",
     "output_type": "stream",
     "text": [
      "Epoch [466/3000]: Train loss: 2.9255,             Valid loss: 3.0556\n"
     ]
    },
    {
     "name": "stderr",
     "output_type": "stream",
     "text": [
      "epoch [467/3000]: 100%|██████████| 9/9 [00:00<00:00, 76.16it/s, loss=1.58]\n"
     ]
    },
    {
     "name": "stdout",
     "output_type": "stream",
     "text": [
      "Epoch [467/3000]: Train loss: 2.9585,             Valid loss: 2.4265\n"
     ]
    },
    {
     "name": "stderr",
     "output_type": "stream",
     "text": [
      "epoch [468/3000]: 100%|██████████| 9/9 [00:00<00:00, 65.39it/s, loss=1.57]\n"
     ]
    },
    {
     "name": "stdout",
     "output_type": "stream",
     "text": [
      "Epoch [468/3000]: Train loss: 2.9234,             Valid loss: 3.2238\n"
     ]
    },
    {
     "name": "stderr",
     "output_type": "stream",
     "text": [
      "epoch [469/3000]: 100%|██████████| 9/9 [00:00<00:00, 53.26it/s, loss=1.58]\n"
     ]
    },
    {
     "name": "stdout",
     "output_type": "stream",
     "text": [
      "Epoch [469/3000]: Train loss: 2.9558,             Valid loss: 2.6907\n"
     ]
    },
    {
     "name": "stderr",
     "output_type": "stream",
     "text": [
      "epoch [470/3000]: 100%|██████████| 9/9 [00:00<00:00, 48.14it/s, loss=1.57]\n"
     ]
    },
    {
     "name": "stdout",
     "output_type": "stream",
     "text": [
      "Epoch [470/3000]: Train loss: 2.9096,             Valid loss: 3.1019\n"
     ]
    },
    {
     "name": "stderr",
     "output_type": "stream",
     "text": [
      "epoch [471/3000]: 100%|██████████| 9/9 [00:00<00:00, 71.71it/s, loss=1.57]\n"
     ]
    },
    {
     "name": "stdout",
     "output_type": "stream",
     "text": [
      "Epoch [471/3000]: Train loss: 2.9534,             Valid loss: 2.6626\n"
     ]
    },
    {
     "name": "stderr",
     "output_type": "stream",
     "text": [
      "epoch [472/3000]: 100%|██████████| 9/9 [00:00<00:00, 54.69it/s, loss=1.56]\n"
     ]
    },
    {
     "name": "stdout",
     "output_type": "stream",
     "text": [
      "Epoch [472/3000]: Train loss: 2.9108,             Valid loss: 2.5398\n"
     ]
    },
    {
     "name": "stderr",
     "output_type": "stream",
     "text": [
      "epoch [473/3000]: 100%|██████████| 9/9 [00:00<00:00, 40.00it/s, loss=1.57]\n"
     ]
    },
    {
     "name": "stdout",
     "output_type": "stream",
     "text": [
      "Epoch [473/3000]: Train loss: 2.9362,             Valid loss: 2.7058\n"
     ]
    },
    {
     "name": "stderr",
     "output_type": "stream",
     "text": [
      "epoch [474/3000]: 100%|██████████| 9/9 [00:00<00:00, 48.09it/s, loss=1.57]\n"
     ]
    },
    {
     "name": "stdout",
     "output_type": "stream",
     "text": [
      "Epoch [474/3000]: Train loss: 2.9195,             Valid loss: 2.7178\n"
     ]
    },
    {
     "name": "stderr",
     "output_type": "stream",
     "text": [
      "epoch [475/3000]: 100%|██████████| 9/9 [00:00<00:00, 46.87it/s, loss=1.57]\n"
     ]
    },
    {
     "name": "stdout",
     "output_type": "stream",
     "text": [
      "Epoch [475/3000]: Train loss: 2.9227,             Valid loss: 2.5062\n"
     ]
    },
    {
     "name": "stderr",
     "output_type": "stream",
     "text": [
      "epoch [476/3000]: 100%|██████████| 9/9 [00:00<00:00, 62.78it/s, loss=1.56]\n"
     ]
    },
    {
     "name": "stdout",
     "output_type": "stream",
     "text": [
      "Epoch [476/3000]: Train loss: 2.9157,             Valid loss: 3.0156\n"
     ]
    },
    {
     "name": "stderr",
     "output_type": "stream",
     "text": [
      "epoch [477/3000]: 100%|██████████| 9/9 [00:00<00:00, 68.40it/s, loss=1.56]\n"
     ]
    },
    {
     "name": "stdout",
     "output_type": "stream",
     "text": [
      "Epoch [477/3000]: Train loss: 2.9151,             Valid loss: 2.6496\n"
     ]
    },
    {
     "name": "stderr",
     "output_type": "stream",
     "text": [
      "epoch [478/3000]: 100%|██████████| 9/9 [00:00<00:00, 80.13it/s, loss=1.56]\n"
     ]
    },
    {
     "name": "stdout",
     "output_type": "stream",
     "text": [
      "Epoch [478/3000]: Train loss: 2.9117,             Valid loss: 2.9526\n"
     ]
    },
    {
     "name": "stderr",
     "output_type": "stream",
     "text": [
      "epoch [479/3000]: 100%|██████████| 9/9 [00:00<00:00, 75.10it/s, loss=1.56]\n"
     ]
    },
    {
     "name": "stdout",
     "output_type": "stream",
     "text": [
      "Epoch [479/3000]: Train loss: 2.9105,             Valid loss: 2.8335\n"
     ]
    },
    {
     "name": "stderr",
     "output_type": "stream",
     "text": [
      "epoch [480/3000]: 100%|██████████| 9/9 [00:00<00:00, 85.09it/s, loss=1.56]\n"
     ]
    },
    {
     "name": "stdout",
     "output_type": "stream",
     "text": [
      "Epoch [480/3000]: Train loss: 2.9052,             Valid loss: 2.8055\n"
     ]
    },
    {
     "name": "stderr",
     "output_type": "stream",
     "text": [
      "epoch [481/3000]: 100%|██████████| 9/9 [00:00<00:00, 64.78it/s, loss=1.56]\n"
     ]
    },
    {
     "name": "stdout",
     "output_type": "stream",
     "text": [
      "Epoch [481/3000]: Train loss: 2.9056,             Valid loss: 2.3206\n"
     ]
    },
    {
     "name": "stderr",
     "output_type": "stream",
     "text": [
      "epoch [482/3000]: 100%|██████████| 9/9 [00:00<00:00, 92.72it/s, loss=1.56]\n"
     ]
    },
    {
     "name": "stdout",
     "output_type": "stream",
     "text": [
      "Epoch [482/3000]: Train loss: 2.9028,             Valid loss: 2.5996\n"
     ]
    },
    {
     "name": "stderr",
     "output_type": "stream",
     "text": [
      "epoch [483/3000]: 100%|██████████| 9/9 [00:00<00:00, 87.57it/s, loss=1.56]\n"
     ]
    },
    {
     "name": "stdout",
     "output_type": "stream",
     "text": [
      "Epoch [483/3000]: Train loss: 2.8985,             Valid loss: 2.6947\n"
     ]
    },
    {
     "name": "stderr",
     "output_type": "stream",
     "text": [
      "epoch [484/3000]: 100%|██████████| 9/9 [00:00<00:00, 100.11it/s, loss=1.56]\n"
     ]
    },
    {
     "name": "stdout",
     "output_type": "stream",
     "text": [
      "Epoch [484/3000]: Train loss: 2.8986,             Valid loss: 2.3828\n"
     ]
    },
    {
     "name": "stderr",
     "output_type": "stream",
     "text": [
      "epoch [485/3000]: 100%|██████████| 9/9 [00:00<00:00, 45.72it/s, loss=1.55]\n"
     ]
    },
    {
     "name": "stdout",
     "output_type": "stream",
     "text": [
      "Epoch [485/3000]: Train loss: 2.8912,             Valid loss: 3.0333\n"
     ]
    },
    {
     "name": "stderr",
     "output_type": "stream",
     "text": [
      "epoch [486/3000]: 100%|██████████| 9/9 [00:00<00:00, 97.75it/s, loss=1.55]\n"
     ]
    },
    {
     "name": "stdout",
     "output_type": "stream",
     "text": [
      "Epoch [486/3000]: Train loss: 2.8940,             Valid loss: 2.4867\n"
     ]
    },
    {
     "name": "stderr",
     "output_type": "stream",
     "text": [
      "epoch [487/3000]: 100%|██████████| 9/9 [00:00<00:00, 104.40it/s, loss=1.55]\n"
     ]
    },
    {
     "name": "stdout",
     "output_type": "stream",
     "text": [
      "Epoch [487/3000]: Train loss: 2.8842,             Valid loss: 3.1113\n"
     ]
    },
    {
     "name": "stderr",
     "output_type": "stream",
     "text": [
      "epoch [488/3000]: 100%|██████████| 9/9 [00:00<00:00, 104.40it/s, loss=1.55]\n"
     ]
    },
    {
     "name": "stdout",
     "output_type": "stream",
     "text": [
      "Epoch [488/3000]: Train loss: 2.8911,             Valid loss: 2.7275\n"
     ]
    },
    {
     "name": "stderr",
     "output_type": "stream",
     "text": [
      "epoch [489/3000]: 100%|██████████| 9/9 [00:00<00:00, 92.88it/s, loss=1.55]\n"
     ]
    },
    {
     "name": "stdout",
     "output_type": "stream",
     "text": [
      "Epoch [489/3000]: Train loss: 2.8822,             Valid loss: 2.9907\n"
     ]
    },
    {
     "name": "stderr",
     "output_type": "stream",
     "text": [
      "epoch [490/3000]: 100%|██████████| 9/9 [00:00<00:00, 90.19it/s, loss=1.55]\n"
     ]
    },
    {
     "name": "stdout",
     "output_type": "stream",
     "text": [
      "Epoch [490/3000]: Train loss: 2.8832,             Valid loss: 2.4873\n"
     ]
    },
    {
     "name": "stderr",
     "output_type": "stream",
     "text": [
      "epoch [491/3000]: 100%|██████████| 9/9 [00:00<00:00, 93.54it/s, loss=1.55]\n"
     ]
    },
    {
     "name": "stdout",
     "output_type": "stream",
     "text": [
      "Epoch [491/3000]: Train loss: 2.8758,             Valid loss: 3.3123\n"
     ]
    },
    {
     "name": "stderr",
     "output_type": "stream",
     "text": [
      "epoch [492/3000]: 100%|██████████| 9/9 [00:00<00:00, 102.86it/s, loss=1.55]\n"
     ]
    },
    {
     "name": "stdout",
     "output_type": "stream",
     "text": [
      "Epoch [492/3000]: Train loss: 2.8800,             Valid loss: 3.0051\n"
     ]
    },
    {
     "name": "stderr",
     "output_type": "stream",
     "text": [
      "epoch [493/3000]: 100%|██████████| 9/9 [00:00<00:00, 95.51it/s, loss=1.54]\n"
     ]
    },
    {
     "name": "stdout",
     "output_type": "stream",
     "text": [
      "Epoch [493/3000]: Train loss: 2.8712,             Valid loss: 2.5888\n"
     ]
    },
    {
     "name": "stderr",
     "output_type": "stream",
     "text": [
      "epoch [494/3000]: 100%|██████████| 9/9 [00:00<00:00, 97.46it/s, loss=1.54]\n"
     ]
    },
    {
     "name": "stdout",
     "output_type": "stream",
     "text": [
      "Epoch [494/3000]: Train loss: 2.8734,             Valid loss: 2.5325\n"
     ]
    },
    {
     "name": "stderr",
     "output_type": "stream",
     "text": [
      "epoch [495/3000]: 100%|██████████| 9/9 [00:00<00:00, 97.24it/s, loss=1.54]\n"
     ]
    },
    {
     "name": "stdout",
     "output_type": "stream",
     "text": [
      "Epoch [495/3000]: Train loss: 2.8705,             Valid loss: 2.9282\n"
     ]
    },
    {
     "name": "stderr",
     "output_type": "stream",
     "text": [
      "epoch [496/3000]: 100%|██████████| 9/9 [00:00<00:00, 95.11it/s, loss=1.54]\n"
     ]
    },
    {
     "name": "stdout",
     "output_type": "stream",
     "text": [
      "Epoch [496/3000]: Train loss: 2.8657,             Valid loss: 2.3028\n"
     ]
    },
    {
     "name": "stderr",
     "output_type": "stream",
     "text": [
      "epoch [497/3000]: 100%|██████████| 9/9 [00:00<00:00, 59.43it/s, loss=1.54]\n"
     ]
    },
    {
     "name": "stdout",
     "output_type": "stream",
     "text": [
      "Epoch [497/3000]: Train loss: 2.8648,             Valid loss: 2.9225\n"
     ]
    },
    {
     "name": "stderr",
     "output_type": "stream",
     "text": [
      "epoch [498/3000]: 100%|██████████| 9/9 [00:00<00:00, 71.07it/s, loss=1.54]\n"
     ]
    },
    {
     "name": "stdout",
     "output_type": "stream",
     "text": [
      "Epoch [498/3000]: Train loss: 2.8652,             Valid loss: 2.8072\n"
     ]
    },
    {
     "name": "stderr",
     "output_type": "stream",
     "text": [
      "epoch [499/3000]: 100%|██████████| 9/9 [00:00<00:00, 77.70it/s, loss=1.54]\n"
     ]
    },
    {
     "name": "stdout",
     "output_type": "stream",
     "text": [
      "Epoch [499/3000]: Train loss: 2.8584,             Valid loss: 2.4394\n"
     ]
    },
    {
     "name": "stderr",
     "output_type": "stream",
     "text": [
      "epoch [500/3000]: 100%|██████████| 9/9 [00:00<00:00, 94.10it/s, loss=1.54]\n"
     ]
    },
    {
     "name": "stdout",
     "output_type": "stream",
     "text": [
      "Epoch [500/3000]: Train loss: 2.8581,             Valid loss: 2.8802\n"
     ]
    },
    {
     "name": "stderr",
     "output_type": "stream",
     "text": [
      "epoch [501/3000]: 100%|██████████| 9/9 [00:00<00:00, 91.42it/s, loss=1.54]\n"
     ]
    },
    {
     "name": "stdout",
     "output_type": "stream",
     "text": [
      "Epoch [501/3000]: Train loss: 2.8583,             Valid loss: 2.7105\n"
     ]
    },
    {
     "name": "stderr",
     "output_type": "stream",
     "text": [
      "epoch [502/3000]: 100%|██████████| 9/9 [00:00<00:00, 83.59it/s, loss=1.53]\n"
     ]
    },
    {
     "name": "stdout",
     "output_type": "stream",
     "text": [
      "Epoch [502/3000]: Train loss: 2.8517,             Valid loss: 3.2615\n"
     ]
    },
    {
     "name": "stderr",
     "output_type": "stream",
     "text": [
      "epoch [503/3000]: 100%|██████████| 9/9 [00:00<00:00, 90.90it/s, loss=1.53]\n"
     ]
    },
    {
     "name": "stdout",
     "output_type": "stream",
     "text": [
      "Epoch [503/3000]: Train loss: 2.8514,             Valid loss: 2.5911\n"
     ]
    },
    {
     "name": "stderr",
     "output_type": "stream",
     "text": [
      "epoch [504/3000]: 100%|██████████| 9/9 [00:00<00:00, 91.76it/s, loss=1.53]\n"
     ]
    },
    {
     "name": "stdout",
     "output_type": "stream",
     "text": [
      "Epoch [504/3000]: Train loss: 2.8489,             Valid loss: 2.4683\n"
     ]
    },
    {
     "name": "stderr",
     "output_type": "stream",
     "text": [
      "epoch [505/3000]: 100%|██████████| 9/9 [00:00<00:00, 80.34it/s, loss=1.53]\n"
     ]
    },
    {
     "name": "stdout",
     "output_type": "stream",
     "text": [
      "Epoch [505/3000]: Train loss: 2.8480,             Valid loss: 2.3335\n"
     ]
    },
    {
     "name": "stderr",
     "output_type": "stream",
     "text": [
      "epoch [506/3000]: 100%|██████████| 9/9 [00:00<00:00, 82.07it/s, loss=1.53]\n"
     ]
    },
    {
     "name": "stdout",
     "output_type": "stream",
     "text": [
      "Epoch [506/3000]: Train loss: 2.8443,             Valid loss: 2.4673\n"
     ]
    },
    {
     "name": "stderr",
     "output_type": "stream",
     "text": [
      "epoch [507/3000]: 100%|██████████| 9/9 [00:00<00:00, 96.45it/s, loss=1.53]\n"
     ]
    },
    {
     "name": "stdout",
     "output_type": "stream",
     "text": [
      "Epoch [507/3000]: Train loss: 2.8377,             Valid loss: 3.0403\n"
     ]
    },
    {
     "name": "stderr",
     "output_type": "stream",
     "text": [
      "epoch [508/3000]: 100%|██████████| 9/9 [00:00<00:00, 94.58it/s, loss=1.53]\n"
     ]
    },
    {
     "name": "stdout",
     "output_type": "stream",
     "text": [
      "Epoch [508/3000]: Train loss: 2.8436,             Valid loss: 2.6299\n"
     ]
    },
    {
     "name": "stderr",
     "output_type": "stream",
     "text": [
      "epoch [509/3000]: 100%|██████████| 9/9 [00:00<00:00, 90.54it/s, loss=1.53]\n"
     ]
    },
    {
     "name": "stdout",
     "output_type": "stream",
     "text": [
      "Epoch [509/3000]: Train loss: 2.8355,             Valid loss: 3.0791\n"
     ]
    },
    {
     "name": "stderr",
     "output_type": "stream",
     "text": [
      "epoch [510/3000]: 100%|██████████| 9/9 [00:00<00:00, 57.05it/s, loss=1.53]\n"
     ]
    },
    {
     "name": "stdout",
     "output_type": "stream",
     "text": [
      "Epoch [510/3000]: Train loss: 2.8374,             Valid loss: 2.4852\n"
     ]
    },
    {
     "name": "stderr",
     "output_type": "stream",
     "text": [
      "epoch [511/3000]: 100%|██████████| 9/9 [00:00<00:00, 61.65it/s, loss=1.52]\n"
     ]
    },
    {
     "name": "stdout",
     "output_type": "stream",
     "text": [
      "Epoch [511/3000]: Train loss: 2.8324,             Valid loss: 2.3449\n"
     ]
    },
    {
     "name": "stderr",
     "output_type": "stream",
     "text": [
      "epoch [512/3000]: 100%|██████████| 9/9 [00:00<00:00, 85.90it/s, loss=1.53]\n"
     ]
    },
    {
     "name": "stdout",
     "output_type": "stream",
     "text": [
      "Epoch [512/3000]: Train loss: 2.8475,             Valid loss: 2.4187\n"
     ]
    },
    {
     "name": "stderr",
     "output_type": "stream",
     "text": [
      "epoch [513/3000]: 100%|██████████| 9/9 [00:00<00:00, 83.93it/s, loss=1.52]\n"
     ]
    },
    {
     "name": "stdout",
     "output_type": "stream",
     "text": [
      "Epoch [513/3000]: Train loss: 2.8163,             Valid loss: 2.8390\n"
     ]
    },
    {
     "name": "stderr",
     "output_type": "stream",
     "text": [
      "epoch [514/3000]: 100%|██████████| 9/9 [00:00<00:00, 72.63it/s, loss=1.52]\n"
     ]
    },
    {
     "name": "stdout",
     "output_type": "stream",
     "text": [
      "Epoch [514/3000]: Train loss: 2.8239,             Valid loss: 2.4018\n"
     ]
    },
    {
     "name": "stderr",
     "output_type": "stream",
     "text": [
      "epoch [515/3000]: 100%|██████████| 9/9 [00:00<00:00, 68.36it/s, loss=1.52]\n"
     ]
    },
    {
     "name": "stdout",
     "output_type": "stream",
     "text": [
      "Epoch [515/3000]: Train loss: 2.8225,             Valid loss: 2.7532\n"
     ]
    },
    {
     "name": "stderr",
     "output_type": "stream",
     "text": [
      "epoch [516/3000]: 100%|██████████| 9/9 [00:00<00:00, 83.28it/s, loss=1.52]\n"
     ]
    },
    {
     "name": "stdout",
     "output_type": "stream",
     "text": [
      "Epoch [516/3000]: Train loss: 2.8184,             Valid loss: 3.2758\n"
     ]
    },
    {
     "name": "stderr",
     "output_type": "stream",
     "text": [
      "epoch [517/3000]: 100%|██████████| 9/9 [00:00<00:00, 87.51it/s, loss=1.52]\n"
     ]
    },
    {
     "name": "stdout",
     "output_type": "stream",
     "text": [
      "Epoch [517/3000]: Train loss: 2.8251,             Valid loss: 2.6374\n"
     ]
    },
    {
     "name": "stderr",
     "output_type": "stream",
     "text": [
      "epoch [518/3000]: 100%|██████████| 9/9 [00:00<00:00, 86.55it/s, loss=1.52]\n"
     ]
    },
    {
     "name": "stdout",
     "output_type": "stream",
     "text": [
      "Epoch [518/3000]: Train loss: 2.8234,             Valid loss: 2.6088\n"
     ]
    },
    {
     "name": "stderr",
     "output_type": "stream",
     "text": [
      "epoch [519/3000]: 100%|██████████| 9/9 [00:00<00:00, 94.10it/s, loss=1.52]\n"
     ]
    },
    {
     "name": "stdout",
     "output_type": "stream",
     "text": [
      "Epoch [519/3000]: Train loss: 2.8081,             Valid loss: 2.5489\n"
     ]
    },
    {
     "name": "stderr",
     "output_type": "stream",
     "text": [
      "epoch [520/3000]: 100%|██████████| 9/9 [00:00<00:00, 92.20it/s, loss=1.52]\n"
     ]
    },
    {
     "name": "stdout",
     "output_type": "stream",
     "text": [
      "Epoch [520/3000]: Train loss: 2.8076,             Valid loss: 2.4054\n"
     ]
    },
    {
     "name": "stderr",
     "output_type": "stream",
     "text": [
      "epoch [521/3000]: 100%|██████████| 9/9 [00:00<00:00, 94.85it/s, loss=1.51]\n"
     ]
    },
    {
     "name": "stdout",
     "output_type": "stream",
     "text": [
      "Epoch [521/3000]: Train loss: 2.8143,             Valid loss: 2.3441\n"
     ]
    },
    {
     "name": "stderr",
     "output_type": "stream",
     "text": [
      "epoch [522/3000]: 100%|██████████| 9/9 [00:00<00:00, 100.10it/s, loss=1.52]\n"
     ]
    },
    {
     "name": "stdout",
     "output_type": "stream",
     "text": [
      "Epoch [522/3000]: Train loss: 2.8131,             Valid loss: 2.6617\n"
     ]
    },
    {
     "name": "stderr",
     "output_type": "stream",
     "text": [
      "epoch [523/3000]: 100%|██████████| 9/9 [00:00<00:00, 94.55it/s, loss=1.51]\n"
     ]
    },
    {
     "name": "stdout",
     "output_type": "stream",
     "text": [
      "Epoch [523/3000]: Train loss: 2.7968,             Valid loss: 2.3793\n"
     ]
    },
    {
     "name": "stderr",
     "output_type": "stream",
     "text": [
      "epoch [524/3000]: 100%|██████████| 9/9 [00:00<00:00, 92.23it/s, loss=1.52]\n"
     ]
    },
    {
     "name": "stdout",
     "output_type": "stream",
     "text": [
      "Epoch [524/3000]: Train loss: 2.8182,             Valid loss: 2.3576\n"
     ]
    },
    {
     "name": "stderr",
     "output_type": "stream",
     "text": [
      "epoch [525/3000]: 100%|██████████| 9/9 [00:00<00:00, 89.60it/s, loss=1.51]\n"
     ]
    },
    {
     "name": "stdout",
     "output_type": "stream",
     "text": [
      "Epoch [525/3000]: Train loss: 2.7840,             Valid loss: 3.1452\n"
     ]
    },
    {
     "name": "stderr",
     "output_type": "stream",
     "text": [
      "epoch [526/3000]: 100%|██████████| 9/9 [00:00<00:00, 89.69it/s, loss=1.51]\n"
     ]
    },
    {
     "name": "stdout",
     "output_type": "stream",
     "text": [
      "Epoch [526/3000]: Train loss: 2.8056,             Valid loss: 2.3220\n"
     ]
    },
    {
     "name": "stderr",
     "output_type": "stream",
     "text": [
      "epoch [527/3000]: 100%|██████████| 9/9 [00:00<00:00, 93.00it/s, loss=1.51]\n"
     ]
    },
    {
     "name": "stdout",
     "output_type": "stream",
     "text": [
      "Epoch [527/3000]: Train loss: 2.8006,             Valid loss: 2.6202\n"
     ]
    },
    {
     "name": "stderr",
     "output_type": "stream",
     "text": [
      "epoch [528/3000]: 100%|██████████| 9/9 [00:00<00:00, 85.66it/s, loss=1.51]\n"
     ]
    },
    {
     "name": "stdout",
     "output_type": "stream",
     "text": [
      "Epoch [528/3000]: Train loss: 2.7865,             Valid loss: 2.8887\n"
     ]
    },
    {
     "name": "stderr",
     "output_type": "stream",
     "text": [
      "epoch [529/3000]: 100%|██████████| 9/9 [00:00<00:00, 63.20it/s, loss=1.51]\n"
     ]
    },
    {
     "name": "stdout",
     "output_type": "stream",
     "text": [
      "Epoch [529/3000]: Train loss: 2.8028,             Valid loss: 2.4923\n"
     ]
    },
    {
     "name": "stderr",
     "output_type": "stream",
     "text": [
      "epoch [530/3000]: 100%|██████████| 9/9 [00:00<00:00, 66.22it/s, loss=1.51]\n"
     ]
    },
    {
     "name": "stdout",
     "output_type": "stream",
     "text": [
      "Epoch [530/3000]: Train loss: 2.7775,             Valid loss: 2.9826\n"
     ]
    },
    {
     "name": "stderr",
     "output_type": "stream",
     "text": [
      "epoch [531/3000]: 100%|██████████| 9/9 [00:00<00:00, 81.99it/s, loss=1.5]\n"
     ]
    },
    {
     "name": "stdout",
     "output_type": "stream",
     "text": [
      "Epoch [531/3000]: Train loss: 2.7885,             Valid loss: 2.7193\n"
     ]
    },
    {
     "name": "stderr",
     "output_type": "stream",
     "text": [
      "epoch [532/3000]: 100%|██████████| 9/9 [00:00<00:00, 90.81it/s, loss=1.5]\n"
     ]
    },
    {
     "name": "stdout",
     "output_type": "stream",
     "text": [
      "Epoch [532/3000]: Train loss: 2.7877,             Valid loss: 2.4445\n"
     ]
    },
    {
     "name": "stderr",
     "output_type": "stream",
     "text": [
      "epoch [533/3000]: 100%|██████████| 9/9 [00:00<00:00, 84.76it/s, loss=1.5]\n"
     ]
    },
    {
     "name": "stdout",
     "output_type": "stream",
     "text": [
      "Epoch [533/3000]: Train loss: 2.7845,             Valid loss: 2.5352\n"
     ]
    },
    {
     "name": "stderr",
     "output_type": "stream",
     "text": [
      "epoch [534/3000]: 100%|██████████| 9/9 [00:00<00:00, 81.24it/s, loss=1.5]\n"
     ]
    },
    {
     "name": "stdout",
     "output_type": "stream",
     "text": [
      "Epoch [534/3000]: Train loss: 2.7812,             Valid loss: 2.3136\n"
     ]
    },
    {
     "name": "stderr",
     "output_type": "stream",
     "text": [
      "epoch [535/3000]: 100%|██████████| 9/9 [00:00<00:00, 78.13it/s, loss=1.5] \n"
     ]
    },
    {
     "name": "stdout",
     "output_type": "stream",
     "text": [
      "Epoch [535/3000]: Train loss: 2.7717,             Valid loss: 2.9310\n"
     ]
    },
    {
     "name": "stderr",
     "output_type": "stream",
     "text": [
      "epoch [536/3000]: 100%|██████████| 9/9 [00:00<00:00, 93.27it/s, loss=1.5]\n"
     ]
    },
    {
     "name": "stdout",
     "output_type": "stream",
     "text": [
      "Epoch [536/3000]: Train loss: 2.7780,             Valid loss: 2.5371\n"
     ]
    },
    {
     "name": "stderr",
     "output_type": "stream",
     "text": [
      "epoch [537/3000]: 100%|██████████| 9/9 [00:00<00:00, 90.07it/s, loss=1.5]\n"
     ]
    },
    {
     "name": "stdout",
     "output_type": "stream",
     "text": [
      "Epoch [537/3000]: Train loss: 2.7747,             Valid loss: 3.0078\n"
     ]
    },
    {
     "name": "stderr",
     "output_type": "stream",
     "text": [
      "epoch [538/3000]: 100%|██████████| 9/9 [00:00<00:00, 84.84it/s, loss=1.5]\n"
     ]
    },
    {
     "name": "stdout",
     "output_type": "stream",
     "text": [
      "Epoch [538/3000]: Train loss: 2.7714,             Valid loss: 2.4688\n"
     ]
    },
    {
     "name": "stderr",
     "output_type": "stream",
     "text": [
      "epoch [539/3000]: 100%|██████████| 9/9 [00:00<00:00, 94.24it/s, loss=1.5]\n"
     ]
    },
    {
     "name": "stdout",
     "output_type": "stream",
     "text": [
      "Epoch [539/3000]: Train loss: 2.7695,             Valid loss: 2.5948\n"
     ]
    },
    {
     "name": "stderr",
     "output_type": "stream",
     "text": [
      "epoch [540/3000]: 100%|██████████| 9/9 [00:00<00:00, 95.33it/s, loss=1.49]\n"
     ]
    },
    {
     "name": "stdout",
     "output_type": "stream",
     "text": [
      "Epoch [540/3000]: Train loss: 2.7663,             Valid loss: 2.6506\n"
     ]
    },
    {
     "name": "stderr",
     "output_type": "stream",
     "text": [
      "epoch [541/3000]: 100%|██████████| 9/9 [00:00<00:00, 61.09it/s, loss=1.49]\n"
     ]
    },
    {
     "name": "stdout",
     "output_type": "stream",
     "text": [
      "Epoch [541/3000]: Train loss: 2.7628,             Valid loss: 2.5020\n"
     ]
    },
    {
     "name": "stderr",
     "output_type": "stream",
     "text": [
      "epoch [542/3000]: 100%|██████████| 9/9 [00:00<00:00, 67.08it/s, loss=1.49]\n"
     ]
    },
    {
     "name": "stdout",
     "output_type": "stream",
     "text": [
      "Epoch [542/3000]: Train loss: 2.7681,             Valid loss: 2.6364\n"
     ]
    },
    {
     "name": "stderr",
     "output_type": "stream",
     "text": [
      "epoch [543/3000]: 100%|██████████| 9/9 [00:00<00:00, 94.57it/s, loss=1.49]\n"
     ]
    },
    {
     "name": "stdout",
     "output_type": "stream",
     "text": [
      "Epoch [543/3000]: Train loss: 2.7539,             Valid loss: 2.2927\n"
     ]
    },
    {
     "name": "stderr",
     "output_type": "stream",
     "text": [
      "epoch [544/3000]: 100%|██████████| 9/9 [00:00<00:00, 91.07it/s, loss=1.49]\n"
     ]
    },
    {
     "name": "stdout",
     "output_type": "stream",
     "text": [
      "Epoch [544/3000]: Train loss: 2.7597,             Valid loss: 2.7752\n"
     ]
    },
    {
     "name": "stderr",
     "output_type": "stream",
     "text": [
      "epoch [545/3000]: 100%|██████████| 9/9 [00:00<00:00, 63.39it/s, loss=1.49]\n"
     ]
    },
    {
     "name": "stdout",
     "output_type": "stream",
     "text": [
      "Epoch [545/3000]: Train loss: 2.7585,             Valid loss: 2.6848\n"
     ]
    },
    {
     "name": "stderr",
     "output_type": "stream",
     "text": [
      "epoch [546/3000]: 100%|██████████| 9/9 [00:00<00:00, 87.95it/s, loss=1.49]\n"
     ]
    },
    {
     "name": "stdout",
     "output_type": "stream",
     "text": [
      "Epoch [546/3000]: Train loss: 2.7460,             Valid loss: 2.7069\n"
     ]
    },
    {
     "name": "stderr",
     "output_type": "stream",
     "text": [
      "epoch [547/3000]: 100%|██████████| 9/9 [00:00<00:00, 86.94it/s, loss=1.49]\n"
     ]
    },
    {
     "name": "stdout",
     "output_type": "stream",
     "text": [
      "Epoch [547/3000]: Train loss: 2.7512,             Valid loss: 2.5941\n"
     ]
    },
    {
     "name": "stderr",
     "output_type": "stream",
     "text": [
      "epoch [548/3000]: 100%|██████████| 9/9 [00:00<00:00, 84.81it/s, loss=1.49]\n"
     ]
    },
    {
     "name": "stdout",
     "output_type": "stream",
     "text": [
      "Epoch [548/3000]: Train loss: 2.7424,             Valid loss: 2.2398\n",
      "Saving model with loss 2.240\n"
     ]
    },
    {
     "name": "stderr",
     "output_type": "stream",
     "text": [
      "epoch [549/3000]: 100%|██████████| 9/9 [00:00<00:00, 87.49it/s, loss=1.49]\n"
     ]
    },
    {
     "name": "stdout",
     "output_type": "stream",
     "text": [
      "Epoch [549/3000]: Train loss: 2.7465,             Valid loss: 2.3616\n"
     ]
    },
    {
     "name": "stderr",
     "output_type": "stream",
     "text": [
      "epoch [550/3000]: 100%|██████████| 9/9 [00:00<00:00, 89.93it/s, loss=1.48]\n"
     ]
    },
    {
     "name": "stdout",
     "output_type": "stream",
     "text": [
      "Epoch [550/3000]: Train loss: 2.7477,             Valid loss: 2.3357\n"
     ]
    },
    {
     "name": "stderr",
     "output_type": "stream",
     "text": [
      "epoch [551/3000]: 100%|██████████| 9/9 [00:00<00:00, 83.77it/s, loss=1.48]\n"
     ]
    },
    {
     "name": "stdout",
     "output_type": "stream",
     "text": [
      "Epoch [551/3000]: Train loss: 2.7448,             Valid loss: 2.8912\n"
     ]
    },
    {
     "name": "stderr",
     "output_type": "stream",
     "text": [
      "epoch [552/3000]: 100%|██████████| 9/9 [00:00<00:00, 90.97it/s, loss=1.48]\n"
     ]
    },
    {
     "name": "stdout",
     "output_type": "stream",
     "text": [
      "Epoch [552/3000]: Train loss: 2.7433,             Valid loss: 3.3394\n"
     ]
    },
    {
     "name": "stderr",
     "output_type": "stream",
     "text": [
      "epoch [553/3000]: 100%|██████████| 9/9 [00:00<00:00, 94.17it/s, loss=1.48]\n"
     ]
    },
    {
     "name": "stdout",
     "output_type": "stream",
     "text": [
      "Epoch [553/3000]: Train loss: 2.7372,             Valid loss: 2.9346\n"
     ]
    },
    {
     "name": "stderr",
     "output_type": "stream",
     "text": [
      "epoch [554/3000]: 100%|██████████| 9/9 [00:00<00:00, 88.38it/s, loss=1.48]\n"
     ]
    },
    {
     "name": "stdout",
     "output_type": "stream",
     "text": [
      "Epoch [554/3000]: Train loss: 2.7433,             Valid loss: 2.8063\n"
     ]
    },
    {
     "name": "stderr",
     "output_type": "stream",
     "text": [
      "epoch [555/3000]: 100%|██████████| 9/9 [00:00<00:00, 80.53it/s, loss=1.48]\n"
     ]
    },
    {
     "name": "stdout",
     "output_type": "stream",
     "text": [
      "Epoch [555/3000]: Train loss: 2.7273,             Valid loss: 2.5722\n"
     ]
    },
    {
     "name": "stderr",
     "output_type": "stream",
     "text": [
      "epoch [556/3000]: 100%|██████████| 9/9 [00:00<00:00, 95.79it/s, loss=1.48]\n"
     ]
    },
    {
     "name": "stdout",
     "output_type": "stream",
     "text": [
      "Epoch [556/3000]: Train loss: 2.7438,             Valid loss: 2.3043\n"
     ]
    },
    {
     "name": "stderr",
     "output_type": "stream",
     "text": [
      "epoch [557/3000]: 100%|██████████| 9/9 [00:00<00:00, 69.32it/s, loss=1.48]\n"
     ]
    },
    {
     "name": "stdout",
     "output_type": "stream",
     "text": [
      "Epoch [557/3000]: Train loss: 2.7158,             Valid loss: 2.5921\n"
     ]
    },
    {
     "name": "stderr",
     "output_type": "stream",
     "text": [
      "epoch [558/3000]: 100%|██████████| 9/9 [00:00<00:00, 70.44it/s, loss=1.48]\n"
     ]
    },
    {
     "name": "stdout",
     "output_type": "stream",
     "text": [
      "Epoch [558/3000]: Train loss: 2.7398,             Valid loss: 2.4475\n"
     ]
    },
    {
     "name": "stderr",
     "output_type": "stream",
     "text": [
      "epoch [559/3000]: 100%|██████████| 9/9 [00:00<00:00, 73.84it/s, loss=1.48]\n"
     ]
    },
    {
     "name": "stdout",
     "output_type": "stream",
     "text": [
      "Epoch [559/3000]: Train loss: 2.7301,             Valid loss: 2.4964\n"
     ]
    },
    {
     "name": "stderr",
     "output_type": "stream",
     "text": [
      "epoch [560/3000]: 100%|██████████| 9/9 [00:00<00:00, 84.31it/s, loss=1.47]\n"
     ]
    },
    {
     "name": "stdout",
     "output_type": "stream",
     "text": [
      "Epoch [560/3000]: Train loss: 2.7060,             Valid loss: 2.7651\n"
     ]
    },
    {
     "name": "stderr",
     "output_type": "stream",
     "text": [
      "epoch [561/3000]: 100%|██████████| 9/9 [00:00<00:00, 69.84it/s, loss=1.48]\n"
     ]
    },
    {
     "name": "stdout",
     "output_type": "stream",
     "text": [
      "Epoch [561/3000]: Train loss: 2.7374,             Valid loss: 2.7272\n"
     ]
    },
    {
     "name": "stderr",
     "output_type": "stream",
     "text": [
      "epoch [562/3000]: 100%|██████████| 9/9 [00:00<00:00, 84.01it/s, loss=1.47]\n"
     ]
    },
    {
     "name": "stdout",
     "output_type": "stream",
     "text": [
      "Epoch [562/3000]: Train loss: 2.7149,             Valid loss: 2.4794\n"
     ]
    },
    {
     "name": "stderr",
     "output_type": "stream",
     "text": [
      "epoch [563/3000]: 100%|██████████| 9/9 [00:00<00:00, 86.79it/s, loss=1.48]\n"
     ]
    },
    {
     "name": "stdout",
     "output_type": "stream",
     "text": [
      "Epoch [563/3000]: Train loss: 2.7208,             Valid loss: 2.3300\n"
     ]
    },
    {
     "name": "stderr",
     "output_type": "stream",
     "text": [
      "epoch [564/3000]: 100%|██████████| 9/9 [00:00<00:00, 86.88it/s, loss=1.47]\n"
     ]
    },
    {
     "name": "stdout",
     "output_type": "stream",
     "text": [
      "Epoch [564/3000]: Train loss: 2.7125,             Valid loss: 2.5256\n"
     ]
    },
    {
     "name": "stderr",
     "output_type": "stream",
     "text": [
      "epoch [565/3000]: 100%|██████████| 9/9 [00:00<00:00, 90.41it/s, loss=1.47]\n"
     ]
    },
    {
     "name": "stdout",
     "output_type": "stream",
     "text": [
      "Epoch [565/3000]: Train loss: 2.7241,             Valid loss: 2.3455\n"
     ]
    },
    {
     "name": "stderr",
     "output_type": "stream",
     "text": [
      "epoch [566/3000]: 100%|██████████| 9/9 [00:00<00:00, 83.35it/s, loss=1.47]\n"
     ]
    },
    {
     "name": "stdout",
     "output_type": "stream",
     "text": [
      "Epoch [566/3000]: Train loss: 2.7032,             Valid loss: 2.5931\n"
     ]
    },
    {
     "name": "stderr",
     "output_type": "stream",
     "text": [
      "epoch [567/3000]: 100%|██████████| 9/9 [00:00<00:00, 48.72it/s, loss=1.47]\n"
     ]
    },
    {
     "name": "stdout",
     "output_type": "stream",
     "text": [
      "Epoch [567/3000]: Train loss: 2.7227,             Valid loss: 2.5192\n"
     ]
    },
    {
     "name": "stderr",
     "output_type": "stream",
     "text": [
      "epoch [568/3000]: 100%|██████████| 9/9 [00:00<00:00, 94.19it/s, loss=1.47]\n"
     ]
    },
    {
     "name": "stdout",
     "output_type": "stream",
     "text": [
      "Epoch [568/3000]: Train loss: 2.6974,             Valid loss: 2.5843\n"
     ]
    },
    {
     "name": "stderr",
     "output_type": "stream",
     "text": [
      "epoch [569/3000]: 100%|██████████| 9/9 [00:00<00:00, 92.72it/s, loss=1.47]\n"
     ]
    },
    {
     "name": "stdout",
     "output_type": "stream",
     "text": [
      "Epoch [569/3000]: Train loss: 2.7156,             Valid loss: 2.4162\n"
     ]
    },
    {
     "name": "stderr",
     "output_type": "stream",
     "text": [
      "epoch [570/3000]: 100%|██████████| 9/9 [00:00<00:00, 95.34it/s, loss=1.47]\n"
     ]
    },
    {
     "name": "stdout",
     "output_type": "stream",
     "text": [
      "Epoch [570/3000]: Train loss: 2.6980,             Valid loss: 2.7769\n"
     ]
    },
    {
     "name": "stderr",
     "output_type": "stream",
     "text": [
      "epoch [571/3000]: 100%|██████████| 9/9 [00:00<00:00, 93.36it/s, loss=1.47]\n"
     ]
    },
    {
     "name": "stdout",
     "output_type": "stream",
     "text": [
      "Epoch [571/3000]: Train loss: 2.7048,             Valid loss: 2.2870\n"
     ]
    },
    {
     "name": "stderr",
     "output_type": "stream",
     "text": [
      "epoch [572/3000]: 100%|██████████| 9/9 [00:00<00:00, 94.73it/s, loss=1.47]\n"
     ]
    },
    {
     "name": "stdout",
     "output_type": "stream",
     "text": [
      "Epoch [572/3000]: Train loss: 2.7036,             Valid loss: 2.6148\n"
     ]
    },
    {
     "name": "stderr",
     "output_type": "stream",
     "text": [
      "epoch [573/3000]: 100%|██████████| 9/9 [00:00<00:00, 87.26it/s, loss=1.47]\n"
     ]
    },
    {
     "name": "stdout",
     "output_type": "stream",
     "text": [
      "Epoch [573/3000]: Train loss: 2.7018,             Valid loss: 2.2573\n"
     ]
    },
    {
     "name": "stderr",
     "output_type": "stream",
     "text": [
      "epoch [574/3000]: 100%|██████████| 9/9 [00:00<00:00, 91.40it/s, loss=1.47]\n"
     ]
    },
    {
     "name": "stdout",
     "output_type": "stream",
     "text": [
      "Epoch [574/3000]: Train loss: 2.6826,             Valid loss: 2.4407\n"
     ]
    },
    {
     "name": "stderr",
     "output_type": "stream",
     "text": [
      "epoch [575/3000]: 100%|██████████| 9/9 [00:00<00:00, 92.67it/s, loss=1.47]\n"
     ]
    },
    {
     "name": "stdout",
     "output_type": "stream",
     "text": [
      "Epoch [575/3000]: Train loss: 2.7064,             Valid loss: 2.1162\n",
      "Saving model with loss 2.116\n"
     ]
    },
    {
     "name": "stderr",
     "output_type": "stream",
     "text": [
      "epoch [576/3000]: 100%|██████████| 9/9 [00:00<00:00, 92.50it/s, loss=1.46]\n"
     ]
    },
    {
     "name": "stdout",
     "output_type": "stream",
     "text": [
      "Epoch [576/3000]: Train loss: 2.6929,             Valid loss: 2.6392\n"
     ]
    },
    {
     "name": "stderr",
     "output_type": "stream",
     "text": [
      "epoch [577/3000]: 100%|██████████| 9/9 [00:00<00:00, 91.76it/s, loss=1.47]\n"
     ]
    },
    {
     "name": "stdout",
     "output_type": "stream",
     "text": [
      "Epoch [577/3000]: Train loss: 2.6957,             Valid loss: 2.7551\n"
     ]
    },
    {
     "name": "stderr",
     "output_type": "stream",
     "text": [
      "epoch [578/3000]: 100%|██████████| 9/9 [00:00<00:00, 67.24it/s, loss=1.46]\n"
     ]
    },
    {
     "name": "stdout",
     "output_type": "stream",
     "text": [
      "Epoch [578/3000]: Train loss: 2.6749,             Valid loss: 2.4489\n"
     ]
    },
    {
     "name": "stderr",
     "output_type": "stream",
     "text": [
      "epoch [579/3000]: 100%|██████████| 9/9 [00:00<00:00, 68.77it/s, loss=1.46]\n"
     ]
    },
    {
     "name": "stdout",
     "output_type": "stream",
     "text": [
      "Epoch [579/3000]: Train loss: 2.7021,             Valid loss: 2.7152\n"
     ]
    },
    {
     "name": "stderr",
     "output_type": "stream",
     "text": [
      "epoch [580/3000]: 100%|██████████| 9/9 [00:00<00:00, 62.97it/s, loss=1.46]\n"
     ]
    },
    {
     "name": "stdout",
     "output_type": "stream",
     "text": [
      "Epoch [580/3000]: Train loss: 2.6754,             Valid loss: 2.3913\n"
     ]
    },
    {
     "name": "stderr",
     "output_type": "stream",
     "text": [
      "epoch [581/3000]: 100%|██████████| 9/9 [00:00<00:00, 80.67it/s, loss=1.46]\n"
     ]
    },
    {
     "name": "stdout",
     "output_type": "stream",
     "text": [
      "Epoch [581/3000]: Train loss: 2.6915,             Valid loss: 2.3031\n"
     ]
    },
    {
     "name": "stderr",
     "output_type": "stream",
     "text": [
      "epoch [582/3000]: 100%|██████████| 9/9 [00:00<00:00, 86.26it/s, loss=1.46]\n"
     ]
    },
    {
     "name": "stdout",
     "output_type": "stream",
     "text": [
      "Epoch [582/3000]: Train loss: 2.6677,             Valid loss: 2.4429\n"
     ]
    },
    {
     "name": "stderr",
     "output_type": "stream",
     "text": [
      "epoch [583/3000]: 100%|██████████| 9/9 [00:00<00:00, 90.66it/s, loss=1.46]\n"
     ]
    },
    {
     "name": "stdout",
     "output_type": "stream",
     "text": [
      "Epoch [583/3000]: Train loss: 2.6913,             Valid loss: 2.5548\n"
     ]
    },
    {
     "name": "stderr",
     "output_type": "stream",
     "text": [
      "epoch [584/3000]: 100%|██████████| 9/9 [00:00<00:00, 94.51it/s, loss=1.46]\n"
     ]
    },
    {
     "name": "stdout",
     "output_type": "stream",
     "text": [
      "Epoch [584/3000]: Train loss: 2.6636,             Valid loss: 2.5968\n"
     ]
    },
    {
     "name": "stderr",
     "output_type": "stream",
     "text": [
      "epoch [585/3000]: 100%|██████████| 9/9 [00:00<00:00, 95.13it/s, loss=1.46]\n"
     ]
    },
    {
     "name": "stdout",
     "output_type": "stream",
     "text": [
      "Epoch [585/3000]: Train loss: 2.6835,             Valid loss: 2.3828\n"
     ]
    },
    {
     "name": "stderr",
     "output_type": "stream",
     "text": [
      "epoch [586/3000]: 100%|██████████| 9/9 [00:00<00:00, 80.22it/s, loss=1.46]\n"
     ]
    },
    {
     "name": "stdout",
     "output_type": "stream",
     "text": [
      "Epoch [586/3000]: Train loss: 2.6679,             Valid loss: 3.1975\n"
     ]
    },
    {
     "name": "stderr",
     "output_type": "stream",
     "text": [
      "epoch [587/3000]: 100%|██████████| 9/9 [00:00<00:00, 79.94it/s, loss=1.46]\n"
     ]
    },
    {
     "name": "stdout",
     "output_type": "stream",
     "text": [
      "Epoch [587/3000]: Train loss: 2.6673,             Valid loss: 2.2014\n"
     ]
    },
    {
     "name": "stderr",
     "output_type": "stream",
     "text": [
      "epoch [588/3000]: 100%|██████████| 9/9 [00:00<00:00, 69.71it/s, loss=1.46]\n"
     ]
    },
    {
     "name": "stdout",
     "output_type": "stream",
     "text": [
      "Epoch [588/3000]: Train loss: 2.6668,             Valid loss: 2.7815\n"
     ]
    },
    {
     "name": "stderr",
     "output_type": "stream",
     "text": [
      "epoch [589/3000]: 100%|██████████| 9/9 [00:00<00:00, 82.40it/s, loss=1.46]\n"
     ]
    },
    {
     "name": "stdout",
     "output_type": "stream",
     "text": [
      "Epoch [589/3000]: Train loss: 2.6709,             Valid loss: 2.6055\n"
     ]
    },
    {
     "name": "stderr",
     "output_type": "stream",
     "text": [
      "epoch [590/3000]: 100%|██████████| 9/9 [00:00<00:00, 74.56it/s, loss=1.46]\n"
     ]
    },
    {
     "name": "stdout",
     "output_type": "stream",
     "text": [
      "Epoch [590/3000]: Train loss: 2.6622,             Valid loss: 3.1501\n"
     ]
    },
    {
     "name": "stderr",
     "output_type": "stream",
     "text": [
      "epoch [591/3000]: 100%|██████████| 9/9 [00:00<00:00, 81.57it/s, loss=1.46]\n"
     ]
    },
    {
     "name": "stdout",
     "output_type": "stream",
     "text": [
      "Epoch [591/3000]: Train loss: 2.6653,             Valid loss: 2.3324\n"
     ]
    },
    {
     "name": "stderr",
     "output_type": "stream",
     "text": [
      "epoch [592/3000]: 100%|██████████| 9/9 [00:00<00:00, 84.40it/s, loss=1.46]\n"
     ]
    },
    {
     "name": "stdout",
     "output_type": "stream",
     "text": [
      "Epoch [592/3000]: Train loss: 2.6689,             Valid loss: 2.4376\n"
     ]
    },
    {
     "name": "stderr",
     "output_type": "stream",
     "text": [
      "epoch [593/3000]: 100%|██████████| 9/9 [00:00<00:00, 84.59it/s, loss=1.45]\n"
     ]
    },
    {
     "name": "stdout",
     "output_type": "stream",
     "text": [
      "Epoch [593/3000]: Train loss: 2.6496,             Valid loss: 2.3200\n"
     ]
    },
    {
     "name": "stderr",
     "output_type": "stream",
     "text": [
      "epoch [594/3000]: 100%|██████████| 9/9 [00:00<00:00, 68.00it/s, loss=1.46]\n"
     ]
    },
    {
     "name": "stdout",
     "output_type": "stream",
     "text": [
      "Epoch [594/3000]: Train loss: 2.6739,             Valid loss: 2.3503\n"
     ]
    },
    {
     "name": "stderr",
     "output_type": "stream",
     "text": [
      "epoch [595/3000]: 100%|██████████| 9/9 [00:00<00:00, 88.26it/s, loss=1.45]\n"
     ]
    },
    {
     "name": "stdout",
     "output_type": "stream",
     "text": [
      "Epoch [595/3000]: Train loss: 2.6378,             Valid loss: 2.0225\n",
      "Saving model with loss 2.022\n"
     ]
    },
    {
     "name": "stderr",
     "output_type": "stream",
     "text": [
      "epoch [596/3000]: 100%|██████████| 9/9 [00:00<00:00, 84.98it/s, loss=1.45]\n"
     ]
    },
    {
     "name": "stdout",
     "output_type": "stream",
     "text": [
      "Epoch [596/3000]: Train loss: 2.6700,             Valid loss: 2.6765\n"
     ]
    },
    {
     "name": "stderr",
     "output_type": "stream",
     "text": [
      "epoch [597/3000]: 100%|██████████| 9/9 [00:00<00:00, 92.96it/s, loss=1.45]\n"
     ]
    },
    {
     "name": "stdout",
     "output_type": "stream",
     "text": [
      "Epoch [597/3000]: Train loss: 2.6509,             Valid loss: 2.1290\n"
     ]
    },
    {
     "name": "stderr",
     "output_type": "stream",
     "text": [
      "epoch [598/3000]: 100%|██████████| 9/9 [00:00<00:00, 85.47it/s, loss=1.45]\n"
     ]
    },
    {
     "name": "stdout",
     "output_type": "stream",
     "text": [
      "Epoch [598/3000]: Train loss: 2.6535,             Valid loss: 2.2102\n"
     ]
    },
    {
     "name": "stderr",
     "output_type": "stream",
     "text": [
      "epoch [599/3000]: 100%|██████████| 9/9 [00:00<00:00, 97.04it/s, loss=1.45]\n"
     ]
    },
    {
     "name": "stdout",
     "output_type": "stream",
     "text": [
      "Epoch [599/3000]: Train loss: 2.6494,             Valid loss: 2.7852\n"
     ]
    },
    {
     "name": "stderr",
     "output_type": "stream",
     "text": [
      "epoch [600/3000]: 100%|██████████| 9/9 [00:00<00:00, 97.76it/s, loss=1.45]\n"
     ]
    },
    {
     "name": "stdout",
     "output_type": "stream",
     "text": [
      "Epoch [600/3000]: Train loss: 2.6425,             Valid loss: 2.6175\n"
     ]
    },
    {
     "name": "stderr",
     "output_type": "stream",
     "text": [
      "epoch [601/3000]: 100%|██████████| 9/9 [00:00<00:00, 91.36it/s, loss=1.45]\n"
     ]
    },
    {
     "name": "stdout",
     "output_type": "stream",
     "text": [
      "Epoch [601/3000]: Train loss: 2.6585,             Valid loss: 2.6899\n"
     ]
    },
    {
     "name": "stderr",
     "output_type": "stream",
     "text": [
      "epoch [602/3000]: 100%|██████████| 9/9 [00:00<00:00, 98.80it/s, loss=1.45]\n"
     ]
    },
    {
     "name": "stdout",
     "output_type": "stream",
     "text": [
      "Epoch [602/3000]: Train loss: 2.6459,             Valid loss: 2.4045\n"
     ]
    },
    {
     "name": "stderr",
     "output_type": "stream",
     "text": [
      "epoch [603/3000]: 100%|██████████| 9/9 [00:00<00:00, 90.02it/s, loss=1.45]\n"
     ]
    },
    {
     "name": "stdout",
     "output_type": "stream",
     "text": [
      "Epoch [603/3000]: Train loss: 2.6475,             Valid loss: 2.1777\n"
     ]
    },
    {
     "name": "stderr",
     "output_type": "stream",
     "text": [
      "epoch [604/3000]: 100%|██████████| 9/9 [00:00<00:00, 94.63it/s, loss=1.45]\n"
     ]
    },
    {
     "name": "stdout",
     "output_type": "stream",
     "text": [
      "Epoch [604/3000]: Train loss: 2.6287,             Valid loss: 2.5578\n"
     ]
    },
    {
     "name": "stderr",
     "output_type": "stream",
     "text": [
      "epoch [605/3000]: 100%|██████████| 9/9 [00:00<00:00, 85.81it/s, loss=1.45]\n"
     ]
    },
    {
     "name": "stdout",
     "output_type": "stream",
     "text": [
      "Epoch [605/3000]: Train loss: 2.6587,             Valid loss: 2.4395\n"
     ]
    },
    {
     "name": "stderr",
     "output_type": "stream",
     "text": [
      "epoch [606/3000]: 100%|██████████| 9/9 [00:00<00:00, 93.64it/s, loss=1.44]\n"
     ]
    },
    {
     "name": "stdout",
     "output_type": "stream",
     "text": [
      "Epoch [606/3000]: Train loss: 2.6228,             Valid loss: 2.3989\n"
     ]
    },
    {
     "name": "stderr",
     "output_type": "stream",
     "text": [
      "epoch [607/3000]: 100%|██████████| 9/9 [00:00<00:00, 93.89it/s, loss=1.45]\n"
     ]
    },
    {
     "name": "stdout",
     "output_type": "stream",
     "text": [
      "Epoch [607/3000]: Train loss: 2.6510,             Valid loss: 2.3996\n"
     ]
    },
    {
     "name": "stderr",
     "output_type": "stream",
     "text": [
      "epoch [608/3000]: 100%|██████████| 9/9 [00:00<00:00, 96.46it/s, loss=1.44]\n"
     ]
    },
    {
     "name": "stdout",
     "output_type": "stream",
     "text": [
      "Epoch [608/3000]: Train loss: 2.6225,             Valid loss: 2.5059\n"
     ]
    },
    {
     "name": "stderr",
     "output_type": "stream",
     "text": [
      "epoch [609/3000]: 100%|██████████| 9/9 [00:00<00:00, 73.85it/s, loss=1.45]\n"
     ]
    },
    {
     "name": "stdout",
     "output_type": "stream",
     "text": [
      "Epoch [609/3000]: Train loss: 2.6400,             Valid loss: 2.9116\n"
     ]
    },
    {
     "name": "stderr",
     "output_type": "stream",
     "text": [
      "epoch [610/3000]: 100%|██████████| 9/9 [00:00<00:00, 80.92it/s, loss=1.44]\n"
     ]
    },
    {
     "name": "stdout",
     "output_type": "stream",
     "text": [
      "Epoch [610/3000]: Train loss: 2.6313,             Valid loss: 3.0792\n"
     ]
    },
    {
     "name": "stderr",
     "output_type": "stream",
     "text": [
      "epoch [611/3000]: 100%|██████████| 9/9 [00:00<00:00, 79.33it/s, loss=1.44]\n"
     ]
    },
    {
     "name": "stdout",
     "output_type": "stream",
     "text": [
      "Epoch [611/3000]: Train loss: 2.6310,             Valid loss: 2.2779\n"
     ]
    },
    {
     "name": "stderr",
     "output_type": "stream",
     "text": [
      "epoch [612/3000]: 100%|██████████| 9/9 [00:00<00:00, 86.36it/s, loss=1.44]\n"
     ]
    },
    {
     "name": "stdout",
     "output_type": "stream",
     "text": [
      "Epoch [612/3000]: Train loss: 2.6224,             Valid loss: 2.0673\n"
     ]
    },
    {
     "name": "stderr",
     "output_type": "stream",
     "text": [
      "epoch [613/3000]: 100%|██████████| 9/9 [00:00<00:00, 107.10it/s, loss=1.44]\n"
     ]
    },
    {
     "name": "stdout",
     "output_type": "stream",
     "text": [
      "Epoch [613/3000]: Train loss: 2.6356,             Valid loss: 2.5247\n"
     ]
    },
    {
     "name": "stderr",
     "output_type": "stream",
     "text": [
      "epoch [614/3000]: 100%|██████████| 9/9 [00:00<00:00, 85.84it/s, loss=1.44]\n"
     ]
    },
    {
     "name": "stdout",
     "output_type": "stream",
     "text": [
      "Epoch [614/3000]: Train loss: 2.6229,             Valid loss: 2.1458\n"
     ]
    },
    {
     "name": "stderr",
     "output_type": "stream",
     "text": [
      "epoch [615/3000]: 100%|██████████| 9/9 [00:00<00:00, 77.81it/s, loss=1.44]\n"
     ]
    },
    {
     "name": "stdout",
     "output_type": "stream",
     "text": [
      "Epoch [615/3000]: Train loss: 2.6322,             Valid loss: 2.9726\n"
     ]
    },
    {
     "name": "stderr",
     "output_type": "stream",
     "text": [
      "epoch [616/3000]: 100%|██████████| 9/9 [00:00<00:00, 78.33it/s, loss=1.44]\n"
     ]
    },
    {
     "name": "stdout",
     "output_type": "stream",
     "text": [
      "Epoch [616/3000]: Train loss: 2.6181,             Valid loss: 2.4512\n"
     ]
    },
    {
     "name": "stderr",
     "output_type": "stream",
     "text": [
      "epoch [617/3000]: 100%|██████████| 9/9 [00:00<00:00, 77.94it/s, loss=1.44]\n"
     ]
    },
    {
     "name": "stdout",
     "output_type": "stream",
     "text": [
      "Epoch [617/3000]: Train loss: 2.6321,             Valid loss: 2.3651\n"
     ]
    },
    {
     "name": "stderr",
     "output_type": "stream",
     "text": [
      "epoch [618/3000]: 100%|██████████| 9/9 [00:00<00:00, 91.57it/s, loss=1.44]\n"
     ]
    },
    {
     "name": "stdout",
     "output_type": "stream",
     "text": [
      "Epoch [618/3000]: Train loss: 2.6101,             Valid loss: 2.9057\n"
     ]
    },
    {
     "name": "stderr",
     "output_type": "stream",
     "text": [
      "epoch [619/3000]: 100%|██████████| 9/9 [00:00<00:00, 89.22it/s, loss=1.44]\n"
     ]
    },
    {
     "name": "stdout",
     "output_type": "stream",
     "text": [
      "Epoch [619/3000]: Train loss: 2.6321,             Valid loss: 2.0224\n",
      "Saving model with loss 2.022\n"
     ]
    },
    {
     "name": "stderr",
     "output_type": "stream",
     "text": [
      "epoch [620/3000]: 100%|██████████| 9/9 [00:00<00:00, 87.97it/s, loss=1.44]\n"
     ]
    },
    {
     "name": "stdout",
     "output_type": "stream",
     "text": [
      "Epoch [620/3000]: Train loss: 2.6086,             Valid loss: 2.0938\n"
     ]
    },
    {
     "name": "stderr",
     "output_type": "stream",
     "text": [
      "epoch [621/3000]: 100%|██████████| 9/9 [00:00<00:00, 70.10it/s, loss=1.44]\n"
     ]
    },
    {
     "name": "stdout",
     "output_type": "stream",
     "text": [
      "Epoch [621/3000]: Train loss: 2.6235,             Valid loss: 2.3304\n"
     ]
    },
    {
     "name": "stderr",
     "output_type": "stream",
     "text": [
      "epoch [622/3000]: 100%|██████████| 9/9 [00:00<00:00, 79.77it/s, loss=1.43]\n"
     ]
    },
    {
     "name": "stdout",
     "output_type": "stream",
     "text": [
      "Epoch [622/3000]: Train loss: 2.6037,             Valid loss: 2.3518\n"
     ]
    },
    {
     "name": "stderr",
     "output_type": "stream",
     "text": [
      "epoch [623/3000]: 100%|██████████| 9/9 [00:00<00:00, 79.98it/s, loss=1.44]\n"
     ]
    },
    {
     "name": "stdout",
     "output_type": "stream",
     "text": [
      "Epoch [623/3000]: Train loss: 2.6245,             Valid loss: 2.6268\n"
     ]
    },
    {
     "name": "stderr",
     "output_type": "stream",
     "text": [
      "epoch [624/3000]: 100%|██████████| 9/9 [00:00<00:00, 78.64it/s, loss=1.43]\n"
     ]
    },
    {
     "name": "stdout",
     "output_type": "stream",
     "text": [
      "Epoch [624/3000]: Train loss: 2.5944,             Valid loss: 2.5151\n"
     ]
    },
    {
     "name": "stderr",
     "output_type": "stream",
     "text": [
      "epoch [625/3000]: 100%|██████████| 9/9 [00:00<00:00, 77.94it/s, loss=1.43]\n"
     ]
    },
    {
     "name": "stdout",
     "output_type": "stream",
     "text": [
      "Epoch [625/3000]: Train loss: 2.6105,             Valid loss: 2.5036\n"
     ]
    },
    {
     "name": "stderr",
     "output_type": "stream",
     "text": [
      "epoch [626/3000]: 100%|██████████| 9/9 [00:00<00:00, 85.59it/s, loss=1.43]\n"
     ]
    },
    {
     "name": "stdout",
     "output_type": "stream",
     "text": [
      "Epoch [626/3000]: Train loss: 2.6100,             Valid loss: 2.2504\n"
     ]
    },
    {
     "name": "stderr",
     "output_type": "stream",
     "text": [
      "epoch [627/3000]: 100%|██████████| 9/9 [00:00<00:00, 77.00it/s, loss=1.43]\n"
     ]
    },
    {
     "name": "stdout",
     "output_type": "stream",
     "text": [
      "Epoch [627/3000]: Train loss: 2.6049,             Valid loss: 2.5655\n"
     ]
    },
    {
     "name": "stderr",
     "output_type": "stream",
     "text": [
      "epoch [628/3000]: 100%|██████████| 9/9 [00:00<00:00, 78.64it/s, loss=1.43]\n"
     ]
    },
    {
     "name": "stdout",
     "output_type": "stream",
     "text": [
      "Epoch [628/3000]: Train loss: 2.6028,             Valid loss: 2.6716\n"
     ]
    },
    {
     "name": "stderr",
     "output_type": "stream",
     "text": [
      "epoch [629/3000]: 100%|██████████| 9/9 [00:00<00:00, 85.48it/s, loss=1.43]\n"
     ]
    },
    {
     "name": "stdout",
     "output_type": "stream",
     "text": [
      "Epoch [629/3000]: Train loss: 2.6013,             Valid loss: 2.2904\n"
     ]
    },
    {
     "name": "stderr",
     "output_type": "stream",
     "text": [
      "epoch [630/3000]: 100%|██████████| 9/9 [00:00<00:00, 80.55it/s, loss=1.43]\n"
     ]
    },
    {
     "name": "stdout",
     "output_type": "stream",
     "text": [
      "Epoch [630/3000]: Train loss: 2.6020,             Valid loss: 2.6239\n"
     ]
    },
    {
     "name": "stderr",
     "output_type": "stream",
     "text": [
      "epoch [631/3000]: 100%|██████████| 9/9 [00:00<00:00, 77.77it/s, loss=1.43]\n"
     ]
    },
    {
     "name": "stdout",
     "output_type": "stream",
     "text": [
      "Epoch [631/3000]: Train loss: 2.6012,             Valid loss: 2.3555\n"
     ]
    },
    {
     "name": "stderr",
     "output_type": "stream",
     "text": [
      "epoch [632/3000]: 100%|██████████| 9/9 [00:00<00:00, 68.49it/s, loss=1.43]\n"
     ]
    },
    {
     "name": "stdout",
     "output_type": "stream",
     "text": [
      "Epoch [632/3000]: Train loss: 2.5968,             Valid loss: 2.8397\n"
     ]
    },
    {
     "name": "stderr",
     "output_type": "stream",
     "text": [
      "epoch [633/3000]: 100%|██████████| 9/9 [00:00<00:00, 83.84it/s, loss=1.43]\n"
     ]
    },
    {
     "name": "stdout",
     "output_type": "stream",
     "text": [
      "Epoch [633/3000]: Train loss: 2.6024,             Valid loss: 2.1626\n"
     ]
    },
    {
     "name": "stderr",
     "output_type": "stream",
     "text": [
      "epoch [634/3000]: 100%|██████████| 9/9 [00:00<00:00, 75.96it/s, loss=1.43]\n"
     ]
    },
    {
     "name": "stdout",
     "output_type": "stream",
     "text": [
      "Epoch [634/3000]: Train loss: 2.5963,             Valid loss: 2.2620\n"
     ]
    },
    {
     "name": "stderr",
     "output_type": "stream",
     "text": [
      "epoch [635/3000]: 100%|██████████| 9/9 [00:00<00:00, 83.79it/s, loss=1.43]\n"
     ]
    },
    {
     "name": "stdout",
     "output_type": "stream",
     "text": [
      "Epoch [635/3000]: Train loss: 2.6020,             Valid loss: 2.1281\n"
     ]
    },
    {
     "name": "stderr",
     "output_type": "stream",
     "text": [
      "epoch [636/3000]: 100%|██████████| 9/9 [00:00<00:00, 87.47it/s, loss=1.42]\n"
     ]
    },
    {
     "name": "stdout",
     "output_type": "stream",
     "text": [
      "Epoch [636/3000]: Train loss: 2.5800,             Valid loss: 2.2110\n"
     ]
    },
    {
     "name": "stderr",
     "output_type": "stream",
     "text": [
      "epoch [637/3000]: 100%|██████████| 9/9 [00:00<00:00, 72.60it/s, loss=1.42]\n"
     ]
    },
    {
     "name": "stdout",
     "output_type": "stream",
     "text": [
      "Epoch [637/3000]: Train loss: 2.5919,             Valid loss: 2.5908\n"
     ]
    },
    {
     "name": "stderr",
     "output_type": "stream",
     "text": [
      "epoch [638/3000]: 100%|██████████| 9/9 [00:00<00:00, 60.28it/s, loss=1.42]\n"
     ]
    },
    {
     "name": "stdout",
     "output_type": "stream",
     "text": [
      "Epoch [638/3000]: Train loss: 2.5818,             Valid loss: 2.6173\n"
     ]
    },
    {
     "name": "stderr",
     "output_type": "stream",
     "text": [
      "epoch [639/3000]: 100%|██████████| 9/9 [00:00<00:00, 69.66it/s, loss=1.42]\n"
     ]
    },
    {
     "name": "stdout",
     "output_type": "stream",
     "text": [
      "Epoch [639/3000]: Train loss: 2.5873,             Valid loss: 2.6593\n"
     ]
    },
    {
     "name": "stderr",
     "output_type": "stream",
     "text": [
      "epoch [640/3000]: 100%|██████████| 9/9 [00:00<00:00, 64.97it/s, loss=1.42]\n"
     ]
    },
    {
     "name": "stdout",
     "output_type": "stream",
     "text": [
      "Epoch [640/3000]: Train loss: 2.5794,             Valid loss: 2.7170\n"
     ]
    },
    {
     "name": "stderr",
     "output_type": "stream",
     "text": [
      "epoch [641/3000]: 100%|██████████| 9/9 [00:00<00:00, 69.44it/s, loss=1.42]\n"
     ]
    },
    {
     "name": "stdout",
     "output_type": "stream",
     "text": [
      "Epoch [641/3000]: Train loss: 2.5846,             Valid loss: 3.1081\n"
     ]
    },
    {
     "name": "stderr",
     "output_type": "stream",
     "text": [
      "epoch [642/3000]: 100%|██████████| 9/9 [00:00<00:00, 68.96it/s, loss=1.42]\n"
     ]
    },
    {
     "name": "stdout",
     "output_type": "stream",
     "text": [
      "Epoch [642/3000]: Train loss: 2.5811,             Valid loss: 2.8163\n"
     ]
    },
    {
     "name": "stderr",
     "output_type": "stream",
     "text": [
      "epoch [643/3000]: 100%|██████████| 9/9 [00:00<00:00, 74.69it/s, loss=1.42]\n"
     ]
    },
    {
     "name": "stdout",
     "output_type": "stream",
     "text": [
      "Epoch [643/3000]: Train loss: 2.5767,             Valid loss: 2.6990\n"
     ]
    },
    {
     "name": "stderr",
     "output_type": "stream",
     "text": [
      "epoch [644/3000]: 100%|██████████| 9/9 [00:00<00:00, 86.22it/s, loss=1.42]\n"
     ]
    },
    {
     "name": "stdout",
     "output_type": "stream",
     "text": [
      "Epoch [644/3000]: Train loss: 2.5781,             Valid loss: 2.5526\n"
     ]
    },
    {
     "name": "stderr",
     "output_type": "stream",
     "text": [
      "epoch [645/3000]: 100%|██████████| 9/9 [00:00<00:00, 81.30it/s, loss=1.42]\n"
     ]
    },
    {
     "name": "stdout",
     "output_type": "stream",
     "text": [
      "Epoch [645/3000]: Train loss: 2.5749,             Valid loss: 2.3830\n"
     ]
    },
    {
     "name": "stderr",
     "output_type": "stream",
     "text": [
      "epoch [646/3000]: 100%|██████████| 9/9 [00:00<00:00, 81.22it/s, loss=1.42]\n"
     ]
    },
    {
     "name": "stdout",
     "output_type": "stream",
     "text": [
      "Epoch [646/3000]: Train loss: 2.5733,             Valid loss: 2.4384\n"
     ]
    },
    {
     "name": "stderr",
     "output_type": "stream",
     "text": [
      "epoch [647/3000]: 100%|██████████| 9/9 [00:00<00:00, 93.18it/s, loss=1.42]\n"
     ]
    },
    {
     "name": "stdout",
     "output_type": "stream",
     "text": [
      "Epoch [647/3000]: Train loss: 2.5739,             Valid loss: 2.3270\n"
     ]
    },
    {
     "name": "stderr",
     "output_type": "stream",
     "text": [
      "epoch [648/3000]: 100%|██████████| 9/9 [00:00<00:00, 92.24it/s, loss=1.42]\n"
     ]
    },
    {
     "name": "stdout",
     "output_type": "stream",
     "text": [
      "Epoch [648/3000]: Train loss: 2.5706,             Valid loss: 2.4642\n"
     ]
    },
    {
     "name": "stderr",
     "output_type": "stream",
     "text": [
      "epoch [649/3000]: 100%|██████████| 9/9 [00:00<00:00, 92.29it/s, loss=1.42]\n"
     ]
    },
    {
     "name": "stdout",
     "output_type": "stream",
     "text": [
      "Epoch [649/3000]: Train loss: 2.5694,             Valid loss: 2.3634\n"
     ]
    },
    {
     "name": "stderr",
     "output_type": "stream",
     "text": [
      "epoch [650/3000]: 100%|██████████| 9/9 [00:00<00:00, 86.04it/s, loss=1.42]\n"
     ]
    },
    {
     "name": "stdout",
     "output_type": "stream",
     "text": [
      "Epoch [650/3000]: Train loss: 2.5703,             Valid loss: 2.4663\n"
     ]
    },
    {
     "name": "stderr",
     "output_type": "stream",
     "text": [
      "epoch [651/3000]: 100%|██████████| 9/9 [00:00<00:00, 80.61it/s, loss=1.42]\n"
     ]
    },
    {
     "name": "stdout",
     "output_type": "stream",
     "text": [
      "Epoch [651/3000]: Train loss: 2.5664,             Valid loss: 2.7708\n"
     ]
    },
    {
     "name": "stderr",
     "output_type": "stream",
     "text": [
      "epoch [652/3000]: 100%|██████████| 9/9 [00:00<00:00, 80.19it/s, loss=1.41]\n"
     ]
    },
    {
     "name": "stdout",
     "output_type": "stream",
     "text": [
      "Epoch [652/3000]: Train loss: 2.5662,             Valid loss: 2.3413\n"
     ]
    },
    {
     "name": "stderr",
     "output_type": "stream",
     "text": [
      "epoch [653/3000]: 100%|██████████| 9/9 [00:00<00:00, 56.51it/s, loss=1.41]\n"
     ]
    },
    {
     "name": "stdout",
     "output_type": "stream",
     "text": [
      "Epoch [653/3000]: Train loss: 2.5635,             Valid loss: 2.3589\n"
     ]
    },
    {
     "name": "stderr",
     "output_type": "stream",
     "text": [
      "epoch [654/3000]: 100%|██████████| 9/9 [00:00<00:00, 61.19it/s, loss=1.41]\n"
     ]
    },
    {
     "name": "stdout",
     "output_type": "stream",
     "text": [
      "Epoch [654/3000]: Train loss: 2.5621,             Valid loss: 2.1650\n"
     ]
    },
    {
     "name": "stderr",
     "output_type": "stream",
     "text": [
      "epoch [655/3000]: 100%|██████████| 9/9 [00:00<00:00, 59.27it/s, loss=1.41]\n"
     ]
    },
    {
     "name": "stdout",
     "output_type": "stream",
     "text": [
      "Epoch [655/3000]: Train loss: 2.5623,             Valid loss: 2.8474\n"
     ]
    },
    {
     "name": "stderr",
     "output_type": "stream",
     "text": [
      "epoch [656/3000]: 100%|██████████| 9/9 [00:00<00:00, 73.15it/s, loss=1.41]\n"
     ]
    },
    {
     "name": "stdout",
     "output_type": "stream",
     "text": [
      "Epoch [656/3000]: Train loss: 2.5560,             Valid loss: 2.3942\n"
     ]
    },
    {
     "name": "stderr",
     "output_type": "stream",
     "text": [
      "epoch [657/3000]: 100%|██████████| 9/9 [00:00<00:00, 73.74it/s, loss=1.41]\n"
     ]
    },
    {
     "name": "stdout",
     "output_type": "stream",
     "text": [
      "Epoch [657/3000]: Train loss: 2.5621,             Valid loss: 2.4795\n"
     ]
    },
    {
     "name": "stderr",
     "output_type": "stream",
     "text": [
      "epoch [658/3000]: 100%|██████████| 9/9 [00:00<00:00, 62.46it/s, loss=1.41]\n"
     ]
    },
    {
     "name": "stdout",
     "output_type": "stream",
     "text": [
      "Epoch [658/3000]: Train loss: 2.5544,             Valid loss: 2.8631\n"
     ]
    },
    {
     "name": "stderr",
     "output_type": "stream",
     "text": [
      "epoch [659/3000]: 100%|██████████| 9/9 [00:00<00:00, 67.59it/s, loss=1.41]\n"
     ]
    },
    {
     "name": "stdout",
     "output_type": "stream",
     "text": [
      "Epoch [659/3000]: Train loss: 2.5530,             Valid loss: 2.2636\n"
     ]
    },
    {
     "name": "stderr",
     "output_type": "stream",
     "text": [
      "epoch [660/3000]: 100%|██████████| 9/9 [00:00<00:00, 65.20it/s, loss=1.41]\n"
     ]
    },
    {
     "name": "stdout",
     "output_type": "stream",
     "text": [
      "Epoch [660/3000]: Train loss: 2.5558,             Valid loss: 2.6879\n"
     ]
    },
    {
     "name": "stderr",
     "output_type": "stream",
     "text": [
      "epoch [661/3000]: 100%|██████████| 9/9 [00:00<00:00, 69.95it/s, loss=1.41]\n"
     ]
    },
    {
     "name": "stdout",
     "output_type": "stream",
     "text": [
      "Epoch [661/3000]: Train loss: 2.5524,             Valid loss: 2.2336\n"
     ]
    },
    {
     "name": "stderr",
     "output_type": "stream",
     "text": [
      "epoch [662/3000]: 100%|██████████| 9/9 [00:00<00:00, 79.26it/s, loss=1.41]\n"
     ]
    },
    {
     "name": "stdout",
     "output_type": "stream",
     "text": [
      "Epoch [662/3000]: Train loss: 2.5512,             Valid loss: 2.3037\n"
     ]
    },
    {
     "name": "stderr",
     "output_type": "stream",
     "text": [
      "epoch [663/3000]: 100%|██████████| 9/9 [00:00<00:00, 72.50it/s, loss=1.4] \n"
     ]
    },
    {
     "name": "stdout",
     "output_type": "stream",
     "text": [
      "Epoch [663/3000]: Train loss: 2.5430,             Valid loss: 2.3513\n"
     ]
    },
    {
     "name": "stderr",
     "output_type": "stream",
     "text": [
      "epoch [664/3000]: 100%|██████████| 9/9 [00:00<00:00, 68.91it/s, loss=1.41]\n"
     ]
    },
    {
     "name": "stdout",
     "output_type": "stream",
     "text": [
      "Epoch [664/3000]: Train loss: 2.5546,             Valid loss: 2.5896\n"
     ]
    },
    {
     "name": "stderr",
     "output_type": "stream",
     "text": [
      "epoch [665/3000]: 100%|██████████| 9/9 [00:00<00:00, 86.77it/s, loss=1.4]\n"
     ]
    },
    {
     "name": "stdout",
     "output_type": "stream",
     "text": [
      "Epoch [665/3000]: Train loss: 2.5359,             Valid loss: 2.0348\n"
     ]
    },
    {
     "name": "stderr",
     "output_type": "stream",
     "text": [
      "epoch [666/3000]: 100%|██████████| 9/9 [00:00<00:00, 55.91it/s, loss=1.41]\n"
     ]
    },
    {
     "name": "stdout",
     "output_type": "stream",
     "text": [
      "Epoch [666/3000]: Train loss: 2.5543,             Valid loss: 2.0982\n"
     ]
    },
    {
     "name": "stderr",
     "output_type": "stream",
     "text": [
      "epoch [667/3000]: 100%|██████████| 9/9 [00:00<00:00, 71.10it/s, loss=1.4] \n"
     ]
    },
    {
     "name": "stdout",
     "output_type": "stream",
     "text": [
      "Epoch [667/3000]: Train loss: 2.5325,             Valid loss: 2.3047\n"
     ]
    },
    {
     "name": "stderr",
     "output_type": "stream",
     "text": [
      "epoch [668/3000]: 100%|██████████| 9/9 [00:00<00:00, 71.37it/s, loss=1.41]\n"
     ]
    },
    {
     "name": "stdout",
     "output_type": "stream",
     "text": [
      "Epoch [668/3000]: Train loss: 2.5503,             Valid loss: 2.4026\n"
     ]
    },
    {
     "name": "stderr",
     "output_type": "stream",
     "text": [
      "epoch [669/3000]: 100%|██████████| 9/9 [00:00<00:00, 78.42it/s, loss=1.4] \n"
     ]
    },
    {
     "name": "stdout",
     "output_type": "stream",
     "text": [
      "Epoch [669/3000]: Train loss: 2.5300,             Valid loss: 2.3382\n"
     ]
    },
    {
     "name": "stderr",
     "output_type": "stream",
     "text": [
      "epoch [670/3000]: 100%|██████████| 9/9 [00:00<00:00, 57.67it/s, loss=1.4] \n"
     ]
    },
    {
     "name": "stdout",
     "output_type": "stream",
     "text": [
      "Epoch [670/3000]: Train loss: 2.5459,             Valid loss: 2.8166\n"
     ]
    },
    {
     "name": "stderr",
     "output_type": "stream",
     "text": [
      "epoch [671/3000]: 100%|██████████| 9/9 [00:00<00:00, 50.58it/s, loss=1.4] \n"
     ]
    },
    {
     "name": "stdout",
     "output_type": "stream",
     "text": [
      "Epoch [671/3000]: Train loss: 2.5302,             Valid loss: 2.7163\n"
     ]
    },
    {
     "name": "stderr",
     "output_type": "stream",
     "text": [
      "epoch [672/3000]: 100%|██████████| 9/9 [00:00<00:00, 60.82it/s, loss=1.4] \n"
     ]
    },
    {
     "name": "stdout",
     "output_type": "stream",
     "text": [
      "Epoch [672/3000]: Train loss: 2.5413,             Valid loss: 2.3667\n"
     ]
    },
    {
     "name": "stderr",
     "output_type": "stream",
     "text": [
      "epoch [673/3000]: 100%|██████████| 9/9 [00:00<00:00, 77.99it/s, loss=1.4] \n"
     ]
    },
    {
     "name": "stdout",
     "output_type": "stream",
     "text": [
      "Epoch [673/3000]: Train loss: 2.5273,             Valid loss: 2.4330\n"
     ]
    },
    {
     "name": "stderr",
     "output_type": "stream",
     "text": [
      "epoch [674/3000]: 100%|██████████| 9/9 [00:00<00:00, 87.11it/s, loss=1.4]\n"
     ]
    },
    {
     "name": "stdout",
     "output_type": "stream",
     "text": [
      "Epoch [674/3000]: Train loss: 2.5357,             Valid loss: 2.6540\n"
     ]
    },
    {
     "name": "stderr",
     "output_type": "stream",
     "text": [
      "epoch [675/3000]: 100%|██████████| 9/9 [00:00<00:00, 84.42it/s, loss=1.4]\n"
     ]
    },
    {
     "name": "stdout",
     "output_type": "stream",
     "text": [
      "Epoch [675/3000]: Train loss: 2.5302,             Valid loss: 2.3240\n"
     ]
    },
    {
     "name": "stderr",
     "output_type": "stream",
     "text": [
      "epoch [676/3000]: 100%|██████████| 9/9 [00:00<00:00, 86.93it/s, loss=1.4]\n"
     ]
    },
    {
     "name": "stdout",
     "output_type": "stream",
     "text": [
      "Epoch [676/3000]: Train loss: 2.5331,             Valid loss: 2.2952\n"
     ]
    },
    {
     "name": "stderr",
     "output_type": "stream",
     "text": [
      "epoch [677/3000]: 100%|██████████| 9/9 [00:00<00:00, 86.06it/s, loss=1.4]\n"
     ]
    },
    {
     "name": "stdout",
     "output_type": "stream",
     "text": [
      "Epoch [677/3000]: Train loss: 2.5211,             Valid loss: 2.7506\n"
     ]
    },
    {
     "name": "stderr",
     "output_type": "stream",
     "text": [
      "epoch [678/3000]: 100%|██████████| 9/9 [00:00<00:00, 77.06it/s, loss=1.4]\n"
     ]
    },
    {
     "name": "stdout",
     "output_type": "stream",
     "text": [
      "Epoch [678/3000]: Train loss: 2.5235,             Valid loss: 2.5938\n"
     ]
    },
    {
     "name": "stderr",
     "output_type": "stream",
     "text": [
      "epoch [679/3000]: 100%|██████████| 9/9 [00:00<00:00, 38.93it/s, loss=1.4] \n"
     ]
    },
    {
     "name": "stdout",
     "output_type": "stream",
     "text": [
      "Epoch [679/3000]: Train loss: 2.5306,             Valid loss: 2.4045\n"
     ]
    },
    {
     "name": "stderr",
     "output_type": "stream",
     "text": [
      "epoch [680/3000]: 100%|██████████| 9/9 [00:00<00:00, 41.69it/s, loss=1.4] \n"
     ]
    },
    {
     "name": "stdout",
     "output_type": "stream",
     "text": [
      "Epoch [680/3000]: Train loss: 2.5200,             Valid loss: 2.0442\n"
     ]
    },
    {
     "name": "stderr",
     "output_type": "stream",
     "text": [
      "epoch [681/3000]: 100%|██████████| 9/9 [00:00<00:00, 49.58it/s, loss=1.4] \n"
     ]
    },
    {
     "name": "stdout",
     "output_type": "stream",
     "text": [
      "Epoch [681/3000]: Train loss: 2.5244,             Valid loss: 2.3190\n"
     ]
    },
    {
     "name": "stderr",
     "output_type": "stream",
     "text": [
      "epoch [682/3000]: 100%|██████████| 9/9 [00:00<00:00, 39.05it/s, loss=1.4] \n"
     ]
    },
    {
     "name": "stdout",
     "output_type": "stream",
     "text": [
      "Epoch [682/3000]: Train loss: 2.5184,             Valid loss: 2.8351\n"
     ]
    },
    {
     "name": "stderr",
     "output_type": "stream",
     "text": [
      "epoch [683/3000]: 100%|██████████| 9/9 [00:00<00:00, 40.98it/s, loss=1.4] \n"
     ]
    },
    {
     "name": "stdout",
     "output_type": "stream",
     "text": [
      "Epoch [683/3000]: Train loss: 2.5172,             Valid loss: 2.2453\n"
     ]
    },
    {
     "name": "stderr",
     "output_type": "stream",
     "text": [
      "epoch [684/3000]: 100%|██████████| 9/9 [00:00<00:00, 41.50it/s, loss=1.4] \n"
     ]
    },
    {
     "name": "stdout",
     "output_type": "stream",
     "text": [
      "Epoch [684/3000]: Train loss: 2.5156,             Valid loss: 2.6549\n"
     ]
    },
    {
     "name": "stderr",
     "output_type": "stream",
     "text": [
      "epoch [685/3000]: 100%|██████████| 9/9 [00:00<00:00, 47.44it/s, loss=1.4] \n"
     ]
    },
    {
     "name": "stdout",
     "output_type": "stream",
     "text": [
      "Epoch [685/3000]: Train loss: 2.5118,             Valid loss: 2.1054\n"
     ]
    },
    {
     "name": "stderr",
     "output_type": "stream",
     "text": [
      "epoch [686/3000]: 100%|██████████| 9/9 [00:00<00:00, 43.98it/s, loss=1.4] \n"
     ]
    },
    {
     "name": "stdout",
     "output_type": "stream",
     "text": [
      "Epoch [686/3000]: Train loss: 2.5155,             Valid loss: 2.3235\n"
     ]
    },
    {
     "name": "stderr",
     "output_type": "stream",
     "text": [
      "epoch [687/3000]: 100%|██████████| 9/9 [00:00<00:00, 51.96it/s, loss=1.4] \n"
     ]
    },
    {
     "name": "stdout",
     "output_type": "stream",
     "text": [
      "Epoch [687/3000]: Train loss: 2.5093,             Valid loss: 2.4981\n"
     ]
    },
    {
     "name": "stderr",
     "output_type": "stream",
     "text": [
      "epoch [688/3000]: 100%|██████████| 9/9 [00:00<00:00, 57.42it/s, loss=1.4] \n"
     ]
    },
    {
     "name": "stdout",
     "output_type": "stream",
     "text": [
      "Epoch [688/3000]: Train loss: 2.5072,             Valid loss: 2.6312\n"
     ]
    },
    {
     "name": "stderr",
     "output_type": "stream",
     "text": [
      "epoch [689/3000]: 100%|██████████| 9/9 [00:00<00:00, 50.98it/s, loss=1.4] \n"
     ]
    },
    {
     "name": "stdout",
     "output_type": "stream",
     "text": [
      "Epoch [689/3000]: Train loss: 2.5114,             Valid loss: 2.3710\n"
     ]
    },
    {
     "name": "stderr",
     "output_type": "stream",
     "text": [
      "epoch [690/3000]: 100%|██████████| 9/9 [00:00<00:00, 69.83it/s, loss=1.4]\n"
     ]
    },
    {
     "name": "stdout",
     "output_type": "stream",
     "text": [
      "Epoch [690/3000]: Train loss: 2.5059,             Valid loss: 2.4948\n"
     ]
    },
    {
     "name": "stderr",
     "output_type": "stream",
     "text": [
      "epoch [691/3000]: 100%|██████████| 9/9 [00:00<00:00, 60.74it/s, loss=1.39]\n"
     ]
    },
    {
     "name": "stdout",
     "output_type": "stream",
     "text": [
      "Epoch [691/3000]: Train loss: 2.5049,             Valid loss: 2.0877\n"
     ]
    },
    {
     "name": "stderr",
     "output_type": "stream",
     "text": [
      "epoch [692/3000]: 100%|██████████| 9/9 [00:00<00:00, 72.31it/s, loss=1.39]\n"
     ]
    },
    {
     "name": "stdout",
     "output_type": "stream",
     "text": [
      "Epoch [692/3000]: Train loss: 2.5021,             Valid loss: 2.6687\n"
     ]
    },
    {
     "name": "stderr",
     "output_type": "stream",
     "text": [
      "epoch [693/3000]: 100%|██████████| 9/9 [00:00<00:00, 84.66it/s, loss=1.39]\n"
     ]
    },
    {
     "name": "stdout",
     "output_type": "stream",
     "text": [
      "Epoch [693/3000]: Train loss: 2.4979,             Valid loss: 2.2169\n"
     ]
    },
    {
     "name": "stderr",
     "output_type": "stream",
     "text": [
      "epoch [694/3000]: 100%|██████████| 9/9 [00:00<00:00, 82.59it/s, loss=1.38]\n"
     ]
    },
    {
     "name": "stdout",
     "output_type": "stream",
     "text": [
      "Epoch [694/3000]: Train loss: 2.4953,             Valid loss: 2.5091\n"
     ]
    },
    {
     "name": "stderr",
     "output_type": "stream",
     "text": [
      "epoch [695/3000]: 100%|██████████| 9/9 [00:00<00:00, 81.85it/s, loss=1.38]\n"
     ]
    },
    {
     "name": "stdout",
     "output_type": "stream",
     "text": [
      "Epoch [695/3000]: Train loss: 2.4920,             Valid loss: 2.4990\n"
     ]
    },
    {
     "name": "stderr",
     "output_type": "stream",
     "text": [
      "epoch [696/3000]: 100%|██████████| 9/9 [00:00<00:00, 84.03it/s, loss=1.38]\n"
     ]
    },
    {
     "name": "stdout",
     "output_type": "stream",
     "text": [
      "Epoch [696/3000]: Train loss: 2.4816,             Valid loss: 2.5680\n"
     ]
    },
    {
     "name": "stderr",
     "output_type": "stream",
     "text": [
      "epoch [697/3000]: 100%|██████████| 9/9 [00:00<00:00, 82.80it/s, loss=1.38]\n"
     ]
    },
    {
     "name": "stdout",
     "output_type": "stream",
     "text": [
      "Epoch [697/3000]: Train loss: 2.4824,             Valid loss: 1.9780\n",
      "Saving model with loss 1.978\n"
     ]
    },
    {
     "name": "stderr",
     "output_type": "stream",
     "text": [
      "epoch [698/3000]: 100%|██████████| 9/9 [00:00<00:00, 79.12it/s, loss=1.37]\n"
     ]
    },
    {
     "name": "stdout",
     "output_type": "stream",
     "text": [
      "Epoch [698/3000]: Train loss: 2.4782,             Valid loss: 2.1705\n"
     ]
    },
    {
     "name": "stderr",
     "output_type": "stream",
     "text": [
      "epoch [699/3000]: 100%|██████████| 9/9 [00:00<00:00, 56.90it/s, loss=1.37]\n"
     ]
    },
    {
     "name": "stdout",
     "output_type": "stream",
     "text": [
      "Epoch [699/3000]: Train loss: 2.4686,             Valid loss: 2.6947\n"
     ]
    },
    {
     "name": "stderr",
     "output_type": "stream",
     "text": [
      "epoch [700/3000]: 100%|██████████| 9/9 [00:00<00:00, 77.39it/s, loss=1.37]\n"
     ]
    },
    {
     "name": "stdout",
     "output_type": "stream",
     "text": [
      "Epoch [700/3000]: Train loss: 2.4909,             Valid loss: 2.2365\n"
     ]
    },
    {
     "name": "stderr",
     "output_type": "stream",
     "text": [
      "epoch [701/3000]: 100%|██████████| 9/9 [00:00<00:00, 76.61it/s, loss=1.37]\n"
     ]
    },
    {
     "name": "stdout",
     "output_type": "stream",
     "text": [
      "Epoch [701/3000]: Train loss: 2.4499,             Valid loss: 2.2834\n"
     ]
    },
    {
     "name": "stderr",
     "output_type": "stream",
     "text": [
      "epoch [702/3000]: 100%|██████████| 9/9 [00:00<00:00, 86.11it/s, loss=1.36]\n"
     ]
    },
    {
     "name": "stdout",
     "output_type": "stream",
     "text": [
      "Epoch [702/3000]: Train loss: 2.4634,             Valid loss: 2.4201\n"
     ]
    },
    {
     "name": "stderr",
     "output_type": "stream",
     "text": [
      "epoch [703/3000]: 100%|██████████| 9/9 [00:00<00:00, 80.91it/s, loss=1.36]\n"
     ]
    },
    {
     "name": "stdout",
     "output_type": "stream",
     "text": [
      "Epoch [703/3000]: Train loss: 2.4621,             Valid loss: 2.2844\n"
     ]
    },
    {
     "name": "stderr",
     "output_type": "stream",
     "text": [
      "epoch [704/3000]: 100%|██████████| 9/9 [00:00<00:00, 75.81it/s, loss=1.36]\n"
     ]
    },
    {
     "name": "stdout",
     "output_type": "stream",
     "text": [
      "Epoch [704/3000]: Train loss: 2.4707,             Valid loss: 2.2992\n"
     ]
    },
    {
     "name": "stderr",
     "output_type": "stream",
     "text": [
      "epoch [705/3000]: 100%|██████████| 9/9 [00:00<00:00, 84.93it/s, loss=1.36]\n"
     ]
    },
    {
     "name": "stdout",
     "output_type": "stream",
     "text": [
      "Epoch [705/3000]: Train loss: 2.4582,             Valid loss: 2.2233\n"
     ]
    },
    {
     "name": "stderr",
     "output_type": "stream",
     "text": [
      "epoch [706/3000]: 100%|██████████| 9/9 [00:00<00:00, 89.96it/s, loss=1.36]\n"
     ]
    },
    {
     "name": "stdout",
     "output_type": "stream",
     "text": [
      "Epoch [706/3000]: Train loss: 2.4809,             Valid loss: 2.3451\n"
     ]
    },
    {
     "name": "stderr",
     "output_type": "stream",
     "text": [
      "epoch [707/3000]: 100%|██████████| 9/9 [00:00<00:00, 69.10it/s, loss=1.35]\n"
     ]
    },
    {
     "name": "stdout",
     "output_type": "stream",
     "text": [
      "Epoch [707/3000]: Train loss: 2.4370,             Valid loss: 2.1417\n"
     ]
    },
    {
     "name": "stderr",
     "output_type": "stream",
     "text": [
      "epoch [708/3000]: 100%|██████████| 9/9 [00:00<00:00, 87.13it/s, loss=1.36]\n"
     ]
    },
    {
     "name": "stdout",
     "output_type": "stream",
     "text": [
      "Epoch [708/3000]: Train loss: 2.4753,             Valid loss: 2.3610\n"
     ]
    },
    {
     "name": "stderr",
     "output_type": "stream",
     "text": [
      "epoch [709/3000]: 100%|██████████| 9/9 [00:00<00:00, 93.28it/s, loss=1.35]\n"
     ]
    },
    {
     "name": "stdout",
     "output_type": "stream",
     "text": [
      "Epoch [709/3000]: Train loss: 2.4411,             Valid loss: 2.5606\n"
     ]
    },
    {
     "name": "stderr",
     "output_type": "stream",
     "text": [
      "epoch [710/3000]: 100%|██████████| 9/9 [00:00<00:00, 62.74it/s, loss=1.36]\n"
     ]
    },
    {
     "name": "stdout",
     "output_type": "stream",
     "text": [
      "Epoch [710/3000]: Train loss: 2.4681,             Valid loss: 2.2614\n"
     ]
    },
    {
     "name": "stderr",
     "output_type": "stream",
     "text": [
      "epoch [711/3000]: 100%|██████████| 9/9 [00:00<00:00, 70.35it/s, loss=1.35]\n"
     ]
    },
    {
     "name": "stdout",
     "output_type": "stream",
     "text": [
      "Epoch [711/3000]: Train loss: 2.4356,             Valid loss: 2.6589\n"
     ]
    },
    {
     "name": "stderr",
     "output_type": "stream",
     "text": [
      "epoch [712/3000]: 100%|██████████| 9/9 [00:00<00:00, 73.97it/s, loss=1.36]\n"
     ]
    },
    {
     "name": "stdout",
     "output_type": "stream",
     "text": [
      "Epoch [712/3000]: Train loss: 2.4678,             Valid loss: 2.4576\n"
     ]
    },
    {
     "name": "stderr",
     "output_type": "stream",
     "text": [
      "epoch [713/3000]: 100%|██████████| 9/9 [00:00<00:00, 69.52it/s, loss=1.35]\n"
     ]
    },
    {
     "name": "stdout",
     "output_type": "stream",
     "text": [
      "Epoch [713/3000]: Train loss: 2.4350,             Valid loss: 2.2154\n"
     ]
    },
    {
     "name": "stderr",
     "output_type": "stream",
     "text": [
      "epoch [714/3000]: 100%|██████████| 9/9 [00:00<00:00, 70.38it/s, loss=1.35]\n"
     ]
    },
    {
     "name": "stdout",
     "output_type": "stream",
     "text": [
      "Epoch [714/3000]: Train loss: 2.4603,             Valid loss: 2.0865\n"
     ]
    },
    {
     "name": "stderr",
     "output_type": "stream",
     "text": [
      "epoch [715/3000]: 100%|██████████| 9/9 [00:00<00:00, 79.22it/s, loss=1.35]\n"
     ]
    },
    {
     "name": "stdout",
     "output_type": "stream",
     "text": [
      "Epoch [715/3000]: Train loss: 2.4362,             Valid loss: 2.1664\n"
     ]
    },
    {
     "name": "stderr",
     "output_type": "stream",
     "text": [
      "epoch [716/3000]: 100%|██████████| 9/9 [00:00<00:00, 83.27it/s, loss=1.35]\n"
     ]
    },
    {
     "name": "stdout",
     "output_type": "stream",
     "text": [
      "Epoch [716/3000]: Train loss: 2.4470,             Valid loss: 2.5557\n"
     ]
    },
    {
     "name": "stderr",
     "output_type": "stream",
     "text": [
      "epoch [717/3000]: 100%|██████████| 9/9 [00:00<00:00, 79.83it/s, loss=1.35]\n"
     ]
    },
    {
     "name": "stdout",
     "output_type": "stream",
     "text": [
      "Epoch [717/3000]: Train loss: 2.4364,             Valid loss: 2.1430\n"
     ]
    },
    {
     "name": "stderr",
     "output_type": "stream",
     "text": [
      "epoch [718/3000]: 100%|██████████| 9/9 [00:00<00:00, 83.64it/s, loss=1.35]\n"
     ]
    },
    {
     "name": "stdout",
     "output_type": "stream",
     "text": [
      "Epoch [718/3000]: Train loss: 2.4417,             Valid loss: 2.5978\n"
     ]
    },
    {
     "name": "stderr",
     "output_type": "stream",
     "text": [
      "epoch [719/3000]: 100%|██████████| 9/9 [00:00<00:00, 97.70it/s, loss=1.35]\n"
     ]
    },
    {
     "name": "stdout",
     "output_type": "stream",
     "text": [
      "Epoch [719/3000]: Train loss: 2.4350,             Valid loss: 2.1201\n"
     ]
    },
    {
     "name": "stderr",
     "output_type": "stream",
     "text": [
      "epoch [720/3000]: 100%|██████████| 9/9 [00:00<00:00, 75.20it/s, loss=1.35]\n"
     ]
    },
    {
     "name": "stdout",
     "output_type": "stream",
     "text": [
      "Epoch [720/3000]: Train loss: 2.4306,             Valid loss: 2.3030\n"
     ]
    },
    {
     "name": "stderr",
     "output_type": "stream",
     "text": [
      "epoch [721/3000]: 100%|██████████| 9/9 [00:00<00:00, 76.65it/s, loss=1.35]\n"
     ]
    },
    {
     "name": "stdout",
     "output_type": "stream",
     "text": [
      "Epoch [721/3000]: Train loss: 2.4343,             Valid loss: 2.7108\n"
     ]
    },
    {
     "name": "stderr",
     "output_type": "stream",
     "text": [
      "epoch [722/3000]: 100%|██████████| 9/9 [00:00<00:00, 83.21it/s, loss=1.35]\n"
     ]
    },
    {
     "name": "stdout",
     "output_type": "stream",
     "text": [
      "Epoch [722/3000]: Train loss: 2.4275,             Valid loss: 2.5013\n"
     ]
    },
    {
     "name": "stderr",
     "output_type": "stream",
     "text": [
      "epoch [723/3000]: 100%|██████████| 9/9 [00:00<00:00, 82.69it/s, loss=1.34]\n"
     ]
    },
    {
     "name": "stdout",
     "output_type": "stream",
     "text": [
      "Epoch [723/3000]: Train loss: 2.4315,             Valid loss: 1.9309\n",
      "Saving model with loss 1.931\n"
     ]
    },
    {
     "name": "stderr",
     "output_type": "stream",
     "text": [
      "epoch [724/3000]: 100%|██████████| 9/9 [00:00<00:00, 93.72it/s, loss=1.34]\n"
     ]
    },
    {
     "name": "stdout",
     "output_type": "stream",
     "text": [
      "Epoch [724/3000]: Train loss: 2.4292,             Valid loss: 2.3218\n"
     ]
    },
    {
     "name": "stderr",
     "output_type": "stream",
     "text": [
      "epoch [725/3000]: 100%|██████████| 9/9 [00:00<00:00, 95.91it/s, loss=1.34]\n"
     ]
    },
    {
     "name": "stdout",
     "output_type": "stream",
     "text": [
      "Epoch [725/3000]: Train loss: 2.4235,             Valid loss: 2.4422\n"
     ]
    },
    {
     "name": "stderr",
     "output_type": "stream",
     "text": [
      "epoch [726/3000]: 100%|██████████| 9/9 [00:00<00:00, 93.76it/s, loss=1.34]\n"
     ]
    },
    {
     "name": "stdout",
     "output_type": "stream",
     "text": [
      "Epoch [726/3000]: Train loss: 2.4265,             Valid loss: 2.6109\n"
     ]
    },
    {
     "name": "stderr",
     "output_type": "stream",
     "text": [
      "epoch [727/3000]: 100%|██████████| 9/9 [00:00<00:00, 91.85it/s, loss=1.34]\n"
     ]
    },
    {
     "name": "stdout",
     "output_type": "stream",
     "text": [
      "Epoch [727/3000]: Train loss: 2.4227,             Valid loss: 2.5806\n"
     ]
    },
    {
     "name": "stderr",
     "output_type": "stream",
     "text": [
      "epoch [728/3000]: 100%|██████████| 9/9 [00:00<00:00, 80.51it/s, loss=1.34]\n"
     ]
    },
    {
     "name": "stdout",
     "output_type": "stream",
     "text": [
      "Epoch [728/3000]: Train loss: 2.4205,             Valid loss: 2.2370\n"
     ]
    },
    {
     "name": "stderr",
     "output_type": "stream",
     "text": [
      "epoch [729/3000]: 100%|██████████| 9/9 [00:00<00:00, 87.08it/s, loss=1.34]\n"
     ]
    },
    {
     "name": "stdout",
     "output_type": "stream",
     "text": [
      "Epoch [729/3000]: Train loss: 2.4217,             Valid loss: 2.0531\n"
     ]
    },
    {
     "name": "stderr",
     "output_type": "stream",
     "text": [
      "epoch [730/3000]: 100%|██████████| 9/9 [00:00<00:00, 40.15it/s, loss=1.34]\n"
     ]
    },
    {
     "name": "stdout",
     "output_type": "stream",
     "text": [
      "Epoch [730/3000]: Train loss: 2.4234,             Valid loss: 2.6146\n"
     ]
    },
    {
     "name": "stderr",
     "output_type": "stream",
     "text": [
      "epoch [731/3000]: 100%|██████████| 9/9 [00:00<00:00, 75.95it/s, loss=1.34]\n"
     ]
    },
    {
     "name": "stdout",
     "output_type": "stream",
     "text": [
      "Epoch [731/3000]: Train loss: 2.4170,             Valid loss: 2.6005\n"
     ]
    },
    {
     "name": "stderr",
     "output_type": "stream",
     "text": [
      "epoch [732/3000]: 100%|██████████| 9/9 [00:00<00:00, 84.57it/s, loss=1.34]\n"
     ]
    },
    {
     "name": "stdout",
     "output_type": "stream",
     "text": [
      "Epoch [732/3000]: Train loss: 2.4155,             Valid loss: 2.4685\n"
     ]
    },
    {
     "name": "stderr",
     "output_type": "stream",
     "text": [
      "epoch [733/3000]: 100%|██████████| 9/9 [00:00<00:00, 91.80it/s, loss=1.34]\n"
     ]
    },
    {
     "name": "stdout",
     "output_type": "stream",
     "text": [
      "Epoch [733/3000]: Train loss: 2.4171,             Valid loss: 2.4380\n"
     ]
    },
    {
     "name": "stderr",
     "output_type": "stream",
     "text": [
      "epoch [734/3000]: 100%|██████████| 9/9 [00:00<00:00, 71.24it/s, loss=1.34]\n"
     ]
    },
    {
     "name": "stdout",
     "output_type": "stream",
     "text": [
      "Epoch [734/3000]: Train loss: 2.4155,             Valid loss: 2.0144\n"
     ]
    },
    {
     "name": "stderr",
     "output_type": "stream",
     "text": [
      "epoch [735/3000]: 100%|██████████| 9/9 [00:00<00:00, 84.69it/s, loss=1.34]\n"
     ]
    },
    {
     "name": "stdout",
     "output_type": "stream",
     "text": [
      "Epoch [735/3000]: Train loss: 2.4134,             Valid loss: 2.7761\n"
     ]
    },
    {
     "name": "stderr",
     "output_type": "stream",
     "text": [
      "epoch [736/3000]: 100%|██████████| 9/9 [00:00<00:00, 85.84it/s, loss=1.33]\n"
     ]
    },
    {
     "name": "stdout",
     "output_type": "stream",
     "text": [
      "Epoch [736/3000]: Train loss: 2.4100,             Valid loss: 1.9046\n",
      "Saving model with loss 1.905\n"
     ]
    },
    {
     "name": "stderr",
     "output_type": "stream",
     "text": [
      "epoch [737/3000]: 100%|██████████| 9/9 [00:00<00:00, 98.22it/s, loss=1.33]\n"
     ]
    },
    {
     "name": "stdout",
     "output_type": "stream",
     "text": [
      "Epoch [737/3000]: Train loss: 2.4148,             Valid loss: 1.9852\n"
     ]
    },
    {
     "name": "stderr",
     "output_type": "stream",
     "text": [
      "epoch [738/3000]: 100%|██████████| 9/9 [00:00<00:00, 91.95it/s, loss=1.33]\n"
     ]
    },
    {
     "name": "stdout",
     "output_type": "stream",
     "text": [
      "Epoch [738/3000]: Train loss: 2.4074,             Valid loss: 3.1039\n"
     ]
    },
    {
     "name": "stderr",
     "output_type": "stream",
     "text": [
      "epoch [739/3000]: 100%|██████████| 9/9 [00:00<00:00, 95.94it/s, loss=1.33]\n"
     ]
    },
    {
     "name": "stdout",
     "output_type": "stream",
     "text": [
      "Epoch [739/3000]: Train loss: 2.4083,             Valid loss: 2.1179\n"
     ]
    },
    {
     "name": "stderr",
     "output_type": "stream",
     "text": [
      "epoch [740/3000]: 100%|██████████| 9/9 [00:00<00:00, 84.17it/s, loss=1.33]\n"
     ]
    },
    {
     "name": "stdout",
     "output_type": "stream",
     "text": [
      "Epoch [740/3000]: Train loss: 2.4059,             Valid loss: 2.6821\n"
     ]
    },
    {
     "name": "stderr",
     "output_type": "stream",
     "text": [
      "epoch [741/3000]: 100%|██████████| 9/9 [00:00<00:00, 65.80it/s, loss=1.33]\n"
     ]
    },
    {
     "name": "stdout",
     "output_type": "stream",
     "text": [
      "Epoch [741/3000]: Train loss: 2.4063,             Valid loss: 2.3078\n"
     ]
    },
    {
     "name": "stderr",
     "output_type": "stream",
     "text": [
      "epoch [742/3000]: 100%|██████████| 9/9 [00:00<00:00, 73.08it/s, loss=1.33]\n"
     ]
    },
    {
     "name": "stdout",
     "output_type": "stream",
     "text": [
      "Epoch [742/3000]: Train loss: 2.4036,             Valid loss: 1.8763\n",
      "Saving model with loss 1.876\n"
     ]
    },
    {
     "name": "stderr",
     "output_type": "stream",
     "text": [
      "epoch [743/3000]: 100%|██████████| 9/9 [00:00<00:00, 83.57it/s, loss=1.33]\n"
     ]
    },
    {
     "name": "stdout",
     "output_type": "stream",
     "text": [
      "Epoch [743/3000]: Train loss: 2.4036,             Valid loss: 2.4741\n"
     ]
    },
    {
     "name": "stderr",
     "output_type": "stream",
     "text": [
      "epoch [744/3000]: 100%|██████████| 9/9 [00:00<00:00, 81.18it/s, loss=1.33]\n"
     ]
    },
    {
     "name": "stdout",
     "output_type": "stream",
     "text": [
      "Epoch [744/3000]: Train loss: 2.4013,             Valid loss: 2.6675\n"
     ]
    },
    {
     "name": "stderr",
     "output_type": "stream",
     "text": [
      "epoch [745/3000]: 100%|██████████| 9/9 [00:00<00:00, 90.30it/s, loss=1.33]\n"
     ]
    },
    {
     "name": "stdout",
     "output_type": "stream",
     "text": [
      "Epoch [745/3000]: Train loss: 2.3999,             Valid loss: 2.0782\n"
     ]
    },
    {
     "name": "stderr",
     "output_type": "stream",
     "text": [
      "epoch [746/3000]: 100%|██████████| 9/9 [00:00<00:00, 87.35it/s, loss=1.33]\n"
     ]
    },
    {
     "name": "stdout",
     "output_type": "stream",
     "text": [
      "Epoch [746/3000]: Train loss: 2.4001,             Valid loss: 2.2315\n"
     ]
    },
    {
     "name": "stderr",
     "output_type": "stream",
     "text": [
      "epoch [747/3000]: 100%|██████████| 9/9 [00:00<00:00, 83.84it/s, loss=1.33]\n"
     ]
    },
    {
     "name": "stdout",
     "output_type": "stream",
     "text": [
      "Epoch [747/3000]: Train loss: 2.3964,             Valid loss: 2.4882\n"
     ]
    },
    {
     "name": "stderr",
     "output_type": "stream",
     "text": [
      "epoch [748/3000]: 100%|██████████| 9/9 [00:00<00:00, 75.94it/s, loss=1.33]\n"
     ]
    },
    {
     "name": "stdout",
     "output_type": "stream",
     "text": [
      "Epoch [748/3000]: Train loss: 2.3972,             Valid loss: 2.8298\n"
     ]
    },
    {
     "name": "stderr",
     "output_type": "stream",
     "text": [
      "epoch [749/3000]: 100%|██████████| 9/9 [00:00<00:00, 84.70it/s, loss=1.32]\n"
     ]
    },
    {
     "name": "stdout",
     "output_type": "stream",
     "text": [
      "Epoch [749/3000]: Train loss: 2.3948,             Valid loss: 2.2665\n"
     ]
    },
    {
     "name": "stderr",
     "output_type": "stream",
     "text": [
      "epoch [750/3000]: 100%|██████████| 9/9 [00:00<00:00, 86.20it/s, loss=1.32]\n"
     ]
    },
    {
     "name": "stdout",
     "output_type": "stream",
     "text": [
      "Epoch [750/3000]: Train loss: 2.3940,             Valid loss: 2.2390\n"
     ]
    },
    {
     "name": "stderr",
     "output_type": "stream",
     "text": [
      "epoch [751/3000]: 100%|██████████| 9/9 [00:00<00:00, 90.24it/s, loss=1.32]\n"
     ]
    },
    {
     "name": "stdout",
     "output_type": "stream",
     "text": [
      "Epoch [751/3000]: Train loss: 2.3937,             Valid loss: 2.4032\n"
     ]
    },
    {
     "name": "stderr",
     "output_type": "stream",
     "text": [
      "epoch [752/3000]: 100%|██████████| 9/9 [00:00<00:00, 75.09it/s, loss=1.32]\n"
     ]
    },
    {
     "name": "stdout",
     "output_type": "stream",
     "text": [
      "Epoch [752/3000]: Train loss: 2.3919,             Valid loss: 2.7217\n"
     ]
    },
    {
     "name": "stderr",
     "output_type": "stream",
     "text": [
      "epoch [753/3000]: 100%|██████████| 9/9 [00:00<00:00, 77.02it/s, loss=1.32]\n"
     ]
    },
    {
     "name": "stdout",
     "output_type": "stream",
     "text": [
      "Epoch [753/3000]: Train loss: 2.3909,             Valid loss: 2.4061\n"
     ]
    },
    {
     "name": "stderr",
     "output_type": "stream",
     "text": [
      "epoch [754/3000]: 100%|██████████| 9/9 [00:00<00:00, 80.36it/s, loss=1.32]\n"
     ]
    },
    {
     "name": "stdout",
     "output_type": "stream",
     "text": [
      "Epoch [754/3000]: Train loss: 2.3899,             Valid loss: 2.4243\n"
     ]
    },
    {
     "name": "stderr",
     "output_type": "stream",
     "text": [
      "epoch [755/3000]: 100%|██████████| 9/9 [00:00<00:00, 86.39it/s, loss=1.32]\n"
     ]
    },
    {
     "name": "stdout",
     "output_type": "stream",
     "text": [
      "Epoch [755/3000]: Train loss: 2.3880,             Valid loss: 2.1115\n"
     ]
    },
    {
     "name": "stderr",
     "output_type": "stream",
     "text": [
      "epoch [756/3000]: 100%|██████████| 9/9 [00:00<00:00, 78.51it/s, loss=1.32]\n"
     ]
    },
    {
     "name": "stdout",
     "output_type": "stream",
     "text": [
      "Epoch [756/3000]: Train loss: 2.3909,             Valid loss: 2.5741\n"
     ]
    },
    {
     "name": "stderr",
     "output_type": "stream",
     "text": [
      "epoch [757/3000]: 100%|██████████| 9/9 [00:00<00:00, 83.25it/s, loss=1.32]\n"
     ]
    },
    {
     "name": "stdout",
     "output_type": "stream",
     "text": [
      "Epoch [757/3000]: Train loss: 2.3842,             Valid loss: 2.4565\n"
     ]
    },
    {
     "name": "stderr",
     "output_type": "stream",
     "text": [
      "epoch [758/3000]: 100%|██████████| 9/9 [00:00<00:00, 91.04it/s, loss=1.32]\n"
     ]
    },
    {
     "name": "stdout",
     "output_type": "stream",
     "text": [
      "Epoch [758/3000]: Train loss: 2.3854,             Valid loss: 2.9608\n"
     ]
    },
    {
     "name": "stderr",
     "output_type": "stream",
     "text": [
      "epoch [759/3000]: 100%|██████████| 9/9 [00:00<00:00, 81.81it/s, loss=1.32]\n"
     ]
    },
    {
     "name": "stdout",
     "output_type": "stream",
     "text": [
      "Epoch [759/3000]: Train loss: 2.3867,             Valid loss: 2.6647\n"
     ]
    },
    {
     "name": "stderr",
     "output_type": "stream",
     "text": [
      "epoch [760/3000]: 100%|██████████| 9/9 [00:00<00:00, 82.96it/s, loss=1.32]\n"
     ]
    },
    {
     "name": "stdout",
     "output_type": "stream",
     "text": [
      "Epoch [760/3000]: Train loss: 2.3823,             Valid loss: 2.1145\n"
     ]
    },
    {
     "name": "stderr",
     "output_type": "stream",
     "text": [
      "epoch [761/3000]: 100%|██████████| 9/9 [00:00<00:00, 81.76it/s, loss=1.32]\n"
     ]
    },
    {
     "name": "stdout",
     "output_type": "stream",
     "text": [
      "Epoch [761/3000]: Train loss: 2.3838,             Valid loss: 2.1883\n"
     ]
    },
    {
     "name": "stderr",
     "output_type": "stream",
     "text": [
      "epoch [762/3000]: 100%|██████████| 9/9 [00:00<00:00, 80.26it/s, loss=1.32]\n"
     ]
    },
    {
     "name": "stdout",
     "output_type": "stream",
     "text": [
      "Epoch [762/3000]: Train loss: 2.3848,             Valid loss: 2.2518\n"
     ]
    },
    {
     "name": "stderr",
     "output_type": "stream",
     "text": [
      "epoch [763/3000]: 100%|██████████| 9/9 [00:00<00:00, 62.60it/s, loss=1.32]\n"
     ]
    },
    {
     "name": "stdout",
     "output_type": "stream",
     "text": [
      "Epoch [763/3000]: Train loss: 2.3799,             Valid loss: 2.0249\n"
     ]
    },
    {
     "name": "stderr",
     "output_type": "stream",
     "text": [
      "epoch [764/3000]: 100%|██████████| 9/9 [00:00<00:00, 84.90it/s, loss=1.31]\n"
     ]
    },
    {
     "name": "stdout",
     "output_type": "stream",
     "text": [
      "Epoch [764/3000]: Train loss: 2.3785,             Valid loss: 2.4401\n"
     ]
    },
    {
     "name": "stderr",
     "output_type": "stream",
     "text": [
      "epoch [765/3000]: 100%|██████████| 9/9 [00:00<00:00, 85.04it/s, loss=1.32]\n"
     ]
    },
    {
     "name": "stdout",
     "output_type": "stream",
     "text": [
      "Epoch [765/3000]: Train loss: 2.3849,             Valid loss: 2.1050\n"
     ]
    },
    {
     "name": "stderr",
     "output_type": "stream",
     "text": [
      "epoch [766/3000]: 100%|██████████| 9/9 [00:00<00:00, 79.83it/s, loss=1.31]\n"
     ]
    },
    {
     "name": "stdout",
     "output_type": "stream",
     "text": [
      "Epoch [766/3000]: Train loss: 2.3742,             Valid loss: 2.4129\n"
     ]
    },
    {
     "name": "stderr",
     "output_type": "stream",
     "text": [
      "epoch [767/3000]: 100%|██████████| 9/9 [00:00<00:00, 83.93it/s, loss=1.31]\n"
     ]
    },
    {
     "name": "stdout",
     "output_type": "stream",
     "text": [
      "Epoch [767/3000]: Train loss: 2.3739,             Valid loss: 2.0935\n"
     ]
    },
    {
     "name": "stderr",
     "output_type": "stream",
     "text": [
      "epoch [768/3000]: 100%|██████████| 9/9 [00:00<00:00, 82.39it/s, loss=1.31]\n"
     ]
    },
    {
     "name": "stdout",
     "output_type": "stream",
     "text": [
      "Epoch [768/3000]: Train loss: 2.3745,             Valid loss: 2.1250\n"
     ]
    },
    {
     "name": "stderr",
     "output_type": "stream",
     "text": [
      "epoch [769/3000]: 100%|██████████| 9/9 [00:00<00:00, 82.76it/s, loss=1.31]\n"
     ]
    },
    {
     "name": "stdout",
     "output_type": "stream",
     "text": [
      "Epoch [769/3000]: Train loss: 2.3724,             Valid loss: 2.1582\n"
     ]
    },
    {
     "name": "stderr",
     "output_type": "stream",
     "text": [
      "epoch [770/3000]: 100%|██████████| 9/9 [00:00<00:00, 73.40it/s, loss=1.31]\n"
     ]
    },
    {
     "name": "stdout",
     "output_type": "stream",
     "text": [
      "Epoch [770/3000]: Train loss: 2.3749,             Valid loss: 2.2061\n"
     ]
    },
    {
     "name": "stderr",
     "output_type": "stream",
     "text": [
      "epoch [771/3000]: 100%|██████████| 9/9 [00:00<00:00, 76.43it/s, loss=1.31]\n"
     ]
    },
    {
     "name": "stdout",
     "output_type": "stream",
     "text": [
      "Epoch [771/3000]: Train loss: 2.3672,             Valid loss: 2.5188\n"
     ]
    },
    {
     "name": "stderr",
     "output_type": "stream",
     "text": [
      "epoch [772/3000]: 100%|██████████| 9/9 [00:00<00:00, 43.86it/s, loss=1.31]\n"
     ]
    },
    {
     "name": "stdout",
     "output_type": "stream",
     "text": [
      "Epoch [772/3000]: Train loss: 2.3742,             Valid loss: 2.3081\n"
     ]
    },
    {
     "name": "stderr",
     "output_type": "stream",
     "text": [
      "epoch [773/3000]: 100%|██████████| 9/9 [00:00<00:00, 61.35it/s, loss=1.31]\n"
     ]
    },
    {
     "name": "stdout",
     "output_type": "stream",
     "text": [
      "Epoch [773/3000]: Train loss: 2.3656,             Valid loss: 2.2816\n"
     ]
    },
    {
     "name": "stderr",
     "output_type": "stream",
     "text": [
      "epoch [774/3000]: 100%|██████████| 9/9 [00:00<00:00, 79.65it/s, loss=1.31]\n"
     ]
    },
    {
     "name": "stdout",
     "output_type": "stream",
     "text": [
      "Epoch [774/3000]: Train loss: 2.3714,             Valid loss: 2.2759\n"
     ]
    },
    {
     "name": "stderr",
     "output_type": "stream",
     "text": [
      "epoch [775/3000]: 100%|██████████| 9/9 [00:00<00:00, 77.03it/s, loss=1.31]\n"
     ]
    },
    {
     "name": "stdout",
     "output_type": "stream",
     "text": [
      "Epoch [775/3000]: Train loss: 2.3661,             Valid loss: 2.4491\n"
     ]
    },
    {
     "name": "stderr",
     "output_type": "stream",
     "text": [
      "epoch [776/3000]: 100%|██████████| 9/9 [00:00<00:00, 67.73it/s, loss=1.31]\n"
     ]
    },
    {
     "name": "stdout",
     "output_type": "stream",
     "text": [
      "Epoch [776/3000]: Train loss: 2.3636,             Valid loss: 2.5406\n"
     ]
    },
    {
     "name": "stderr",
     "output_type": "stream",
     "text": [
      "epoch [777/3000]: 100%|██████████| 9/9 [00:00<00:00, 76.56it/s, loss=1.31]\n"
     ]
    },
    {
     "name": "stdout",
     "output_type": "stream",
     "text": [
      "Epoch [777/3000]: Train loss: 2.3700,             Valid loss: 2.0412\n"
     ]
    },
    {
     "name": "stderr",
     "output_type": "stream",
     "text": [
      "epoch [778/3000]: 100%|██████████| 9/9 [00:00<00:00, 81.44it/s, loss=1.31]\n"
     ]
    },
    {
     "name": "stdout",
     "output_type": "stream",
     "text": [
      "Epoch [778/3000]: Train loss: 2.3616,             Valid loss: 2.6382\n"
     ]
    },
    {
     "name": "stderr",
     "output_type": "stream",
     "text": [
      "epoch [779/3000]: 100%|██████████| 9/9 [00:00<00:00, 89.84it/s, loss=1.3]\n"
     ]
    },
    {
     "name": "stdout",
     "output_type": "stream",
     "text": [
      "Epoch [779/3000]: Train loss: 2.3638,             Valid loss: 2.2596\n"
     ]
    },
    {
     "name": "stderr",
     "output_type": "stream",
     "text": [
      "epoch [780/3000]: 100%|██████████| 9/9 [00:00<00:00, 90.54it/s, loss=1.31]\n"
     ]
    },
    {
     "name": "stdout",
     "output_type": "stream",
     "text": [
      "Epoch [780/3000]: Train loss: 2.3632,             Valid loss: 2.3276\n"
     ]
    },
    {
     "name": "stderr",
     "output_type": "stream",
     "text": [
      "epoch [781/3000]: 100%|██████████| 9/9 [00:00<00:00, 86.76it/s, loss=1.3]\n"
     ]
    },
    {
     "name": "stdout",
     "output_type": "stream",
     "text": [
      "Epoch [781/3000]: Train loss: 2.3578,             Valid loss: 2.9175\n"
     ]
    },
    {
     "name": "stderr",
     "output_type": "stream",
     "text": [
      "epoch [782/3000]: 100%|██████████| 9/9 [00:00<00:00, 78.81it/s, loss=1.3] \n"
     ]
    },
    {
     "name": "stdout",
     "output_type": "stream",
     "text": [
      "Epoch [782/3000]: Train loss: 2.3660,             Valid loss: 2.8267\n"
     ]
    },
    {
     "name": "stderr",
     "output_type": "stream",
     "text": [
      "epoch [783/3000]: 100%|██████████| 9/9 [00:00<00:00, 80.22it/s, loss=1.3]\n"
     ]
    },
    {
     "name": "stdout",
     "output_type": "stream",
     "text": [
      "Epoch [783/3000]: Train loss: 2.3598,             Valid loss: 2.3409\n"
     ]
    },
    {
     "name": "stderr",
     "output_type": "stream",
     "text": [
      "epoch [784/3000]: 100%|██████████| 9/9 [00:00<00:00, 74.95it/s, loss=1.3] \n"
     ]
    },
    {
     "name": "stdout",
     "output_type": "stream",
     "text": [
      "Epoch [784/3000]: Train loss: 2.3571,             Valid loss: 2.1105\n"
     ]
    },
    {
     "name": "stderr",
     "output_type": "stream",
     "text": [
      "epoch [785/3000]: 100%|██████████| 9/9 [00:00<00:00, 74.97it/s, loss=1.3] \n"
     ]
    },
    {
     "name": "stdout",
     "output_type": "stream",
     "text": [
      "Epoch [785/3000]: Train loss: 2.3588,             Valid loss: 2.0938\n"
     ]
    },
    {
     "name": "stderr",
     "output_type": "stream",
     "text": [
      "epoch [786/3000]: 100%|██████████| 9/9 [00:00<00:00, 77.09it/s, loss=1.3] \n"
     ]
    },
    {
     "name": "stdout",
     "output_type": "stream",
     "text": [
      "Epoch [786/3000]: Train loss: 2.3581,             Valid loss: 2.3492\n"
     ]
    },
    {
     "name": "stderr",
     "output_type": "stream",
     "text": [
      "epoch [787/3000]: 100%|██████████| 9/9 [00:00<00:00, 76.98it/s, loss=1.3] \n"
     ]
    },
    {
     "name": "stdout",
     "output_type": "stream",
     "text": [
      "Epoch [787/3000]: Train loss: 2.3519,             Valid loss: 2.2388\n"
     ]
    },
    {
     "name": "stderr",
     "output_type": "stream",
     "text": [
      "epoch [788/3000]: 100%|██████████| 9/9 [00:00<00:00, 75.18it/s, loss=1.3] \n"
     ]
    },
    {
     "name": "stdout",
     "output_type": "stream",
     "text": [
      "Epoch [788/3000]: Train loss: 2.3635,             Valid loss: 2.3498\n"
     ]
    },
    {
     "name": "stderr",
     "output_type": "stream",
     "text": [
      "epoch [789/3000]: 100%|██████████| 9/9 [00:00<00:00, 61.94it/s, loss=1.3] \n"
     ]
    },
    {
     "name": "stdout",
     "output_type": "stream",
     "text": [
      "Epoch [789/3000]: Train loss: 2.3495,             Valid loss: 2.0582\n"
     ]
    },
    {
     "name": "stderr",
     "output_type": "stream",
     "text": [
      "epoch [790/3000]: 100%|██████████| 9/9 [00:00<00:00, 82.59it/s, loss=1.3]\n"
     ]
    },
    {
     "name": "stdout",
     "output_type": "stream",
     "text": [
      "Epoch [790/3000]: Train loss: 2.3459,             Valid loss: 2.2223\n"
     ]
    },
    {
     "name": "stderr",
     "output_type": "stream",
     "text": [
      "epoch [791/3000]: 100%|██████████| 9/9 [00:00<00:00, 92.31it/s, loss=1.3]\n"
     ]
    },
    {
     "name": "stdout",
     "output_type": "stream",
     "text": [
      "Epoch [791/3000]: Train loss: 2.3514,             Valid loss: 2.1957\n"
     ]
    },
    {
     "name": "stderr",
     "output_type": "stream",
     "text": [
      "epoch [792/3000]: 100%|██████████| 9/9 [00:00<00:00, 80.69it/s, loss=1.29]\n"
     ]
    },
    {
     "name": "stdout",
     "output_type": "stream",
     "text": [
      "Epoch [792/3000]: Train loss: 2.3480,             Valid loss: 2.1960\n"
     ]
    },
    {
     "name": "stderr",
     "output_type": "stream",
     "text": [
      "epoch [793/3000]: 100%|██████████| 9/9 [00:00<00:00, 81.83it/s, loss=1.29]\n"
     ]
    },
    {
     "name": "stdout",
     "output_type": "stream",
     "text": [
      "Epoch [793/3000]: Train loss: 2.3507,             Valid loss: 2.7878\n"
     ]
    },
    {
     "name": "stderr",
     "output_type": "stream",
     "text": [
      "epoch [794/3000]: 100%|██████████| 9/9 [00:00<00:00, 77.93it/s, loss=1.29]\n"
     ]
    },
    {
     "name": "stdout",
     "output_type": "stream",
     "text": [
      "Epoch [794/3000]: Train loss: 2.3477,             Valid loss: 2.6326\n"
     ]
    },
    {
     "name": "stderr",
     "output_type": "stream",
     "text": [
      "epoch [795/3000]: 100%|██████████| 9/9 [00:00<00:00, 73.11it/s, loss=1.29]\n"
     ]
    },
    {
     "name": "stdout",
     "output_type": "stream",
     "text": [
      "Epoch [795/3000]: Train loss: 2.3430,             Valid loss: 1.9443\n"
     ]
    },
    {
     "name": "stderr",
     "output_type": "stream",
     "text": [
      "epoch [796/3000]: 100%|██████████| 9/9 [00:00<00:00, 80.37it/s, loss=1.29]\n"
     ]
    },
    {
     "name": "stdout",
     "output_type": "stream",
     "text": [
      "Epoch [796/3000]: Train loss: 2.3550,             Valid loss: 2.2592\n"
     ]
    },
    {
     "name": "stderr",
     "output_type": "stream",
     "text": [
      "epoch [797/3000]: 100%|██████████| 9/9 [00:00<00:00, 82.16it/s, loss=1.29]\n"
     ]
    },
    {
     "name": "stdout",
     "output_type": "stream",
     "text": [
      "Epoch [797/3000]: Train loss: 2.3403,             Valid loss: 2.2356\n"
     ]
    },
    {
     "name": "stderr",
     "output_type": "stream",
     "text": [
      "epoch [798/3000]: 100%|██████████| 9/9 [00:00<00:00, 87.05it/s, loss=1.29]\n"
     ]
    },
    {
     "name": "stdout",
     "output_type": "stream",
     "text": [
      "Epoch [798/3000]: Train loss: 2.3487,             Valid loss: 2.5921\n"
     ]
    },
    {
     "name": "stderr",
     "output_type": "stream",
     "text": [
      "epoch [799/3000]: 100%|██████████| 9/9 [00:00<00:00, 91.00it/s, loss=1.29]\n"
     ]
    },
    {
     "name": "stdout",
     "output_type": "stream",
     "text": [
      "Epoch [799/3000]: Train loss: 2.3437,             Valid loss: 2.4321\n"
     ]
    },
    {
     "name": "stderr",
     "output_type": "stream",
     "text": [
      "epoch [800/3000]: 100%|██████████| 9/9 [00:00<00:00, 89.47it/s, loss=1.29]\n"
     ]
    },
    {
     "name": "stdout",
     "output_type": "stream",
     "text": [
      "Epoch [800/3000]: Train loss: 2.3431,             Valid loss: 2.3189\n"
     ]
    },
    {
     "name": "stderr",
     "output_type": "stream",
     "text": [
      "epoch [801/3000]: 100%|██████████| 9/9 [00:00<00:00, 91.20it/s, loss=1.29]\n"
     ]
    },
    {
     "name": "stdout",
     "output_type": "stream",
     "text": [
      "Epoch [801/3000]: Train loss: 2.3422,             Valid loss: 2.2829\n"
     ]
    },
    {
     "name": "stderr",
     "output_type": "stream",
     "text": [
      "epoch [802/3000]: 100%|██████████| 9/9 [00:00<00:00, 84.75it/s, loss=1.29]\n"
     ]
    },
    {
     "name": "stdout",
     "output_type": "stream",
     "text": [
      "Epoch [802/3000]: Train loss: 2.3396,             Valid loss: 2.1794\n"
     ]
    },
    {
     "name": "stderr",
     "output_type": "stream",
     "text": [
      "epoch [803/3000]: 100%|██████████| 9/9 [00:00<00:00, 76.14it/s, loss=1.29]\n"
     ]
    },
    {
     "name": "stdout",
     "output_type": "stream",
     "text": [
      "Epoch [803/3000]: Train loss: 2.3391,             Valid loss: 2.2422\n"
     ]
    },
    {
     "name": "stderr",
     "output_type": "stream",
     "text": [
      "epoch [804/3000]: 100%|██████████| 9/9 [00:00<00:00, 85.54it/s, loss=1.29]\n"
     ]
    },
    {
     "name": "stdout",
     "output_type": "stream",
     "text": [
      "Epoch [804/3000]: Train loss: 2.3415,             Valid loss: 2.6179\n"
     ]
    },
    {
     "name": "stderr",
     "output_type": "stream",
     "text": [
      "epoch [805/3000]: 100%|██████████| 9/9 [00:00<00:00, 87.34it/s, loss=1.29]\n"
     ]
    },
    {
     "name": "stdout",
     "output_type": "stream",
     "text": [
      "Epoch [805/3000]: Train loss: 2.3349,             Valid loss: 2.4145\n"
     ]
    },
    {
     "name": "stderr",
     "output_type": "stream",
     "text": [
      "epoch [806/3000]: 100%|██████████| 9/9 [00:00<00:00, 91.76it/s, loss=1.29]\n"
     ]
    },
    {
     "name": "stdout",
     "output_type": "stream",
     "text": [
      "Epoch [806/3000]: Train loss: 2.3398,             Valid loss: 2.1903\n"
     ]
    },
    {
     "name": "stderr",
     "output_type": "stream",
     "text": [
      "epoch [807/3000]: 100%|██████████| 9/9 [00:00<00:00, 75.14it/s, loss=1.28]\n"
     ]
    },
    {
     "name": "stdout",
     "output_type": "stream",
     "text": [
      "Epoch [807/3000]: Train loss: 2.3286,             Valid loss: 2.2333\n"
     ]
    },
    {
     "name": "stderr",
     "output_type": "stream",
     "text": [
      "epoch [808/3000]: 100%|██████████| 9/9 [00:00<00:00, 70.93it/s, loss=1.29]\n"
     ]
    },
    {
     "name": "stdout",
     "output_type": "stream",
     "text": [
      "Epoch [808/3000]: Train loss: 2.3372,             Valid loss: 2.3356\n"
     ]
    },
    {
     "name": "stderr",
     "output_type": "stream",
     "text": [
      "epoch [809/3000]: 100%|██████████| 9/9 [00:00<00:00, 83.45it/s, loss=1.28]\n"
     ]
    },
    {
     "name": "stdout",
     "output_type": "stream",
     "text": [
      "Epoch [809/3000]: Train loss: 2.3262,             Valid loss: 2.8451\n"
     ]
    },
    {
     "name": "stderr",
     "output_type": "stream",
     "text": [
      "epoch [810/3000]: 100%|██████████| 9/9 [00:00<00:00, 87.91it/s, loss=1.28]\n"
     ]
    },
    {
     "name": "stdout",
     "output_type": "stream",
     "text": [
      "Epoch [810/3000]: Train loss: 2.3373,             Valid loss: 2.5317\n"
     ]
    },
    {
     "name": "stderr",
     "output_type": "stream",
     "text": [
      "epoch [811/3000]: 100%|██████████| 9/9 [00:00<00:00, 86.35it/s, loss=1.28]\n"
     ]
    },
    {
     "name": "stdout",
     "output_type": "stream",
     "text": [
      "Epoch [811/3000]: Train loss: 2.3285,             Valid loss: 2.1178\n"
     ]
    },
    {
     "name": "stderr",
     "output_type": "stream",
     "text": [
      "epoch [812/3000]: 100%|██████████| 9/9 [00:00<00:00, 45.63it/s, loss=1.28]\n"
     ]
    },
    {
     "name": "stdout",
     "output_type": "stream",
     "text": [
      "Epoch [812/3000]: Train loss: 2.3279,             Valid loss: 2.2442\n"
     ]
    },
    {
     "name": "stderr",
     "output_type": "stream",
     "text": [
      "epoch [813/3000]: 100%|██████████| 9/9 [00:00<00:00, 95.15it/s, loss=1.28]\n"
     ]
    },
    {
     "name": "stdout",
     "output_type": "stream",
     "text": [
      "Epoch [813/3000]: Train loss: 2.3290,             Valid loss: 2.3036\n"
     ]
    },
    {
     "name": "stderr",
     "output_type": "stream",
     "text": [
      "epoch [814/3000]: 100%|██████████| 9/9 [00:00<00:00, 87.44it/s, loss=1.28]\n"
     ]
    },
    {
     "name": "stdout",
     "output_type": "stream",
     "text": [
      "Epoch [814/3000]: Train loss: 2.3285,             Valid loss: 2.8781\n"
     ]
    },
    {
     "name": "stderr",
     "output_type": "stream",
     "text": [
      "epoch [815/3000]: 100%|██████████| 9/9 [00:00<00:00, 73.73it/s, loss=1.28]\n"
     ]
    },
    {
     "name": "stdout",
     "output_type": "stream",
     "text": [
      "Epoch [815/3000]: Train loss: 2.3245,             Valid loss: 2.4956\n"
     ]
    },
    {
     "name": "stderr",
     "output_type": "stream",
     "text": [
      "epoch [816/3000]: 100%|██████████| 9/9 [00:00<00:00, 61.46it/s, loss=1.28]\n"
     ]
    },
    {
     "name": "stdout",
     "output_type": "stream",
     "text": [
      "Epoch [816/3000]: Train loss: 2.3255,             Valid loss: 2.1298\n"
     ]
    },
    {
     "name": "stderr",
     "output_type": "stream",
     "text": [
      "epoch [817/3000]: 100%|██████████| 9/9 [00:00<00:00, 76.72it/s, loss=1.28]\n"
     ]
    },
    {
     "name": "stdout",
     "output_type": "stream",
     "text": [
      "Epoch [817/3000]: Train loss: 2.3233,             Valid loss: 2.0829\n"
     ]
    },
    {
     "name": "stderr",
     "output_type": "stream",
     "text": [
      "epoch [818/3000]: 100%|██████████| 9/9 [00:00<00:00, 70.88it/s, loss=1.28]\n"
     ]
    },
    {
     "name": "stdout",
     "output_type": "stream",
     "text": [
      "Epoch [818/3000]: Train loss: 2.3226,             Valid loss: 2.1921\n"
     ]
    },
    {
     "name": "stderr",
     "output_type": "stream",
     "text": [
      "epoch [819/3000]: 100%|██████████| 9/9 [00:00<00:00, 80.31it/s, loss=1.28]\n"
     ]
    },
    {
     "name": "stdout",
     "output_type": "stream",
     "text": [
      "Epoch [819/3000]: Train loss: 2.3219,             Valid loss: 2.4056\n"
     ]
    },
    {
     "name": "stderr",
     "output_type": "stream",
     "text": [
      "epoch [820/3000]: 100%|██████████| 9/9 [00:00<00:00, 81.40it/s, loss=1.28]\n"
     ]
    },
    {
     "name": "stdout",
     "output_type": "stream",
     "text": [
      "Epoch [820/3000]: Train loss: 2.3208,             Valid loss: 2.5531\n"
     ]
    },
    {
     "name": "stderr",
     "output_type": "stream",
     "text": [
      "epoch [821/3000]: 100%|██████████| 9/9 [00:00<00:00, 76.31it/s, loss=1.28]\n"
     ]
    },
    {
     "name": "stdout",
     "output_type": "stream",
     "text": [
      "Epoch [821/3000]: Train loss: 2.3180,             Valid loss: 2.2938\n"
     ]
    },
    {
     "name": "stderr",
     "output_type": "stream",
     "text": [
      "epoch [822/3000]: 100%|██████████| 9/9 [00:00<00:00, 83.25it/s, loss=1.27]\n"
     ]
    },
    {
     "name": "stdout",
     "output_type": "stream",
     "text": [
      "Epoch [822/3000]: Train loss: 2.3182,             Valid loss: 2.5338\n"
     ]
    },
    {
     "name": "stderr",
     "output_type": "stream",
     "text": [
      "epoch [823/3000]: 100%|██████████| 9/9 [00:00<00:00, 75.97it/s, loss=1.27]\n"
     ]
    },
    {
     "name": "stdout",
     "output_type": "stream",
     "text": [
      "Epoch [823/3000]: Train loss: 2.3141,             Valid loss: 2.0264\n"
     ]
    },
    {
     "name": "stderr",
     "output_type": "stream",
     "text": [
      "epoch [824/3000]: 100%|██████████| 9/9 [00:00<00:00, 82.12it/s, loss=1.27]\n"
     ]
    },
    {
     "name": "stdout",
     "output_type": "stream",
     "text": [
      "Epoch [824/3000]: Train loss: 2.3138,             Valid loss: 2.1274\n"
     ]
    },
    {
     "name": "stderr",
     "output_type": "stream",
     "text": [
      "epoch [825/3000]: 100%|██████████| 9/9 [00:00<00:00, 50.83it/s, loss=1.27]\n"
     ]
    },
    {
     "name": "stdout",
     "output_type": "stream",
     "text": [
      "Epoch [825/3000]: Train loss: 2.3160,             Valid loss: 2.4970\n"
     ]
    },
    {
     "name": "stderr",
     "output_type": "stream",
     "text": [
      "epoch [826/3000]: 100%|██████████| 9/9 [00:00<00:00, 50.14it/s, loss=1.27]\n"
     ]
    },
    {
     "name": "stdout",
     "output_type": "stream",
     "text": [
      "Epoch [826/3000]: Train loss: 2.3095,             Valid loss: 2.1889\n"
     ]
    },
    {
     "name": "stderr",
     "output_type": "stream",
     "text": [
      "epoch [827/3000]: 100%|██████████| 9/9 [00:00<00:00, 50.37it/s, loss=1.27]\n"
     ]
    },
    {
     "name": "stdout",
     "output_type": "stream",
     "text": [
      "Epoch [827/3000]: Train loss: 2.3116,             Valid loss: 2.5118\n"
     ]
    },
    {
     "name": "stderr",
     "output_type": "stream",
     "text": [
      "epoch [828/3000]: 100%|██████████| 9/9 [00:00<00:00, 59.92it/s, loss=1.27]\n"
     ]
    },
    {
     "name": "stdout",
     "output_type": "stream",
     "text": [
      "Epoch [828/3000]: Train loss: 2.3121,             Valid loss: 2.3697\n"
     ]
    },
    {
     "name": "stderr",
     "output_type": "stream",
     "text": [
      "epoch [829/3000]: 100%|██████████| 9/9 [00:00<00:00, 53.01it/s, loss=1.27]\n"
     ]
    },
    {
     "name": "stdout",
     "output_type": "stream",
     "text": [
      "Epoch [829/3000]: Train loss: 2.3066,             Valid loss: 2.0922\n"
     ]
    },
    {
     "name": "stderr",
     "output_type": "stream",
     "text": [
      "epoch [830/3000]: 100%|██████████| 9/9 [00:00<00:00, 49.40it/s, loss=1.27]\n"
     ]
    },
    {
     "name": "stdout",
     "output_type": "stream",
     "text": [
      "Epoch [830/3000]: Train loss: 2.3108,             Valid loss: 2.2924\n"
     ]
    },
    {
     "name": "stderr",
     "output_type": "stream",
     "text": [
      "epoch [831/3000]: 100%|██████████| 9/9 [00:00<00:00, 66.04it/s, loss=1.27]\n"
     ]
    },
    {
     "name": "stdout",
     "output_type": "stream",
     "text": [
      "Epoch [831/3000]: Train loss: 2.3087,             Valid loss: 2.0928\n"
     ]
    },
    {
     "name": "stderr",
     "output_type": "stream",
     "text": [
      "epoch [832/3000]: 100%|██████████| 9/9 [00:00<00:00, 76.22it/s, loss=1.27]\n"
     ]
    },
    {
     "name": "stdout",
     "output_type": "stream",
     "text": [
      "Epoch [832/3000]: Train loss: 2.3061,             Valid loss: 2.2500\n"
     ]
    },
    {
     "name": "stderr",
     "output_type": "stream",
     "text": [
      "epoch [833/3000]: 100%|██████████| 9/9 [00:00<00:00, 79.46it/s, loss=1.27]\n"
     ]
    },
    {
     "name": "stdout",
     "output_type": "stream",
     "text": [
      "Epoch [833/3000]: Train loss: 2.3068,             Valid loss: 2.3944\n"
     ]
    },
    {
     "name": "stderr",
     "output_type": "stream",
     "text": [
      "epoch [834/3000]: 100%|██████████| 9/9 [00:00<00:00, 76.25it/s, loss=1.27]\n"
     ]
    },
    {
     "name": "stdout",
     "output_type": "stream",
     "text": [
      "Epoch [834/3000]: Train loss: 2.3036,             Valid loss: 2.6728\n"
     ]
    },
    {
     "name": "stderr",
     "output_type": "stream",
     "text": [
      "epoch [835/3000]: 100%|██████████| 9/9 [00:00<00:00, 70.29it/s, loss=1.27]\n"
     ]
    },
    {
     "name": "stdout",
     "output_type": "stream",
     "text": [
      "Epoch [835/3000]: Train loss: 2.3090,             Valid loss: 1.9780\n"
     ]
    },
    {
     "name": "stderr",
     "output_type": "stream",
     "text": [
      "epoch [836/3000]: 100%|██████████| 9/9 [00:00<00:00, 77.62it/s, loss=1.27]\n"
     ]
    },
    {
     "name": "stdout",
     "output_type": "stream",
     "text": [
      "Epoch [836/3000]: Train loss: 2.3085,             Valid loss: 2.3064\n"
     ]
    },
    {
     "name": "stderr",
     "output_type": "stream",
     "text": [
      "epoch [837/3000]: 100%|██████████| 9/9 [00:00<00:00, 76.13it/s, loss=1.26]\n"
     ]
    },
    {
     "name": "stdout",
     "output_type": "stream",
     "text": [
      "Epoch [837/3000]: Train loss: 2.3006,             Valid loss: 2.4999\n"
     ]
    },
    {
     "name": "stderr",
     "output_type": "stream",
     "text": [
      "epoch [838/3000]: 100%|██████████| 9/9 [00:00<00:00, 71.95it/s, loss=1.27]\n"
     ]
    },
    {
     "name": "stdout",
     "output_type": "stream",
     "text": [
      "Epoch [838/3000]: Train loss: 2.3164,             Valid loss: 2.1449\n"
     ]
    },
    {
     "name": "stderr",
     "output_type": "stream",
     "text": [
      "epoch [839/3000]: 100%|██████████| 9/9 [00:00<00:00, 71.17it/s, loss=1.26]\n"
     ]
    },
    {
     "name": "stdout",
     "output_type": "stream",
     "text": [
      "Epoch [839/3000]: Train loss: 2.3026,             Valid loss: 2.3546\n"
     ]
    },
    {
     "name": "stderr",
     "output_type": "stream",
     "text": [
      "epoch [840/3000]: 100%|██████████| 9/9 [00:00<00:00, 82.85it/s, loss=1.26]\n"
     ]
    },
    {
     "name": "stdout",
     "output_type": "stream",
     "text": [
      "Epoch [840/3000]: Train loss: 2.3011,             Valid loss: 2.3283\n"
     ]
    },
    {
     "name": "stderr",
     "output_type": "stream",
     "text": [
      "epoch [841/3000]: 100%|██████████| 9/9 [00:00<00:00, 87.06it/s, loss=1.26]\n"
     ]
    },
    {
     "name": "stdout",
     "output_type": "stream",
     "text": [
      "Epoch [841/3000]: Train loss: 2.3126,             Valid loss: 2.2929\n"
     ]
    },
    {
     "name": "stderr",
     "output_type": "stream",
     "text": [
      "epoch [842/3000]: 100%|██████████| 9/9 [00:00<00:00, 57.40it/s, loss=1.26]\n"
     ]
    },
    {
     "name": "stdout",
     "output_type": "stream",
     "text": [
      "Epoch [842/3000]: Train loss: 2.2955,             Valid loss: 2.3195\n"
     ]
    },
    {
     "name": "stderr",
     "output_type": "stream",
     "text": [
      "epoch [843/3000]: 100%|██████████| 9/9 [00:00<00:00, 80.52it/s, loss=1.26]\n"
     ]
    },
    {
     "name": "stdout",
     "output_type": "stream",
     "text": [
      "Epoch [843/3000]: Train loss: 2.3213,             Valid loss: 2.1535\n"
     ]
    },
    {
     "name": "stderr",
     "output_type": "stream",
     "text": [
      "epoch [844/3000]: 100%|██████████| 9/9 [00:00<00:00, 82.75it/s, loss=1.26]\n"
     ]
    },
    {
     "name": "stdout",
     "output_type": "stream",
     "text": [
      "Epoch [844/3000]: Train loss: 2.3059,             Valid loss: 2.0787\n"
     ]
    },
    {
     "name": "stderr",
     "output_type": "stream",
     "text": [
      "epoch [845/3000]: 100%|██████████| 9/9 [00:00<00:00, 92.48it/s, loss=1.26]\n"
     ]
    },
    {
     "name": "stdout",
     "output_type": "stream",
     "text": [
      "Epoch [845/3000]: Train loss: 2.3080,             Valid loss: 2.5507\n"
     ]
    },
    {
     "name": "stderr",
     "output_type": "stream",
     "text": [
      "epoch [846/3000]: 100%|██████████| 9/9 [00:00<00:00, 94.74it/s, loss=1.26]\n"
     ]
    },
    {
     "name": "stdout",
     "output_type": "stream",
     "text": [
      "Epoch [846/3000]: Train loss: 2.3029,             Valid loss: 2.2622\n"
     ]
    },
    {
     "name": "stderr",
     "output_type": "stream",
     "text": [
      "epoch [847/3000]: 100%|██████████| 9/9 [00:00<00:00, 84.97it/s, loss=1.26]\n"
     ]
    },
    {
     "name": "stdout",
     "output_type": "stream",
     "text": [
      "Epoch [847/3000]: Train loss: 2.3012,             Valid loss: 2.0434\n"
     ]
    },
    {
     "name": "stderr",
     "output_type": "stream",
     "text": [
      "epoch [848/3000]: 100%|██████████| 9/9 [00:00<00:00, 83.55it/s, loss=1.26]\n"
     ]
    },
    {
     "name": "stdout",
     "output_type": "stream",
     "text": [
      "Epoch [848/3000]: Train loss: 2.3047,             Valid loss: 2.2022\n"
     ]
    },
    {
     "name": "stderr",
     "output_type": "stream",
     "text": [
      "epoch [849/3000]: 100%|██████████| 9/9 [00:00<00:00, 81.32it/s, loss=1.25]\n"
     ]
    },
    {
     "name": "stdout",
     "output_type": "stream",
     "text": [
      "Epoch [849/3000]: Train loss: 2.2895,             Valid loss: 2.1161\n"
     ]
    },
    {
     "name": "stderr",
     "output_type": "stream",
     "text": [
      "epoch [850/3000]: 100%|██████████| 9/9 [00:00<00:00, 73.40it/s, loss=1.26]\n"
     ]
    },
    {
     "name": "stdout",
     "output_type": "stream",
     "text": [
      "Epoch [850/3000]: Train loss: 2.3204,             Valid loss: 2.2778\n"
     ]
    },
    {
     "name": "stderr",
     "output_type": "stream",
     "text": [
      "epoch [851/3000]: 100%|██████████| 9/9 [00:00<00:00, 82.94it/s, loss=1.25]\n"
     ]
    },
    {
     "name": "stdout",
     "output_type": "stream",
     "text": [
      "Epoch [851/3000]: Train loss: 2.2704,             Valid loss: 2.1289\n"
     ]
    },
    {
     "name": "stderr",
     "output_type": "stream",
     "text": [
      "epoch [852/3000]: 100%|██████████| 9/9 [00:00<00:00, 81.35it/s, loss=1.26]\n"
     ]
    },
    {
     "name": "stdout",
     "output_type": "stream",
     "text": [
      "Epoch [852/3000]: Train loss: 2.3255,             Valid loss: 2.4785\n"
     ]
    },
    {
     "name": "stderr",
     "output_type": "stream",
     "text": [
      "epoch [853/3000]: 100%|██████████| 9/9 [00:00<00:00, 79.46it/s, loss=1.25]\n"
     ]
    },
    {
     "name": "stdout",
     "output_type": "stream",
     "text": [
      "Epoch [853/3000]: Train loss: 2.2640,             Valid loss: 2.2588\n"
     ]
    },
    {
     "name": "stderr",
     "output_type": "stream",
     "text": [
      "epoch [854/3000]: 100%|██████████| 9/9 [00:00<00:00, 55.35it/s, loss=1.26]\n"
     ]
    },
    {
     "name": "stdout",
     "output_type": "stream",
     "text": [
      "Epoch [854/3000]: Train loss: 2.3196,             Valid loss: 2.3910\n"
     ]
    },
    {
     "name": "stderr",
     "output_type": "stream",
     "text": [
      "epoch [855/3000]: 100%|██████████| 9/9 [00:00<00:00, 87.39it/s, loss=1.25]\n"
     ]
    },
    {
     "name": "stdout",
     "output_type": "stream",
     "text": [
      "Epoch [855/3000]: Train loss: 2.2741,             Valid loss: 1.9542\n"
     ]
    },
    {
     "name": "stderr",
     "output_type": "stream",
     "text": [
      "epoch [856/3000]: 100%|██████████| 9/9 [00:00<00:00, 80.24it/s, loss=1.26]\n"
     ]
    },
    {
     "name": "stdout",
     "output_type": "stream",
     "text": [
      "Epoch [856/3000]: Train loss: 2.3176,             Valid loss: 2.0469\n"
     ]
    },
    {
     "name": "stderr",
     "output_type": "stream",
     "text": [
      "epoch [857/3000]: 100%|██████████| 9/9 [00:00<00:00, 76.93it/s, loss=1.25]\n"
     ]
    },
    {
     "name": "stdout",
     "output_type": "stream",
     "text": [
      "Epoch [857/3000]: Train loss: 2.2614,             Valid loss: 2.1405\n"
     ]
    },
    {
     "name": "stderr",
     "output_type": "stream",
     "text": [
      "epoch [858/3000]: 100%|██████████| 9/9 [00:00<00:00, 71.64it/s, loss=1.26]\n"
     ]
    },
    {
     "name": "stdout",
     "output_type": "stream",
     "text": [
      "Epoch [858/3000]: Train loss: 2.3084,             Valid loss: 2.4976\n"
     ]
    },
    {
     "name": "stderr",
     "output_type": "stream",
     "text": [
      "epoch [859/3000]: 100%|██████████| 9/9 [00:00<00:00, 69.30it/s, loss=1.25]\n"
     ]
    },
    {
     "name": "stdout",
     "output_type": "stream",
     "text": [
      "Epoch [859/3000]: Train loss: 2.2735,             Valid loss: 2.4763\n"
     ]
    },
    {
     "name": "stderr",
     "output_type": "stream",
     "text": [
      "epoch [860/3000]: 100%|██████████| 9/9 [00:00<00:00, 73.37it/s, loss=1.25]\n"
     ]
    },
    {
     "name": "stdout",
     "output_type": "stream",
     "text": [
      "Epoch [860/3000]: Train loss: 2.2953,             Valid loss: 2.0737\n"
     ]
    },
    {
     "name": "stderr",
     "output_type": "stream",
     "text": [
      "epoch [861/3000]: 100%|██████████| 9/9 [00:00<00:00, 70.92it/s, loss=1.25]\n"
     ]
    },
    {
     "name": "stdout",
     "output_type": "stream",
     "text": [
      "Epoch [861/3000]: Train loss: 2.2759,             Valid loss: 2.2197\n"
     ]
    },
    {
     "name": "stderr",
     "output_type": "stream",
     "text": [
      "epoch [862/3000]: 100%|██████████| 9/9 [00:00<00:00, 56.19it/s, loss=1.25]\n"
     ]
    },
    {
     "name": "stdout",
     "output_type": "stream",
     "text": [
      "Epoch [862/3000]: Train loss: 2.2961,             Valid loss: 2.2972\n"
     ]
    },
    {
     "name": "stderr",
     "output_type": "stream",
     "text": [
      "epoch [863/3000]: 100%|██████████| 9/9 [00:00<00:00, 46.86it/s, loss=1.25]\n"
     ]
    },
    {
     "name": "stdout",
     "output_type": "stream",
     "text": [
      "Epoch [863/3000]: Train loss: 2.2668,             Valid loss: 2.2163\n"
     ]
    },
    {
     "name": "stderr",
     "output_type": "stream",
     "text": [
      "epoch [864/3000]: 100%|██████████| 9/9 [00:00<00:00, 61.31it/s, loss=1.26]\n"
     ]
    },
    {
     "name": "stdout",
     "output_type": "stream",
     "text": [
      "Epoch [864/3000]: Train loss: 2.3048,             Valid loss: 2.2230\n"
     ]
    },
    {
     "name": "stderr",
     "output_type": "stream",
     "text": [
      "epoch [865/3000]: 100%|██████████| 9/9 [00:00<00:00, 65.81it/s, loss=1.25]\n"
     ]
    },
    {
     "name": "stdout",
     "output_type": "stream",
     "text": [
      "Epoch [865/3000]: Train loss: 2.2584,             Valid loss: 2.1254\n"
     ]
    },
    {
     "name": "stderr",
     "output_type": "stream",
     "text": [
      "epoch [866/3000]: 100%|██████████| 9/9 [00:00<00:00, 43.83it/s, loss=1.25]\n"
     ]
    },
    {
     "name": "stdout",
     "output_type": "stream",
     "text": [
      "Epoch [866/3000]: Train loss: 2.2956,             Valid loss: 2.3356\n"
     ]
    },
    {
     "name": "stderr",
     "output_type": "stream",
     "text": [
      "epoch [867/3000]: 100%|██████████| 9/9 [00:00<00:00, 47.35it/s, loss=1.25]\n"
     ]
    },
    {
     "name": "stdout",
     "output_type": "stream",
     "text": [
      "Epoch [867/3000]: Train loss: 2.2594,             Valid loss: 1.9833\n"
     ]
    },
    {
     "name": "stderr",
     "output_type": "stream",
     "text": [
      "epoch [868/3000]: 100%|██████████| 9/9 [00:00<00:00, 46.66it/s, loss=1.25]\n"
     ]
    },
    {
     "name": "stdout",
     "output_type": "stream",
     "text": [
      "Epoch [868/3000]: Train loss: 2.2951,             Valid loss: 2.1351\n"
     ]
    },
    {
     "name": "stderr",
     "output_type": "stream",
     "text": [
      "epoch [869/3000]: 100%|██████████| 9/9 [00:00<00:00, 82.79it/s, loss=1.25]\n"
     ]
    },
    {
     "name": "stdout",
     "output_type": "stream",
     "text": [
      "Epoch [869/3000]: Train loss: 2.2660,             Valid loss: 2.0619\n"
     ]
    },
    {
     "name": "stderr",
     "output_type": "stream",
     "text": [
      "epoch [870/3000]: 100%|██████████| 9/9 [00:00<00:00, 82.11it/s, loss=1.25]\n"
     ]
    },
    {
     "name": "stdout",
     "output_type": "stream",
     "text": [
      "Epoch [870/3000]: Train loss: 2.2895,             Valid loss: 2.3721\n"
     ]
    },
    {
     "name": "stderr",
     "output_type": "stream",
     "text": [
      "epoch [871/3000]: 100%|██████████| 9/9 [00:00<00:00, 87.23it/s, loss=1.25]\n"
     ]
    },
    {
     "name": "stdout",
     "output_type": "stream",
     "text": [
      "Epoch [871/3000]: Train loss: 2.2669,             Valid loss: 2.2445\n"
     ]
    },
    {
     "name": "stderr",
     "output_type": "stream",
     "text": [
      "epoch [872/3000]: 100%|██████████| 9/9 [00:00<00:00, 86.08it/s, loss=1.25]\n"
     ]
    },
    {
     "name": "stdout",
     "output_type": "stream",
     "text": [
      "Epoch [872/3000]: Train loss: 2.2742,             Valid loss: 1.8619\n",
      "Saving model with loss 1.862\n"
     ]
    },
    {
     "name": "stderr",
     "output_type": "stream",
     "text": [
      "epoch [873/3000]: 100%|██████████| 9/9 [00:00<00:00, 65.48it/s, loss=1.25]\n"
     ]
    },
    {
     "name": "stdout",
     "output_type": "stream",
     "text": [
      "Epoch [873/3000]: Train loss: 2.2817,             Valid loss: 2.0701\n"
     ]
    },
    {
     "name": "stderr",
     "output_type": "stream",
     "text": [
      "epoch [874/3000]: 100%|██████████| 9/9 [00:00<00:00, 78.25it/s, loss=1.24]\n"
     ]
    },
    {
     "name": "stdout",
     "output_type": "stream",
     "text": [
      "Epoch [874/3000]: Train loss: 2.2534,             Valid loss: 2.4014\n"
     ]
    },
    {
     "name": "stderr",
     "output_type": "stream",
     "text": [
      "epoch [875/3000]: 100%|██████████| 9/9 [00:00<00:00, 59.77it/s, loss=1.25]\n"
     ]
    },
    {
     "name": "stdout",
     "output_type": "stream",
     "text": [
      "Epoch [875/3000]: Train loss: 2.2807,             Valid loss: 2.4217\n"
     ]
    },
    {
     "name": "stderr",
     "output_type": "stream",
     "text": [
      "epoch [876/3000]: 100%|██████████| 9/9 [00:00<00:00, 86.08it/s, loss=1.24]\n"
     ]
    },
    {
     "name": "stdout",
     "output_type": "stream",
     "text": [
      "Epoch [876/3000]: Train loss: 2.2580,             Valid loss: 2.7338\n"
     ]
    },
    {
     "name": "stderr",
     "output_type": "stream",
     "text": [
      "epoch [877/3000]: 100%|██████████| 9/9 [00:00<00:00, 64.71it/s, loss=1.25]\n"
     ]
    },
    {
     "name": "stdout",
     "output_type": "stream",
     "text": [
      "Epoch [877/3000]: Train loss: 2.2766,             Valid loss: 2.2952\n"
     ]
    },
    {
     "name": "stderr",
     "output_type": "stream",
     "text": [
      "epoch [878/3000]: 100%|██████████| 9/9 [00:00<00:00, 85.42it/s, loss=1.24]\n"
     ]
    },
    {
     "name": "stdout",
     "output_type": "stream",
     "text": [
      "Epoch [878/3000]: Train loss: 2.2495,             Valid loss: 2.2339\n"
     ]
    },
    {
     "name": "stderr",
     "output_type": "stream",
     "text": [
      "epoch [879/3000]: 100%|██████████| 9/9 [00:00<00:00, 90.32it/s, loss=1.24]\n"
     ]
    },
    {
     "name": "stdout",
     "output_type": "stream",
     "text": [
      "Epoch [879/3000]: Train loss: 2.2824,             Valid loss: 2.1669\n"
     ]
    },
    {
     "name": "stderr",
     "output_type": "stream",
     "text": [
      "epoch [880/3000]: 100%|██████████| 9/9 [00:00<00:00, 79.83it/s, loss=1.24]\n"
     ]
    },
    {
     "name": "stdout",
     "output_type": "stream",
     "text": [
      "Epoch [880/3000]: Train loss: 2.2497,             Valid loss: 2.1315\n"
     ]
    },
    {
     "name": "stderr",
     "output_type": "stream",
     "text": [
      "epoch [881/3000]: 100%|██████████| 9/9 [00:00<00:00, 73.58it/s, loss=1.24]\n"
     ]
    },
    {
     "name": "stdout",
     "output_type": "stream",
     "text": [
      "Epoch [881/3000]: Train loss: 2.2718,             Valid loss: 2.3417\n"
     ]
    },
    {
     "name": "stderr",
     "output_type": "stream",
     "text": [
      "epoch [882/3000]: 100%|██████████| 9/9 [00:00<00:00, 94.40it/s, loss=1.24]\n"
     ]
    },
    {
     "name": "stdout",
     "output_type": "stream",
     "text": [
      "Epoch [882/3000]: Train loss: 2.2474,             Valid loss: 1.9941\n"
     ]
    },
    {
     "name": "stderr",
     "output_type": "stream",
     "text": [
      "epoch [883/3000]: 100%|██████████| 9/9 [00:00<00:00, 83.25it/s, loss=1.24]\n"
     ]
    },
    {
     "name": "stdout",
     "output_type": "stream",
     "text": [
      "Epoch [883/3000]: Train loss: 2.2724,             Valid loss: 2.4600\n"
     ]
    },
    {
     "name": "stderr",
     "output_type": "stream",
     "text": [
      "epoch [884/3000]: 100%|██████████| 9/9 [00:00<00:00, 80.49it/s, loss=1.24]\n"
     ]
    },
    {
     "name": "stdout",
     "output_type": "stream",
     "text": [
      "Epoch [884/3000]: Train loss: 2.2408,             Valid loss: 2.5513\n"
     ]
    },
    {
     "name": "stderr",
     "output_type": "stream",
     "text": [
      "epoch [885/3000]: 100%|██████████| 9/9 [00:00<00:00, 79.78it/s, loss=1.24]\n"
     ]
    },
    {
     "name": "stdout",
     "output_type": "stream",
     "text": [
      "Epoch [885/3000]: Train loss: 2.2756,             Valid loss: 2.3620\n"
     ]
    },
    {
     "name": "stderr",
     "output_type": "stream",
     "text": [
      "epoch [886/3000]: 100%|██████████| 9/9 [00:00<00:00, 99.87it/s, loss=1.24]\n"
     ]
    },
    {
     "name": "stdout",
     "output_type": "stream",
     "text": [
      "Epoch [886/3000]: Train loss: 2.2473,             Valid loss: 2.2644\n"
     ]
    },
    {
     "name": "stderr",
     "output_type": "stream",
     "text": [
      "epoch [887/3000]: 100%|██████████| 9/9 [00:00<00:00, 81.62it/s, loss=1.24]\n"
     ]
    },
    {
     "name": "stdout",
     "output_type": "stream",
     "text": [
      "Epoch [887/3000]: Train loss: 2.2602,             Valid loss: 2.6263\n"
     ]
    },
    {
     "name": "stderr",
     "output_type": "stream",
     "text": [
      "epoch [888/3000]: 100%|██████████| 9/9 [00:00<00:00, 87.38it/s, loss=1.24]\n"
     ]
    },
    {
     "name": "stdout",
     "output_type": "stream",
     "text": [
      "Epoch [888/3000]: Train loss: 2.2571,             Valid loss: 2.2260\n"
     ]
    },
    {
     "name": "stderr",
     "output_type": "stream",
     "text": [
      "epoch [889/3000]: 100%|██████████| 9/9 [00:00<00:00, 66.02it/s, loss=1.24]\n"
     ]
    },
    {
     "name": "stdout",
     "output_type": "stream",
     "text": [
      "Epoch [889/3000]: Train loss: 2.2530,             Valid loss: 1.8756\n"
     ]
    },
    {
     "name": "stderr",
     "output_type": "stream",
     "text": [
      "epoch [890/3000]: 100%|██████████| 9/9 [00:00<00:00, 86.32it/s, loss=1.25]\n"
     ]
    },
    {
     "name": "stdout",
     "output_type": "stream",
     "text": [
      "Epoch [890/3000]: Train loss: 2.2591,             Valid loss: 2.3057\n"
     ]
    },
    {
     "name": "stderr",
     "output_type": "stream",
     "text": [
      "epoch [891/3000]: 100%|██████████| 9/9 [00:00<00:00, 80.70it/s, loss=1.24]\n"
     ]
    },
    {
     "name": "stdout",
     "output_type": "stream",
     "text": [
      "Epoch [891/3000]: Train loss: 2.2190,             Valid loss: 2.2850\n"
     ]
    },
    {
     "name": "stderr",
     "output_type": "stream",
     "text": [
      "epoch [892/3000]: 100%|██████████| 9/9 [00:00<00:00, 76.55it/s, loss=1.24]\n"
     ]
    },
    {
     "name": "stdout",
     "output_type": "stream",
     "text": [
      "Epoch [892/3000]: Train loss: 2.2604,             Valid loss: 2.1911\n"
     ]
    },
    {
     "name": "stderr",
     "output_type": "stream",
     "text": [
      "epoch [893/3000]: 100%|██████████| 9/9 [00:00<00:00, 92.27it/s, loss=1.24]\n"
     ]
    },
    {
     "name": "stdout",
     "output_type": "stream",
     "text": [
      "Epoch [893/3000]: Train loss: 2.2302,             Valid loss: 2.3216\n"
     ]
    },
    {
     "name": "stderr",
     "output_type": "stream",
     "text": [
      "epoch [894/3000]: 100%|██████████| 9/9 [00:00<00:00, 45.02it/s, loss=1.24]\n"
     ]
    },
    {
     "name": "stdout",
     "output_type": "stream",
     "text": [
      "Epoch [894/3000]: Train loss: 2.2366,             Valid loss: 2.1738\n"
     ]
    },
    {
     "name": "stderr",
     "output_type": "stream",
     "text": [
      "epoch [895/3000]: 100%|██████████| 9/9 [00:00<00:00, 90.16it/s, loss=1.24]\n"
     ]
    },
    {
     "name": "stdout",
     "output_type": "stream",
     "text": [
      "Epoch [895/3000]: Train loss: 2.2329,             Valid loss: 2.2620\n"
     ]
    },
    {
     "name": "stderr",
     "output_type": "stream",
     "text": [
      "epoch [896/3000]: 100%|██████████| 9/9 [00:00<00:00, 91.98it/s, loss=1.24]\n"
     ]
    },
    {
     "name": "stdout",
     "output_type": "stream",
     "text": [
      "Epoch [896/3000]: Train loss: 2.2254,             Valid loss: 2.1337\n"
     ]
    },
    {
     "name": "stderr",
     "output_type": "stream",
     "text": [
      "epoch [897/3000]: 100%|██████████| 9/9 [00:00<00:00, 91.64it/s, loss=1.24]\n"
     ]
    },
    {
     "name": "stdout",
     "output_type": "stream",
     "text": [
      "Epoch [897/3000]: Train loss: 2.2330,             Valid loss: 2.4099\n"
     ]
    },
    {
     "name": "stderr",
     "output_type": "stream",
     "text": [
      "epoch [898/3000]: 100%|██████████| 9/9 [00:00<00:00, 91.69it/s, loss=1.23]\n"
     ]
    },
    {
     "name": "stdout",
     "output_type": "stream",
     "text": [
      "Epoch [898/3000]: Train loss: 2.2260,             Valid loss: 1.8216\n",
      "Saving model with loss 1.822\n"
     ]
    },
    {
     "name": "stderr",
     "output_type": "stream",
     "text": [
      "epoch [899/3000]: 100%|██████████| 9/9 [00:00<00:00, 84.60it/s, loss=1.24]\n"
     ]
    },
    {
     "name": "stdout",
     "output_type": "stream",
     "text": [
      "Epoch [899/3000]: Train loss: 2.2346,             Valid loss: 2.0186\n"
     ]
    },
    {
     "name": "stderr",
     "output_type": "stream",
     "text": [
      "epoch [900/3000]: 100%|██████████| 9/9 [00:00<00:00, 85.73it/s, loss=1.23]\n"
     ]
    },
    {
     "name": "stdout",
     "output_type": "stream",
     "text": [
      "Epoch [900/3000]: Train loss: 2.2063,             Valid loss: 2.0419\n"
     ]
    },
    {
     "name": "stderr",
     "output_type": "stream",
     "text": [
      "epoch [901/3000]: 100%|██████████| 9/9 [00:00<00:00, 60.29it/s, loss=1.23]\n"
     ]
    },
    {
     "name": "stdout",
     "output_type": "stream",
     "text": [
      "Epoch [901/3000]: Train loss: 2.2344,             Valid loss: 1.9509\n"
     ]
    },
    {
     "name": "stderr",
     "output_type": "stream",
     "text": [
      "epoch [902/3000]: 100%|██████████| 9/9 [00:00<00:00, 76.97it/s, loss=1.24]\n"
     ]
    },
    {
     "name": "stdout",
     "output_type": "stream",
     "text": [
      "Epoch [902/3000]: Train loss: 2.2280,             Valid loss: 2.1798\n"
     ]
    },
    {
     "name": "stderr",
     "output_type": "stream",
     "text": [
      "epoch [903/3000]: 100%|██████████| 9/9 [00:00<00:00, 77.57it/s, loss=1.23]\n"
     ]
    },
    {
     "name": "stdout",
     "output_type": "stream",
     "text": [
      "Epoch [903/3000]: Train loss: 2.2060,             Valid loss: 1.9996\n"
     ]
    },
    {
     "name": "stderr",
     "output_type": "stream",
     "text": [
      "epoch [904/3000]: 100%|██████████| 9/9 [00:00<00:00, 83.37it/s, loss=1.23]\n"
     ]
    },
    {
     "name": "stdout",
     "output_type": "stream",
     "text": [
      "Epoch [904/3000]: Train loss: 2.2009,             Valid loss: 2.1802\n"
     ]
    },
    {
     "name": "stderr",
     "output_type": "stream",
     "text": [
      "epoch [905/3000]: 100%|██████████| 9/9 [00:00<00:00, 86.55it/s, loss=1.23]\n"
     ]
    },
    {
     "name": "stdout",
     "output_type": "stream",
     "text": [
      "Epoch [905/3000]: Train loss: 2.2061,             Valid loss: 2.0371\n"
     ]
    },
    {
     "name": "stderr",
     "output_type": "stream",
     "text": [
      "epoch [906/3000]: 100%|██████████| 9/9 [00:00<00:00, 84.48it/s, loss=1.23]\n"
     ]
    },
    {
     "name": "stdout",
     "output_type": "stream",
     "text": [
      "Epoch [906/3000]: Train loss: 2.1978,             Valid loss: 2.1098\n"
     ]
    },
    {
     "name": "stderr",
     "output_type": "stream",
     "text": [
      "epoch [907/3000]: 100%|██████████| 9/9 [00:00<00:00, 84.58it/s, loss=1.23]\n"
     ]
    },
    {
     "name": "stdout",
     "output_type": "stream",
     "text": [
      "Epoch [907/3000]: Train loss: 2.1952,             Valid loss: 2.5792\n"
     ]
    },
    {
     "name": "stderr",
     "output_type": "stream",
     "text": [
      "epoch [908/3000]: 100%|██████████| 9/9 [00:00<00:00, 80.95it/s, loss=1.23]\n"
     ]
    },
    {
     "name": "stdout",
     "output_type": "stream",
     "text": [
      "Epoch [908/3000]: Train loss: 2.2041,             Valid loss: 1.9386\n"
     ]
    },
    {
     "name": "stderr",
     "output_type": "stream",
     "text": [
      "epoch [909/3000]: 100%|██████████| 9/9 [00:00<00:00, 92.47it/s, loss=1.23]\n"
     ]
    },
    {
     "name": "stdout",
     "output_type": "stream",
     "text": [
      "Epoch [909/3000]: Train loss: 2.2009,             Valid loss: 2.1880\n"
     ]
    },
    {
     "name": "stderr",
     "output_type": "stream",
     "text": [
      "epoch [910/3000]: 100%|██████████| 9/9 [00:00<00:00, 90.28it/s, loss=1.23]\n"
     ]
    },
    {
     "name": "stdout",
     "output_type": "stream",
     "text": [
      "Epoch [910/3000]: Train loss: 2.1927,             Valid loss: 2.1294\n"
     ]
    },
    {
     "name": "stderr",
     "output_type": "stream",
     "text": [
      "epoch [911/3000]: 100%|██████████| 9/9 [00:00<00:00, 95.62it/s, loss=1.22]\n"
     ]
    },
    {
     "name": "stdout",
     "output_type": "stream",
     "text": [
      "Epoch [911/3000]: Train loss: 2.1969,             Valid loss: 2.4453\n"
     ]
    },
    {
     "name": "stderr",
     "output_type": "stream",
     "text": [
      "epoch [912/3000]: 100%|██████████| 9/9 [00:00<00:00, 65.86it/s, loss=1.23]\n"
     ]
    },
    {
     "name": "stdout",
     "output_type": "stream",
     "text": [
      "Epoch [912/3000]: Train loss: 2.2030,             Valid loss: 2.0803\n"
     ]
    },
    {
     "name": "stderr",
     "output_type": "stream",
     "text": [
      "epoch [913/3000]: 100%|██████████| 9/9 [00:00<00:00, 84.38it/s, loss=1.22]\n"
     ]
    },
    {
     "name": "stdout",
     "output_type": "stream",
     "text": [
      "Epoch [913/3000]: Train loss: 2.1849,             Valid loss: 2.1656\n"
     ]
    },
    {
     "name": "stderr",
     "output_type": "stream",
     "text": [
      "epoch [914/3000]: 100%|██████████| 9/9 [00:00<00:00, 84.23it/s, loss=1.23]\n"
     ]
    },
    {
     "name": "stdout",
     "output_type": "stream",
     "text": [
      "Epoch [914/3000]: Train loss: 2.2089,             Valid loss: 2.6376\n"
     ]
    },
    {
     "name": "stderr",
     "output_type": "stream",
     "text": [
      "epoch [915/3000]: 100%|██████████| 9/9 [00:00<00:00, 92.25it/s, loss=1.22]\n"
     ]
    },
    {
     "name": "stdout",
     "output_type": "stream",
     "text": [
      "Epoch [915/3000]: Train loss: 2.1835,             Valid loss: 2.3270\n"
     ]
    },
    {
     "name": "stderr",
     "output_type": "stream",
     "text": [
      "epoch [916/3000]: 100%|██████████| 9/9 [00:00<00:00, 86.58it/s, loss=1.22]\n"
     ]
    },
    {
     "name": "stdout",
     "output_type": "stream",
     "text": [
      "Epoch [916/3000]: Train loss: 2.1946,             Valid loss: 2.1984\n"
     ]
    },
    {
     "name": "stderr",
     "output_type": "stream",
     "text": [
      "epoch [917/3000]: 100%|██████████| 9/9 [00:00<00:00, 84.84it/s, loss=1.22]\n"
     ]
    },
    {
     "name": "stdout",
     "output_type": "stream",
     "text": [
      "Epoch [917/3000]: Train loss: 2.1858,             Valid loss: 2.3551\n"
     ]
    },
    {
     "name": "stderr",
     "output_type": "stream",
     "text": [
      "epoch [918/3000]: 100%|██████████| 9/9 [00:00<00:00, 91.36it/s, loss=1.22]\n"
     ]
    },
    {
     "name": "stdout",
     "output_type": "stream",
     "text": [
      "Epoch [918/3000]: Train loss: 2.2001,             Valid loss: 1.9224\n"
     ]
    },
    {
     "name": "stderr",
     "output_type": "stream",
     "text": [
      "epoch [919/3000]: 100%|██████████| 9/9 [00:00<00:00, 86.68it/s, loss=1.22]\n"
     ]
    },
    {
     "name": "stdout",
     "output_type": "stream",
     "text": [
      "Epoch [919/3000]: Train loss: 2.1828,             Valid loss: 2.3010\n"
     ]
    },
    {
     "name": "stderr",
     "output_type": "stream",
     "text": [
      "epoch [920/3000]: 100%|██████████| 9/9 [00:00<00:00, 98.67it/s, loss=1.22]\n"
     ]
    },
    {
     "name": "stdout",
     "output_type": "stream",
     "text": [
      "Epoch [920/3000]: Train loss: 2.1776,             Valid loss: 2.4483\n"
     ]
    },
    {
     "name": "stderr",
     "output_type": "stream",
     "text": [
      "epoch [921/3000]: 100%|██████████| 9/9 [00:00<00:00, 89.94it/s, loss=1.22]\n"
     ]
    },
    {
     "name": "stdout",
     "output_type": "stream",
     "text": [
      "Epoch [921/3000]: Train loss: 2.1968,             Valid loss: 1.8611\n"
     ]
    },
    {
     "name": "stderr",
     "output_type": "stream",
     "text": [
      "epoch [922/3000]: 100%|██████████| 9/9 [00:00<00:00, 64.33it/s, loss=1.22]\n"
     ]
    },
    {
     "name": "stdout",
     "output_type": "stream",
     "text": [
      "Epoch [922/3000]: Train loss: 2.1829,             Valid loss: 2.4190\n"
     ]
    },
    {
     "name": "stderr",
     "output_type": "stream",
     "text": [
      "epoch [923/3000]: 100%|██████████| 9/9 [00:00<00:00, 42.39it/s, loss=1.22]\n"
     ]
    },
    {
     "name": "stdout",
     "output_type": "stream",
     "text": [
      "Epoch [923/3000]: Train loss: 2.1863,             Valid loss: 2.4370\n"
     ]
    },
    {
     "name": "stderr",
     "output_type": "stream",
     "text": [
      "epoch [924/3000]: 100%|██████████| 9/9 [00:00<00:00, 93.34it/s, loss=1.22]\n"
     ]
    },
    {
     "name": "stdout",
     "output_type": "stream",
     "text": [
      "Epoch [924/3000]: Train loss: 2.1878,             Valid loss: 2.2913\n"
     ]
    },
    {
     "name": "stderr",
     "output_type": "stream",
     "text": [
      "epoch [925/3000]: 100%|██████████| 9/9 [00:00<00:00, 84.63it/s, loss=1.22]\n"
     ]
    },
    {
     "name": "stdout",
     "output_type": "stream",
     "text": [
      "Epoch [925/3000]: Train loss: 2.1791,             Valid loss: 2.1027\n"
     ]
    },
    {
     "name": "stderr",
     "output_type": "stream",
     "text": [
      "epoch [926/3000]: 100%|██████████| 9/9 [00:00<00:00, 87.36it/s, loss=1.22]\n"
     ]
    },
    {
     "name": "stdout",
     "output_type": "stream",
     "text": [
      "Epoch [926/3000]: Train loss: 2.1810,             Valid loss: 2.5797\n"
     ]
    },
    {
     "name": "stderr",
     "output_type": "stream",
     "text": [
      "epoch [927/3000]: 100%|██████████| 9/9 [00:00<00:00, 86.83it/s, loss=1.22]\n"
     ]
    },
    {
     "name": "stdout",
     "output_type": "stream",
     "text": [
      "Epoch [927/3000]: Train loss: 2.1831,             Valid loss: 2.1168\n"
     ]
    },
    {
     "name": "stderr",
     "output_type": "stream",
     "text": [
      "epoch [928/3000]: 100%|██████████| 9/9 [00:00<00:00, 94.12it/s, loss=1.22]\n"
     ]
    },
    {
     "name": "stdout",
     "output_type": "stream",
     "text": [
      "Epoch [928/3000]: Train loss: 2.1759,             Valid loss: 2.2106\n"
     ]
    },
    {
     "name": "stderr",
     "output_type": "stream",
     "text": [
      "epoch [929/3000]: 100%|██████████| 9/9 [00:00<00:00, 87.51it/s, loss=1.22]\n"
     ]
    },
    {
     "name": "stdout",
     "output_type": "stream",
     "text": [
      "Epoch [929/3000]: Train loss: 2.1854,             Valid loss: 2.2213\n"
     ]
    },
    {
     "name": "stderr",
     "output_type": "stream",
     "text": [
      "epoch [930/3000]: 100%|██████████| 9/9 [00:00<00:00, 86.18it/s, loss=1.22]\n"
     ]
    },
    {
     "name": "stdout",
     "output_type": "stream",
     "text": [
      "Epoch [930/3000]: Train loss: 2.1829,             Valid loss: 2.1173\n"
     ]
    },
    {
     "name": "stderr",
     "output_type": "stream",
     "text": [
      "epoch [931/3000]: 100%|██████████| 9/9 [00:00<00:00, 80.88it/s, loss=1.22]\n"
     ]
    },
    {
     "name": "stdout",
     "output_type": "stream",
     "text": [
      "Epoch [931/3000]: Train loss: 2.1797,             Valid loss: 2.1461\n"
     ]
    },
    {
     "name": "stderr",
     "output_type": "stream",
     "text": [
      "epoch [932/3000]: 100%|██████████| 9/9 [00:00<00:00, 86.79it/s, loss=1.22]\n"
     ]
    },
    {
     "name": "stdout",
     "output_type": "stream",
     "text": [
      "Epoch [932/3000]: Train loss: 2.1822,             Valid loss: 2.1187\n"
     ]
    },
    {
     "name": "stderr",
     "output_type": "stream",
     "text": [
      "epoch [933/3000]: 100%|██████████| 9/9 [00:00<00:00, 93.61it/s, loss=1.22]\n"
     ]
    },
    {
     "name": "stdout",
     "output_type": "stream",
     "text": [
      "Epoch [933/3000]: Train loss: 2.1807,             Valid loss: 2.4431\n"
     ]
    },
    {
     "name": "stderr",
     "output_type": "stream",
     "text": [
      "epoch [934/3000]: 100%|██████████| 9/9 [00:00<00:00, 93.30it/s, loss=1.22]\n"
     ]
    },
    {
     "name": "stdout",
     "output_type": "stream",
     "text": [
      "Epoch [934/3000]: Train loss: 2.1813,             Valid loss: 2.0988\n"
     ]
    },
    {
     "name": "stderr",
     "output_type": "stream",
     "text": [
      "epoch [935/3000]: 100%|██████████| 9/9 [00:00<00:00, 66.35it/s, loss=1.22]\n"
     ]
    },
    {
     "name": "stdout",
     "output_type": "stream",
     "text": [
      "Epoch [935/3000]: Train loss: 2.1809,             Valid loss: 1.9202\n"
     ]
    },
    {
     "name": "stderr",
     "output_type": "stream",
     "text": [
      "epoch [936/3000]: 100%|██████████| 9/9 [00:00<00:00, 76.81it/s, loss=1.21]\n"
     ]
    },
    {
     "name": "stdout",
     "output_type": "stream",
     "text": [
      "Epoch [936/3000]: Train loss: 2.1789,             Valid loss: 1.8544\n"
     ]
    },
    {
     "name": "stderr",
     "output_type": "stream",
     "text": [
      "epoch [937/3000]: 100%|██████████| 9/9 [00:00<00:00, 78.43it/s, loss=1.22]\n"
     ]
    },
    {
     "name": "stdout",
     "output_type": "stream",
     "text": [
      "Epoch [937/3000]: Train loss: 2.1888,             Valid loss: 1.9052\n"
     ]
    },
    {
     "name": "stderr",
     "output_type": "stream",
     "text": [
      "epoch [938/3000]: 100%|██████████| 9/9 [00:00<00:00, 80.98it/s, loss=1.21]\n"
     ]
    },
    {
     "name": "stdout",
     "output_type": "stream",
     "text": [
      "Epoch [938/3000]: Train loss: 2.1727,             Valid loss: 2.3100\n"
     ]
    },
    {
     "name": "stderr",
     "output_type": "stream",
     "text": [
      "epoch [939/3000]: 100%|██████████| 9/9 [00:00<00:00, 91.96it/s, loss=1.21]\n"
     ]
    },
    {
     "name": "stdout",
     "output_type": "stream",
     "text": [
      "Epoch [939/3000]: Train loss: 2.1894,             Valid loss: 2.0569\n"
     ]
    },
    {
     "name": "stderr",
     "output_type": "stream",
     "text": [
      "epoch [940/3000]: 100%|██████████| 9/9 [00:00<00:00, 86.29it/s, loss=1.21]\n"
     ]
    },
    {
     "name": "stdout",
     "output_type": "stream",
     "text": [
      "Epoch [940/3000]: Train loss: 2.1738,             Valid loss: 2.0890\n"
     ]
    },
    {
     "name": "stderr",
     "output_type": "stream",
     "text": [
      "epoch [941/3000]: 100%|██████████| 9/9 [00:00<00:00, 82.74it/s, loss=1.21]\n"
     ]
    },
    {
     "name": "stdout",
     "output_type": "stream",
     "text": [
      "Epoch [941/3000]: Train loss: 2.1878,             Valid loss: 2.0642\n"
     ]
    },
    {
     "name": "stderr",
     "output_type": "stream",
     "text": [
      "epoch [942/3000]: 100%|██████████| 9/9 [00:00<00:00, 75.59it/s, loss=1.21]\n"
     ]
    },
    {
     "name": "stdout",
     "output_type": "stream",
     "text": [
      "Epoch [942/3000]: Train loss: 2.1710,             Valid loss: 2.3339\n"
     ]
    },
    {
     "name": "stderr",
     "output_type": "stream",
     "text": [
      "epoch [943/3000]: 100%|██████████| 9/9 [00:00<00:00, 77.22it/s, loss=1.21]\n"
     ]
    },
    {
     "name": "stdout",
     "output_type": "stream",
     "text": [
      "Epoch [943/3000]: Train loss: 2.1906,             Valid loss: 2.1244\n"
     ]
    },
    {
     "name": "stderr",
     "output_type": "stream",
     "text": [
      "epoch [944/3000]: 100%|██████████| 9/9 [00:00<00:00, 80.61it/s, loss=1.21]\n"
     ]
    },
    {
     "name": "stdout",
     "output_type": "stream",
     "text": [
      "Epoch [944/3000]: Train loss: 2.1716,             Valid loss: 2.2969\n"
     ]
    },
    {
     "name": "stderr",
     "output_type": "stream",
     "text": [
      "epoch [945/3000]: 100%|██████████| 9/9 [00:00<00:00, 89.35it/s, loss=1.21]\n"
     ]
    },
    {
     "name": "stdout",
     "output_type": "stream",
     "text": [
      "Epoch [945/3000]: Train loss: 2.1870,             Valid loss: 2.2443\n"
     ]
    },
    {
     "name": "stderr",
     "output_type": "stream",
     "text": [
      "epoch [946/3000]: 100%|██████████| 9/9 [00:00<00:00, 72.09it/s, loss=1.21]\n"
     ]
    },
    {
     "name": "stdout",
     "output_type": "stream",
     "text": [
      "Epoch [946/3000]: Train loss: 2.1695,             Valid loss: 2.3222\n"
     ]
    },
    {
     "name": "stderr",
     "output_type": "stream",
     "text": [
      "epoch [947/3000]: 100%|██████████| 9/9 [00:00<00:00, 76.76it/s, loss=1.21]\n"
     ]
    },
    {
     "name": "stdout",
     "output_type": "stream",
     "text": [
      "Epoch [947/3000]: Train loss: 2.1865,             Valid loss: 2.0671\n"
     ]
    },
    {
     "name": "stderr",
     "output_type": "stream",
     "text": [
      "epoch [948/3000]: 100%|██████████| 9/9 [00:00<00:00, 86.33it/s, loss=1.21]\n"
     ]
    },
    {
     "name": "stdout",
     "output_type": "stream",
     "text": [
      "Epoch [948/3000]: Train loss: 2.1719,             Valid loss: 2.0828\n"
     ]
    },
    {
     "name": "stderr",
     "output_type": "stream",
     "text": [
      "epoch [949/3000]: 100%|██████████| 9/9 [00:00<00:00, 89.60it/s, loss=1.21]\n"
     ]
    },
    {
     "name": "stdout",
     "output_type": "stream",
     "text": [
      "Epoch [949/3000]: Train loss: 2.1828,             Valid loss: 2.3031\n"
     ]
    },
    {
     "name": "stderr",
     "output_type": "stream",
     "text": [
      "epoch [950/3000]: 100%|██████████| 9/9 [00:00<00:00, 69.57it/s, loss=1.21]\n"
     ]
    },
    {
     "name": "stdout",
     "output_type": "stream",
     "text": [
      "Epoch [950/3000]: Train loss: 2.1761,             Valid loss: 2.1229\n"
     ]
    },
    {
     "name": "stderr",
     "output_type": "stream",
     "text": [
      "epoch [951/3000]: 100%|██████████| 9/9 [00:00<00:00, 79.19it/s, loss=1.21]\n"
     ]
    },
    {
     "name": "stdout",
     "output_type": "stream",
     "text": [
      "Epoch [951/3000]: Train loss: 2.1776,             Valid loss: 2.2581\n"
     ]
    },
    {
     "name": "stderr",
     "output_type": "stream",
     "text": [
      "epoch [952/3000]: 100%|██████████| 9/9 [00:00<00:00, 82.24it/s, loss=1.21]\n"
     ]
    },
    {
     "name": "stdout",
     "output_type": "stream",
     "text": [
      "Epoch [952/3000]: Train loss: 2.1791,             Valid loss: 1.9432\n"
     ]
    },
    {
     "name": "stderr",
     "output_type": "stream",
     "text": [
      "epoch [953/3000]: 100%|██████████| 9/9 [00:00<00:00, 82.11it/s, loss=1.21]\n"
     ]
    },
    {
     "name": "stdout",
     "output_type": "stream",
     "text": [
      "Epoch [953/3000]: Train loss: 2.1774,             Valid loss: 1.9199\n"
     ]
    },
    {
     "name": "stderr",
     "output_type": "stream",
     "text": [
      "epoch [954/3000]: 100%|██████████| 9/9 [00:00<00:00, 81.11it/s, loss=1.21]\n"
     ]
    },
    {
     "name": "stdout",
     "output_type": "stream",
     "text": [
      "Epoch [954/3000]: Train loss: 2.1761,             Valid loss: 2.2924\n"
     ]
    },
    {
     "name": "stderr",
     "output_type": "stream",
     "text": [
      "epoch [955/3000]: 100%|██████████| 9/9 [00:00<00:00, 66.93it/s, loss=1.21]\n"
     ]
    },
    {
     "name": "stdout",
     "output_type": "stream",
     "text": [
      "Epoch [955/3000]: Train loss: 2.1776,             Valid loss: 2.0551\n"
     ]
    },
    {
     "name": "stderr",
     "output_type": "stream",
     "text": [
      "epoch [956/3000]: 100%|██████████| 9/9 [00:00<00:00, 74.66it/s, loss=1.21]\n"
     ]
    },
    {
     "name": "stdout",
     "output_type": "stream",
     "text": [
      "Epoch [956/3000]: Train loss: 2.1727,             Valid loss: 2.1068\n"
     ]
    },
    {
     "name": "stderr",
     "output_type": "stream",
     "text": [
      "epoch [957/3000]: 100%|██████████| 9/9 [00:00<00:00, 58.46it/s, loss=1.21]\n"
     ]
    },
    {
     "name": "stdout",
     "output_type": "stream",
     "text": [
      "Epoch [957/3000]: Train loss: 2.1774,             Valid loss: 2.1375\n"
     ]
    },
    {
     "name": "stderr",
     "output_type": "stream",
     "text": [
      "epoch [958/3000]: 100%|██████████| 9/9 [00:00<00:00, 55.48it/s, loss=1.21]\n"
     ]
    },
    {
     "name": "stdout",
     "output_type": "stream",
     "text": [
      "Epoch [958/3000]: Train loss: 2.1754,             Valid loss: 1.9945\n"
     ]
    },
    {
     "name": "stderr",
     "output_type": "stream",
     "text": [
      "epoch [959/3000]: 100%|██████████| 9/9 [00:00<00:00, 51.18it/s, loss=1.21]\n"
     ]
    },
    {
     "name": "stdout",
     "output_type": "stream",
     "text": [
      "Epoch [959/3000]: Train loss: 2.1769,             Valid loss: 1.9130\n"
     ]
    },
    {
     "name": "stderr",
     "output_type": "stream",
     "text": [
      "epoch [960/3000]: 100%|██████████| 9/9 [00:00<00:00, 47.06it/s, loss=1.21]\n"
     ]
    },
    {
     "name": "stdout",
     "output_type": "stream",
     "text": [
      "Epoch [960/3000]: Train loss: 2.1757,             Valid loss: 2.3428\n"
     ]
    },
    {
     "name": "stderr",
     "output_type": "stream",
     "text": [
      "epoch [961/3000]: 100%|██████████| 9/9 [00:00<00:00, 66.65it/s, loss=1.21]\n"
     ]
    },
    {
     "name": "stdout",
     "output_type": "stream",
     "text": [
      "Epoch [961/3000]: Train loss: 2.1712,             Valid loss: 2.0641\n"
     ]
    },
    {
     "name": "stderr",
     "output_type": "stream",
     "text": [
      "epoch [962/3000]: 100%|██████████| 9/9 [00:00<00:00, 81.56it/s, loss=1.21]\n"
     ]
    },
    {
     "name": "stdout",
     "output_type": "stream",
     "text": [
      "Epoch [962/3000]: Train loss: 2.1811,             Valid loss: 1.8368\n"
     ]
    },
    {
     "name": "stderr",
     "output_type": "stream",
     "text": [
      "epoch [963/3000]: 100%|██████████| 9/9 [00:00<00:00, 76.68it/s, loss=1.21]\n"
     ]
    },
    {
     "name": "stdout",
     "output_type": "stream",
     "text": [
      "Epoch [963/3000]: Train loss: 2.1671,             Valid loss: 2.0452\n"
     ]
    },
    {
     "name": "stderr",
     "output_type": "stream",
     "text": [
      "epoch [964/3000]: 100%|██████████| 9/9 [00:00<00:00, 92.49it/s, loss=1.21]\n"
     ]
    },
    {
     "name": "stdout",
     "output_type": "stream",
     "text": [
      "Epoch [964/3000]: Train loss: 2.1798,             Valid loss: 1.9423\n"
     ]
    },
    {
     "name": "stderr",
     "output_type": "stream",
     "text": [
      "epoch [965/3000]: 100%|██████████| 9/9 [00:00<00:00, 80.98it/s, loss=1.21]\n"
     ]
    },
    {
     "name": "stdout",
     "output_type": "stream",
     "text": [
      "Epoch [965/3000]: Train loss: 2.1693,             Valid loss: 2.4259\n"
     ]
    },
    {
     "name": "stderr",
     "output_type": "stream",
     "text": [
      "epoch [966/3000]: 100%|██████████| 9/9 [00:00<00:00, 39.67it/s, loss=1.2] \n"
     ]
    },
    {
     "name": "stdout",
     "output_type": "stream",
     "text": [
      "Epoch [966/3000]: Train loss: 2.1724,             Valid loss: 2.1118\n"
     ]
    },
    {
     "name": "stderr",
     "output_type": "stream",
     "text": [
      "epoch [967/3000]: 100%|██████████| 9/9 [00:00<00:00, 35.84it/s, loss=1.21]\n"
     ]
    },
    {
     "name": "stdout",
     "output_type": "stream",
     "text": [
      "Epoch [967/3000]: Train loss: 2.1743,             Valid loss: 2.0109\n"
     ]
    },
    {
     "name": "stderr",
     "output_type": "stream",
     "text": [
      "epoch [968/3000]: 100%|██████████| 9/9 [00:00<00:00, 40.24it/s, loss=1.2] \n"
     ]
    },
    {
     "name": "stdout",
     "output_type": "stream",
     "text": [
      "Epoch [968/3000]: Train loss: 2.1707,             Valid loss: 1.9202\n"
     ]
    },
    {
     "name": "stderr",
     "output_type": "stream",
     "text": [
      "epoch [969/3000]: 100%|██████████| 9/9 [00:00<00:00, 43.20it/s, loss=1.2] \n"
     ]
    },
    {
     "name": "stdout",
     "output_type": "stream",
     "text": [
      "Epoch [969/3000]: Train loss: 2.1727,             Valid loss: 1.9675\n"
     ]
    },
    {
     "name": "stderr",
     "output_type": "stream",
     "text": [
      "epoch [970/3000]: 100%|██████████| 9/9 [00:00<00:00, 43.07it/s, loss=1.2] \n"
     ]
    },
    {
     "name": "stdout",
     "output_type": "stream",
     "text": [
      "Epoch [970/3000]: Train loss: 2.1732,             Valid loss: 1.8952\n"
     ]
    },
    {
     "name": "stderr",
     "output_type": "stream",
     "text": [
      "epoch [971/3000]: 100%|██████████| 9/9 [00:00<00:00, 51.24it/s, loss=1.2] \n"
     ]
    },
    {
     "name": "stdout",
     "output_type": "stream",
     "text": [
      "Epoch [971/3000]: Train loss: 2.1723,             Valid loss: 1.8728\n"
     ]
    },
    {
     "name": "stderr",
     "output_type": "stream",
     "text": [
      "epoch [972/3000]: 100%|██████████| 9/9 [00:00<00:00, 83.02it/s, loss=1.2]\n"
     ]
    },
    {
     "name": "stdout",
     "output_type": "stream",
     "text": [
      "Epoch [972/3000]: Train loss: 2.1687,             Valid loss: 2.2297\n"
     ]
    },
    {
     "name": "stderr",
     "output_type": "stream",
     "text": [
      "epoch [973/3000]: 100%|██████████| 9/9 [00:00<00:00, 77.48it/s, loss=1.2]\n"
     ]
    },
    {
     "name": "stdout",
     "output_type": "stream",
     "text": [
      "Epoch [973/3000]: Train loss: 2.1720,             Valid loss: 1.8764\n"
     ]
    },
    {
     "name": "stderr",
     "output_type": "stream",
     "text": [
      "epoch [974/3000]: 100%|██████████| 9/9 [00:00<00:00, 60.53it/s, loss=1.2] \n"
     ]
    },
    {
     "name": "stdout",
     "output_type": "stream",
     "text": [
      "Epoch [974/3000]: Train loss: 2.1649,             Valid loss: 2.2581\n"
     ]
    },
    {
     "name": "stderr",
     "output_type": "stream",
     "text": [
      "epoch [975/3000]: 100%|██████████| 9/9 [00:00<00:00, 44.54it/s, loss=1.2]\n"
     ]
    },
    {
     "name": "stdout",
     "output_type": "stream",
     "text": [
      "Epoch [975/3000]: Train loss: 2.1731,             Valid loss: 2.0516\n"
     ]
    },
    {
     "name": "stderr",
     "output_type": "stream",
     "text": [
      "epoch [976/3000]: 100%|██████████| 9/9 [00:00<00:00, 70.31it/s, loss=1.2]\n"
     ]
    },
    {
     "name": "stdout",
     "output_type": "stream",
     "text": [
      "Epoch [976/3000]: Train loss: 2.1635,             Valid loss: 2.5145\n"
     ]
    },
    {
     "name": "stderr",
     "output_type": "stream",
     "text": [
      "epoch [977/3000]: 100%|██████████| 9/9 [00:00<00:00, 78.98it/s, loss=1.2]\n"
     ]
    },
    {
     "name": "stdout",
     "output_type": "stream",
     "text": [
      "Epoch [977/3000]: Train loss: 2.1666,             Valid loss: 2.1295\n"
     ]
    },
    {
     "name": "stderr",
     "output_type": "stream",
     "text": [
      "epoch [978/3000]: 100%|██████████| 9/9 [00:00<00:00, 56.25it/s, loss=1.2] \n"
     ]
    },
    {
     "name": "stdout",
     "output_type": "stream",
     "text": [
      "Epoch [978/3000]: Train loss: 2.1709,             Valid loss: 2.2002\n"
     ]
    },
    {
     "name": "stderr",
     "output_type": "stream",
     "text": [
      "epoch [979/3000]: 100%|██████████| 9/9 [00:00<00:00, 43.71it/s, loss=1.2] \n"
     ]
    },
    {
     "name": "stdout",
     "output_type": "stream",
     "text": [
      "Epoch [979/3000]: Train loss: 2.1567,             Valid loss: 1.8790\n"
     ]
    },
    {
     "name": "stderr",
     "output_type": "stream",
     "text": [
      "epoch [980/3000]: 100%|██████████| 9/9 [00:00<00:00, 42.94it/s, loss=1.2] \n"
     ]
    },
    {
     "name": "stdout",
     "output_type": "stream",
     "text": [
      "Epoch [980/3000]: Train loss: 2.1742,             Valid loss: 2.3308\n"
     ]
    },
    {
     "name": "stderr",
     "output_type": "stream",
     "text": [
      "epoch [981/3000]: 100%|██████████| 9/9 [00:00<00:00, 53.68it/s, loss=1.2] \n"
     ]
    },
    {
     "name": "stdout",
     "output_type": "stream",
     "text": [
      "Epoch [981/3000]: Train loss: 2.1608,             Valid loss: 2.1377\n"
     ]
    },
    {
     "name": "stderr",
     "output_type": "stream",
     "text": [
      "epoch [982/3000]: 100%|██████████| 9/9 [00:00<00:00, 48.24it/s, loss=1.2] \n"
     ]
    },
    {
     "name": "stdout",
     "output_type": "stream",
     "text": [
      "Epoch [982/3000]: Train loss: 2.1634,             Valid loss: 2.1722\n"
     ]
    },
    {
     "name": "stderr",
     "output_type": "stream",
     "text": [
      "epoch [983/3000]: 100%|██████████| 9/9 [00:00<00:00, 28.01it/s, loss=1.2] \n"
     ]
    },
    {
     "name": "stdout",
     "output_type": "stream",
     "text": [
      "Epoch [983/3000]: Train loss: 2.1647,             Valid loss: 2.5381\n"
     ]
    },
    {
     "name": "stderr",
     "output_type": "stream",
     "text": [
      "epoch [984/3000]: 100%|██████████| 9/9 [00:00<00:00, 42.20it/s, loss=1.2] \n"
     ]
    },
    {
     "name": "stdout",
     "output_type": "stream",
     "text": [
      "Epoch [984/3000]: Train loss: 2.1636,             Valid loss: 2.1626\n"
     ]
    },
    {
     "name": "stderr",
     "output_type": "stream",
     "text": [
      "epoch [985/3000]: 100%|██████████| 9/9 [00:00<00:00, 40.32it/s, loss=1.2] \n"
     ]
    },
    {
     "name": "stdout",
     "output_type": "stream",
     "text": [
      "Epoch [985/3000]: Train loss: 2.1542,             Valid loss: 2.7008\n"
     ]
    },
    {
     "name": "stderr",
     "output_type": "stream",
     "text": [
      "epoch [986/3000]: 100%|██████████| 9/9 [00:00<00:00, 48.93it/s, loss=1.2] \n"
     ]
    },
    {
     "name": "stdout",
     "output_type": "stream",
     "text": [
      "Epoch [986/3000]: Train loss: 2.1687,             Valid loss: 2.1802\n"
     ]
    },
    {
     "name": "stderr",
     "output_type": "stream",
     "text": [
      "epoch [987/3000]: 100%|██████████| 9/9 [00:00<00:00, 48.04it/s, loss=1.2] \n"
     ]
    },
    {
     "name": "stdout",
     "output_type": "stream",
     "text": [
      "Epoch [987/3000]: Train loss: 2.1487,             Valid loss: 2.0642\n"
     ]
    },
    {
     "name": "stderr",
     "output_type": "stream",
     "text": [
      "epoch [988/3000]: 100%|██████████| 9/9 [00:00<00:00, 41.88it/s, loss=1.2] \n"
     ]
    },
    {
     "name": "stdout",
     "output_type": "stream",
     "text": [
      "Epoch [988/3000]: Train loss: 2.1587,             Valid loss: 1.9757\n"
     ]
    },
    {
     "name": "stderr",
     "output_type": "stream",
     "text": [
      "epoch [989/3000]: 100%|██████████| 9/9 [00:00<00:00, 36.14it/s, loss=1.2] \n"
     ]
    },
    {
     "name": "stdout",
     "output_type": "stream",
     "text": [
      "Epoch [989/3000]: Train loss: 2.1605,             Valid loss: 2.3852\n"
     ]
    },
    {
     "name": "stderr",
     "output_type": "stream",
     "text": [
      "epoch [990/3000]: 100%|██████████| 9/9 [00:00<00:00, 38.24it/s, loss=1.2] \n"
     ]
    },
    {
     "name": "stdout",
     "output_type": "stream",
     "text": [
      "Epoch [990/3000]: Train loss: 2.1564,             Valid loss: 2.0564\n"
     ]
    },
    {
     "name": "stderr",
     "output_type": "stream",
     "text": [
      "epoch [991/3000]: 100%|██████████| 9/9 [00:00<00:00, 53.32it/s, loss=1.2] \n"
     ]
    },
    {
     "name": "stdout",
     "output_type": "stream",
     "text": [
      "Epoch [991/3000]: Train loss: 2.1709,             Valid loss: 2.0325\n"
     ]
    },
    {
     "name": "stderr",
     "output_type": "stream",
     "text": [
      "epoch [992/3000]: 100%|██████████| 9/9 [00:00<00:00, 60.53it/s, loss=1.2] \n"
     ]
    },
    {
     "name": "stdout",
     "output_type": "stream",
     "text": [
      "Epoch [992/3000]: Train loss: 2.1553,             Valid loss: 2.5383\n"
     ]
    },
    {
     "name": "stderr",
     "output_type": "stream",
     "text": [
      "epoch [993/3000]: 100%|██████████| 9/9 [00:00<00:00, 66.81it/s, loss=1.2] \n"
     ]
    },
    {
     "name": "stdout",
     "output_type": "stream",
     "text": [
      "Epoch [993/3000]: Train loss: 2.1552,             Valid loss: 2.0251\n"
     ]
    },
    {
     "name": "stderr",
     "output_type": "stream",
     "text": [
      "epoch [994/3000]: 100%|██████████| 9/9 [00:00<00:00, 55.79it/s, loss=1.2] \n"
     ]
    },
    {
     "name": "stdout",
     "output_type": "stream",
     "text": [
      "Epoch [994/3000]: Train loss: 2.1621,             Valid loss: 2.3927\n"
     ]
    },
    {
     "name": "stderr",
     "output_type": "stream",
     "text": [
      "epoch [995/3000]: 100%|██████████| 9/9 [00:00<00:00, 56.62it/s, loss=1.19]\n"
     ]
    },
    {
     "name": "stdout",
     "output_type": "stream",
     "text": [
      "Epoch [995/3000]: Train loss: 2.1414,             Valid loss: 2.1935\n"
     ]
    },
    {
     "name": "stderr",
     "output_type": "stream",
     "text": [
      "epoch [996/3000]: 100%|██████████| 9/9 [00:00<00:00, 51.19it/s, loss=1.2] \n"
     ]
    },
    {
     "name": "stdout",
     "output_type": "stream",
     "text": [
      "Epoch [996/3000]: Train loss: 2.1693,             Valid loss: 1.6886\n",
      "Saving model with loss 1.689\n"
     ]
    },
    {
     "name": "stderr",
     "output_type": "stream",
     "text": [
      "epoch [997/3000]: 100%|██████████| 9/9 [00:00<00:00, 57.68it/s, loss=1.19]\n"
     ]
    },
    {
     "name": "stdout",
     "output_type": "stream",
     "text": [
      "Epoch [997/3000]: Train loss: 2.1324,             Valid loss: 2.2491\n"
     ]
    },
    {
     "name": "stderr",
     "output_type": "stream",
     "text": [
      "epoch [998/3000]: 100%|██████████| 9/9 [00:00<00:00, 50.86it/s, loss=1.2] \n"
     ]
    },
    {
     "name": "stdout",
     "output_type": "stream",
     "text": [
      "Epoch [998/3000]: Train loss: 2.1697,             Valid loss: 2.3226\n"
     ]
    },
    {
     "name": "stderr",
     "output_type": "stream",
     "text": [
      "epoch [999/3000]: 100%|██████████| 9/9 [00:00<00:00, 38.90it/s, loss=1.19]\n"
     ]
    },
    {
     "name": "stdout",
     "output_type": "stream",
     "text": [
      "Epoch [999/3000]: Train loss: 2.1345,             Valid loss: 2.3561\n"
     ]
    },
    {
     "name": "stderr",
     "output_type": "stream",
     "text": [
      "epoch [1000/3000]: 100%|██████████| 9/9 [00:00<00:00, 40.48it/s, loss=1.2] \n"
     ]
    },
    {
     "name": "stdout",
     "output_type": "stream",
     "text": [
      "Epoch [1000/3000]: Train loss: 2.1659,             Valid loss: 2.1692\n"
     ]
    },
    {
     "name": "stderr",
     "output_type": "stream",
     "text": [
      "epoch [1001/3000]: 100%|██████████| 9/9 [00:00<00:00, 47.92it/s, loss=1.19]\n"
     ]
    },
    {
     "name": "stdout",
     "output_type": "stream",
     "text": [
      "Epoch [1001/3000]: Train loss: 2.1332,             Valid loss: 2.0346\n"
     ]
    },
    {
     "name": "stderr",
     "output_type": "stream",
     "text": [
      "epoch [1002/3000]: 100%|██████████| 9/9 [00:00<00:00, 48.83it/s, loss=1.19]\n"
     ]
    },
    {
     "name": "stdout",
     "output_type": "stream",
     "text": [
      "Epoch [1002/3000]: Train loss: 2.1685,             Valid loss: 2.0458\n"
     ]
    },
    {
     "name": "stderr",
     "output_type": "stream",
     "text": [
      "epoch [1003/3000]: 100%|██████████| 9/9 [00:00<00:00, 51.62it/s, loss=1.19]\n"
     ]
    },
    {
     "name": "stdout",
     "output_type": "stream",
     "text": [
      "Epoch [1003/3000]: Train loss: 2.1435,             Valid loss: 2.4414\n"
     ]
    },
    {
     "name": "stderr",
     "output_type": "stream",
     "text": [
      "epoch [1004/3000]: 100%|██████████| 9/9 [00:00<00:00, 60.98it/s, loss=1.19]\n"
     ]
    },
    {
     "name": "stdout",
     "output_type": "stream",
     "text": [
      "Epoch [1004/3000]: Train loss: 2.1433,             Valid loss: 2.0548\n"
     ]
    },
    {
     "name": "stderr",
     "output_type": "stream",
     "text": [
      "epoch [1005/3000]: 100%|██████████| 9/9 [00:00<00:00, 57.77it/s, loss=1.19]\n"
     ]
    },
    {
     "name": "stdout",
     "output_type": "stream",
     "text": [
      "Epoch [1005/3000]: Train loss: 2.1547,             Valid loss: 1.9286\n"
     ]
    },
    {
     "name": "stderr",
     "output_type": "stream",
     "text": [
      "epoch [1006/3000]: 100%|██████████| 9/9 [00:00<00:00, 63.66it/s, loss=1.19]\n"
     ]
    },
    {
     "name": "stdout",
     "output_type": "stream",
     "text": [
      "Epoch [1006/3000]: Train loss: 2.1305,             Valid loss: 1.7237\n"
     ]
    },
    {
     "name": "stderr",
     "output_type": "stream",
     "text": [
      "epoch [1007/3000]: 100%|██████████| 9/9 [00:00<00:00, 59.27it/s, loss=1.19]\n"
     ]
    },
    {
     "name": "stdout",
     "output_type": "stream",
     "text": [
      "Epoch [1007/3000]: Train loss: 2.1660,             Valid loss: 2.1654\n"
     ]
    },
    {
     "name": "stderr",
     "output_type": "stream",
     "text": [
      "epoch [1008/3000]: 100%|██████████| 9/9 [00:00<00:00, 64.01it/s, loss=1.19]\n"
     ]
    },
    {
     "name": "stdout",
     "output_type": "stream",
     "text": [
      "Epoch [1008/3000]: Train loss: 2.1360,             Valid loss: 2.5614\n"
     ]
    },
    {
     "name": "stderr",
     "output_type": "stream",
     "text": [
      "epoch [1009/3000]: 100%|██████████| 9/9 [00:00<00:00, 75.64it/s, loss=1.19]\n"
     ]
    },
    {
     "name": "stdout",
     "output_type": "stream",
     "text": [
      "Epoch [1009/3000]: Train loss: 2.1583,             Valid loss: 1.9724\n"
     ]
    },
    {
     "name": "stderr",
     "output_type": "stream",
     "text": [
      "epoch [1010/3000]: 100%|██████████| 9/9 [00:00<00:00, 78.51it/s, loss=1.19]\n"
     ]
    },
    {
     "name": "stdout",
     "output_type": "stream",
     "text": [
      "Epoch [1010/3000]: Train loss: 2.1288,             Valid loss: 2.0180\n"
     ]
    },
    {
     "name": "stderr",
     "output_type": "stream",
     "text": [
      "epoch [1011/3000]: 100%|██████████| 9/9 [00:00<00:00, 79.69it/s, loss=1.19]\n"
     ]
    },
    {
     "name": "stdout",
     "output_type": "stream",
     "text": [
      "Epoch [1011/3000]: Train loss: 2.1586,             Valid loss: 2.1691\n"
     ]
    },
    {
     "name": "stderr",
     "output_type": "stream",
     "text": [
      "epoch [1012/3000]: 100%|██████████| 9/9 [00:00<00:00, 76.18it/s, loss=1.19]\n"
     ]
    },
    {
     "name": "stdout",
     "output_type": "stream",
     "text": [
      "Epoch [1012/3000]: Train loss: 2.1339,             Valid loss: 2.6652\n"
     ]
    },
    {
     "name": "stderr",
     "output_type": "stream",
     "text": [
      "epoch [1013/3000]: 100%|██████████| 9/9 [00:00<00:00, 81.26it/s, loss=1.19]\n"
     ]
    },
    {
     "name": "stdout",
     "output_type": "stream",
     "text": [
      "Epoch [1013/3000]: Train loss: 2.1526,             Valid loss: 1.7664\n"
     ]
    },
    {
     "name": "stderr",
     "output_type": "stream",
     "text": [
      "epoch [1014/3000]: 100%|██████████| 9/9 [00:00<00:00, 67.63it/s, loss=1.19]\n"
     ]
    },
    {
     "name": "stdout",
     "output_type": "stream",
     "text": [
      "Epoch [1014/3000]: Train loss: 2.1366,             Valid loss: 2.2079\n"
     ]
    },
    {
     "name": "stderr",
     "output_type": "stream",
     "text": [
      "epoch [1015/3000]: 100%|██████████| 9/9 [00:00<00:00, 59.04it/s, loss=1.19]\n"
     ]
    },
    {
     "name": "stdout",
     "output_type": "stream",
     "text": [
      "Epoch [1015/3000]: Train loss: 2.1502,             Valid loss: 2.0228\n"
     ]
    },
    {
     "name": "stderr",
     "output_type": "stream",
     "text": [
      "epoch [1016/3000]: 100%|██████████| 9/9 [00:00<00:00, 51.37it/s, loss=1.19]\n"
     ]
    },
    {
     "name": "stdout",
     "output_type": "stream",
     "text": [
      "Epoch [1016/3000]: Train loss: 2.1247,             Valid loss: 2.0878\n"
     ]
    },
    {
     "name": "stderr",
     "output_type": "stream",
     "text": [
      "epoch [1017/3000]: 100%|██████████| 9/9 [00:00<00:00, 61.28it/s, loss=1.19]\n"
     ]
    },
    {
     "name": "stdout",
     "output_type": "stream",
     "text": [
      "Epoch [1017/3000]: Train loss: 2.1518,             Valid loss: 2.1459\n"
     ]
    },
    {
     "name": "stderr",
     "output_type": "stream",
     "text": [
      "epoch [1018/3000]: 100%|██████████| 9/9 [00:00<00:00, 69.28it/s, loss=1.19]\n"
     ]
    },
    {
     "name": "stdout",
     "output_type": "stream",
     "text": [
      "Epoch [1018/3000]: Train loss: 2.1234,             Valid loss: 2.5497\n"
     ]
    },
    {
     "name": "stderr",
     "output_type": "stream",
     "text": [
      "epoch [1019/3000]: 100%|██████████| 9/9 [00:00<00:00, 72.30it/s, loss=1.19]\n"
     ]
    },
    {
     "name": "stdout",
     "output_type": "stream",
     "text": [
      "Epoch [1019/3000]: Train loss: 2.1500,             Valid loss: 2.5134\n"
     ]
    },
    {
     "name": "stderr",
     "output_type": "stream",
     "text": [
      "epoch [1020/3000]: 100%|██████████| 9/9 [00:00<00:00, 68.94it/s, loss=1.19]\n"
     ]
    },
    {
     "name": "stdout",
     "output_type": "stream",
     "text": [
      "Epoch [1020/3000]: Train loss: 2.1205,             Valid loss: 1.9616\n"
     ]
    },
    {
     "name": "stderr",
     "output_type": "stream",
     "text": [
      "epoch [1021/3000]: 100%|██████████| 9/9 [00:00<00:00, 65.43it/s, loss=1.19]\n"
     ]
    },
    {
     "name": "stdout",
     "output_type": "stream",
     "text": [
      "Epoch [1021/3000]: Train loss: 2.1515,             Valid loss: 1.9868\n"
     ]
    },
    {
     "name": "stderr",
     "output_type": "stream",
     "text": [
      "epoch [1022/3000]: 100%|██████████| 9/9 [00:00<00:00, 68.77it/s, loss=1.19]\n"
     ]
    },
    {
     "name": "stdout",
     "output_type": "stream",
     "text": [
      "Epoch [1022/3000]: Train loss: 2.1341,             Valid loss: 2.2368\n"
     ]
    },
    {
     "name": "stderr",
     "output_type": "stream",
     "text": [
      "epoch [1023/3000]: 100%|██████████| 9/9 [00:00<00:00, 70.44it/s, loss=1.19]\n"
     ]
    },
    {
     "name": "stdout",
     "output_type": "stream",
     "text": [
      "Epoch [1023/3000]: Train loss: 2.1374,             Valid loss: 2.0264\n"
     ]
    },
    {
     "name": "stderr",
     "output_type": "stream",
     "text": [
      "epoch [1024/3000]: 100%|██████████| 9/9 [00:00<00:00, 74.60it/s, loss=1.19]\n"
     ]
    },
    {
     "name": "stdout",
     "output_type": "stream",
     "text": [
      "Epoch [1024/3000]: Train loss: 2.1307,             Valid loss: 1.8201\n"
     ]
    },
    {
     "name": "stderr",
     "output_type": "stream",
     "text": [
      "epoch [1025/3000]: 100%|██████████| 9/9 [00:00<00:00, 72.16it/s, loss=1.19]\n"
     ]
    },
    {
     "name": "stdout",
     "output_type": "stream",
     "text": [
      "Epoch [1025/3000]: Train loss: 2.1361,             Valid loss: 2.0474\n"
     ]
    },
    {
     "name": "stderr",
     "output_type": "stream",
     "text": [
      "epoch [1026/3000]: 100%|██████████| 9/9 [00:00<00:00, 69.27it/s, loss=1.19]\n"
     ]
    },
    {
     "name": "stdout",
     "output_type": "stream",
     "text": [
      "Epoch [1026/3000]: Train loss: 2.1373,             Valid loss: 1.8277\n"
     ]
    },
    {
     "name": "stderr",
     "output_type": "stream",
     "text": [
      "epoch [1027/3000]: 100%|██████████| 9/9 [00:00<00:00, 75.33it/s, loss=1.19]\n"
     ]
    },
    {
     "name": "stdout",
     "output_type": "stream",
     "text": [
      "Epoch [1027/3000]: Train loss: 2.1288,             Valid loss: 2.5852\n"
     ]
    },
    {
     "name": "stderr",
     "output_type": "stream",
     "text": [
      "epoch [1028/3000]: 100%|██████████| 9/9 [00:00<00:00, 69.03it/s, loss=1.18]\n"
     ]
    },
    {
     "name": "stdout",
     "output_type": "stream",
     "text": [
      "Epoch [1028/3000]: Train loss: 2.1347,             Valid loss: 2.3495\n"
     ]
    },
    {
     "name": "stderr",
     "output_type": "stream",
     "text": [
      "epoch [1029/3000]: 100%|██████████| 9/9 [00:00<00:00, 76.20it/s, loss=1.18]\n"
     ]
    },
    {
     "name": "stdout",
     "output_type": "stream",
     "text": [
      "Epoch [1029/3000]: Train loss: 2.1363,             Valid loss: 1.9196\n"
     ]
    },
    {
     "name": "stderr",
     "output_type": "stream",
     "text": [
      "epoch [1030/3000]: 100%|██████████| 9/9 [00:00<00:00, 74.78it/s, loss=1.18]\n"
     ]
    },
    {
     "name": "stdout",
     "output_type": "stream",
     "text": [
      "Epoch [1030/3000]: Train loss: 2.1320,             Valid loss: 1.9861\n"
     ]
    },
    {
     "name": "stderr",
     "output_type": "stream",
     "text": [
      "epoch [1031/3000]: 100%|██████████| 9/9 [00:00<00:00, 71.23it/s, loss=1.18]\n"
     ]
    },
    {
     "name": "stdout",
     "output_type": "stream",
     "text": [
      "Epoch [1031/3000]: Train loss: 2.1340,             Valid loss: 2.1374\n"
     ]
    },
    {
     "name": "stderr",
     "output_type": "stream",
     "text": [
      "epoch [1032/3000]: 100%|██████████| 9/9 [00:00<00:00, 63.41it/s, loss=1.18]\n"
     ]
    },
    {
     "name": "stdout",
     "output_type": "stream",
     "text": [
      "Epoch [1032/3000]: Train loss: 2.1311,             Valid loss: 2.1207\n"
     ]
    },
    {
     "name": "stderr",
     "output_type": "stream",
     "text": [
      "epoch [1033/3000]: 100%|██████████| 9/9 [00:00<00:00, 72.91it/s, loss=1.18]\n"
     ]
    },
    {
     "name": "stdout",
     "output_type": "stream",
     "text": [
      "Epoch [1033/3000]: Train loss: 2.1259,             Valid loss: 2.0255\n"
     ]
    },
    {
     "name": "stderr",
     "output_type": "stream",
     "text": [
      "epoch [1034/3000]: 100%|██████████| 9/9 [00:00<00:00, 68.23it/s, loss=1.18]\n"
     ]
    },
    {
     "name": "stdout",
     "output_type": "stream",
     "text": [
      "Epoch [1034/3000]: Train loss: 2.1333,             Valid loss: 2.2270\n"
     ]
    },
    {
     "name": "stderr",
     "output_type": "stream",
     "text": [
      "epoch [1035/3000]: 100%|██████████| 9/9 [00:00<00:00, 60.81it/s, loss=1.18]\n"
     ]
    },
    {
     "name": "stdout",
     "output_type": "stream",
     "text": [
      "Epoch [1035/3000]: Train loss: 2.1304,             Valid loss: 1.7777\n"
     ]
    },
    {
     "name": "stderr",
     "output_type": "stream",
     "text": [
      "epoch [1036/3000]: 100%|██████████| 9/9 [00:00<00:00, 67.04it/s, loss=1.18]\n"
     ]
    },
    {
     "name": "stdout",
     "output_type": "stream",
     "text": [
      "Epoch [1036/3000]: Train loss: 2.1319,             Valid loss: 2.2940\n"
     ]
    },
    {
     "name": "stderr",
     "output_type": "stream",
     "text": [
      "epoch [1037/3000]: 100%|██████████| 9/9 [00:00<00:00, 74.23it/s, loss=1.18]\n"
     ]
    },
    {
     "name": "stdout",
     "output_type": "stream",
     "text": [
      "Epoch [1037/3000]: Train loss: 2.1285,             Valid loss: 2.0847\n"
     ]
    },
    {
     "name": "stderr",
     "output_type": "stream",
     "text": [
      "epoch [1038/3000]: 100%|██████████| 9/9 [00:00<00:00, 73.57it/s, loss=1.18]\n"
     ]
    },
    {
     "name": "stdout",
     "output_type": "stream",
     "text": [
      "Epoch [1038/3000]: Train loss: 2.1339,             Valid loss: 1.9831\n"
     ]
    },
    {
     "name": "stderr",
     "output_type": "stream",
     "text": [
      "epoch [1039/3000]: 100%|██████████| 9/9 [00:00<00:00, 69.23it/s, loss=1.18]\n"
     ]
    },
    {
     "name": "stdout",
     "output_type": "stream",
     "text": [
      "Epoch [1039/3000]: Train loss: 2.1222,             Valid loss: 2.3045\n"
     ]
    },
    {
     "name": "stderr",
     "output_type": "stream",
     "text": [
      "epoch [1040/3000]: 100%|██████████| 9/9 [00:00<00:00, 75.35it/s, loss=1.18]\n"
     ]
    },
    {
     "name": "stdout",
     "output_type": "stream",
     "text": [
      "Epoch [1040/3000]: Train loss: 2.1304,             Valid loss: 2.1937\n"
     ]
    },
    {
     "name": "stderr",
     "output_type": "stream",
     "text": [
      "epoch [1041/3000]: 100%|██████████| 9/9 [00:00<00:00, 73.81it/s, loss=1.18]\n"
     ]
    },
    {
     "name": "stdout",
     "output_type": "stream",
     "text": [
      "Epoch [1041/3000]: Train loss: 2.1274,             Valid loss: 1.9037\n"
     ]
    },
    {
     "name": "stderr",
     "output_type": "stream",
     "text": [
      "epoch [1042/3000]: 100%|██████████| 9/9 [00:00<00:00, 70.30it/s, loss=1.18]\n"
     ]
    },
    {
     "name": "stdout",
     "output_type": "stream",
     "text": [
      "Epoch [1042/3000]: Train loss: 2.1296,             Valid loss: 2.2666\n"
     ]
    },
    {
     "name": "stderr",
     "output_type": "stream",
     "text": [
      "epoch [1043/3000]: 100%|██████████| 9/9 [00:00<00:00, 65.63it/s, loss=1.18]\n"
     ]
    },
    {
     "name": "stdout",
     "output_type": "stream",
     "text": [
      "Epoch [1043/3000]: Train loss: 2.1231,             Valid loss: 1.8499\n"
     ]
    },
    {
     "name": "stderr",
     "output_type": "stream",
     "text": [
      "epoch [1044/3000]: 100%|██████████| 9/9 [00:00<00:00, 65.44it/s, loss=1.18]\n"
     ]
    },
    {
     "name": "stdout",
     "output_type": "stream",
     "text": [
      "Epoch [1044/3000]: Train loss: 2.1268,             Valid loss: 2.1193\n"
     ]
    },
    {
     "name": "stderr",
     "output_type": "stream",
     "text": [
      "epoch [1045/3000]: 100%|██████████| 9/9 [00:00<00:00, 74.07it/s, loss=1.18]\n"
     ]
    },
    {
     "name": "stdout",
     "output_type": "stream",
     "text": [
      "Epoch [1045/3000]: Train loss: 2.1230,             Valid loss: 2.0530\n"
     ]
    },
    {
     "name": "stderr",
     "output_type": "stream",
     "text": [
      "epoch [1046/3000]: 100%|██████████| 9/9 [00:00<00:00, 70.81it/s, loss=1.18]\n"
     ]
    },
    {
     "name": "stdout",
     "output_type": "stream",
     "text": [
      "Epoch [1046/3000]: Train loss: 2.1253,             Valid loss: 2.0114\n"
     ]
    },
    {
     "name": "stderr",
     "output_type": "stream",
     "text": [
      "epoch [1047/3000]: 100%|██████████| 9/9 [00:00<00:00, 68.87it/s, loss=1.18]\n"
     ]
    },
    {
     "name": "stdout",
     "output_type": "stream",
     "text": [
      "Epoch [1047/3000]: Train loss: 2.1229,             Valid loss: 1.8542\n"
     ]
    },
    {
     "name": "stderr",
     "output_type": "stream",
     "text": [
      "epoch [1048/3000]: 100%|██████████| 9/9 [00:00<00:00, 76.76it/s, loss=1.18]\n"
     ]
    },
    {
     "name": "stdout",
     "output_type": "stream",
     "text": [
      "Epoch [1048/3000]: Train loss: 2.1266,             Valid loss: 1.9325\n"
     ]
    },
    {
     "name": "stderr",
     "output_type": "stream",
     "text": [
      "epoch [1049/3000]: 100%|██████████| 9/9 [00:00<00:00, 74.29it/s, loss=1.18]\n"
     ]
    },
    {
     "name": "stdout",
     "output_type": "stream",
     "text": [
      "Epoch [1049/3000]: Train loss: 2.1193,             Valid loss: 2.0843\n"
     ]
    },
    {
     "name": "stderr",
     "output_type": "stream",
     "text": [
      "epoch [1050/3000]: 100%|██████████| 9/9 [00:00<00:00, 72.62it/s, loss=1.18]\n"
     ]
    },
    {
     "name": "stdout",
     "output_type": "stream",
     "text": [
      "Epoch [1050/3000]: Train loss: 2.1226,             Valid loss: 1.8308\n"
     ]
    },
    {
     "name": "stderr",
     "output_type": "stream",
     "text": [
      "epoch [1051/3000]: 100%|██████████| 9/9 [00:00<00:00, 73.24it/s, loss=1.18]\n"
     ]
    },
    {
     "name": "stdout",
     "output_type": "stream",
     "text": [
      "Epoch [1051/3000]: Train loss: 2.1230,             Valid loss: 1.9101\n"
     ]
    },
    {
     "name": "stderr",
     "output_type": "stream",
     "text": [
      "epoch [1052/3000]: 100%|██████████| 9/9 [00:00<00:00, 63.68it/s, loss=1.18]\n"
     ]
    },
    {
     "name": "stdout",
     "output_type": "stream",
     "text": [
      "Epoch [1052/3000]: Train loss: 2.1181,             Valid loss: 2.0113\n"
     ]
    },
    {
     "name": "stderr",
     "output_type": "stream",
     "text": [
      "epoch [1053/3000]: 100%|██████████| 9/9 [00:00<00:00, 74.94it/s, loss=1.18]\n"
     ]
    },
    {
     "name": "stdout",
     "output_type": "stream",
     "text": [
      "Epoch [1053/3000]: Train loss: 2.1203,             Valid loss: 2.2777\n"
     ]
    },
    {
     "name": "stderr",
     "output_type": "stream",
     "text": [
      "epoch [1054/3000]: 100%|██████████| 9/9 [00:00<00:00, 74.25it/s, loss=1.18]\n"
     ]
    },
    {
     "name": "stdout",
     "output_type": "stream",
     "text": [
      "Epoch [1054/3000]: Train loss: 2.1203,             Valid loss: 2.4433\n"
     ]
    },
    {
     "name": "stderr",
     "output_type": "stream",
     "text": [
      "epoch [1055/3000]: 100%|██████████| 9/9 [00:00<00:00, 67.40it/s, loss=1.18]\n"
     ]
    },
    {
     "name": "stdout",
     "output_type": "stream",
     "text": [
      "Epoch [1055/3000]: Train loss: 2.1173,             Valid loss: 1.9016\n"
     ]
    },
    {
     "name": "stderr",
     "output_type": "stream",
     "text": [
      "epoch [1056/3000]: 100%|██████████| 9/9 [00:00<00:00, 70.94it/s, loss=1.18]\n"
     ]
    },
    {
     "name": "stdout",
     "output_type": "stream",
     "text": [
      "Epoch [1056/3000]: Train loss: 2.1176,             Valid loss: 2.2080\n"
     ]
    },
    {
     "name": "stderr",
     "output_type": "stream",
     "text": [
      "epoch [1057/3000]: 100%|██████████| 9/9 [00:00<00:00, 34.48it/s, loss=1.17]\n"
     ]
    },
    {
     "name": "stdout",
     "output_type": "stream",
     "text": [
      "Epoch [1057/3000]: Train loss: 2.1182,             Valid loss: 2.2642\n"
     ]
    },
    {
     "name": "stderr",
     "output_type": "stream",
     "text": [
      "epoch [1058/3000]: 100%|██████████| 9/9 [00:00<00:00, 66.09it/s, loss=1.17]\n"
     ]
    },
    {
     "name": "stdout",
     "output_type": "stream",
     "text": [
      "Epoch [1058/3000]: Train loss: 2.1167,             Valid loss: 2.1240\n"
     ]
    },
    {
     "name": "stderr",
     "output_type": "stream",
     "text": [
      "epoch [1059/3000]: 100%|██████████| 9/9 [00:00<00:00, 71.58it/s, loss=1.17]\n"
     ]
    },
    {
     "name": "stdout",
     "output_type": "stream",
     "text": [
      "Epoch [1059/3000]: Train loss: 2.1171,             Valid loss: 2.1968\n"
     ]
    },
    {
     "name": "stderr",
     "output_type": "stream",
     "text": [
      "epoch [1060/3000]: 100%|██████████| 9/9 [00:00<00:00, 68.88it/s, loss=1.17]\n"
     ]
    },
    {
     "name": "stdout",
     "output_type": "stream",
     "text": [
      "Epoch [1060/3000]: Train loss: 2.1157,             Valid loss: 2.3437\n"
     ]
    },
    {
     "name": "stderr",
     "output_type": "stream",
     "text": [
      "epoch [1061/3000]: 100%|██████████| 9/9 [00:00<00:00, 72.70it/s, loss=1.17]\n"
     ]
    },
    {
     "name": "stdout",
     "output_type": "stream",
     "text": [
      "Epoch [1061/3000]: Train loss: 2.1161,             Valid loss: 2.7301\n"
     ]
    },
    {
     "name": "stderr",
     "output_type": "stream",
     "text": [
      "epoch [1062/3000]: 100%|██████████| 9/9 [00:00<00:00, 75.33it/s, loss=1.17]\n"
     ]
    },
    {
     "name": "stdout",
     "output_type": "stream",
     "text": [
      "Epoch [1062/3000]: Train loss: 2.1151,             Valid loss: 1.8319\n"
     ]
    },
    {
     "name": "stderr",
     "output_type": "stream",
     "text": [
      "epoch [1063/3000]: 100%|██████████| 9/9 [00:00<00:00, 76.00it/s, loss=1.17]\n"
     ]
    },
    {
     "name": "stdout",
     "output_type": "stream",
     "text": [
      "Epoch [1063/3000]: Train loss: 2.1143,             Valid loss: 1.8610\n"
     ]
    },
    {
     "name": "stderr",
     "output_type": "stream",
     "text": [
      "epoch [1064/3000]: 100%|██████████| 9/9 [00:00<00:00, 67.18it/s, loss=1.17]\n"
     ]
    },
    {
     "name": "stdout",
     "output_type": "stream",
     "text": [
      "Epoch [1064/3000]: Train loss: 2.1151,             Valid loss: 2.1249\n"
     ]
    },
    {
     "name": "stderr",
     "output_type": "stream",
     "text": [
      "epoch [1065/3000]: 100%|██████████| 9/9 [00:00<00:00, 67.53it/s, loss=1.17]\n"
     ]
    },
    {
     "name": "stdout",
     "output_type": "stream",
     "text": [
      "Epoch [1065/3000]: Train loss: 2.1137,             Valid loss: 2.2819\n"
     ]
    },
    {
     "name": "stderr",
     "output_type": "stream",
     "text": [
      "epoch [1066/3000]: 100%|██████████| 9/9 [00:00<00:00, 75.13it/s, loss=1.17]\n"
     ]
    },
    {
     "name": "stdout",
     "output_type": "stream",
     "text": [
      "Epoch [1066/3000]: Train loss: 2.1139,             Valid loss: 2.0811\n"
     ]
    },
    {
     "name": "stderr",
     "output_type": "stream",
     "text": [
      "epoch [1067/3000]: 100%|██████████| 9/9 [00:00<00:00, 69.12it/s, loss=1.17]\n"
     ]
    },
    {
     "name": "stdout",
     "output_type": "stream",
     "text": [
      "Epoch [1067/3000]: Train loss: 2.1128,             Valid loss: 1.9778\n"
     ]
    },
    {
     "name": "stderr",
     "output_type": "stream",
     "text": [
      "epoch [1068/3000]: 100%|██████████| 9/9 [00:00<00:00, 69.45it/s, loss=1.17]\n"
     ]
    },
    {
     "name": "stdout",
     "output_type": "stream",
     "text": [
      "Epoch [1068/3000]: Train loss: 2.1128,             Valid loss: 2.0333\n"
     ]
    },
    {
     "name": "stderr",
     "output_type": "stream",
     "text": [
      "epoch [1069/3000]: 100%|██████████| 9/9 [00:00<00:00, 71.89it/s, loss=1.17]\n"
     ]
    },
    {
     "name": "stdout",
     "output_type": "stream",
     "text": [
      "Epoch [1069/3000]: Train loss: 2.1114,             Valid loss: 1.7560\n"
     ]
    },
    {
     "name": "stderr",
     "output_type": "stream",
     "text": [
      "epoch [1070/3000]: 100%|██████████| 9/9 [00:00<00:00, 74.32it/s, loss=1.17]\n"
     ]
    },
    {
     "name": "stdout",
     "output_type": "stream",
     "text": [
      "Epoch [1070/3000]: Train loss: 2.1110,             Valid loss: 2.0184\n"
     ]
    },
    {
     "name": "stderr",
     "output_type": "stream",
     "text": [
      "epoch [1071/3000]: 100%|██████████| 9/9 [00:00<00:00, 65.07it/s, loss=1.17]\n"
     ]
    },
    {
     "name": "stdout",
     "output_type": "stream",
     "text": [
      "Epoch [1071/3000]: Train loss: 2.1110,             Valid loss: 2.0460\n"
     ]
    },
    {
     "name": "stderr",
     "output_type": "stream",
     "text": [
      "epoch [1072/3000]: 100%|██████████| 9/9 [00:00<00:00, 52.48it/s, loss=1.17]\n"
     ]
    },
    {
     "name": "stdout",
     "output_type": "stream",
     "text": [
      "Epoch [1072/3000]: Train loss: 2.1100,             Valid loss: 2.0307\n"
     ]
    },
    {
     "name": "stderr",
     "output_type": "stream",
     "text": [
      "epoch [1073/3000]: 100%|██████████| 9/9 [00:00<00:00, 76.33it/s, loss=1.17]\n"
     ]
    },
    {
     "name": "stdout",
     "output_type": "stream",
     "text": [
      "Epoch [1073/3000]: Train loss: 2.1096,             Valid loss: 2.0712\n"
     ]
    },
    {
     "name": "stderr",
     "output_type": "stream",
     "text": [
      "epoch [1074/3000]: 100%|██████████| 9/9 [00:00<00:00, 74.56it/s, loss=1.17]\n"
     ]
    },
    {
     "name": "stdout",
     "output_type": "stream",
     "text": [
      "Epoch [1074/3000]: Train loss: 2.1091,             Valid loss: 2.4033\n"
     ]
    },
    {
     "name": "stderr",
     "output_type": "stream",
     "text": [
      "epoch [1075/3000]: 100%|██████████| 9/9 [00:00<00:00, 72.10it/s, loss=1.17]\n"
     ]
    },
    {
     "name": "stdout",
     "output_type": "stream",
     "text": [
      "Epoch [1075/3000]: Train loss: 2.1078,             Valid loss: 2.0916\n"
     ]
    },
    {
     "name": "stderr",
     "output_type": "stream",
     "text": [
      "epoch [1076/3000]: 100%|██████████| 9/9 [00:00<00:00, 72.86it/s, loss=1.17]\n"
     ]
    },
    {
     "name": "stdout",
     "output_type": "stream",
     "text": [
      "Epoch [1076/3000]: Train loss: 2.1079,             Valid loss: 1.8435\n"
     ]
    },
    {
     "name": "stderr",
     "output_type": "stream",
     "text": [
      "epoch [1077/3000]: 100%|██████████| 9/9 [00:00<00:00, 74.82it/s, loss=1.17]\n"
     ]
    },
    {
     "name": "stdout",
     "output_type": "stream",
     "text": [
      "Epoch [1077/3000]: Train loss: 2.1081,             Valid loss: 2.1920\n"
     ]
    },
    {
     "name": "stderr",
     "output_type": "stream",
     "text": [
      "epoch [1078/3000]: 100%|██████████| 9/9 [00:00<00:00, 76.36it/s, loss=1.17]\n"
     ]
    },
    {
     "name": "stdout",
     "output_type": "stream",
     "text": [
      "Epoch [1078/3000]: Train loss: 2.1062,             Valid loss: 2.1131\n"
     ]
    },
    {
     "name": "stderr",
     "output_type": "stream",
     "text": [
      "epoch [1079/3000]: 100%|██████████| 9/9 [00:00<00:00, 72.68it/s, loss=1.17]\n"
     ]
    },
    {
     "name": "stdout",
     "output_type": "stream",
     "text": [
      "Epoch [1079/3000]: Train loss: 2.1053,             Valid loss: 1.8693\n"
     ]
    },
    {
     "name": "stderr",
     "output_type": "stream",
     "text": [
      "epoch [1080/3000]: 100%|██████████| 9/9 [00:00<00:00, 60.99it/s, loss=1.17]\n"
     ]
    },
    {
     "name": "stdout",
     "output_type": "stream",
     "text": [
      "Epoch [1080/3000]: Train loss: 2.1062,             Valid loss: 2.2179\n"
     ]
    },
    {
     "name": "stderr",
     "output_type": "stream",
     "text": [
      "epoch [1081/3000]: 100%|██████████| 9/9 [00:00<00:00, 46.05it/s, loss=1.17]\n"
     ]
    },
    {
     "name": "stdout",
     "output_type": "stream",
     "text": [
      "Epoch [1081/3000]: Train loss: 2.1050,             Valid loss: 1.9850\n"
     ]
    },
    {
     "name": "stderr",
     "output_type": "stream",
     "text": [
      "epoch [1082/3000]: 100%|██████████| 9/9 [00:00<00:00, 39.26it/s, loss=1.17]\n"
     ]
    },
    {
     "name": "stdout",
     "output_type": "stream",
     "text": [
      "Epoch [1082/3000]: Train loss: 2.1038,             Valid loss: 1.8664\n"
     ]
    },
    {
     "name": "stderr",
     "output_type": "stream",
     "text": [
      "epoch [1083/3000]: 100%|██████████| 9/9 [00:00<00:00, 76.57it/s, loss=1.17]\n"
     ]
    },
    {
     "name": "stdout",
     "output_type": "stream",
     "text": [
      "Epoch [1083/3000]: Train loss: 2.1067,             Valid loss: 1.9123\n"
     ]
    },
    {
     "name": "stderr",
     "output_type": "stream",
     "text": [
      "epoch [1084/3000]: 100%|██████████| 9/9 [00:00<00:00, 64.30it/s, loss=1.17]\n"
     ]
    },
    {
     "name": "stdout",
     "output_type": "stream",
     "text": [
      "Epoch [1084/3000]: Train loss: 2.1041,             Valid loss: 1.8067\n"
     ]
    },
    {
     "name": "stderr",
     "output_type": "stream",
     "text": [
      "epoch [1085/3000]: 100%|██████████| 9/9 [00:00<00:00, 76.32it/s, loss=1.17]\n"
     ]
    },
    {
     "name": "stdout",
     "output_type": "stream",
     "text": [
      "Epoch [1085/3000]: Train loss: 2.1036,             Valid loss: 1.9862\n"
     ]
    },
    {
     "name": "stderr",
     "output_type": "stream",
     "text": [
      "epoch [1086/3000]: 100%|██████████| 9/9 [00:00<00:00, 72.80it/s, loss=1.17]\n"
     ]
    },
    {
     "name": "stdout",
     "output_type": "stream",
     "text": [
      "Epoch [1086/3000]: Train loss: 2.1009,             Valid loss: 2.2826\n"
     ]
    },
    {
     "name": "stderr",
     "output_type": "stream",
     "text": [
      "epoch [1087/3000]: 100%|██████████| 9/9 [00:00<00:00, 74.27it/s, loss=1.17]\n"
     ]
    },
    {
     "name": "stdout",
     "output_type": "stream",
     "text": [
      "Epoch [1087/3000]: Train loss: 2.1022,             Valid loss: 2.3054\n"
     ]
    },
    {
     "name": "stderr",
     "output_type": "stream",
     "text": [
      "epoch [1088/3000]: 100%|██████████| 9/9 [00:00<00:00, 70.18it/s, loss=1.17]\n"
     ]
    },
    {
     "name": "stdout",
     "output_type": "stream",
     "text": [
      "Epoch [1088/3000]: Train loss: 2.1018,             Valid loss: 1.9938\n"
     ]
    },
    {
     "name": "stderr",
     "output_type": "stream",
     "text": [
      "epoch [1089/3000]: 100%|██████████| 9/9 [00:00<00:00, 67.95it/s, loss=1.17]\n"
     ]
    },
    {
     "name": "stdout",
     "output_type": "stream",
     "text": [
      "Epoch [1089/3000]: Train loss: 2.0994,             Valid loss: 1.9744\n"
     ]
    },
    {
     "name": "stderr",
     "output_type": "stream",
     "text": [
      "epoch [1090/3000]: 100%|██████████| 9/9 [00:00<00:00, 69.59it/s, loss=1.16]\n"
     ]
    },
    {
     "name": "stdout",
     "output_type": "stream",
     "text": [
      "Epoch [1090/3000]: Train loss: 2.0995,             Valid loss: 1.8072\n"
     ]
    },
    {
     "name": "stderr",
     "output_type": "stream",
     "text": [
      "epoch [1091/3000]: 100%|██████████| 9/9 [00:00<00:00, 74.61it/s, loss=1.16]\n"
     ]
    },
    {
     "name": "stdout",
     "output_type": "stream",
     "text": [
      "Epoch [1091/3000]: Train loss: 2.0997,             Valid loss: 1.9976\n"
     ]
    },
    {
     "name": "stderr",
     "output_type": "stream",
     "text": [
      "epoch [1092/3000]: 100%|██████████| 9/9 [00:00<00:00, 70.33it/s, loss=1.16]\n"
     ]
    },
    {
     "name": "stdout",
     "output_type": "stream",
     "text": [
      "Epoch [1092/3000]: Train loss: 2.0992,             Valid loss: 2.0227\n"
     ]
    },
    {
     "name": "stderr",
     "output_type": "stream",
     "text": [
      "epoch [1093/3000]: 100%|██████████| 9/9 [00:00<00:00, 79.32it/s, loss=1.16]\n"
     ]
    },
    {
     "name": "stdout",
     "output_type": "stream",
     "text": [
      "Epoch [1093/3000]: Train loss: 2.0989,             Valid loss: 1.9757\n"
     ]
    },
    {
     "name": "stderr",
     "output_type": "stream",
     "text": [
      "epoch [1094/3000]: 100%|██████████| 9/9 [00:00<00:00, 69.16it/s, loss=1.16]\n"
     ]
    },
    {
     "name": "stdout",
     "output_type": "stream",
     "text": [
      "Epoch [1094/3000]: Train loss: 2.1016,             Valid loss: 2.0417\n"
     ]
    },
    {
     "name": "stderr",
     "output_type": "stream",
     "text": [
      "epoch [1095/3000]: 100%|██████████| 9/9 [00:00<00:00, 68.25it/s, loss=1.16]\n"
     ]
    },
    {
     "name": "stdout",
     "output_type": "stream",
     "text": [
      "Epoch [1095/3000]: Train loss: 2.0990,             Valid loss: 2.3977\n"
     ]
    },
    {
     "name": "stderr",
     "output_type": "stream",
     "text": [
      "epoch [1096/3000]: 100%|██████████| 9/9 [00:00<00:00, 62.23it/s, loss=1.16]\n"
     ]
    },
    {
     "name": "stdout",
     "output_type": "stream",
     "text": [
      "Epoch [1096/3000]: Train loss: 2.0949,             Valid loss: 1.9605\n"
     ]
    },
    {
     "name": "stderr",
     "output_type": "stream",
     "text": [
      "epoch [1097/3000]: 100%|██████████| 9/9 [00:00<00:00, 70.14it/s, loss=1.16]\n"
     ]
    },
    {
     "name": "stdout",
     "output_type": "stream",
     "text": [
      "Epoch [1097/3000]: Train loss: 2.0980,             Valid loss: 1.9321\n"
     ]
    },
    {
     "name": "stderr",
     "output_type": "stream",
     "text": [
      "epoch [1098/3000]: 100%|██████████| 9/9 [00:00<00:00, 75.00it/s, loss=1.16]\n"
     ]
    },
    {
     "name": "stdout",
     "output_type": "stream",
     "text": [
      "Epoch [1098/3000]: Train loss: 2.0954,             Valid loss: 1.8785\n"
     ]
    },
    {
     "name": "stderr",
     "output_type": "stream",
     "text": [
      "epoch [1099/3000]: 100%|██████████| 9/9 [00:00<00:00, 83.38it/s, loss=1.16]\n"
     ]
    },
    {
     "name": "stdout",
     "output_type": "stream",
     "text": [
      "Epoch [1099/3000]: Train loss: 2.0949,             Valid loss: 1.9005\n"
     ]
    },
    {
     "name": "stderr",
     "output_type": "stream",
     "text": [
      "epoch [1100/3000]: 100%|██████████| 9/9 [00:00<00:00, 66.74it/s, loss=1.16]\n"
     ]
    },
    {
     "name": "stdout",
     "output_type": "stream",
     "text": [
      "Epoch [1100/3000]: Train loss: 2.0970,             Valid loss: 2.6704\n"
     ]
    },
    {
     "name": "stderr",
     "output_type": "stream",
     "text": [
      "epoch [1101/3000]: 100%|██████████| 9/9 [00:00<00:00, 85.20it/s, loss=1.16]\n"
     ]
    },
    {
     "name": "stdout",
     "output_type": "stream",
     "text": [
      "Epoch [1101/3000]: Train loss: 2.0937,             Valid loss: 1.9358\n"
     ]
    },
    {
     "name": "stderr",
     "output_type": "stream",
     "text": [
      "epoch [1102/3000]: 100%|██████████| 9/9 [00:00<00:00, 80.07it/s, loss=1.16]\n"
     ]
    },
    {
     "name": "stdout",
     "output_type": "stream",
     "text": [
      "Epoch [1102/3000]: Train loss: 2.0928,             Valid loss: 1.8139\n"
     ]
    },
    {
     "name": "stderr",
     "output_type": "stream",
     "text": [
      "epoch [1103/3000]: 100%|██████████| 9/9 [00:00<00:00, 82.11it/s, loss=1.16]\n"
     ]
    },
    {
     "name": "stdout",
     "output_type": "stream",
     "text": [
      "Epoch [1103/3000]: Train loss: 2.0941,             Valid loss: 2.1086\n"
     ]
    },
    {
     "name": "stderr",
     "output_type": "stream",
     "text": [
      "epoch [1104/3000]: 100%|██████████| 9/9 [00:00<00:00, 71.95it/s, loss=1.16]\n"
     ]
    },
    {
     "name": "stdout",
     "output_type": "stream",
     "text": [
      "Epoch [1104/3000]: Train loss: 2.0932,             Valid loss: 2.5899\n"
     ]
    },
    {
     "name": "stderr",
     "output_type": "stream",
     "text": [
      "epoch [1105/3000]: 100%|██████████| 9/9 [00:00<00:00, 75.91it/s, loss=1.16]\n"
     ]
    },
    {
     "name": "stdout",
     "output_type": "stream",
     "text": [
      "Epoch [1105/3000]: Train loss: 2.0922,             Valid loss: 1.9297\n"
     ]
    },
    {
     "name": "stderr",
     "output_type": "stream",
     "text": [
      "epoch [1106/3000]: 100%|██████████| 9/9 [00:00<00:00, 83.12it/s, loss=1.16]\n"
     ]
    },
    {
     "name": "stdout",
     "output_type": "stream",
     "text": [
      "Epoch [1106/3000]: Train loss: 2.0916,             Valid loss: 1.9200\n"
     ]
    },
    {
     "name": "stderr",
     "output_type": "stream",
     "text": [
      "epoch [1107/3000]: 100%|██████████| 9/9 [00:00<00:00, 83.37it/s, loss=1.16]\n"
     ]
    },
    {
     "name": "stdout",
     "output_type": "stream",
     "text": [
      "Epoch [1107/3000]: Train loss: 2.0921,             Valid loss: 2.3206\n"
     ]
    },
    {
     "name": "stderr",
     "output_type": "stream",
     "text": [
      "epoch [1108/3000]: 100%|██████████| 9/9 [00:00<00:00, 75.59it/s, loss=1.16]\n"
     ]
    },
    {
     "name": "stdout",
     "output_type": "stream",
     "text": [
      "Epoch [1108/3000]: Train loss: 2.0904,             Valid loss: 2.3400\n"
     ]
    },
    {
     "name": "stderr",
     "output_type": "stream",
     "text": [
      "epoch [1109/3000]: 100%|██████████| 9/9 [00:00<00:00, 66.33it/s, loss=1.16]\n"
     ]
    },
    {
     "name": "stdout",
     "output_type": "stream",
     "text": [
      "Epoch [1109/3000]: Train loss: 2.0900,             Valid loss: 2.3349\n"
     ]
    },
    {
     "name": "stderr",
     "output_type": "stream",
     "text": [
      "epoch [1110/3000]: 100%|██████████| 9/9 [00:00<00:00, 80.95it/s, loss=1.16]\n"
     ]
    },
    {
     "name": "stdout",
     "output_type": "stream",
     "text": [
      "Epoch [1110/3000]: Train loss: 2.0892,             Valid loss: 1.9263\n"
     ]
    },
    {
     "name": "stderr",
     "output_type": "stream",
     "text": [
      "epoch [1111/3000]: 100%|██████████| 9/9 [00:00<00:00, 80.37it/s, loss=1.16]\n"
     ]
    },
    {
     "name": "stdout",
     "output_type": "stream",
     "text": [
      "Epoch [1111/3000]: Train loss: 2.0891,             Valid loss: 1.9543\n"
     ]
    },
    {
     "name": "stderr",
     "output_type": "stream",
     "text": [
      "epoch [1112/3000]: 100%|██████████| 9/9 [00:00<00:00, 70.04it/s, loss=1.16]\n"
     ]
    },
    {
     "name": "stdout",
     "output_type": "stream",
     "text": [
      "Epoch [1112/3000]: Train loss: 2.0882,             Valid loss: 2.3805\n"
     ]
    },
    {
     "name": "stderr",
     "output_type": "stream",
     "text": [
      "epoch [1113/3000]: 100%|██████████| 9/9 [00:00<00:00, 93.69it/s, loss=1.16]\n"
     ]
    },
    {
     "name": "stdout",
     "output_type": "stream",
     "text": [
      "Epoch [1113/3000]: Train loss: 2.0858,             Valid loss: 1.9572\n"
     ]
    },
    {
     "name": "stderr",
     "output_type": "stream",
     "text": [
      "epoch [1114/3000]: 100%|██████████| 9/9 [00:00<00:00, 89.63it/s, loss=1.16]\n"
     ]
    },
    {
     "name": "stdout",
     "output_type": "stream",
     "text": [
      "Epoch [1114/3000]: Train loss: 2.0892,             Valid loss: 2.1682\n"
     ]
    },
    {
     "name": "stderr",
     "output_type": "stream",
     "text": [
      "epoch [1115/3000]: 100%|██████████| 9/9 [00:00<00:00, 91.53it/s, loss=1.16]\n"
     ]
    },
    {
     "name": "stdout",
     "output_type": "stream",
     "text": [
      "Epoch [1115/3000]: Train loss: 2.0884,             Valid loss: 2.1782\n"
     ]
    },
    {
     "name": "stderr",
     "output_type": "stream",
     "text": [
      "epoch [1116/3000]: 100%|██████████| 9/9 [00:00<00:00, 93.95it/s, loss=1.16]\n"
     ]
    },
    {
     "name": "stdout",
     "output_type": "stream",
     "text": [
      "Epoch [1116/3000]: Train loss: 2.0868,             Valid loss: 2.2202\n"
     ]
    },
    {
     "name": "stderr",
     "output_type": "stream",
     "text": [
      "epoch [1117/3000]: 100%|██████████| 9/9 [00:00<00:00, 85.94it/s, loss=1.16]\n"
     ]
    },
    {
     "name": "stdout",
     "output_type": "stream",
     "text": [
      "Epoch [1117/3000]: Train loss: 2.0859,             Valid loss: 2.0690\n"
     ]
    },
    {
     "name": "stderr",
     "output_type": "stream",
     "text": [
      "epoch [1118/3000]: 100%|██████████| 9/9 [00:00<00:00, 91.47it/s, loss=1.16]\n"
     ]
    },
    {
     "name": "stdout",
     "output_type": "stream",
     "text": [
      "Epoch [1118/3000]: Train loss: 2.0860,             Valid loss: 1.9137\n"
     ]
    },
    {
     "name": "stderr",
     "output_type": "stream",
     "text": [
      "epoch [1119/3000]: 100%|██████████| 9/9 [00:00<00:00, 95.01it/s, loss=1.16]\n"
     ]
    },
    {
     "name": "stdout",
     "output_type": "stream",
     "text": [
      "Epoch [1119/3000]: Train loss: 2.0857,             Valid loss: 1.7866\n"
     ]
    },
    {
     "name": "stderr",
     "output_type": "stream",
     "text": [
      "epoch [1120/3000]: 100%|██████████| 9/9 [00:00<00:00, 88.98it/s, loss=1.16]\n"
     ]
    },
    {
     "name": "stdout",
     "output_type": "stream",
     "text": [
      "Epoch [1120/3000]: Train loss: 2.0823,             Valid loss: 2.0539\n"
     ]
    },
    {
     "name": "stderr",
     "output_type": "stream",
     "text": [
      "epoch [1121/3000]: 100%|██████████| 9/9 [00:00<00:00, 83.75it/s, loss=1.16]\n"
     ]
    },
    {
     "name": "stdout",
     "output_type": "stream",
     "text": [
      "Epoch [1121/3000]: Train loss: 2.0872,             Valid loss: 2.0913\n"
     ]
    },
    {
     "name": "stderr",
     "output_type": "stream",
     "text": [
      "epoch [1122/3000]: 100%|██████████| 9/9 [00:00<00:00, 68.76it/s, loss=1.16]\n"
     ]
    },
    {
     "name": "stdout",
     "output_type": "stream",
     "text": [
      "Epoch [1122/3000]: Train loss: 2.0808,             Valid loss: 2.0063\n"
     ]
    },
    {
     "name": "stderr",
     "output_type": "stream",
     "text": [
      "epoch [1123/3000]: 100%|██████████| 9/9 [00:00<00:00, 74.58it/s, loss=1.15]\n"
     ]
    },
    {
     "name": "stdout",
     "output_type": "stream",
     "text": [
      "Epoch [1123/3000]: Train loss: 2.0831,             Valid loss: 2.0966\n"
     ]
    },
    {
     "name": "stderr",
     "output_type": "stream",
     "text": [
      "epoch [1124/3000]: 100%|██████████| 9/9 [00:00<00:00, 85.91it/s, loss=1.15]\n"
     ]
    },
    {
     "name": "stdout",
     "output_type": "stream",
     "text": [
      "Epoch [1124/3000]: Train loss: 2.0857,             Valid loss: 2.3983\n"
     ]
    },
    {
     "name": "stderr",
     "output_type": "stream",
     "text": [
      "epoch [1125/3000]: 100%|██████████| 9/9 [00:00<00:00, 83.63it/s, loss=1.15]\n"
     ]
    },
    {
     "name": "stdout",
     "output_type": "stream",
     "text": [
      "Epoch [1125/3000]: Train loss: 2.0807,             Valid loss: 1.9745\n"
     ]
    },
    {
     "name": "stderr",
     "output_type": "stream",
     "text": [
      "epoch [1126/3000]: 100%|██████████| 9/9 [00:00<00:00, 89.56it/s, loss=1.15]\n"
     ]
    },
    {
     "name": "stdout",
     "output_type": "stream",
     "text": [
      "Epoch [1126/3000]: Train loss: 2.0901,             Valid loss: 1.7842\n"
     ]
    },
    {
     "name": "stderr",
     "output_type": "stream",
     "text": [
      "epoch [1127/3000]: 100%|██████████| 9/9 [00:00<00:00, 93.87it/s, loss=1.15]\n"
     ]
    },
    {
     "name": "stdout",
     "output_type": "stream",
     "text": [
      "Epoch [1127/3000]: Train loss: 2.0761,             Valid loss: 1.8142\n"
     ]
    },
    {
     "name": "stderr",
     "output_type": "stream",
     "text": [
      "epoch [1128/3000]: 100%|██████████| 9/9 [00:00<00:00, 89.75it/s, loss=1.15]\n"
     ]
    },
    {
     "name": "stdout",
     "output_type": "stream",
     "text": [
      "Epoch [1128/3000]: Train loss: 2.0902,             Valid loss: 1.8820\n"
     ]
    },
    {
     "name": "stderr",
     "output_type": "stream",
     "text": [
      "epoch [1129/3000]: 100%|██████████| 9/9 [00:00<00:00, 93.67it/s, loss=1.15]\n"
     ]
    },
    {
     "name": "stdout",
     "output_type": "stream",
     "text": [
      "Epoch [1129/3000]: Train loss: 2.0726,             Valid loss: 1.9446\n"
     ]
    },
    {
     "name": "stderr",
     "output_type": "stream",
     "text": [
      "epoch [1130/3000]: 100%|██████████| 9/9 [00:00<00:00, 90.54it/s, loss=1.15]\n"
     ]
    },
    {
     "name": "stdout",
     "output_type": "stream",
     "text": [
      "Epoch [1130/3000]: Train loss: 2.0891,             Valid loss: 1.8848\n"
     ]
    },
    {
     "name": "stderr",
     "output_type": "stream",
     "text": [
      "epoch [1131/3000]: 100%|██████████| 9/9 [00:00<00:00, 76.29it/s, loss=1.15]\n"
     ]
    },
    {
     "name": "stdout",
     "output_type": "stream",
     "text": [
      "Epoch [1131/3000]: Train loss: 2.0743,             Valid loss: 2.0070\n"
     ]
    },
    {
     "name": "stderr",
     "output_type": "stream",
     "text": [
      "epoch [1132/3000]: 100%|██████████| 9/9 [00:00<00:00, 80.13it/s, loss=1.15]\n"
     ]
    },
    {
     "name": "stdout",
     "output_type": "stream",
     "text": [
      "Epoch [1132/3000]: Train loss: 2.0908,             Valid loss: 2.0390\n"
     ]
    },
    {
     "name": "stderr",
     "output_type": "stream",
     "text": [
      "epoch [1133/3000]: 100%|██████████| 9/9 [00:00<00:00, 76.34it/s, loss=1.15]\n"
     ]
    },
    {
     "name": "stdout",
     "output_type": "stream",
     "text": [
      "Epoch [1133/3000]: Train loss: 2.0732,             Valid loss: 1.9483\n"
     ]
    },
    {
     "name": "stderr",
     "output_type": "stream",
     "text": [
      "epoch [1134/3000]: 100%|██████████| 9/9 [00:00<00:00, 79.60it/s, loss=1.15]\n"
     ]
    },
    {
     "name": "stdout",
     "output_type": "stream",
     "text": [
      "Epoch [1134/3000]: Train loss: 2.0834,             Valid loss: 2.1032\n"
     ]
    },
    {
     "name": "stderr",
     "output_type": "stream",
     "text": [
      "epoch [1135/3000]: 100%|██████████| 9/9 [00:00<00:00, 64.24it/s, loss=1.15]\n"
     ]
    },
    {
     "name": "stdout",
     "output_type": "stream",
     "text": [
      "Epoch [1135/3000]: Train loss: 2.0722,             Valid loss: 2.2489\n"
     ]
    },
    {
     "name": "stderr",
     "output_type": "stream",
     "text": [
      "epoch [1136/3000]: 100%|██████████| 9/9 [00:00<00:00, 78.58it/s, loss=1.15]\n"
     ]
    },
    {
     "name": "stdout",
     "output_type": "stream",
     "text": [
      "Epoch [1136/3000]: Train loss: 2.0714,             Valid loss: 2.2095\n"
     ]
    },
    {
     "name": "stderr",
     "output_type": "stream",
     "text": [
      "epoch [1137/3000]: 100%|██████████| 9/9 [00:00<00:00, 78.09it/s, loss=1.15]\n"
     ]
    },
    {
     "name": "stdout",
     "output_type": "stream",
     "text": [
      "Epoch [1137/3000]: Train loss: 2.0813,             Valid loss: 2.1273\n"
     ]
    },
    {
     "name": "stderr",
     "output_type": "stream",
     "text": [
      "epoch [1138/3000]: 100%|██████████| 9/9 [00:00<00:00, 80.29it/s, loss=1.15]\n"
     ]
    },
    {
     "name": "stdout",
     "output_type": "stream",
     "text": [
      "Epoch [1138/3000]: Train loss: 2.0817,             Valid loss: 1.8085\n"
     ]
    },
    {
     "name": "stderr",
     "output_type": "stream",
     "text": [
      "epoch [1139/3000]: 100%|██████████| 9/9 [00:00<00:00, 39.48it/s, loss=1.15]\n"
     ]
    },
    {
     "name": "stdout",
     "output_type": "stream",
     "text": [
      "Epoch [1139/3000]: Train loss: 2.0664,             Valid loss: 2.0856\n"
     ]
    },
    {
     "name": "stderr",
     "output_type": "stream",
     "text": [
      "epoch [1140/3000]: 100%|██████████| 9/9 [00:00<00:00, 78.58it/s, loss=1.15]\n"
     ]
    },
    {
     "name": "stdout",
     "output_type": "stream",
     "text": [
      "Epoch [1140/3000]: Train loss: 2.0875,             Valid loss: 1.9812\n"
     ]
    },
    {
     "name": "stderr",
     "output_type": "stream",
     "text": [
      "epoch [1141/3000]: 100%|██████████| 9/9 [00:00<00:00, 77.96it/s, loss=1.15]\n"
     ]
    },
    {
     "name": "stdout",
     "output_type": "stream",
     "text": [
      "Epoch [1141/3000]: Train loss: 2.0638,             Valid loss: 1.7602\n"
     ]
    },
    {
     "name": "stderr",
     "output_type": "stream",
     "text": [
      "epoch [1142/3000]: 100%|██████████| 9/9 [00:00<00:00, 75.33it/s, loss=1.15]\n"
     ]
    },
    {
     "name": "stdout",
     "output_type": "stream",
     "text": [
      "Epoch [1142/3000]: Train loss: 2.0784,             Valid loss: 2.0670\n"
     ]
    },
    {
     "name": "stderr",
     "output_type": "stream",
     "text": [
      "epoch [1143/3000]: 100%|██████████| 9/9 [00:00<00:00, 79.51it/s, loss=1.15]\n"
     ]
    },
    {
     "name": "stdout",
     "output_type": "stream",
     "text": [
      "Epoch [1143/3000]: Train loss: 2.0747,             Valid loss: 2.0191\n"
     ]
    },
    {
     "name": "stderr",
     "output_type": "stream",
     "text": [
      "epoch [1144/3000]: 100%|██████████| 9/9 [00:00<00:00, 83.71it/s, loss=1.15]\n"
     ]
    },
    {
     "name": "stdout",
     "output_type": "stream",
     "text": [
      "Epoch [1144/3000]: Train loss: 2.0633,             Valid loss: 1.6143\n",
      "Saving model with loss 1.614\n"
     ]
    },
    {
     "name": "stderr",
     "output_type": "stream",
     "text": [
      "epoch [1145/3000]: 100%|██████████| 9/9 [00:00<00:00, 80.96it/s, loss=1.15]\n"
     ]
    },
    {
     "name": "stdout",
     "output_type": "stream",
     "text": [
      "Epoch [1145/3000]: Train loss: 2.0758,             Valid loss: 2.1462\n"
     ]
    },
    {
     "name": "stderr",
     "output_type": "stream",
     "text": [
      "epoch [1146/3000]: 100%|██████████| 9/9 [00:00<00:00, 85.75it/s, loss=1.15]\n"
     ]
    },
    {
     "name": "stdout",
     "output_type": "stream",
     "text": [
      "Epoch [1146/3000]: Train loss: 2.0757,             Valid loss: 2.2044\n"
     ]
    },
    {
     "name": "stderr",
     "output_type": "stream",
     "text": [
      "epoch [1147/3000]: 100%|██████████| 9/9 [00:00<00:00, 86.92it/s, loss=1.15]\n"
     ]
    },
    {
     "name": "stdout",
     "output_type": "stream",
     "text": [
      "Epoch [1147/3000]: Train loss: 2.0649,             Valid loss: 2.1055\n"
     ]
    },
    {
     "name": "stderr",
     "output_type": "stream",
     "text": [
      "epoch [1148/3000]: 100%|██████████| 9/9 [00:00<00:00, 84.37it/s, loss=1.15]\n"
     ]
    },
    {
     "name": "stdout",
     "output_type": "stream",
     "text": [
      "Epoch [1148/3000]: Train loss: 2.0744,             Valid loss: 2.5013\n"
     ]
    },
    {
     "name": "stderr",
     "output_type": "stream",
     "text": [
      "epoch [1149/3000]: 100%|██████████| 9/9 [00:00<00:00, 93.88it/s, loss=1.15]\n"
     ]
    },
    {
     "name": "stdout",
     "output_type": "stream",
     "text": [
      "Epoch [1149/3000]: Train loss: 2.0763,             Valid loss: 1.9584\n"
     ]
    },
    {
     "name": "stderr",
     "output_type": "stream",
     "text": [
      "epoch [1150/3000]: 100%|██████████| 9/9 [00:00<00:00, 67.17it/s, loss=1.15]\n"
     ]
    },
    {
     "name": "stdout",
     "output_type": "stream",
     "text": [
      "Epoch [1150/3000]: Train loss: 2.0577,             Valid loss: 1.9740\n"
     ]
    },
    {
     "name": "stderr",
     "output_type": "stream",
     "text": [
      "epoch [1151/3000]: 100%|██████████| 9/9 [00:00<00:00, 76.41it/s, loss=1.15]\n"
     ]
    },
    {
     "name": "stdout",
     "output_type": "stream",
     "text": [
      "Epoch [1151/3000]: Train loss: 2.0800,             Valid loss: 1.7528\n"
     ]
    },
    {
     "name": "stderr",
     "output_type": "stream",
     "text": [
      "epoch [1152/3000]: 100%|██████████| 9/9 [00:00<00:00, 73.40it/s, loss=1.15]\n"
     ]
    },
    {
     "name": "stdout",
     "output_type": "stream",
     "text": [
      "Epoch [1152/3000]: Train loss: 2.0653,             Valid loss: 1.7905\n"
     ]
    },
    {
     "name": "stderr",
     "output_type": "stream",
     "text": [
      "epoch [1153/3000]: 100%|██████████| 9/9 [00:00<00:00, 74.03it/s, loss=1.14]\n"
     ]
    },
    {
     "name": "stdout",
     "output_type": "stream",
     "text": [
      "Epoch [1153/3000]: Train loss: 2.0665,             Valid loss: 1.9280\n"
     ]
    },
    {
     "name": "stderr",
     "output_type": "stream",
     "text": [
      "epoch [1154/3000]: 100%|██████████| 9/9 [00:00<00:00, 78.78it/s, loss=1.14]\n"
     ]
    },
    {
     "name": "stdout",
     "output_type": "stream",
     "text": [
      "Epoch [1154/3000]: Train loss: 2.0660,             Valid loss: 2.0367\n"
     ]
    },
    {
     "name": "stderr",
     "output_type": "stream",
     "text": [
      "epoch [1155/3000]: 100%|██████████| 9/9 [00:00<00:00, 76.33it/s, loss=1.14]\n"
     ]
    },
    {
     "name": "stdout",
     "output_type": "stream",
     "text": [
      "Epoch [1155/3000]: Train loss: 2.0629,             Valid loss: 2.2365\n"
     ]
    },
    {
     "name": "stderr",
     "output_type": "stream",
     "text": [
      "epoch [1156/3000]: 100%|██████████| 9/9 [00:00<00:00, 87.59it/s, loss=1.14]\n"
     ]
    },
    {
     "name": "stdout",
     "output_type": "stream",
     "text": [
      "Epoch [1156/3000]: Train loss: 2.0637,             Valid loss: 2.1069\n"
     ]
    },
    {
     "name": "stderr",
     "output_type": "stream",
     "text": [
      "epoch [1157/3000]: 100%|██████████| 9/9 [00:00<00:00, 74.86it/s, loss=1.14]\n"
     ]
    },
    {
     "name": "stdout",
     "output_type": "stream",
     "text": [
      "Epoch [1157/3000]: Train loss: 2.0694,             Valid loss: 1.7971\n"
     ]
    },
    {
     "name": "stderr",
     "output_type": "stream",
     "text": [
      "epoch [1158/3000]: 100%|██████████| 9/9 [00:00<00:00, 73.84it/s, loss=1.14]\n"
     ]
    },
    {
     "name": "stdout",
     "output_type": "stream",
     "text": [
      "Epoch [1158/3000]: Train loss: 2.0680,             Valid loss: 2.1024\n"
     ]
    },
    {
     "name": "stderr",
     "output_type": "stream",
     "text": [
      "epoch [1159/3000]: 100%|██████████| 9/9 [00:00<00:00, 79.25it/s, loss=1.14]\n"
     ]
    },
    {
     "name": "stdout",
     "output_type": "stream",
     "text": [
      "Epoch [1159/3000]: Train loss: 2.0656,             Valid loss: 2.0517\n"
     ]
    },
    {
     "name": "stderr",
     "output_type": "stream",
     "text": [
      "epoch [1160/3000]: 100%|██████████| 9/9 [00:00<00:00, 72.44it/s, loss=1.14]\n"
     ]
    },
    {
     "name": "stdout",
     "output_type": "stream",
     "text": [
      "Epoch [1160/3000]: Train loss: 2.0694,             Valid loss: 1.8925\n"
     ]
    },
    {
     "name": "stderr",
     "output_type": "stream",
     "text": [
      "epoch [1161/3000]: 100%|██████████| 9/9 [00:00<00:00, 79.55it/s, loss=1.14]\n"
     ]
    },
    {
     "name": "stdout",
     "output_type": "stream",
     "text": [
      "Epoch [1161/3000]: Train loss: 2.0578,             Valid loss: 1.6609\n"
     ]
    },
    {
     "name": "stderr",
     "output_type": "stream",
     "text": [
      "epoch [1162/3000]: 100%|██████████| 9/9 [00:00<00:00, 73.57it/s, loss=1.14]\n"
     ]
    },
    {
     "name": "stdout",
     "output_type": "stream",
     "text": [
      "Epoch [1162/3000]: Train loss: 2.0690,             Valid loss: 2.0972\n"
     ]
    },
    {
     "name": "stderr",
     "output_type": "stream",
     "text": [
      "epoch [1163/3000]: 100%|██████████| 9/9 [00:00<00:00, 93.66it/s, loss=1.14]\n"
     ]
    },
    {
     "name": "stdout",
     "output_type": "stream",
     "text": [
      "Epoch [1163/3000]: Train loss: 2.0666,             Valid loss: 2.0845\n"
     ]
    },
    {
     "name": "stderr",
     "output_type": "stream",
     "text": [
      "epoch [1164/3000]: 100%|██████████| 9/9 [00:00<00:00, 74.18it/s, loss=1.14]\n"
     ]
    },
    {
     "name": "stdout",
     "output_type": "stream",
     "text": [
      "Epoch [1164/3000]: Train loss: 2.0588,             Valid loss: 2.1126\n"
     ]
    },
    {
     "name": "stderr",
     "output_type": "stream",
     "text": [
      "epoch [1165/3000]: 100%|██████████| 9/9 [00:00<00:00, 74.93it/s, loss=1.14]\n"
     ]
    },
    {
     "name": "stdout",
     "output_type": "stream",
     "text": [
      "Epoch [1165/3000]: Train loss: 2.0566,             Valid loss: 2.1516\n"
     ]
    },
    {
     "name": "stderr",
     "output_type": "stream",
     "text": [
      "epoch [1166/3000]: 100%|██████████| 9/9 [00:00<00:00, 73.01it/s, loss=1.14]\n"
     ]
    },
    {
     "name": "stdout",
     "output_type": "stream",
     "text": [
      "Epoch [1166/3000]: Train loss: 2.0776,             Valid loss: 2.0480\n"
     ]
    },
    {
     "name": "stderr",
     "output_type": "stream",
     "text": [
      "epoch [1167/3000]: 100%|██████████| 9/9 [00:00<00:00, 84.24it/s, loss=1.14]\n"
     ]
    },
    {
     "name": "stdout",
     "output_type": "stream",
     "text": [
      "Epoch [1167/3000]: Train loss: 2.0509,             Valid loss: 1.9926\n"
     ]
    },
    {
     "name": "stderr",
     "output_type": "stream",
     "text": [
      "epoch [1168/3000]: 100%|██████████| 9/9 [00:00<00:00, 85.03it/s, loss=1.14]\n"
     ]
    },
    {
     "name": "stdout",
     "output_type": "stream",
     "text": [
      "Epoch [1168/3000]: Train loss: 2.0686,             Valid loss: 2.1287\n"
     ]
    },
    {
     "name": "stderr",
     "output_type": "stream",
     "text": [
      "epoch [1169/3000]: 100%|██████████| 9/9 [00:00<00:00, 86.98it/s, loss=1.14]\n"
     ]
    },
    {
     "name": "stdout",
     "output_type": "stream",
     "text": [
      "Epoch [1169/3000]: Train loss: 2.0586,             Valid loss: 2.1695\n"
     ]
    },
    {
     "name": "stderr",
     "output_type": "stream",
     "text": [
      "epoch [1170/3000]: 100%|██████████| 9/9 [00:00<00:00, 89.52it/s, loss=1.14]\n"
     ]
    },
    {
     "name": "stdout",
     "output_type": "stream",
     "text": [
      "Epoch [1170/3000]: Train loss: 2.0638,             Valid loss: 2.2261\n"
     ]
    },
    {
     "name": "stderr",
     "output_type": "stream",
     "text": [
      "epoch [1171/3000]: 100%|██████████| 9/9 [00:00<00:00, 84.98it/s, loss=1.14]\n"
     ]
    },
    {
     "name": "stdout",
     "output_type": "stream",
     "text": [
      "Epoch [1171/3000]: Train loss: 2.0583,             Valid loss: 1.8321\n"
     ]
    },
    {
     "name": "stderr",
     "output_type": "stream",
     "text": [
      "epoch [1172/3000]: 100%|██████████| 9/9 [00:00<00:00, 70.41it/s, loss=1.14]\n"
     ]
    },
    {
     "name": "stdout",
     "output_type": "stream",
     "text": [
      "Epoch [1172/3000]: Train loss: 2.0635,             Valid loss: 2.0729\n"
     ]
    },
    {
     "name": "stderr",
     "output_type": "stream",
     "text": [
      "epoch [1173/3000]: 100%|██████████| 9/9 [00:00<00:00, 70.62it/s, loss=1.14]\n"
     ]
    },
    {
     "name": "stdout",
     "output_type": "stream",
     "text": [
      "Epoch [1173/3000]: Train loss: 2.0598,             Valid loss: 2.1869\n"
     ]
    },
    {
     "name": "stderr",
     "output_type": "stream",
     "text": [
      "epoch [1174/3000]: 100%|██████████| 9/9 [00:00<00:00, 85.87it/s, loss=1.14]\n"
     ]
    },
    {
     "name": "stdout",
     "output_type": "stream",
     "text": [
      "Epoch [1174/3000]: Train loss: 2.0589,             Valid loss: 1.9650\n"
     ]
    },
    {
     "name": "stderr",
     "output_type": "stream",
     "text": [
      "epoch [1175/3000]: 100%|██████████| 9/9 [00:00<00:00, 93.07it/s, loss=1.14]\n"
     ]
    },
    {
     "name": "stdout",
     "output_type": "stream",
     "text": [
      "Epoch [1175/3000]: Train loss: 2.0631,             Valid loss: 2.0950\n"
     ]
    },
    {
     "name": "stderr",
     "output_type": "stream",
     "text": [
      "epoch [1176/3000]: 100%|██████████| 9/9 [00:00<00:00, 80.86it/s, loss=1.14]\n"
     ]
    },
    {
     "name": "stdout",
     "output_type": "stream",
     "text": [
      "Epoch [1176/3000]: Train loss: 2.0509,             Valid loss: 1.9658\n"
     ]
    },
    {
     "name": "stderr",
     "output_type": "stream",
     "text": [
      "epoch [1177/3000]: 100%|██████████| 9/9 [00:00<00:00, 80.92it/s, loss=1.14]\n"
     ]
    },
    {
     "name": "stdout",
     "output_type": "stream",
     "text": [
      "Epoch [1177/3000]: Train loss: 2.0607,             Valid loss: 2.4197\n"
     ]
    },
    {
     "name": "stderr",
     "output_type": "stream",
     "text": [
      "epoch [1178/3000]: 100%|██████████| 9/9 [00:00<00:00, 84.52it/s, loss=1.14]\n"
     ]
    },
    {
     "name": "stdout",
     "output_type": "stream",
     "text": [
      "Epoch [1178/3000]: Train loss: 2.0591,             Valid loss: 2.2005\n"
     ]
    },
    {
     "name": "stderr",
     "output_type": "stream",
     "text": [
      "epoch [1179/3000]: 100%|██████████| 9/9 [00:00<00:00, 82.10it/s, loss=1.14]\n"
     ]
    },
    {
     "name": "stdout",
     "output_type": "stream",
     "text": [
      "Epoch [1179/3000]: Train loss: 2.0584,             Valid loss: 1.9463\n"
     ]
    },
    {
     "name": "stderr",
     "output_type": "stream",
     "text": [
      "epoch [1180/3000]: 100%|██████████| 9/9 [00:00<00:00, 84.33it/s, loss=1.14]\n"
     ]
    },
    {
     "name": "stdout",
     "output_type": "stream",
     "text": [
      "Epoch [1180/3000]: Train loss: 2.0591,             Valid loss: 1.9631\n"
     ]
    },
    {
     "name": "stderr",
     "output_type": "stream",
     "text": [
      "epoch [1181/3000]: 100%|██████████| 9/9 [00:00<00:00, 88.38it/s, loss=1.14]\n"
     ]
    },
    {
     "name": "stdout",
     "output_type": "stream",
     "text": [
      "Epoch [1181/3000]: Train loss: 2.0530,             Valid loss: 2.0395\n"
     ]
    },
    {
     "name": "stderr",
     "output_type": "stream",
     "text": [
      "epoch [1182/3000]: 100%|██████████| 9/9 [00:00<00:00, 70.23it/s, loss=1.14]\n"
     ]
    },
    {
     "name": "stdout",
     "output_type": "stream",
     "text": [
      "Epoch [1182/3000]: Train loss: 2.0599,             Valid loss: 1.9065\n"
     ]
    },
    {
     "name": "stderr",
     "output_type": "stream",
     "text": [
      "epoch [1183/3000]: 100%|██████████| 9/9 [00:00<00:00, 84.98it/s, loss=1.14]\n"
     ]
    },
    {
     "name": "stdout",
     "output_type": "stream",
     "text": [
      "Epoch [1183/3000]: Train loss: 2.0528,             Valid loss: 1.9318\n"
     ]
    },
    {
     "name": "stderr",
     "output_type": "stream",
     "text": [
      "epoch [1184/3000]: 100%|██████████| 9/9 [00:00<00:00, 78.02it/s, loss=1.14]\n"
     ]
    },
    {
     "name": "stdout",
     "output_type": "stream",
     "text": [
      "Epoch [1184/3000]: Train loss: 2.0609,             Valid loss: 2.0516\n"
     ]
    },
    {
     "name": "stderr",
     "output_type": "stream",
     "text": [
      "epoch [1185/3000]: 100%|██████████| 9/9 [00:00<00:00, 85.14it/s, loss=1.14]\n"
     ]
    },
    {
     "name": "stdout",
     "output_type": "stream",
     "text": [
      "Epoch [1185/3000]: Train loss: 2.0541,             Valid loss: 1.8042\n"
     ]
    },
    {
     "name": "stderr",
     "output_type": "stream",
     "text": [
      "epoch [1186/3000]: 100%|██████████| 9/9 [00:00<00:00, 86.64it/s, loss=1.14]\n"
     ]
    },
    {
     "name": "stdout",
     "output_type": "stream",
     "text": [
      "Epoch [1186/3000]: Train loss: 2.0490,             Valid loss: 2.2069\n"
     ]
    },
    {
     "name": "stderr",
     "output_type": "stream",
     "text": [
      "epoch [1187/3000]: 100%|██████████| 9/9 [00:00<00:00, 91.59it/s, loss=1.14]\n"
     ]
    },
    {
     "name": "stdout",
     "output_type": "stream",
     "text": [
      "Epoch [1187/3000]: Train loss: 2.0556,             Valid loss: 2.3149\n"
     ]
    },
    {
     "name": "stderr",
     "output_type": "stream",
     "text": [
      "epoch [1188/3000]: 100%|██████████| 9/9 [00:00<00:00, 90.49it/s, loss=1.14]\n"
     ]
    },
    {
     "name": "stdout",
     "output_type": "stream",
     "text": [
      "Epoch [1188/3000]: Train loss: 2.0635,             Valid loss: 2.0764\n"
     ]
    },
    {
     "name": "stderr",
     "output_type": "stream",
     "text": [
      "epoch [1189/3000]: 100%|██████████| 9/9 [00:00<00:00, 92.75it/s, loss=1.14]\n"
     ]
    },
    {
     "name": "stdout",
     "output_type": "stream",
     "text": [
      "Epoch [1189/3000]: Train loss: 2.0495,             Valid loss: 2.0659\n"
     ]
    },
    {
     "name": "stderr",
     "output_type": "stream",
     "text": [
      "epoch [1190/3000]: 100%|██████████| 9/9 [00:00<00:00, 90.04it/s, loss=1.14]\n"
     ]
    },
    {
     "name": "stdout",
     "output_type": "stream",
     "text": [
      "Epoch [1190/3000]: Train loss: 2.0544,             Valid loss: 1.8747\n"
     ]
    },
    {
     "name": "stderr",
     "output_type": "stream",
     "text": [
      "epoch [1191/3000]: 100%|██████████| 9/9 [00:00<00:00, 79.65it/s, loss=1.13]\n"
     ]
    },
    {
     "name": "stdout",
     "output_type": "stream",
     "text": [
      "Epoch [1191/3000]: Train loss: 2.0427,             Valid loss: 2.2095\n"
     ]
    },
    {
     "name": "stderr",
     "output_type": "stream",
     "text": [
      "epoch [1192/3000]: 100%|██████████| 9/9 [00:00<00:00, 54.80it/s, loss=1.13]\n"
     ]
    },
    {
     "name": "stdout",
     "output_type": "stream",
     "text": [
      "Epoch [1192/3000]: Train loss: 2.0570,             Valid loss: 2.1141\n"
     ]
    },
    {
     "name": "stderr",
     "output_type": "stream",
     "text": [
      "epoch [1193/3000]: 100%|██████████| 9/9 [00:00<00:00, 81.58it/s, loss=1.13]\n"
     ]
    },
    {
     "name": "stdout",
     "output_type": "stream",
     "text": [
      "Epoch [1193/3000]: Train loss: 2.0523,             Valid loss: 1.9759\n"
     ]
    },
    {
     "name": "stderr",
     "output_type": "stream",
     "text": [
      "epoch [1194/3000]: 100%|██████████| 9/9 [00:00<00:00, 79.68it/s, loss=1.13]\n"
     ]
    },
    {
     "name": "stdout",
     "output_type": "stream",
     "text": [
      "Epoch [1194/3000]: Train loss: 2.0462,             Valid loss: 2.0572\n"
     ]
    },
    {
     "name": "stderr",
     "output_type": "stream",
     "text": [
      "epoch [1195/3000]: 100%|██████████| 9/9 [00:00<00:00, 82.11it/s, loss=1.13]\n"
     ]
    },
    {
     "name": "stdout",
     "output_type": "stream",
     "text": [
      "Epoch [1195/3000]: Train loss: 2.0424,             Valid loss: 1.9895\n"
     ]
    },
    {
     "name": "stderr",
     "output_type": "stream",
     "text": [
      "epoch [1196/3000]: 100%|██████████| 9/9 [00:00<00:00, 80.25it/s, loss=1.13]\n"
     ]
    },
    {
     "name": "stdout",
     "output_type": "stream",
     "text": [
      "Epoch [1196/3000]: Train loss: 2.0396,             Valid loss: 2.0835\n"
     ]
    },
    {
     "name": "stderr",
     "output_type": "stream",
     "text": [
      "epoch [1197/3000]: 100%|██████████| 9/9 [00:00<00:00, 77.68it/s, loss=1.13]\n"
     ]
    },
    {
     "name": "stdout",
     "output_type": "stream",
     "text": [
      "Epoch [1197/3000]: Train loss: 2.0596,             Valid loss: 1.9562\n"
     ]
    },
    {
     "name": "stderr",
     "output_type": "stream",
     "text": [
      "epoch [1198/3000]: 100%|██████████| 9/9 [00:00<00:00, 72.53it/s, loss=1.13]\n"
     ]
    },
    {
     "name": "stdout",
     "output_type": "stream",
     "text": [
      "Epoch [1198/3000]: Train loss: 2.0332,             Valid loss: 1.8684\n"
     ]
    },
    {
     "name": "stderr",
     "output_type": "stream",
     "text": [
      "epoch [1199/3000]: 100%|██████████| 9/9 [00:00<00:00, 81.97it/s, loss=1.13]\n"
     ]
    },
    {
     "name": "stdout",
     "output_type": "stream",
     "text": [
      "Epoch [1199/3000]: Train loss: 2.0453,             Valid loss: 2.0600\n"
     ]
    },
    {
     "name": "stderr",
     "output_type": "stream",
     "text": [
      "epoch [1200/3000]: 100%|██████████| 9/9 [00:00<00:00, 72.40it/s, loss=1.13]\n"
     ]
    },
    {
     "name": "stdout",
     "output_type": "stream",
     "text": [
      "Epoch [1200/3000]: Train loss: 2.0448,             Valid loss: 1.7184\n"
     ]
    },
    {
     "name": "stderr",
     "output_type": "stream",
     "text": [
      "epoch [1201/3000]: 100%|██████████| 9/9 [00:00<00:00, 89.68it/s, loss=1.13]\n"
     ]
    },
    {
     "name": "stdout",
     "output_type": "stream",
     "text": [
      "Epoch [1201/3000]: Train loss: 2.0308,             Valid loss: 2.0213\n"
     ]
    },
    {
     "name": "stderr",
     "output_type": "stream",
     "text": [
      "epoch [1202/3000]: 100%|██████████| 9/9 [00:00<00:00, 91.13it/s, loss=1.13]\n"
     ]
    },
    {
     "name": "stdout",
     "output_type": "stream",
     "text": [
      "Epoch [1202/3000]: Train loss: 2.0537,             Valid loss: 1.9828\n"
     ]
    },
    {
     "name": "stderr",
     "output_type": "stream",
     "text": [
      "epoch [1203/3000]: 100%|██████████| 9/9 [00:00<00:00, 91.09it/s, loss=1.13]\n"
     ]
    },
    {
     "name": "stdout",
     "output_type": "stream",
     "text": [
      "Epoch [1203/3000]: Train loss: 2.0454,             Valid loss: 2.0308\n"
     ]
    },
    {
     "name": "stderr",
     "output_type": "stream",
     "text": [
      "epoch [1204/3000]: 100%|██████████| 9/9 [00:00<00:00, 100.00it/s, loss=1.13]\n"
     ]
    },
    {
     "name": "stdout",
     "output_type": "stream",
     "text": [
      "Epoch [1204/3000]: Train loss: 2.0362,             Valid loss: 1.8531\n"
     ]
    },
    {
     "name": "stderr",
     "output_type": "stream",
     "text": [
      "epoch [1205/3000]: 100%|██████████| 9/9 [00:00<00:00, 95.36it/s, loss=1.13]\n"
     ]
    },
    {
     "name": "stdout",
     "output_type": "stream",
     "text": [
      "Epoch [1205/3000]: Train loss: 2.0321,             Valid loss: 2.3735\n"
     ]
    },
    {
     "name": "stderr",
     "output_type": "stream",
     "text": [
      "epoch [1206/3000]: 100%|██████████| 9/9 [00:00<00:00, 83.45it/s, loss=1.13]\n"
     ]
    },
    {
     "name": "stdout",
     "output_type": "stream",
     "text": [
      "Epoch [1206/3000]: Train loss: 2.0516,             Valid loss: 2.0763\n"
     ]
    },
    {
     "name": "stderr",
     "output_type": "stream",
     "text": [
      "epoch [1207/3000]: 100%|██████████| 9/9 [00:00<00:00, 98.34it/s, loss=1.13]\n"
     ]
    },
    {
     "name": "stdout",
     "output_type": "stream",
     "text": [
      "Epoch [1207/3000]: Train loss: 2.0279,             Valid loss: 2.2356\n"
     ]
    },
    {
     "name": "stderr",
     "output_type": "stream",
     "text": [
      "epoch [1208/3000]: 100%|██████████| 9/9 [00:00<00:00, 92.44it/s, loss=1.13]\n"
     ]
    },
    {
     "name": "stdout",
     "output_type": "stream",
     "text": [
      "Epoch [1208/3000]: Train loss: 2.0474,             Valid loss: 2.0100\n"
     ]
    },
    {
     "name": "stderr",
     "output_type": "stream",
     "text": [
      "epoch [1209/3000]: 100%|██████████| 9/9 [00:00<00:00, 86.00it/s, loss=1.13]\n"
     ]
    },
    {
     "name": "stdout",
     "output_type": "stream",
     "text": [
      "Epoch [1209/3000]: Train loss: 2.0303,             Valid loss: 1.9261\n"
     ]
    },
    {
     "name": "stderr",
     "output_type": "stream",
     "text": [
      "epoch [1210/3000]: 100%|██████████| 9/9 [00:00<00:00, 90.58it/s, loss=1.13]\n"
     ]
    },
    {
     "name": "stdout",
     "output_type": "stream",
     "text": [
      "Epoch [1210/3000]: Train loss: 2.0462,             Valid loss: 2.1303\n"
     ]
    },
    {
     "name": "stderr",
     "output_type": "stream",
     "text": [
      "epoch [1211/3000]: 100%|██████████| 9/9 [00:00<00:00, 98.42it/s, loss=1.13]\n"
     ]
    },
    {
     "name": "stdout",
     "output_type": "stream",
     "text": [
      "Epoch [1211/3000]: Train loss: 2.0256,             Valid loss: 2.0378\n"
     ]
    },
    {
     "name": "stderr",
     "output_type": "stream",
     "text": [
      "epoch [1212/3000]: 100%|██████████| 9/9 [00:00<00:00, 84.34it/s, loss=1.13]\n"
     ]
    },
    {
     "name": "stdout",
     "output_type": "stream",
     "text": [
      "Epoch [1212/3000]: Train loss: 2.0476,             Valid loss: 1.8789\n"
     ]
    },
    {
     "name": "stderr",
     "output_type": "stream",
     "text": [
      "epoch [1213/3000]: 100%|██████████| 9/9 [00:00<00:00, 98.71it/s, loss=1.13]\n"
     ]
    },
    {
     "name": "stdout",
     "output_type": "stream",
     "text": [
      "Epoch [1213/3000]: Train loss: 2.0306,             Valid loss: 1.9205\n"
     ]
    },
    {
     "name": "stderr",
     "output_type": "stream",
     "text": [
      "epoch [1214/3000]: 100%|██████████| 9/9 [00:00<00:00, 86.28it/s, loss=1.13]\n"
     ]
    },
    {
     "name": "stdout",
     "output_type": "stream",
     "text": [
      "Epoch [1214/3000]: Train loss: 2.0328,             Valid loss: 2.3316\n"
     ]
    },
    {
     "name": "stderr",
     "output_type": "stream",
     "text": [
      "epoch [1215/3000]: 100%|██████████| 9/9 [00:00<00:00, 86.64it/s, loss=1.13]\n"
     ]
    },
    {
     "name": "stdout",
     "output_type": "stream",
     "text": [
      "Epoch [1215/3000]: Train loss: 2.0324,             Valid loss: 2.0986\n"
     ]
    },
    {
     "name": "stderr",
     "output_type": "stream",
     "text": [
      "epoch [1216/3000]: 100%|██████████| 9/9 [00:00<00:00, 94.08it/s, loss=1.13]\n"
     ]
    },
    {
     "name": "stdout",
     "output_type": "stream",
     "text": [
      "Epoch [1216/3000]: Train loss: 2.0392,             Valid loss: 1.7887\n"
     ]
    },
    {
     "name": "stderr",
     "output_type": "stream",
     "text": [
      "epoch [1217/3000]: 100%|██████████| 9/9 [00:00<00:00, 101.01it/s, loss=1.13]\n"
     ]
    },
    {
     "name": "stdout",
     "output_type": "stream",
     "text": [
      "Epoch [1217/3000]: Train loss: 2.0238,             Valid loss: 1.9348\n"
     ]
    },
    {
     "name": "stderr",
     "output_type": "stream",
     "text": [
      "epoch [1218/3000]: 100%|██████████| 9/9 [00:00<00:00, 90.17it/s, loss=1.13]\n"
     ]
    },
    {
     "name": "stdout",
     "output_type": "stream",
     "text": [
      "Epoch [1218/3000]: Train loss: 2.0418,             Valid loss: 1.7193\n"
     ]
    },
    {
     "name": "stderr",
     "output_type": "stream",
     "text": [
      "epoch [1219/3000]: 100%|██████████| 9/9 [00:00<00:00, 106.01it/s, loss=1.13]\n"
     ]
    },
    {
     "name": "stdout",
     "output_type": "stream",
     "text": [
      "Epoch [1219/3000]: Train loss: 2.0397,             Valid loss: 1.8904\n"
     ]
    },
    {
     "name": "stderr",
     "output_type": "stream",
     "text": [
      "epoch [1220/3000]: 100%|██████████| 9/9 [00:00<00:00, 94.45it/s, loss=1.13]\n"
     ]
    },
    {
     "name": "stdout",
     "output_type": "stream",
     "text": [
      "Epoch [1220/3000]: Train loss: 2.0403,             Valid loss: 1.8968\n"
     ]
    },
    {
     "name": "stderr",
     "output_type": "stream",
     "text": [
      "epoch [1221/3000]: 100%|██████████| 9/9 [00:00<00:00, 105.37it/s, loss=1.13]\n"
     ]
    },
    {
     "name": "stdout",
     "output_type": "stream",
     "text": [
      "Epoch [1221/3000]: Train loss: 2.0250,             Valid loss: 2.2401\n"
     ]
    },
    {
     "name": "stderr",
     "output_type": "stream",
     "text": [
      "epoch [1222/3000]: 100%|██████████| 9/9 [00:00<00:00, 91.36it/s, loss=1.13]\n"
     ]
    },
    {
     "name": "stdout",
     "output_type": "stream",
     "text": [
      "Epoch [1222/3000]: Train loss: 2.0537,             Valid loss: 1.8392\n"
     ]
    },
    {
     "name": "stderr",
     "output_type": "stream",
     "text": [
      "epoch [1223/3000]: 100%|██████████| 9/9 [00:00<00:00, 81.23it/s, loss=1.13]\n"
     ]
    },
    {
     "name": "stdout",
     "output_type": "stream",
     "text": [
      "Epoch [1223/3000]: Train loss: 2.0195,             Valid loss: 2.1632\n"
     ]
    },
    {
     "name": "stderr",
     "output_type": "stream",
     "text": [
      "epoch [1224/3000]: 100%|██████████| 9/9 [00:00<00:00, 89.80it/s, loss=1.13]\n"
     ]
    },
    {
     "name": "stdout",
     "output_type": "stream",
     "text": [
      "Epoch [1224/3000]: Train loss: 2.0621,             Valid loss: 1.9035\n"
     ]
    },
    {
     "name": "stderr",
     "output_type": "stream",
     "text": [
      "epoch [1225/3000]: 100%|██████████| 9/9 [00:00<00:00, 98.34it/s, loss=1.13]\n"
     ]
    },
    {
     "name": "stdout",
     "output_type": "stream",
     "text": [
      "Epoch [1225/3000]: Train loss: 2.0120,             Valid loss: 2.0292\n"
     ]
    },
    {
     "name": "stderr",
     "output_type": "stream",
     "text": [
      "epoch [1226/3000]: 100%|██████████| 9/9 [00:00<00:00, 93.18it/s, loss=1.12]\n"
     ]
    },
    {
     "name": "stdout",
     "output_type": "stream",
     "text": [
      "Epoch [1226/3000]: Train loss: 2.0565,             Valid loss: 2.0528\n"
     ]
    },
    {
     "name": "stderr",
     "output_type": "stream",
     "text": [
      "epoch [1227/3000]: 100%|██████████| 9/9 [00:00<00:00, 93.16it/s, loss=1.13]\n"
     ]
    },
    {
     "name": "stdout",
     "output_type": "stream",
     "text": [
      "Epoch [1227/3000]: Train loss: 2.0101,             Valid loss: 2.5278\n"
     ]
    },
    {
     "name": "stderr",
     "output_type": "stream",
     "text": [
      "epoch [1228/3000]: 100%|██████████| 9/9 [00:00<00:00, 84.37it/s, loss=1.12]\n"
     ]
    },
    {
     "name": "stdout",
     "output_type": "stream",
     "text": [
      "Epoch [1228/3000]: Train loss: 2.0400,             Valid loss: 2.0207\n"
     ]
    },
    {
     "name": "stderr",
     "output_type": "stream",
     "text": [
      "epoch [1229/3000]: 100%|██████████| 9/9 [00:00<00:00, 99.85it/s, loss=1.13]\n"
     ]
    },
    {
     "name": "stdout",
     "output_type": "stream",
     "text": [
      "Epoch [1229/3000]: Train loss: 2.0383,             Valid loss: 1.9298\n"
     ]
    },
    {
     "name": "stderr",
     "output_type": "stream",
     "text": [
      "epoch [1230/3000]: 100%|██████████| 9/9 [00:00<00:00, 91.17it/s, loss=1.12]\n"
     ]
    },
    {
     "name": "stdout",
     "output_type": "stream",
     "text": [
      "Epoch [1230/3000]: Train loss: 2.0323,             Valid loss: 1.7171\n"
     ]
    },
    {
     "name": "stderr",
     "output_type": "stream",
     "text": [
      "epoch [1231/3000]: 100%|██████████| 9/9 [00:00<00:00, 85.96it/s, loss=1.12]\n"
     ]
    },
    {
     "name": "stdout",
     "output_type": "stream",
     "text": [
      "Epoch [1231/3000]: Train loss: 2.0249,             Valid loss: 1.6946\n"
     ]
    },
    {
     "name": "stderr",
     "output_type": "stream",
     "text": [
      "epoch [1232/3000]: 100%|██████████| 9/9 [00:00<00:00, 86.91it/s, loss=1.12]\n"
     ]
    },
    {
     "name": "stdout",
     "output_type": "stream",
     "text": [
      "Epoch [1232/3000]: Train loss: 2.0483,             Valid loss: 1.7436\n"
     ]
    },
    {
     "name": "stderr",
     "output_type": "stream",
     "text": [
      "epoch [1233/3000]: 100%|██████████| 9/9 [00:00<00:00, 92.26it/s, loss=1.12]\n"
     ]
    },
    {
     "name": "stdout",
     "output_type": "stream",
     "text": [
      "Epoch [1233/3000]: Train loss: 2.0042,             Valid loss: 2.1690\n"
     ]
    },
    {
     "name": "stderr",
     "output_type": "stream",
     "text": [
      "epoch [1234/3000]: 100%|██████████| 9/9 [00:00<00:00, 89.88it/s, loss=1.12]\n"
     ]
    },
    {
     "name": "stdout",
     "output_type": "stream",
     "text": [
      "Epoch [1234/3000]: Train loss: 2.0508,             Valid loss: 2.1159\n"
     ]
    },
    {
     "name": "stderr",
     "output_type": "stream",
     "text": [
      "epoch [1235/3000]: 100%|██████████| 9/9 [00:00<00:00, 94.49it/s, loss=1.12]\n"
     ]
    },
    {
     "name": "stdout",
     "output_type": "stream",
     "text": [
      "Epoch [1235/3000]: Train loss: 2.0202,             Valid loss: 2.1851\n"
     ]
    },
    {
     "name": "stderr",
     "output_type": "stream",
     "text": [
      "epoch [1236/3000]: 100%|██████████| 9/9 [00:00<00:00, 87.29it/s, loss=1.12]\n"
     ]
    },
    {
     "name": "stdout",
     "output_type": "stream",
     "text": [
      "Epoch [1236/3000]: Train loss: 2.0538,             Valid loss: 2.0636\n"
     ]
    },
    {
     "name": "stderr",
     "output_type": "stream",
     "text": [
      "epoch [1237/3000]: 100%|██████████| 9/9 [00:00<00:00, 83.61it/s, loss=1.12]\n"
     ]
    },
    {
     "name": "stdout",
     "output_type": "stream",
     "text": [
      "Epoch [1237/3000]: Train loss: 2.0085,             Valid loss: 1.8712\n"
     ]
    },
    {
     "name": "stderr",
     "output_type": "stream",
     "text": [
      "epoch [1238/3000]: 100%|██████████| 9/9 [00:00<00:00, 99.91it/s, loss=1.12]\n"
     ]
    },
    {
     "name": "stdout",
     "output_type": "stream",
     "text": [
      "Epoch [1238/3000]: Train loss: 2.0451,             Valid loss: 2.0503\n"
     ]
    },
    {
     "name": "stderr",
     "output_type": "stream",
     "text": [
      "epoch [1239/3000]: 100%|██████████| 9/9 [00:00<00:00, 102.86it/s, loss=1.12]\n"
     ]
    },
    {
     "name": "stdout",
     "output_type": "stream",
     "text": [
      "Epoch [1239/3000]: Train loss: 2.0260,             Valid loss: 2.0211\n"
     ]
    },
    {
     "name": "stderr",
     "output_type": "stream",
     "text": [
      "epoch [1240/3000]: 100%|██████████| 9/9 [00:00<00:00, 93.64it/s, loss=1.12]\n"
     ]
    },
    {
     "name": "stdout",
     "output_type": "stream",
     "text": [
      "Epoch [1240/3000]: Train loss: 2.0246,             Valid loss: 1.7690\n"
     ]
    },
    {
     "name": "stderr",
     "output_type": "stream",
     "text": [
      "epoch [1241/3000]: 100%|██████████| 9/9 [00:00<00:00, 95.58it/s, loss=1.12]\n"
     ]
    },
    {
     "name": "stdout",
     "output_type": "stream",
     "text": [
      "Epoch [1241/3000]: Train loss: 2.0258,             Valid loss: 1.8442\n"
     ]
    },
    {
     "name": "stderr",
     "output_type": "stream",
     "text": [
      "epoch [1242/3000]: 100%|██████████| 9/9 [00:00<00:00, 46.94it/s, loss=1.12]\n"
     ]
    },
    {
     "name": "stdout",
     "output_type": "stream",
     "text": [
      "Epoch [1242/3000]: Train loss: 2.0460,             Valid loss: 1.6879\n"
     ]
    },
    {
     "name": "stderr",
     "output_type": "stream",
     "text": [
      "epoch [1243/3000]: 100%|██████████| 9/9 [00:00<00:00, 69.54it/s, loss=1.13]\n"
     ]
    },
    {
     "name": "stdout",
     "output_type": "stream",
     "text": [
      "Epoch [1243/3000]: Train loss: 1.9982,             Valid loss: 1.8869\n"
     ]
    },
    {
     "name": "stderr",
     "output_type": "stream",
     "text": [
      "epoch [1244/3000]: 100%|██████████| 9/9 [00:00<00:00, 89.35it/s, loss=1.12]\n"
     ]
    },
    {
     "name": "stdout",
     "output_type": "stream",
     "text": [
      "Epoch [1244/3000]: Train loss: 2.0677,             Valid loss: 1.9524\n"
     ]
    },
    {
     "name": "stderr",
     "output_type": "stream",
     "text": [
      "epoch [1245/3000]: 100%|██████████| 9/9 [00:00<00:00, 81.49it/s, loss=1.12]\n"
     ]
    },
    {
     "name": "stdout",
     "output_type": "stream",
     "text": [
      "Epoch [1245/3000]: Train loss: 1.9992,             Valid loss: 2.0385\n"
     ]
    },
    {
     "name": "stderr",
     "output_type": "stream",
     "text": [
      "epoch [1246/3000]: 100%|██████████| 9/9 [00:00<00:00, 89.96it/s, loss=1.12]\n"
     ]
    },
    {
     "name": "stdout",
     "output_type": "stream",
     "text": [
      "Epoch [1246/3000]: Train loss: 2.0464,             Valid loss: 1.9398\n"
     ]
    },
    {
     "name": "stderr",
     "output_type": "stream",
     "text": [
      "epoch [1247/3000]: 100%|██████████| 9/9 [00:00<00:00, 96.79it/s, loss=1.12]\n"
     ]
    },
    {
     "name": "stdout",
     "output_type": "stream",
     "text": [
      "Epoch [1247/3000]: Train loss: 2.0139,             Valid loss: 2.1049\n"
     ]
    },
    {
     "name": "stderr",
     "output_type": "stream",
     "text": [
      "epoch [1248/3000]: 100%|██████████| 9/9 [00:00<00:00, 86.58it/s, loss=1.12]\n"
     ]
    },
    {
     "name": "stdout",
     "output_type": "stream",
     "text": [
      "Epoch [1248/3000]: Train loss: 2.0296,             Valid loss: 1.8409\n"
     ]
    },
    {
     "name": "stderr",
     "output_type": "stream",
     "text": [
      "epoch [1249/3000]: 100%|██████████| 9/9 [00:00<00:00, 89.74it/s, loss=1.12]\n"
     ]
    },
    {
     "name": "stdout",
     "output_type": "stream",
     "text": [
      "Epoch [1249/3000]: Train loss: 2.0235,             Valid loss: 1.9239\n"
     ]
    },
    {
     "name": "stderr",
     "output_type": "stream",
     "text": [
      "epoch [1250/3000]: 100%|██████████| 9/9 [00:00<00:00, 90.57it/s, loss=1.12]\n"
     ]
    },
    {
     "name": "stdout",
     "output_type": "stream",
     "text": [
      "Epoch [1250/3000]: Train loss: 2.0284,             Valid loss: 2.1930\n"
     ]
    },
    {
     "name": "stderr",
     "output_type": "stream",
     "text": [
      "epoch [1251/3000]: 100%|██████████| 9/9 [00:00<00:00, 63.80it/s, loss=1.12]\n"
     ]
    },
    {
     "name": "stdout",
     "output_type": "stream",
     "text": [
      "Epoch [1251/3000]: Train loss: 2.0134,             Valid loss: 1.9532\n"
     ]
    },
    {
     "name": "stderr",
     "output_type": "stream",
     "text": [
      "epoch [1252/3000]: 100%|██████████| 9/9 [00:00<00:00, 74.34it/s, loss=1.12]\n"
     ]
    },
    {
     "name": "stdout",
     "output_type": "stream",
     "text": [
      "Epoch [1252/3000]: Train loss: 2.0469,             Valid loss: 2.2126\n"
     ]
    },
    {
     "name": "stderr",
     "output_type": "stream",
     "text": [
      "epoch [1253/3000]: 100%|██████████| 9/9 [00:00<00:00, 81.93it/s, loss=1.12]\n"
     ]
    },
    {
     "name": "stdout",
     "output_type": "stream",
     "text": [
      "Epoch [1253/3000]: Train loss: 2.0036,             Valid loss: 2.1032\n"
     ]
    },
    {
     "name": "stderr",
     "output_type": "stream",
     "text": [
      "epoch [1254/3000]: 100%|██████████| 9/9 [00:00<00:00, 85.11it/s, loss=1.12]\n"
     ]
    },
    {
     "name": "stdout",
     "output_type": "stream",
     "text": [
      "Epoch [1254/3000]: Train loss: 2.0464,             Valid loss: 2.0620\n"
     ]
    },
    {
     "name": "stderr",
     "output_type": "stream",
     "text": [
      "epoch [1255/3000]: 100%|██████████| 9/9 [00:00<00:00, 90.42it/s, loss=1.12]\n"
     ]
    },
    {
     "name": "stdout",
     "output_type": "stream",
     "text": [
      "Epoch [1255/3000]: Train loss: 1.9940,             Valid loss: 2.1666\n"
     ]
    },
    {
     "name": "stderr",
     "output_type": "stream",
     "text": [
      "epoch [1256/3000]: 100%|██████████| 9/9 [00:00<00:00, 85.24it/s, loss=1.12]\n"
     ]
    },
    {
     "name": "stdout",
     "output_type": "stream",
     "text": [
      "Epoch [1256/3000]: Train loss: 2.0571,             Valid loss: 1.9963\n"
     ]
    },
    {
     "name": "stderr",
     "output_type": "stream",
     "text": [
      "epoch [1257/3000]: 100%|██████████| 9/9 [00:00<00:00, 78.21it/s, loss=1.12]\n"
     ]
    },
    {
     "name": "stdout",
     "output_type": "stream",
     "text": [
      "Epoch [1257/3000]: Train loss: 2.0066,             Valid loss: 2.0102\n"
     ]
    },
    {
     "name": "stderr",
     "output_type": "stream",
     "text": [
      "epoch [1258/3000]: 100%|██████████| 9/9 [00:00<00:00, 81.41it/s, loss=1.12]\n"
     ]
    },
    {
     "name": "stdout",
     "output_type": "stream",
     "text": [
      "Epoch [1258/3000]: Train loss: 2.0243,             Valid loss: 1.8881\n"
     ]
    },
    {
     "name": "stderr",
     "output_type": "stream",
     "text": [
      "epoch [1259/3000]: 100%|██████████| 9/9 [00:00<00:00, 87.12it/s, loss=1.12]\n"
     ]
    },
    {
     "name": "stdout",
     "output_type": "stream",
     "text": [
      "Epoch [1259/3000]: Train loss: 2.0094,             Valid loss: 2.0000\n"
     ]
    },
    {
     "name": "stderr",
     "output_type": "stream",
     "text": [
      "epoch [1260/3000]: 100%|██████████| 9/9 [00:00<00:00, 72.18it/s, loss=1.12]\n"
     ]
    },
    {
     "name": "stdout",
     "output_type": "stream",
     "text": [
      "Epoch [1260/3000]: Train loss: 2.0307,             Valid loss: 2.1200\n"
     ]
    },
    {
     "name": "stderr",
     "output_type": "stream",
     "text": [
      "epoch [1261/3000]: 100%|██████████| 9/9 [00:00<00:00, 85.75it/s, loss=1.12]\n"
     ]
    },
    {
     "name": "stdout",
     "output_type": "stream",
     "text": [
      "Epoch [1261/3000]: Train loss: 2.0138,             Valid loss: 1.7195\n"
     ]
    },
    {
     "name": "stderr",
     "output_type": "stream",
     "text": [
      "epoch [1262/3000]: 100%|██████████| 9/9 [00:00<00:00, 86.60it/s, loss=1.12]\n"
     ]
    },
    {
     "name": "stdout",
     "output_type": "stream",
     "text": [
      "Epoch [1262/3000]: Train loss: 2.0363,             Valid loss: 1.5834\n",
      "Saving model with loss 1.583\n"
     ]
    },
    {
     "name": "stderr",
     "output_type": "stream",
     "text": [
      "epoch [1263/3000]: 100%|██████████| 9/9 [00:00<00:00, 71.06it/s, loss=1.12]\n"
     ]
    },
    {
     "name": "stdout",
     "output_type": "stream",
     "text": [
      "Epoch [1263/3000]: Train loss: 2.0140,             Valid loss: 2.0577\n"
     ]
    },
    {
     "name": "stderr",
     "output_type": "stream",
     "text": [
      "epoch [1264/3000]: 100%|██████████| 9/9 [00:00<00:00, 81.90it/s, loss=1.12]\n"
     ]
    },
    {
     "name": "stdout",
     "output_type": "stream",
     "text": [
      "Epoch [1264/3000]: Train loss: 2.0328,             Valid loss: 2.6407\n"
     ]
    },
    {
     "name": "stderr",
     "output_type": "stream",
     "text": [
      "epoch [1265/3000]: 100%|██████████| 9/9 [00:00<00:00, 97.11it/s, loss=1.12]\n"
     ]
    },
    {
     "name": "stdout",
     "output_type": "stream",
     "text": [
      "Epoch [1265/3000]: Train loss: 2.0012,             Valid loss: 1.9754\n"
     ]
    },
    {
     "name": "stderr",
     "output_type": "stream",
     "text": [
      "epoch [1266/3000]: 100%|██████████| 9/9 [00:00<00:00, 87.20it/s, loss=1.12]\n"
     ]
    },
    {
     "name": "stdout",
     "output_type": "stream",
     "text": [
      "Epoch [1266/3000]: Train loss: 2.0373,             Valid loss: 2.0166\n"
     ]
    },
    {
     "name": "stderr",
     "output_type": "stream",
     "text": [
      "epoch [1267/3000]: 100%|██████████| 9/9 [00:00<00:00, 91.37it/s, loss=1.12]\n"
     ]
    },
    {
     "name": "stdout",
     "output_type": "stream",
     "text": [
      "Epoch [1267/3000]: Train loss: 2.0126,             Valid loss: 2.0352\n"
     ]
    },
    {
     "name": "stderr",
     "output_type": "stream",
     "text": [
      "epoch [1268/3000]: 100%|██████████| 9/9 [00:00<00:00, 63.33it/s, loss=1.11]\n"
     ]
    },
    {
     "name": "stdout",
     "output_type": "stream",
     "text": [
      "Epoch [1268/3000]: Train loss: 2.0189,             Valid loss: 2.1482\n"
     ]
    },
    {
     "name": "stderr",
     "output_type": "stream",
     "text": [
      "epoch [1269/3000]: 100%|██████████| 9/9 [00:00<00:00, 78.86it/s, loss=1.12]\n"
     ]
    },
    {
     "name": "stdout",
     "output_type": "stream",
     "text": [
      "Epoch [1269/3000]: Train loss: 2.0050,             Valid loss: 2.0439\n"
     ]
    },
    {
     "name": "stderr",
     "output_type": "stream",
     "text": [
      "epoch [1270/3000]: 100%|██████████| 9/9 [00:00<00:00, 81.17it/s, loss=1.11]\n"
     ]
    },
    {
     "name": "stdout",
     "output_type": "stream",
     "text": [
      "Epoch [1270/3000]: Train loss: 2.0367,             Valid loss: 2.2196\n"
     ]
    },
    {
     "name": "stderr",
     "output_type": "stream",
     "text": [
      "epoch [1271/3000]: 100%|██████████| 9/9 [00:00<00:00, 78.16it/s, loss=1.12]\n"
     ]
    },
    {
     "name": "stdout",
     "output_type": "stream",
     "text": [
      "Epoch [1271/3000]: Train loss: 1.9976,             Valid loss: 2.4734\n"
     ]
    },
    {
     "name": "stderr",
     "output_type": "stream",
     "text": [
      "epoch [1272/3000]: 100%|██████████| 9/9 [00:00<00:00, 81.01it/s, loss=1.11]\n"
     ]
    },
    {
     "name": "stdout",
     "output_type": "stream",
     "text": [
      "Epoch [1272/3000]: Train loss: 2.0358,             Valid loss: 1.8962\n"
     ]
    },
    {
     "name": "stderr",
     "output_type": "stream",
     "text": [
      "epoch [1273/3000]: 100%|██████████| 9/9 [00:00<00:00, 83.25it/s, loss=1.11]\n"
     ]
    },
    {
     "name": "stdout",
     "output_type": "stream",
     "text": [
      "Epoch [1273/3000]: Train loss: 2.0106,             Valid loss: 2.1491\n"
     ]
    },
    {
     "name": "stderr",
     "output_type": "stream",
     "text": [
      "epoch [1274/3000]: 100%|██████████| 9/9 [00:00<00:00, 92.24it/s, loss=1.11]\n"
     ]
    },
    {
     "name": "stdout",
     "output_type": "stream",
     "text": [
      "Epoch [1274/3000]: Train loss: 2.0276,             Valid loss: 1.6771\n"
     ]
    },
    {
     "name": "stderr",
     "output_type": "stream",
     "text": [
      "epoch [1275/3000]: 100%|██████████| 9/9 [00:00<00:00, 85.37it/s, loss=1.12]\n"
     ]
    },
    {
     "name": "stdout",
     "output_type": "stream",
     "text": [
      "Epoch [1275/3000]: Train loss: 1.9960,             Valid loss: 2.0941\n"
     ]
    },
    {
     "name": "stderr",
     "output_type": "stream",
     "text": [
      "epoch [1276/3000]: 100%|██████████| 9/9 [00:00<00:00, 86.30it/s, loss=1.12]\n"
     ]
    },
    {
     "name": "stdout",
     "output_type": "stream",
     "text": [
      "Epoch [1276/3000]: Train loss: 2.0433,             Valid loss: 1.9335\n"
     ]
    },
    {
     "name": "stderr",
     "output_type": "stream",
     "text": [
      "epoch [1277/3000]: 100%|██████████| 9/9 [00:00<00:00, 86.45it/s, loss=1.11]\n"
     ]
    },
    {
     "name": "stdout",
     "output_type": "stream",
     "text": [
      "Epoch [1277/3000]: Train loss: 2.0052,             Valid loss: 1.7395\n"
     ]
    },
    {
     "name": "stderr",
     "output_type": "stream",
     "text": [
      "epoch [1278/3000]: 100%|██████████| 9/9 [00:00<00:00, 90.25it/s, loss=1.11]\n"
     ]
    },
    {
     "name": "stdout",
     "output_type": "stream",
     "text": [
      "Epoch [1278/3000]: Train loss: 2.0354,             Valid loss: 1.8328\n"
     ]
    },
    {
     "name": "stderr",
     "output_type": "stream",
     "text": [
      "epoch [1279/3000]: 100%|██████████| 9/9 [00:00<00:00, 89.49it/s, loss=1.11]\n"
     ]
    },
    {
     "name": "stdout",
     "output_type": "stream",
     "text": [
      "Epoch [1279/3000]: Train loss: 1.9929,             Valid loss: 2.0872\n"
     ]
    },
    {
     "name": "stderr",
     "output_type": "stream",
     "text": [
      "epoch [1280/3000]: 100%|██████████| 9/9 [00:00<00:00, 91.25it/s, loss=1.11]\n"
     ]
    },
    {
     "name": "stdout",
     "output_type": "stream",
     "text": [
      "Epoch [1280/3000]: Train loss: 2.0463,             Valid loss: 2.2073\n"
     ]
    },
    {
     "name": "stderr",
     "output_type": "stream",
     "text": [
      "epoch [1281/3000]: 100%|██████████| 9/9 [00:00<00:00, 99.89it/s, loss=1.11]\n"
     ]
    },
    {
     "name": "stdout",
     "output_type": "stream",
     "text": [
      "Epoch [1281/3000]: Train loss: 1.9870,             Valid loss: 2.0878\n"
     ]
    },
    {
     "name": "stderr",
     "output_type": "stream",
     "text": [
      "epoch [1282/3000]: 100%|██████████| 9/9 [00:00<00:00, 98.96it/s, loss=1.11]\n"
     ]
    },
    {
     "name": "stdout",
     "output_type": "stream",
     "text": [
      "Epoch [1282/3000]: Train loss: 2.0427,             Valid loss: 1.7916\n"
     ]
    },
    {
     "name": "stderr",
     "output_type": "stream",
     "text": [
      "epoch [1283/3000]: 100%|██████████| 9/9 [00:00<00:00, 97.55it/s, loss=1.11]\n"
     ]
    },
    {
     "name": "stdout",
     "output_type": "stream",
     "text": [
      "Epoch [1283/3000]: Train loss: 1.9973,             Valid loss: 2.5147\n"
     ]
    },
    {
     "name": "stderr",
     "output_type": "stream",
     "text": [
      "epoch [1284/3000]: 100%|██████████| 9/9 [00:00<00:00, 83.21it/s, loss=1.11]\n"
     ]
    },
    {
     "name": "stdout",
     "output_type": "stream",
     "text": [
      "Epoch [1284/3000]: Train loss: 2.0295,             Valid loss: 1.8843\n"
     ]
    },
    {
     "name": "stderr",
     "output_type": "stream",
     "text": [
      "epoch [1285/3000]: 100%|██████████| 9/9 [00:00<00:00, 96.72it/s, loss=1.11]\n"
     ]
    },
    {
     "name": "stdout",
     "output_type": "stream",
     "text": [
      "Epoch [1285/3000]: Train loss: 1.9926,             Valid loss: 2.1408\n"
     ]
    },
    {
     "name": "stderr",
     "output_type": "stream",
     "text": [
      "epoch [1286/3000]: 100%|██████████| 9/9 [00:00<00:00, 95.01it/s, loss=1.11]\n"
     ]
    },
    {
     "name": "stdout",
     "output_type": "stream",
     "text": [
      "Epoch [1286/3000]: Train loss: 2.0391,             Valid loss: 1.9289\n"
     ]
    },
    {
     "name": "stderr",
     "output_type": "stream",
     "text": [
      "epoch [1287/3000]: 100%|██████████| 9/9 [00:00<00:00, 101.42it/s, loss=1.11]\n"
     ]
    },
    {
     "name": "stdout",
     "output_type": "stream",
     "text": [
      "Epoch [1287/3000]: Train loss: 2.0002,             Valid loss: 2.1108\n"
     ]
    },
    {
     "name": "stderr",
     "output_type": "stream",
     "text": [
      "epoch [1288/3000]: 100%|██████████| 9/9 [00:00<00:00, 95.14it/s, loss=1.11]\n"
     ]
    },
    {
     "name": "stdout",
     "output_type": "stream",
     "text": [
      "Epoch [1288/3000]: Train loss: 2.0211,             Valid loss: 1.6694\n"
     ]
    },
    {
     "name": "stderr",
     "output_type": "stream",
     "text": [
      "epoch [1289/3000]: 100%|██████████| 9/9 [00:00<00:00, 85.85it/s, loss=1.11]\n"
     ]
    },
    {
     "name": "stdout",
     "output_type": "stream",
     "text": [
      "Epoch [1289/3000]: Train loss: 1.9878,             Valid loss: 2.3669\n"
     ]
    },
    {
     "name": "stderr",
     "output_type": "stream",
     "text": [
      "epoch [1290/3000]: 100%|██████████| 9/9 [00:00<00:00, 85.24it/s, loss=1.11]\n"
     ]
    },
    {
     "name": "stdout",
     "output_type": "stream",
     "text": [
      "Epoch [1290/3000]: Train loss: 2.0459,             Valid loss: 2.5801\n"
     ]
    },
    {
     "name": "stderr",
     "output_type": "stream",
     "text": [
      "epoch [1291/3000]: 100%|██████████| 9/9 [00:00<00:00, 95.18it/s, loss=1.11]\n"
     ]
    },
    {
     "name": "stdout",
     "output_type": "stream",
     "text": [
      "Epoch [1291/3000]: Train loss: 1.9969,             Valid loss: 1.5836\n"
     ]
    },
    {
     "name": "stderr",
     "output_type": "stream",
     "text": [
      "epoch [1292/3000]: 100%|██████████| 9/9 [00:00<00:00, 85.59it/s, loss=1.11]\n"
     ]
    },
    {
     "name": "stdout",
     "output_type": "stream",
     "text": [
      "Epoch [1292/3000]: Train loss: 2.0171,             Valid loss: 1.7345\n"
     ]
    },
    {
     "name": "stderr",
     "output_type": "stream",
     "text": [
      "epoch [1293/3000]: 100%|██████████| 9/9 [00:00<00:00, 81.46it/s, loss=1.11]\n"
     ]
    },
    {
     "name": "stdout",
     "output_type": "stream",
     "text": [
      "Epoch [1293/3000]: Train loss: 1.9904,             Valid loss: 1.8849\n"
     ]
    },
    {
     "name": "stderr",
     "output_type": "stream",
     "text": [
      "epoch [1294/3000]: 100%|██████████| 9/9 [00:00<00:00, 92.75it/s, loss=1.11]\n"
     ]
    },
    {
     "name": "stdout",
     "output_type": "stream",
     "text": [
      "Epoch [1294/3000]: Train loss: 2.0368,             Valid loss: 2.1401\n"
     ]
    },
    {
     "name": "stderr",
     "output_type": "stream",
     "text": [
      "epoch [1295/3000]: 100%|██████████| 9/9 [00:00<00:00, 65.84it/s, loss=1.11]\n"
     ]
    },
    {
     "name": "stdout",
     "output_type": "stream",
     "text": [
      "Epoch [1295/3000]: Train loss: 1.9996,             Valid loss: 1.8632\n"
     ]
    },
    {
     "name": "stderr",
     "output_type": "stream",
     "text": [
      "epoch [1296/3000]: 100%|██████████| 9/9 [00:00<00:00, 59.95it/s, loss=1.11]\n"
     ]
    },
    {
     "name": "stdout",
     "output_type": "stream",
     "text": [
      "Epoch [1296/3000]: Train loss: 2.0184,             Valid loss: 2.2673\n"
     ]
    },
    {
     "name": "stderr",
     "output_type": "stream",
     "text": [
      "epoch [1297/3000]: 100%|██████████| 9/9 [00:00<00:00, 64.47it/s, loss=1.11]\n"
     ]
    },
    {
     "name": "stdout",
     "output_type": "stream",
     "text": [
      "Epoch [1297/3000]: Train loss: 1.9763,             Valid loss: 2.0237\n"
     ]
    },
    {
     "name": "stderr",
     "output_type": "stream",
     "text": [
      "epoch [1298/3000]: 100%|██████████| 9/9 [00:00<00:00, 62.09it/s, loss=1.11]\n"
     ]
    },
    {
     "name": "stdout",
     "output_type": "stream",
     "text": [
      "Epoch [1298/3000]: Train loss: 2.0490,             Valid loss: 1.7697\n"
     ]
    },
    {
     "name": "stderr",
     "output_type": "stream",
     "text": [
      "epoch [1299/3000]: 100%|██████████| 9/9 [00:00<00:00, 76.32it/s, loss=1.11]\n"
     ]
    },
    {
     "name": "stdout",
     "output_type": "stream",
     "text": [
      "Epoch [1299/3000]: Train loss: 1.9881,             Valid loss: 1.9242\n"
     ]
    },
    {
     "name": "stderr",
     "output_type": "stream",
     "text": [
      "epoch [1300/3000]: 100%|██████████| 9/9 [00:00<00:00, 69.21it/s, loss=1.11]\n"
     ]
    },
    {
     "name": "stdout",
     "output_type": "stream",
     "text": [
      "Epoch [1300/3000]: Train loss: 2.0267,             Valid loss: 2.3539\n"
     ]
    },
    {
     "name": "stderr",
     "output_type": "stream",
     "text": [
      "epoch [1301/3000]: 100%|██████████| 9/9 [00:00<00:00, 92.35it/s, loss=1.11]\n"
     ]
    },
    {
     "name": "stdout",
     "output_type": "stream",
     "text": [
      "Epoch [1301/3000]: Train loss: 1.9841,             Valid loss: 2.1848\n"
     ]
    },
    {
     "name": "stderr",
     "output_type": "stream",
     "text": [
      "epoch [1302/3000]: 100%|██████████| 9/9 [00:00<00:00, 38.83it/s, loss=1.11]\n"
     ]
    },
    {
     "name": "stdout",
     "output_type": "stream",
     "text": [
      "Epoch [1302/3000]: Train loss: 2.0359,             Valid loss: 1.5827\n",
      "Saving model with loss 1.583\n"
     ]
    },
    {
     "name": "stderr",
     "output_type": "stream",
     "text": [
      "epoch [1303/3000]: 100%|██████████| 9/9 [00:00<00:00, 87.36it/s, loss=1.11]\n"
     ]
    },
    {
     "name": "stdout",
     "output_type": "stream",
     "text": [
      "Epoch [1303/3000]: Train loss: 1.9859,             Valid loss: 2.0242\n"
     ]
    },
    {
     "name": "stderr",
     "output_type": "stream",
     "text": [
      "epoch [1304/3000]: 100%|██████████| 9/9 [00:00<00:00, 77.41it/s, loss=1.11]\n"
     ]
    },
    {
     "name": "stdout",
     "output_type": "stream",
     "text": [
      "Epoch [1304/3000]: Train loss: 2.0296,             Valid loss: 1.8670\n"
     ]
    },
    {
     "name": "stderr",
     "output_type": "stream",
     "text": [
      "epoch [1305/3000]: 100%|██████████| 9/9 [00:00<00:00, 61.25it/s, loss=1.11]\n"
     ]
    },
    {
     "name": "stdout",
     "output_type": "stream",
     "text": [
      "Epoch [1305/3000]: Train loss: 1.9790,             Valid loss: 1.9791\n"
     ]
    },
    {
     "name": "stderr",
     "output_type": "stream",
     "text": [
      "epoch [1306/3000]: 100%|██████████| 9/9 [00:00<00:00, 84.89it/s, loss=1.11]\n"
     ]
    },
    {
     "name": "stdout",
     "output_type": "stream",
     "text": [
      "Epoch [1306/3000]: Train loss: 2.0324,             Valid loss: 1.8146\n"
     ]
    },
    {
     "name": "stderr",
     "output_type": "stream",
     "text": [
      "epoch [1307/3000]: 100%|██████████| 9/9 [00:00<00:00, 79.29it/s, loss=1.11]\n"
     ]
    },
    {
     "name": "stdout",
     "output_type": "stream",
     "text": [
      "Epoch [1307/3000]: Train loss: 1.9911,             Valid loss: 2.0355\n"
     ]
    },
    {
     "name": "stderr",
     "output_type": "stream",
     "text": [
      "epoch [1308/3000]: 100%|██████████| 9/9 [00:00<00:00, 76.28it/s, loss=1.11]\n"
     ]
    },
    {
     "name": "stdout",
     "output_type": "stream",
     "text": [
      "Epoch [1308/3000]: Train loss: 2.0209,             Valid loss: 2.0595\n"
     ]
    },
    {
     "name": "stderr",
     "output_type": "stream",
     "text": [
      "epoch [1309/3000]: 100%|██████████| 9/9 [00:00<00:00, 75.93it/s, loss=1.11]\n"
     ]
    },
    {
     "name": "stdout",
     "output_type": "stream",
     "text": [
      "Epoch [1309/3000]: Train loss: 1.9839,             Valid loss: 1.7660\n"
     ]
    },
    {
     "name": "stderr",
     "output_type": "stream",
     "text": [
      "epoch [1310/3000]: 100%|██████████| 9/9 [00:00<00:00, 70.57it/s, loss=1.11]\n"
     ]
    },
    {
     "name": "stdout",
     "output_type": "stream",
     "text": [
      "Epoch [1310/3000]: Train loss: 2.0221,             Valid loss: 2.2576\n"
     ]
    },
    {
     "name": "stderr",
     "output_type": "stream",
     "text": [
      "epoch [1311/3000]: 100%|██████████| 9/9 [00:00<00:00, 92.13it/s, loss=1.11]\n"
     ]
    },
    {
     "name": "stdout",
     "output_type": "stream",
     "text": [
      "Epoch [1311/3000]: Train loss: 1.9726,             Valid loss: 1.7498\n"
     ]
    },
    {
     "name": "stderr",
     "output_type": "stream",
     "text": [
      "epoch [1312/3000]: 100%|██████████| 9/9 [00:00<00:00, 84.90it/s, loss=1.11]\n"
     ]
    },
    {
     "name": "stdout",
     "output_type": "stream",
     "text": [
      "Epoch [1312/3000]: Train loss: 2.0403,             Valid loss: 2.0047\n"
     ]
    },
    {
     "name": "stderr",
     "output_type": "stream",
     "text": [
      "epoch [1313/3000]: 100%|██████████| 9/9 [00:00<00:00, 90.21it/s, loss=1.11]\n"
     ]
    },
    {
     "name": "stdout",
     "output_type": "stream",
     "text": [
      "Epoch [1313/3000]: Train loss: 1.9814,             Valid loss: 2.1784\n"
     ]
    },
    {
     "name": "stderr",
     "output_type": "stream",
     "text": [
      "epoch [1314/3000]: 100%|██████████| 9/9 [00:00<00:00, 98.68it/s, loss=1.11]\n"
     ]
    },
    {
     "name": "stdout",
     "output_type": "stream",
     "text": [
      "Epoch [1314/3000]: Train loss: 2.0227,             Valid loss: 1.9347\n"
     ]
    },
    {
     "name": "stderr",
     "output_type": "stream",
     "text": [
      "epoch [1315/3000]: 100%|██████████| 9/9 [00:00<00:00, 98.01it/s, loss=1.11]\n"
     ]
    },
    {
     "name": "stdout",
     "output_type": "stream",
     "text": [
      "Epoch [1315/3000]: Train loss: 1.9767,             Valid loss: 2.2031\n"
     ]
    },
    {
     "name": "stderr",
     "output_type": "stream",
     "text": [
      "epoch [1316/3000]: 100%|██████████| 9/9 [00:00<00:00, 89.89it/s, loss=1.1]\n"
     ]
    },
    {
     "name": "stdout",
     "output_type": "stream",
     "text": [
      "Epoch [1316/3000]: Train loss: 2.0306,             Valid loss: 2.3757\n"
     ]
    },
    {
     "name": "stderr",
     "output_type": "stream",
     "text": [
      "epoch [1317/3000]: 100%|██████████| 9/9 [00:00<00:00, 82.96it/s, loss=1.11]\n"
     ]
    },
    {
     "name": "stdout",
     "output_type": "stream",
     "text": [
      "Epoch [1317/3000]: Train loss: 1.9760,             Valid loss: 2.1262\n"
     ]
    },
    {
     "name": "stderr",
     "output_type": "stream",
     "text": [
      "epoch [1318/3000]: 100%|██████████| 9/9 [00:00<00:00, 95.25it/s, loss=1.11]\n"
     ]
    },
    {
     "name": "stdout",
     "output_type": "stream",
     "text": [
      "Epoch [1318/3000]: Train loss: 2.0333,             Valid loss: 1.8659\n"
     ]
    },
    {
     "name": "stderr",
     "output_type": "stream",
     "text": [
      "epoch [1319/3000]: 100%|██████████| 9/9 [00:00<00:00, 86.57it/s, loss=1.11]\n"
     ]
    },
    {
     "name": "stdout",
     "output_type": "stream",
     "text": [
      "Epoch [1319/3000]: Train loss: 1.9726,             Valid loss: 1.9568\n"
     ]
    },
    {
     "name": "stderr",
     "output_type": "stream",
     "text": [
      "epoch [1320/3000]: 100%|██████████| 9/9 [00:00<00:00, 93.51it/s, loss=1.1]\n"
     ]
    },
    {
     "name": "stdout",
     "output_type": "stream",
     "text": [
      "Epoch [1320/3000]: Train loss: 2.0301,             Valid loss: 1.9662\n"
     ]
    },
    {
     "name": "stderr",
     "output_type": "stream",
     "text": [
      "epoch [1321/3000]: 100%|██████████| 9/9 [00:00<00:00, 86.29it/s, loss=1.1]\n"
     ]
    },
    {
     "name": "stdout",
     "output_type": "stream",
     "text": [
      "Epoch [1321/3000]: Train loss: 1.9796,             Valid loss: 1.9079\n"
     ]
    },
    {
     "name": "stderr",
     "output_type": "stream",
     "text": [
      "epoch [1322/3000]: 100%|██████████| 9/9 [00:00<00:00, 68.37it/s, loss=1.11]\n"
     ]
    },
    {
     "name": "stdout",
     "output_type": "stream",
     "text": [
      "Epoch [1322/3000]: Train loss: 2.0236,             Valid loss: 1.6863\n"
     ]
    },
    {
     "name": "stderr",
     "output_type": "stream",
     "text": [
      "epoch [1323/3000]: 100%|██████████| 9/9 [00:00<00:00, 89.83it/s, loss=1.11]\n"
     ]
    },
    {
     "name": "stdout",
     "output_type": "stream",
     "text": [
      "Epoch [1323/3000]: Train loss: 1.9818,             Valid loss: 2.1804\n"
     ]
    },
    {
     "name": "stderr",
     "output_type": "stream",
     "text": [
      "epoch [1324/3000]: 100%|██████████| 9/9 [00:00<00:00, 91.15it/s, loss=1.1]\n"
     ]
    },
    {
     "name": "stdout",
     "output_type": "stream",
     "text": [
      "Epoch [1324/3000]: Train loss: 2.0259,             Valid loss: 1.8881\n"
     ]
    },
    {
     "name": "stderr",
     "output_type": "stream",
     "text": [
      "epoch [1325/3000]: 100%|██████████| 9/9 [00:00<00:00, 83.78it/s, loss=1.1]\n"
     ]
    },
    {
     "name": "stdout",
     "output_type": "stream",
     "text": [
      "Epoch [1325/3000]: Train loss: 1.9800,             Valid loss: 1.6965\n"
     ]
    },
    {
     "name": "stderr",
     "output_type": "stream",
     "text": [
      "epoch [1326/3000]: 100%|██████████| 9/9 [00:00<00:00, 84.64it/s, loss=1.1]\n"
     ]
    },
    {
     "name": "stdout",
     "output_type": "stream",
     "text": [
      "Epoch [1326/3000]: Train loss: 2.0217,             Valid loss: 2.0418\n"
     ]
    },
    {
     "name": "stderr",
     "output_type": "stream",
     "text": [
      "epoch [1327/3000]: 100%|██████████| 9/9 [00:00<00:00, 93.53it/s, loss=1.1]\n"
     ]
    },
    {
     "name": "stdout",
     "output_type": "stream",
     "text": [
      "Epoch [1327/3000]: Train loss: 1.9782,             Valid loss: 2.1864\n"
     ]
    },
    {
     "name": "stderr",
     "output_type": "stream",
     "text": [
      "epoch [1328/3000]: 100%|██████████| 9/9 [00:00<00:00, 87.02it/s, loss=1.1]\n"
     ]
    },
    {
     "name": "stdout",
     "output_type": "stream",
     "text": [
      "Epoch [1328/3000]: Train loss: 2.0211,             Valid loss: 1.9375\n"
     ]
    },
    {
     "name": "stderr",
     "output_type": "stream",
     "text": [
      "epoch [1329/3000]: 100%|██████████| 9/9 [00:00<00:00, 94.03it/s, loss=1.1]\n"
     ]
    },
    {
     "name": "stdout",
     "output_type": "stream",
     "text": [
      "Epoch [1329/3000]: Train loss: 1.9771,             Valid loss: 1.6242\n"
     ]
    },
    {
     "name": "stderr",
     "output_type": "stream",
     "text": [
      "epoch [1330/3000]: 100%|██████████| 9/9 [00:00<00:00, 103.38it/s, loss=1.1]\n"
     ]
    },
    {
     "name": "stdout",
     "output_type": "stream",
     "text": [
      "Epoch [1330/3000]: Train loss: 2.0229,             Valid loss: 1.9712\n"
     ]
    },
    {
     "name": "stderr",
     "output_type": "stream",
     "text": [
      "epoch [1331/3000]: 100%|██████████| 9/9 [00:00<00:00, 98.84it/s, loss=1.1]\n"
     ]
    },
    {
     "name": "stdout",
     "output_type": "stream",
     "text": [
      "Epoch [1331/3000]: Train loss: 1.9737,             Valid loss: 2.0548\n"
     ]
    },
    {
     "name": "stderr",
     "output_type": "stream",
     "text": [
      "epoch [1332/3000]: 100%|██████████| 9/9 [00:00<00:00, 100.94it/s, loss=1.1]\n"
     ]
    },
    {
     "name": "stdout",
     "output_type": "stream",
     "text": [
      "Epoch [1332/3000]: Train loss: 2.0273,             Valid loss: 1.8822\n"
     ]
    },
    {
     "name": "stderr",
     "output_type": "stream",
     "text": [
      "epoch [1333/3000]: 100%|██████████| 9/9 [00:00<00:00, 91.99it/s, loss=1.1]\n"
     ]
    },
    {
     "name": "stdout",
     "output_type": "stream",
     "text": [
      "Epoch [1333/3000]: Train loss: 1.9749,             Valid loss: 2.1138\n"
     ]
    },
    {
     "name": "stderr",
     "output_type": "stream",
     "text": [
      "epoch [1334/3000]: 100%|██████████| 9/9 [00:00<00:00, 70.57it/s, loss=1.1] \n"
     ]
    },
    {
     "name": "stdout",
     "output_type": "stream",
     "text": [
      "Epoch [1334/3000]: Train loss: 2.0151,             Valid loss: 1.8748\n"
     ]
    },
    {
     "name": "stderr",
     "output_type": "stream",
     "text": [
      "epoch [1335/3000]: 100%|██████████| 9/9 [00:00<00:00, 89.16it/s, loss=1.1]\n"
     ]
    },
    {
     "name": "stdout",
     "output_type": "stream",
     "text": [
      "Epoch [1335/3000]: Train loss: 1.9889,             Valid loss: 1.7925\n"
     ]
    },
    {
     "name": "stderr",
     "output_type": "stream",
     "text": [
      "epoch [1336/3000]: 100%|██████████| 9/9 [00:00<00:00, 70.01it/s, loss=1.1]\n"
     ]
    },
    {
     "name": "stdout",
     "output_type": "stream",
     "text": [
      "Epoch [1336/3000]: Train loss: 2.0108,             Valid loss: 2.1756\n"
     ]
    },
    {
     "name": "stderr",
     "output_type": "stream",
     "text": [
      "epoch [1337/3000]: 100%|██████████| 9/9 [00:00<00:00, 62.92it/s, loss=1.11]\n"
     ]
    },
    {
     "name": "stdout",
     "output_type": "stream",
     "text": [
      "Epoch [1337/3000]: Train loss: 1.9613,             Valid loss: 1.7355\n"
     ]
    },
    {
     "name": "stderr",
     "output_type": "stream",
     "text": [
      "epoch [1338/3000]: 100%|██████████| 9/9 [00:00<00:00, 68.98it/s, loss=1.1] \n"
     ]
    },
    {
     "name": "stdout",
     "output_type": "stream",
     "text": [
      "Epoch [1338/3000]: Train loss: 2.0324,             Valid loss: 1.9910\n"
     ]
    },
    {
     "name": "stderr",
     "output_type": "stream",
     "text": [
      "epoch [1339/3000]: 100%|██████████| 9/9 [00:00<00:00, 68.69it/s, loss=1.1] \n"
     ]
    },
    {
     "name": "stdout",
     "output_type": "stream",
     "text": [
      "Epoch [1339/3000]: Train loss: 1.9679,             Valid loss: 1.8106\n"
     ]
    },
    {
     "name": "stderr",
     "output_type": "stream",
     "text": [
      "epoch [1340/3000]: 100%|██████████| 9/9 [00:00<00:00, 70.16it/s, loss=1.1] \n"
     ]
    },
    {
     "name": "stdout",
     "output_type": "stream",
     "text": [
      "Epoch [1340/3000]: Train loss: 2.0177,             Valid loss: 1.9077\n"
     ]
    },
    {
     "name": "stderr",
     "output_type": "stream",
     "text": [
      "epoch [1341/3000]: 100%|██████████| 9/9 [00:00<00:00, 73.22it/s, loss=1.1]\n"
     ]
    },
    {
     "name": "stdout",
     "output_type": "stream",
     "text": [
      "Epoch [1341/3000]: Train loss: 1.9801,             Valid loss: 2.1567\n"
     ]
    },
    {
     "name": "stderr",
     "output_type": "stream",
     "text": [
      "epoch [1342/3000]: 100%|██████████| 9/9 [00:00<00:00, 65.62it/s, loss=1.1] \n"
     ]
    },
    {
     "name": "stdout",
     "output_type": "stream",
     "text": [
      "Epoch [1342/3000]: Train loss: 2.0066,             Valid loss: 1.7386\n"
     ]
    },
    {
     "name": "stderr",
     "output_type": "stream",
     "text": [
      "epoch [1343/3000]: 100%|██████████| 9/9 [00:00<00:00, 67.95it/s, loss=1.1]\n"
     ]
    },
    {
     "name": "stdout",
     "output_type": "stream",
     "text": [
      "Epoch [1343/3000]: Train loss: 1.9931,             Valid loss: 1.9113\n"
     ]
    },
    {
     "name": "stderr",
     "output_type": "stream",
     "text": [
      "epoch [1344/3000]: 100%|██████████| 9/9 [00:00<00:00, 83.31it/s, loss=1.1]\n"
     ]
    },
    {
     "name": "stdout",
     "output_type": "stream",
     "text": [
      "Epoch [1344/3000]: Train loss: 2.0032,             Valid loss: 1.8790\n"
     ]
    },
    {
     "name": "stderr",
     "output_type": "stream",
     "text": [
      "epoch [1345/3000]: 100%|██████████| 9/9 [00:00<00:00, 90.01it/s, loss=1.1]\n"
     ]
    },
    {
     "name": "stdout",
     "output_type": "stream",
     "text": [
      "Epoch [1345/3000]: Train loss: 1.9709,             Valid loss: 1.8093\n"
     ]
    },
    {
     "name": "stderr",
     "output_type": "stream",
     "text": [
      "epoch [1346/3000]: 100%|██████████| 9/9 [00:00<00:00, 75.37it/s, loss=1.1]\n"
     ]
    },
    {
     "name": "stdout",
     "output_type": "stream",
     "text": [
      "Epoch [1346/3000]: Train loss: 2.0212,             Valid loss: 1.7935\n"
     ]
    },
    {
     "name": "stderr",
     "output_type": "stream",
     "text": [
      "epoch [1347/3000]: 100%|██████████| 9/9 [00:00<00:00, 72.44it/s, loss=1.1] \n"
     ]
    },
    {
     "name": "stdout",
     "output_type": "stream",
     "text": [
      "Epoch [1347/3000]: Train loss: 1.9717,             Valid loss: 1.7785\n"
     ]
    },
    {
     "name": "stderr",
     "output_type": "stream",
     "text": [
      "epoch [1348/3000]: 100%|██████████| 9/9 [00:00<00:00, 70.50it/s, loss=1.1] \n"
     ]
    },
    {
     "name": "stdout",
     "output_type": "stream",
     "text": [
      "Epoch [1348/3000]: Train loss: 2.0203,             Valid loss: 1.9713\n"
     ]
    },
    {
     "name": "stderr",
     "output_type": "stream",
     "text": [
      "epoch [1349/3000]: 100%|██████████| 9/9 [00:00<00:00, 74.90it/s, loss=1.1] \n"
     ]
    },
    {
     "name": "stdout",
     "output_type": "stream",
     "text": [
      "Epoch [1349/3000]: Train loss: 1.9689,             Valid loss: 1.9228\n"
     ]
    },
    {
     "name": "stderr",
     "output_type": "stream",
     "text": [
      "epoch [1350/3000]: 100%|██████████| 9/9 [00:00<00:00, 70.44it/s, loss=1.1] \n"
     ]
    },
    {
     "name": "stdout",
     "output_type": "stream",
     "text": [
      "Epoch [1350/3000]: Train loss: 2.0120,             Valid loss: 1.7606\n"
     ]
    },
    {
     "name": "stderr",
     "output_type": "stream",
     "text": [
      "epoch [1351/3000]: 100%|██████████| 9/9 [00:00<00:00, 78.38it/s, loss=1.1]\n"
     ]
    },
    {
     "name": "stdout",
     "output_type": "stream",
     "text": [
      "Epoch [1351/3000]: Train loss: 1.9702,             Valid loss: 1.8832\n"
     ]
    },
    {
     "name": "stderr",
     "output_type": "stream",
     "text": [
      "epoch [1352/3000]: 100%|██████████| 9/9 [00:00<00:00, 58.75it/s, loss=1.1] \n"
     ]
    },
    {
     "name": "stdout",
     "output_type": "stream",
     "text": [
      "Epoch [1352/3000]: Train loss: 2.0146,             Valid loss: 1.8728\n"
     ]
    },
    {
     "name": "stderr",
     "output_type": "stream",
     "text": [
      "epoch [1353/3000]: 100%|██████████| 9/9 [00:00<00:00, 61.97it/s, loss=1.1] \n"
     ]
    },
    {
     "name": "stdout",
     "output_type": "stream",
     "text": [
      "Epoch [1353/3000]: Train loss: 1.9779,             Valid loss: 2.0143\n"
     ]
    },
    {
     "name": "stderr",
     "output_type": "stream",
     "text": [
      "epoch [1354/3000]: 100%|██████████| 9/9 [00:00<00:00, 63.14it/s, loss=1.1] \n"
     ]
    },
    {
     "name": "stdout",
     "output_type": "stream",
     "text": [
      "Epoch [1354/3000]: Train loss: 2.0081,             Valid loss: 1.9359\n"
     ]
    },
    {
     "name": "stderr",
     "output_type": "stream",
     "text": [
      "epoch [1355/3000]: 100%|██████████| 9/9 [00:00<00:00, 78.65it/s, loss=1.1]\n"
     ]
    },
    {
     "name": "stdout",
     "output_type": "stream",
     "text": [
      "Epoch [1355/3000]: Train loss: 1.9741,             Valid loss: 1.9928\n"
     ]
    },
    {
     "name": "stderr",
     "output_type": "stream",
     "text": [
      "epoch [1356/3000]: 100%|██████████| 9/9 [00:00<00:00, 93.41it/s, loss=1.1]\n"
     ]
    },
    {
     "name": "stdout",
     "output_type": "stream",
     "text": [
      "Epoch [1356/3000]: Train loss: 2.0109,             Valid loss: 1.7432\n"
     ]
    },
    {
     "name": "stderr",
     "output_type": "stream",
     "text": [
      "epoch [1357/3000]: 100%|██████████| 9/9 [00:00<00:00, 79.98it/s, loss=1.1] \n"
     ]
    },
    {
     "name": "stdout",
     "output_type": "stream",
     "text": [
      "Epoch [1357/3000]: Train loss: 1.9658,             Valid loss: 1.9213\n"
     ]
    },
    {
     "name": "stderr",
     "output_type": "stream",
     "text": [
      "epoch [1358/3000]: 100%|██████████| 9/9 [00:00<00:00, 78.72it/s, loss=1.1]\n"
     ]
    },
    {
     "name": "stdout",
     "output_type": "stream",
     "text": [
      "Epoch [1358/3000]: Train loss: 2.0186,             Valid loss: 1.6348\n"
     ]
    },
    {
     "name": "stderr",
     "output_type": "stream",
     "text": [
      "epoch [1359/3000]: 100%|██████████| 9/9 [00:00<00:00, 65.74it/s, loss=1.1] \n"
     ]
    },
    {
     "name": "stdout",
     "output_type": "stream",
     "text": [
      "Epoch [1359/3000]: Train loss: 1.9585,             Valid loss: 1.7467\n"
     ]
    },
    {
     "name": "stderr",
     "output_type": "stream",
     "text": [
      "epoch [1360/3000]: 100%|██████████| 9/9 [00:00<00:00, 80.50it/s, loss=1.1] \n"
     ]
    },
    {
     "name": "stdout",
     "output_type": "stream",
     "text": [
      "Epoch [1360/3000]: Train loss: 2.0178,             Valid loss: 1.9738\n"
     ]
    },
    {
     "name": "stderr",
     "output_type": "stream",
     "text": [
      "epoch [1361/3000]: 100%|██████████| 9/9 [00:00<00:00, 68.91it/s, loss=1.1] \n"
     ]
    },
    {
     "name": "stdout",
     "output_type": "stream",
     "text": [
      "Epoch [1361/3000]: Train loss: 1.9645,             Valid loss: 1.7544\n"
     ]
    },
    {
     "name": "stderr",
     "output_type": "stream",
     "text": [
      "epoch [1362/3000]: 100%|██████████| 9/9 [00:00<00:00, 61.40it/s, loss=1.1] \n"
     ]
    },
    {
     "name": "stdout",
     "output_type": "stream",
     "text": [
      "Epoch [1362/3000]: Train loss: 2.0158,             Valid loss: 2.1561\n"
     ]
    },
    {
     "name": "stderr",
     "output_type": "stream",
     "text": [
      "epoch [1363/3000]: 100%|██████████| 9/9 [00:00<00:00, 66.83it/s, loss=1.1] \n"
     ]
    },
    {
     "name": "stdout",
     "output_type": "stream",
     "text": [
      "Epoch [1363/3000]: Train loss: 1.9701,             Valid loss: 2.1299\n"
     ]
    },
    {
     "name": "stderr",
     "output_type": "stream",
     "text": [
      "epoch [1364/3000]: 100%|██████████| 9/9 [00:00<00:00, 74.36it/s, loss=1.1] \n"
     ]
    },
    {
     "name": "stdout",
     "output_type": "stream",
     "text": [
      "Epoch [1364/3000]: Train loss: 1.9974,             Valid loss: 1.9485\n"
     ]
    },
    {
     "name": "stderr",
     "output_type": "stream",
     "text": [
      "epoch [1365/3000]: 100%|██████████| 9/9 [00:00<00:00, 66.24it/s, loss=1.1] \n"
     ]
    },
    {
     "name": "stdout",
     "output_type": "stream",
     "text": [
      "Epoch [1365/3000]: Train loss: 1.9925,             Valid loss: 1.9511\n"
     ]
    },
    {
     "name": "stderr",
     "output_type": "stream",
     "text": [
      "epoch [1366/3000]: 100%|██████████| 9/9 [00:00<00:00, 68.72it/s, loss=1.1] \n"
     ]
    },
    {
     "name": "stdout",
     "output_type": "stream",
     "text": [
      "Epoch [1366/3000]: Train loss: 1.9866,             Valid loss: 1.7216\n"
     ]
    },
    {
     "name": "stderr",
     "output_type": "stream",
     "text": [
      "epoch [1367/3000]: 100%|██████████| 9/9 [00:00<00:00, 71.73it/s, loss=1.1]\n"
     ]
    },
    {
     "name": "stdout",
     "output_type": "stream",
     "text": [
      "Epoch [1367/3000]: Train loss: 1.9924,             Valid loss: 1.6328\n"
     ]
    },
    {
     "name": "stderr",
     "output_type": "stream",
     "text": [
      "epoch [1368/3000]: 100%|██████████| 9/9 [00:00<00:00, 84.64it/s, loss=1.1]\n"
     ]
    },
    {
     "name": "stdout",
     "output_type": "stream",
     "text": [
      "Epoch [1368/3000]: Train loss: 2.0042,             Valid loss: 1.9702\n"
     ]
    },
    {
     "name": "stderr",
     "output_type": "stream",
     "text": [
      "epoch [1369/3000]: 100%|██████████| 9/9 [00:00<00:00, 76.41it/s, loss=1.1] \n"
     ]
    },
    {
     "name": "stdout",
     "output_type": "stream",
     "text": [
      "Epoch [1369/3000]: Train loss: 1.9863,             Valid loss: 1.7595\n"
     ]
    },
    {
     "name": "stderr",
     "output_type": "stream",
     "text": [
      "epoch [1370/3000]: 100%|██████████| 9/9 [00:00<00:00, 63.44it/s, loss=1.1] \n"
     ]
    },
    {
     "name": "stdout",
     "output_type": "stream",
     "text": [
      "Epoch [1370/3000]: Train loss: 1.9998,             Valid loss: 1.7853\n"
     ]
    },
    {
     "name": "stderr",
     "output_type": "stream",
     "text": [
      "epoch [1371/3000]: 100%|██████████| 9/9 [00:00<00:00, 60.47it/s, loss=1.1] \n"
     ]
    },
    {
     "name": "stdout",
     "output_type": "stream",
     "text": [
      "Epoch [1371/3000]: Train loss: 1.9977,             Valid loss: 2.1104\n"
     ]
    },
    {
     "name": "stderr",
     "output_type": "stream",
     "text": [
      "epoch [1372/3000]: 100%|██████████| 9/9 [00:00<00:00, 64.82it/s, loss=1.1] \n"
     ]
    },
    {
     "name": "stdout",
     "output_type": "stream",
     "text": [
      "Epoch [1372/3000]: Train loss: 1.9941,             Valid loss: 1.9293\n"
     ]
    },
    {
     "name": "stderr",
     "output_type": "stream",
     "text": [
      "epoch [1373/3000]: 100%|██████████| 9/9 [00:00<00:00, 51.00it/s, loss=1.1] \n"
     ]
    },
    {
     "name": "stdout",
     "output_type": "stream",
     "text": [
      "Epoch [1373/3000]: Train loss: 1.9934,             Valid loss: 1.4904\n",
      "Saving model with loss 1.490\n"
     ]
    },
    {
     "name": "stderr",
     "output_type": "stream",
     "text": [
      "epoch [1374/3000]: 100%|██████████| 9/9 [00:00<00:00, 50.08it/s, loss=1.1] \n"
     ]
    },
    {
     "name": "stdout",
     "output_type": "stream",
     "text": [
      "Epoch [1374/3000]: Train loss: 1.9935,             Valid loss: 1.7784\n"
     ]
    },
    {
     "name": "stderr",
     "output_type": "stream",
     "text": [
      "epoch [1375/3000]: 100%|██████████| 9/9 [00:00<00:00, 47.29it/s, loss=1.1] \n"
     ]
    },
    {
     "name": "stdout",
     "output_type": "stream",
     "text": [
      "Epoch [1375/3000]: Train loss: 1.9936,             Valid loss: 2.0772\n"
     ]
    },
    {
     "name": "stderr",
     "output_type": "stream",
     "text": [
      "epoch [1376/3000]: 100%|██████████| 9/9 [00:00<00:00, 70.95it/s, loss=1.1]\n"
     ]
    },
    {
     "name": "stdout",
     "output_type": "stream",
     "text": [
      "Epoch [1376/3000]: Train loss: 1.9932,             Valid loss: 1.7589\n"
     ]
    },
    {
     "name": "stderr",
     "output_type": "stream",
     "text": [
      "epoch [1377/3000]: 100%|██████████| 9/9 [00:00<00:00, 90.19it/s, loss=1.1]\n"
     ]
    },
    {
     "name": "stdout",
     "output_type": "stream",
     "text": [
      "Epoch [1377/3000]: Train loss: 1.9947,             Valid loss: 1.8606\n"
     ]
    },
    {
     "name": "stderr",
     "output_type": "stream",
     "text": [
      "epoch [1378/3000]: 100%|██████████| 9/9 [00:00<00:00, 76.71it/s, loss=1.1]\n"
     ]
    },
    {
     "name": "stdout",
     "output_type": "stream",
     "text": [
      "Epoch [1378/3000]: Train loss: 1.9955,             Valid loss: 1.7173\n"
     ]
    },
    {
     "name": "stderr",
     "output_type": "stream",
     "text": [
      "epoch [1379/3000]: 100%|██████████| 9/9 [00:00<00:00, 81.53it/s, loss=1.1]\n"
     ]
    },
    {
     "name": "stdout",
     "output_type": "stream",
     "text": [
      "Epoch [1379/3000]: Train loss: 1.9944,             Valid loss: 1.9779\n"
     ]
    },
    {
     "name": "stderr",
     "output_type": "stream",
     "text": [
      "epoch [1380/3000]: 100%|██████████| 9/9 [00:00<00:00, 78.27it/s, loss=1.1]\n"
     ]
    },
    {
     "name": "stdout",
     "output_type": "stream",
     "text": [
      "Epoch [1380/3000]: Train loss: 1.9921,             Valid loss: 1.9068\n"
     ]
    },
    {
     "name": "stderr",
     "output_type": "stream",
     "text": [
      "epoch [1381/3000]: 100%|██████████| 9/9 [00:00<00:00, 87.51it/s, loss=1.1]\n"
     ]
    },
    {
     "name": "stdout",
     "output_type": "stream",
     "text": [
      "Epoch [1381/3000]: Train loss: 1.9934,             Valid loss: 1.7474\n"
     ]
    },
    {
     "name": "stderr",
     "output_type": "stream",
     "text": [
      "epoch [1382/3000]: 100%|██████████| 9/9 [00:00<00:00, 76.66it/s, loss=1.1]\n"
     ]
    },
    {
     "name": "stdout",
     "output_type": "stream",
     "text": [
      "Epoch [1382/3000]: Train loss: 1.9935,             Valid loss: 2.0602\n"
     ]
    },
    {
     "name": "stderr",
     "output_type": "stream",
     "text": [
      "epoch [1383/3000]: 100%|██████████| 9/9 [00:00<00:00, 68.61it/s, loss=1.1] \n"
     ]
    },
    {
     "name": "stdout",
     "output_type": "stream",
     "text": [
      "Epoch [1383/3000]: Train loss: 1.9925,             Valid loss: 1.8755\n"
     ]
    },
    {
     "name": "stderr",
     "output_type": "stream",
     "text": [
      "epoch [1384/3000]: 100%|██████████| 9/9 [00:00<00:00, 36.60it/s, loss=1.1] \n"
     ]
    },
    {
     "name": "stdout",
     "output_type": "stream",
     "text": [
      "Epoch [1384/3000]: Train loss: 1.9925,             Valid loss: 2.1130\n"
     ]
    },
    {
     "name": "stderr",
     "output_type": "stream",
     "text": [
      "epoch [1385/3000]: 100%|██████████| 9/9 [00:00<00:00, 83.65it/s, loss=1.1]\n"
     ]
    },
    {
     "name": "stdout",
     "output_type": "stream",
     "text": [
      "Epoch [1385/3000]: Train loss: 1.9919,             Valid loss: 1.8283\n"
     ]
    },
    {
     "name": "stderr",
     "output_type": "stream",
     "text": [
      "epoch [1386/3000]: 100%|██████████| 9/9 [00:00<00:00, 69.29it/s, loss=1.1]\n"
     ]
    },
    {
     "name": "stdout",
     "output_type": "stream",
     "text": [
      "Epoch [1386/3000]: Train loss: 1.9918,             Valid loss: 1.9433\n"
     ]
    },
    {
     "name": "stderr",
     "output_type": "stream",
     "text": [
      "epoch [1387/3000]: 100%|██████████| 9/9 [00:00<00:00, 69.11it/s, loss=1.1] \n"
     ]
    },
    {
     "name": "stdout",
     "output_type": "stream",
     "text": [
      "Epoch [1387/3000]: Train loss: 1.9908,             Valid loss: 1.7299\n"
     ]
    },
    {
     "name": "stderr",
     "output_type": "stream",
     "text": [
      "epoch [1388/3000]: 100%|██████████| 9/9 [00:00<00:00, 82.27it/s, loss=1.1]\n"
     ]
    },
    {
     "name": "stdout",
     "output_type": "stream",
     "text": [
      "Epoch [1388/3000]: Train loss: 1.9920,             Valid loss: 2.1624\n"
     ]
    },
    {
     "name": "stderr",
     "output_type": "stream",
     "text": [
      "epoch [1389/3000]: 100%|██████████| 9/9 [00:00<00:00, 87.38it/s, loss=1.1]\n"
     ]
    },
    {
     "name": "stdout",
     "output_type": "stream",
     "text": [
      "Epoch [1389/3000]: Train loss: 1.9905,             Valid loss: 1.9186\n"
     ]
    },
    {
     "name": "stderr",
     "output_type": "stream",
     "text": [
      "epoch [1390/3000]: 100%|██████████| 9/9 [00:00<00:00, 63.82it/s, loss=1.1] \n"
     ]
    },
    {
     "name": "stdout",
     "output_type": "stream",
     "text": [
      "Epoch [1390/3000]: Train loss: 1.9909,             Valid loss: 1.8431\n"
     ]
    },
    {
     "name": "stderr",
     "output_type": "stream",
     "text": [
      "epoch [1391/3000]: 100%|██████████| 9/9 [00:00<00:00, 81.18it/s, loss=1.09]\n"
     ]
    },
    {
     "name": "stdout",
     "output_type": "stream",
     "text": [
      "Epoch [1391/3000]: Train loss: 1.9921,             Valid loss: 2.0697\n"
     ]
    },
    {
     "name": "stderr",
     "output_type": "stream",
     "text": [
      "epoch [1392/3000]: 100%|██████████| 9/9 [00:00<00:00, 85.97it/s, loss=1.1]\n"
     ]
    },
    {
     "name": "stdout",
     "output_type": "stream",
     "text": [
      "Epoch [1392/3000]: Train loss: 1.9853,             Valid loss: 2.0633\n"
     ]
    },
    {
     "name": "stderr",
     "output_type": "stream",
     "text": [
      "epoch [1393/3000]: 100%|██████████| 9/9 [00:00<00:00, 81.76it/s, loss=1.09]\n"
     ]
    },
    {
     "name": "stdout",
     "output_type": "stream",
     "text": [
      "Epoch [1393/3000]: Train loss: 1.9884,             Valid loss: 1.9787\n"
     ]
    },
    {
     "name": "stderr",
     "output_type": "stream",
     "text": [
      "epoch [1394/3000]: 100%|██████████| 9/9 [00:00<00:00, 77.46it/s, loss=1.09]\n"
     ]
    },
    {
     "name": "stdout",
     "output_type": "stream",
     "text": [
      "Epoch [1394/3000]: Train loss: 1.9898,             Valid loss: 2.3189\n"
     ]
    },
    {
     "name": "stderr",
     "output_type": "stream",
     "text": [
      "epoch [1395/3000]: 100%|██████████| 9/9 [00:00<00:00, 86.41it/s, loss=1.09]\n"
     ]
    },
    {
     "name": "stdout",
     "output_type": "stream",
     "text": [
      "Epoch [1395/3000]: Train loss: 1.9900,             Valid loss: 1.6898\n"
     ]
    },
    {
     "name": "stderr",
     "output_type": "stream",
     "text": [
      "epoch [1396/3000]: 100%|██████████| 9/9 [00:00<00:00, 82.90it/s, loss=1.09]\n"
     ]
    },
    {
     "name": "stdout",
     "output_type": "stream",
     "text": [
      "Epoch [1396/3000]: Train loss: 1.9837,             Valid loss: 1.6673\n"
     ]
    },
    {
     "name": "stderr",
     "output_type": "stream",
     "text": [
      "epoch [1397/3000]: 100%|██████████| 9/9 [00:00<00:00, 46.89it/s, loss=1.09]\n"
     ]
    },
    {
     "name": "stdout",
     "output_type": "stream",
     "text": [
      "Epoch [1397/3000]: Train loss: 1.9903,             Valid loss: 1.9113\n"
     ]
    },
    {
     "name": "stderr",
     "output_type": "stream",
     "text": [
      "epoch [1398/3000]: 100%|██████████| 9/9 [00:00<00:00, 38.50it/s, loss=1.09]\n"
     ]
    },
    {
     "name": "stdout",
     "output_type": "stream",
     "text": [
      "Epoch [1398/3000]: Train loss: 1.9869,             Valid loss: 2.0296\n"
     ]
    },
    {
     "name": "stderr",
     "output_type": "stream",
     "text": [
      "epoch [1399/3000]: 100%|██████████| 9/9 [00:00<00:00, 57.90it/s, loss=1.09]\n"
     ]
    },
    {
     "name": "stdout",
     "output_type": "stream",
     "text": [
      "Epoch [1399/3000]: Train loss: 1.9900,             Valid loss: 2.0836\n"
     ]
    },
    {
     "name": "stderr",
     "output_type": "stream",
     "text": [
      "epoch [1400/3000]: 100%|██████████| 9/9 [00:00<00:00, 51.39it/s, loss=1.09]\n"
     ]
    },
    {
     "name": "stdout",
     "output_type": "stream",
     "text": [
      "Epoch [1400/3000]: Train loss: 1.9833,             Valid loss: 1.8842\n"
     ]
    },
    {
     "name": "stderr",
     "output_type": "stream",
     "text": [
      "epoch [1401/3000]: 100%|██████████| 9/9 [00:00<00:00, 66.24it/s, loss=1.09]\n"
     ]
    },
    {
     "name": "stdout",
     "output_type": "stream",
     "text": [
      "Epoch [1401/3000]: Train loss: 1.9861,             Valid loss: 2.0827\n"
     ]
    },
    {
     "name": "stderr",
     "output_type": "stream",
     "text": [
      "epoch [1402/3000]: 100%|██████████| 9/9 [00:00<00:00, 82.67it/s, loss=1.09]\n"
     ]
    },
    {
     "name": "stdout",
     "output_type": "stream",
     "text": [
      "Epoch [1402/3000]: Train loss: 1.9900,             Valid loss: 1.7840\n"
     ]
    },
    {
     "name": "stderr",
     "output_type": "stream",
     "text": [
      "epoch [1403/3000]: 100%|██████████| 9/9 [00:00<00:00, 79.13it/s, loss=1.09]\n"
     ]
    },
    {
     "name": "stdout",
     "output_type": "stream",
     "text": [
      "Epoch [1403/3000]: Train loss: 1.9848,             Valid loss: 1.8387\n"
     ]
    },
    {
     "name": "stderr",
     "output_type": "stream",
     "text": [
      "epoch [1404/3000]: 100%|██████████| 9/9 [00:00<00:00, 80.67it/s, loss=1.09]\n"
     ]
    },
    {
     "name": "stdout",
     "output_type": "stream",
     "text": [
      "Epoch [1404/3000]: Train loss: 1.9868,             Valid loss: 1.9296\n"
     ]
    },
    {
     "name": "stderr",
     "output_type": "stream",
     "text": [
      "epoch [1405/3000]: 100%|██████████| 9/9 [00:00<00:00, 74.94it/s, loss=1.09]\n"
     ]
    },
    {
     "name": "stdout",
     "output_type": "stream",
     "text": [
      "Epoch [1405/3000]: Train loss: 1.9854,             Valid loss: 1.7334\n"
     ]
    },
    {
     "name": "stderr",
     "output_type": "stream",
     "text": [
      "epoch [1406/3000]: 100%|██████████| 9/9 [00:00<00:00, 85.12it/s, loss=1.09]\n"
     ]
    },
    {
     "name": "stdout",
     "output_type": "stream",
     "text": [
      "Epoch [1406/3000]: Train loss: 1.9816,             Valid loss: 1.9381\n"
     ]
    },
    {
     "name": "stderr",
     "output_type": "stream",
     "text": [
      "epoch [1407/3000]: 100%|██████████| 9/9 [00:00<00:00, 71.09it/s, loss=1.09]\n"
     ]
    },
    {
     "name": "stdout",
     "output_type": "stream",
     "text": [
      "Epoch [1407/3000]: Train loss: 1.9854,             Valid loss: 2.0152\n"
     ]
    },
    {
     "name": "stderr",
     "output_type": "stream",
     "text": [
      "epoch [1408/3000]: 100%|██████████| 9/9 [00:00<00:00, 68.19it/s, loss=1.09]\n"
     ]
    },
    {
     "name": "stdout",
     "output_type": "stream",
     "text": [
      "Epoch [1408/3000]: Train loss: 1.9858,             Valid loss: 1.7302\n"
     ]
    },
    {
     "name": "stderr",
     "output_type": "stream",
     "text": [
      "epoch [1409/3000]: 100%|██████████| 9/9 [00:00<00:00, 74.12it/s, loss=1.09]\n"
     ]
    },
    {
     "name": "stdout",
     "output_type": "stream",
     "text": [
      "Epoch [1409/3000]: Train loss: 1.9871,             Valid loss: 1.7567\n"
     ]
    },
    {
     "name": "stderr",
     "output_type": "stream",
     "text": [
      "epoch [1410/3000]: 100%|██████████| 9/9 [00:00<00:00, 77.86it/s, loss=1.09]\n"
     ]
    },
    {
     "name": "stdout",
     "output_type": "stream",
     "text": [
      "Epoch [1410/3000]: Train loss: 1.9855,             Valid loss: 1.9570\n"
     ]
    },
    {
     "name": "stderr",
     "output_type": "stream",
     "text": [
      "epoch [1411/3000]: 100%|██████████| 9/9 [00:00<00:00, 69.88it/s, loss=1.09]\n"
     ]
    },
    {
     "name": "stdout",
     "output_type": "stream",
     "text": [
      "Epoch [1411/3000]: Train loss: 1.9862,             Valid loss: 2.0626\n"
     ]
    },
    {
     "name": "stderr",
     "output_type": "stream",
     "text": [
      "epoch [1412/3000]: 100%|██████████| 9/9 [00:00<00:00, 72.25it/s, loss=1.09]\n"
     ]
    },
    {
     "name": "stdout",
     "output_type": "stream",
     "text": [
      "Epoch [1412/3000]: Train loss: 1.9869,             Valid loss: 1.9346\n"
     ]
    },
    {
     "name": "stderr",
     "output_type": "stream",
     "text": [
      "epoch [1413/3000]: 100%|██████████| 9/9 [00:00<00:00, 80.87it/s, loss=1.09]\n"
     ]
    },
    {
     "name": "stdout",
     "output_type": "stream",
     "text": [
      "Epoch [1413/3000]: Train loss: 1.9858,             Valid loss: 1.9843\n"
     ]
    },
    {
     "name": "stderr",
     "output_type": "stream",
     "text": [
      "epoch [1414/3000]: 100%|██████████| 9/9 [00:00<00:00, 60.26it/s, loss=1.09]\n"
     ]
    },
    {
     "name": "stdout",
     "output_type": "stream",
     "text": [
      "Epoch [1414/3000]: Train loss: 1.9866,             Valid loss: 1.9828\n"
     ]
    },
    {
     "name": "stderr",
     "output_type": "stream",
     "text": [
      "epoch [1415/3000]: 100%|██████████| 9/9 [00:00<00:00, 56.20it/s, loss=1.09]\n"
     ]
    },
    {
     "name": "stdout",
     "output_type": "stream",
     "text": [
      "Epoch [1415/3000]: Train loss: 1.9820,             Valid loss: 2.1198\n"
     ]
    },
    {
     "name": "stderr",
     "output_type": "stream",
     "text": [
      "epoch [1416/3000]: 100%|██████████| 9/9 [00:00<00:00, 72.20it/s, loss=1.09]\n"
     ]
    },
    {
     "name": "stdout",
     "output_type": "stream",
     "text": [
      "Epoch [1416/3000]: Train loss: 1.9846,             Valid loss: 1.6960\n"
     ]
    },
    {
     "name": "stderr",
     "output_type": "stream",
     "text": [
      "epoch [1417/3000]: 100%|██████████| 9/9 [00:00<00:00, 92.76it/s, loss=1.09]\n"
     ]
    },
    {
     "name": "stdout",
     "output_type": "stream",
     "text": [
      "Epoch [1417/3000]: Train loss: 1.9849,             Valid loss: 2.2052\n"
     ]
    },
    {
     "name": "stderr",
     "output_type": "stream",
     "text": [
      "epoch [1418/3000]: 100%|██████████| 9/9 [00:00<00:00, 83.21it/s, loss=1.09]\n"
     ]
    },
    {
     "name": "stdout",
     "output_type": "stream",
     "text": [
      "Epoch [1418/3000]: Train loss: 1.9837,             Valid loss: 2.1407\n"
     ]
    },
    {
     "name": "stderr",
     "output_type": "stream",
     "text": [
      "epoch [1419/3000]: 100%|██████████| 9/9 [00:00<00:00, 98.24it/s, loss=1.09]\n"
     ]
    },
    {
     "name": "stdout",
     "output_type": "stream",
     "text": [
      "Epoch [1419/3000]: Train loss: 1.9823,             Valid loss: 1.9381\n"
     ]
    },
    {
     "name": "stderr",
     "output_type": "stream",
     "text": [
      "epoch [1420/3000]: 100%|██████████| 9/9 [00:00<00:00, 103.65it/s, loss=1.09]\n"
     ]
    },
    {
     "name": "stdout",
     "output_type": "stream",
     "text": [
      "Epoch [1420/3000]: Train loss: 1.9837,             Valid loss: 2.1149\n"
     ]
    },
    {
     "name": "stderr",
     "output_type": "stream",
     "text": [
      "epoch [1421/3000]: 100%|██████████| 9/9 [00:00<00:00, 105.68it/s, loss=1.09]\n"
     ]
    },
    {
     "name": "stdout",
     "output_type": "stream",
     "text": [
      "Epoch [1421/3000]: Train loss: 1.9859,             Valid loss: 2.0794\n"
     ]
    },
    {
     "name": "stderr",
     "output_type": "stream",
     "text": [
      "epoch [1422/3000]: 100%|██████████| 9/9 [00:00<00:00, 93.55it/s, loss=1.09]\n"
     ]
    },
    {
     "name": "stdout",
     "output_type": "stream",
     "text": [
      "Epoch [1422/3000]: Train loss: 1.9860,             Valid loss: 1.9166\n"
     ]
    },
    {
     "name": "stderr",
     "output_type": "stream",
     "text": [
      "epoch [1423/3000]: 100%|██████████| 9/9 [00:00<00:00, 104.75it/s, loss=1.09]\n"
     ]
    },
    {
     "name": "stdout",
     "output_type": "stream",
     "text": [
      "Epoch [1423/3000]: Train loss: 1.9860,             Valid loss: 2.2708\n"
     ]
    },
    {
     "name": "stderr",
     "output_type": "stream",
     "text": [
      "epoch [1424/3000]: 100%|██████████| 9/9 [00:00<00:00, 100.47it/s, loss=1.09]\n"
     ]
    },
    {
     "name": "stdout",
     "output_type": "stream",
     "text": [
      "Epoch [1424/3000]: Train loss: 1.9833,             Valid loss: 1.7372\n"
     ]
    },
    {
     "name": "stderr",
     "output_type": "stream",
     "text": [
      "epoch [1425/3000]: 100%|██████████| 9/9 [00:00<00:00, 103.47it/s, loss=1.09]\n"
     ]
    },
    {
     "name": "stdout",
     "output_type": "stream",
     "text": [
      "Epoch [1425/3000]: Train loss: 1.9828,             Valid loss: 1.7984\n"
     ]
    },
    {
     "name": "stderr",
     "output_type": "stream",
     "text": [
      "epoch [1426/3000]: 100%|██████████| 9/9 [00:00<00:00, 81.49it/s, loss=1.09]\n"
     ]
    },
    {
     "name": "stdout",
     "output_type": "stream",
     "text": [
      "Epoch [1426/3000]: Train loss: 1.9846,             Valid loss: 1.8814\n"
     ]
    },
    {
     "name": "stderr",
     "output_type": "stream",
     "text": [
      "epoch [1427/3000]: 100%|██████████| 9/9 [00:00<00:00, 57.12it/s, loss=1.09]\n"
     ]
    },
    {
     "name": "stdout",
     "output_type": "stream",
     "text": [
      "Epoch [1427/3000]: Train loss: 1.9851,             Valid loss: 1.9944\n"
     ]
    },
    {
     "name": "stderr",
     "output_type": "stream",
     "text": [
      "epoch [1428/3000]: 100%|██████████| 9/9 [00:00<00:00, 49.43it/s, loss=1.09]\n"
     ]
    },
    {
     "name": "stdout",
     "output_type": "stream",
     "text": [
      "Epoch [1428/3000]: Train loss: 1.9820,             Valid loss: 2.1681\n"
     ]
    },
    {
     "name": "stderr",
     "output_type": "stream",
     "text": [
      "epoch [1429/3000]: 100%|██████████| 9/9 [00:00<00:00, 55.82it/s, loss=1.09]\n"
     ]
    },
    {
     "name": "stdout",
     "output_type": "stream",
     "text": [
      "Epoch [1429/3000]: Train loss: 1.9827,             Valid loss: 1.8823\n"
     ]
    },
    {
     "name": "stderr",
     "output_type": "stream",
     "text": [
      "epoch [1430/3000]: 100%|██████████| 9/9 [00:00<00:00, 47.53it/s, loss=1.09]\n"
     ]
    },
    {
     "name": "stdout",
     "output_type": "stream",
     "text": [
      "Epoch [1430/3000]: Train loss: 1.9840,             Valid loss: 1.8547\n"
     ]
    },
    {
     "name": "stderr",
     "output_type": "stream",
     "text": [
      "epoch [1431/3000]: 100%|██████████| 9/9 [00:00<00:00, 53.84it/s, loss=1.09]\n"
     ]
    },
    {
     "name": "stdout",
     "output_type": "stream",
     "text": [
      "Epoch [1431/3000]: Train loss: 1.9853,             Valid loss: 1.9732\n"
     ]
    },
    {
     "name": "stderr",
     "output_type": "stream",
     "text": [
      "epoch [1432/3000]: 100%|██████████| 9/9 [00:00<00:00, 58.91it/s, loss=1.09]\n"
     ]
    },
    {
     "name": "stdout",
     "output_type": "stream",
     "text": [
      "Epoch [1432/3000]: Train loss: 1.9828,             Valid loss: 1.7067\n"
     ]
    },
    {
     "name": "stderr",
     "output_type": "stream",
     "text": [
      "epoch [1433/3000]: 100%|██████████| 9/9 [00:00<00:00, 66.34it/s, loss=1.09]\n"
     ]
    },
    {
     "name": "stdout",
     "output_type": "stream",
     "text": [
      "Epoch [1433/3000]: Train loss: 1.9819,             Valid loss: 2.3607\n"
     ]
    },
    {
     "name": "stderr",
     "output_type": "stream",
     "text": [
      "epoch [1434/3000]: 100%|██████████| 9/9 [00:00<00:00, 69.78it/s, loss=1.09]\n"
     ]
    },
    {
     "name": "stdout",
     "output_type": "stream",
     "text": [
      "Epoch [1434/3000]: Train loss: 1.9852,             Valid loss: 1.6850\n"
     ]
    },
    {
     "name": "stderr",
     "output_type": "stream",
     "text": [
      "epoch [1435/3000]: 100%|██████████| 9/9 [00:00<00:00, 59.82it/s, loss=1.09]\n"
     ]
    },
    {
     "name": "stdout",
     "output_type": "stream",
     "text": [
      "Epoch [1435/3000]: Train loss: 1.9843,             Valid loss: 1.7014\n"
     ]
    },
    {
     "name": "stderr",
     "output_type": "stream",
     "text": [
      "epoch [1436/3000]: 100%|██████████| 9/9 [00:00<00:00, 67.53it/s, loss=1.09]\n"
     ]
    },
    {
     "name": "stdout",
     "output_type": "stream",
     "text": [
      "Epoch [1436/3000]: Train loss: 1.9820,             Valid loss: 1.8356\n"
     ]
    },
    {
     "name": "stderr",
     "output_type": "stream",
     "text": [
      "epoch [1437/3000]: 100%|██████████| 9/9 [00:00<00:00, 63.35it/s, loss=1.1] \n"
     ]
    },
    {
     "name": "stdout",
     "output_type": "stream",
     "text": [
      "Epoch [1437/3000]: Train loss: 1.9866,             Valid loss: 1.8055\n"
     ]
    },
    {
     "name": "stderr",
     "output_type": "stream",
     "text": [
      "epoch [1438/3000]: 100%|██████████| 9/9 [00:00<00:00, 54.47it/s, loss=1.09]\n"
     ]
    },
    {
     "name": "stdout",
     "output_type": "stream",
     "text": [
      "Epoch [1438/3000]: Train loss: 1.9817,             Valid loss: 1.9103\n"
     ]
    },
    {
     "name": "stderr",
     "output_type": "stream",
     "text": [
      "epoch [1439/3000]: 100%|██████████| 9/9 [00:00<00:00, 75.13it/s, loss=1.1] \n"
     ]
    },
    {
     "name": "stdout",
     "output_type": "stream",
     "text": [
      "Epoch [1439/3000]: Train loss: 1.9790,             Valid loss: 1.9473\n"
     ]
    },
    {
     "name": "stderr",
     "output_type": "stream",
     "text": [
      "epoch [1440/3000]: 100%|██████████| 9/9 [00:00<00:00, 66.47it/s, loss=1.1] \n"
     ]
    },
    {
     "name": "stdout",
     "output_type": "stream",
     "text": [
      "Epoch [1440/3000]: Train loss: 1.9857,             Valid loss: 2.0592\n"
     ]
    },
    {
     "name": "stderr",
     "output_type": "stream",
     "text": [
      "epoch [1441/3000]: 100%|██████████| 9/9 [00:00<00:00, 61.75it/s, loss=1.1] \n"
     ]
    },
    {
     "name": "stdout",
     "output_type": "stream",
     "text": [
      "Epoch [1441/3000]: Train loss: 1.9869,             Valid loss: 1.9739\n"
     ]
    },
    {
     "name": "stderr",
     "output_type": "stream",
     "text": [
      "epoch [1442/3000]: 100%|██████████| 9/9 [00:00<00:00, 59.28it/s, loss=1.09]\n"
     ]
    },
    {
     "name": "stdout",
     "output_type": "stream",
     "text": [
      "Epoch [1442/3000]: Train loss: 1.9858,             Valid loss: 2.1713\n"
     ]
    },
    {
     "name": "stderr",
     "output_type": "stream",
     "text": [
      "epoch [1443/3000]: 100%|██████████| 9/9 [00:00<00:00, 45.73it/s, loss=1.1] \n"
     ]
    },
    {
     "name": "stdout",
     "output_type": "stream",
     "text": [
      "Epoch [1443/3000]: Train loss: 1.9791,             Valid loss: 1.7630\n"
     ]
    },
    {
     "name": "stderr",
     "output_type": "stream",
     "text": [
      "epoch [1444/3000]: 100%|██████████| 9/9 [00:00<00:00, 34.81it/s, loss=1.1] \n"
     ]
    },
    {
     "name": "stdout",
     "output_type": "stream",
     "text": [
      "Epoch [1444/3000]: Train loss: 1.9944,             Valid loss: 2.1032\n"
     ]
    },
    {
     "name": "stderr",
     "output_type": "stream",
     "text": [
      "epoch [1445/3000]: 100%|██████████| 9/9 [00:00<00:00, 44.51it/s, loss=1.09]\n"
     ]
    },
    {
     "name": "stdout",
     "output_type": "stream",
     "text": [
      "Epoch [1445/3000]: Train loss: 1.9895,             Valid loss: 1.8428\n"
     ]
    },
    {
     "name": "stderr",
     "output_type": "stream",
     "text": [
      "epoch [1446/3000]: 100%|██████████| 9/9 [00:00<00:00, 49.75it/s, loss=1.09]\n"
     ]
    },
    {
     "name": "stdout",
     "output_type": "stream",
     "text": [
      "Epoch [1446/3000]: Train loss: 1.9833,             Valid loss: 2.0933\n"
     ]
    },
    {
     "name": "stderr",
     "output_type": "stream",
     "text": [
      "epoch [1447/3000]: 100%|██████████| 9/9 [00:00<00:00, 64.27it/s, loss=1.1] \n"
     ]
    },
    {
     "name": "stdout",
     "output_type": "stream",
     "text": [
      "Epoch [1447/3000]: Train loss: 1.9811,             Valid loss: 1.7546\n"
     ]
    },
    {
     "name": "stderr",
     "output_type": "stream",
     "text": [
      "epoch [1448/3000]: 100%|██████████| 9/9 [00:00<00:00, 58.67it/s, loss=1.1] \n"
     ]
    },
    {
     "name": "stdout",
     "output_type": "stream",
     "text": [
      "Epoch [1448/3000]: Train loss: 1.9836,             Valid loss: 1.8113\n"
     ]
    },
    {
     "name": "stderr",
     "output_type": "stream",
     "text": [
      "epoch [1449/3000]: 100%|██████████| 9/9 [00:00<00:00, 59.45it/s, loss=1.1] \n"
     ]
    },
    {
     "name": "stdout",
     "output_type": "stream",
     "text": [
      "Epoch [1449/3000]: Train loss: 1.9903,             Valid loss: 1.7933\n"
     ]
    },
    {
     "name": "stderr",
     "output_type": "stream",
     "text": [
      "epoch [1450/3000]: 100%|██████████| 9/9 [00:00<00:00, 79.54it/s, loss=1.1]\n"
     ]
    },
    {
     "name": "stdout",
     "output_type": "stream",
     "text": [
      "Epoch [1450/3000]: Train loss: 1.9928,             Valid loss: 1.9136\n"
     ]
    },
    {
     "name": "stderr",
     "output_type": "stream",
     "text": [
      "epoch [1451/3000]: 100%|██████████| 9/9 [00:00<00:00, 80.32it/s, loss=1.1] \n"
     ]
    },
    {
     "name": "stdout",
     "output_type": "stream",
     "text": [
      "Epoch [1451/3000]: Train loss: 1.9882,             Valid loss: 2.1280\n"
     ]
    },
    {
     "name": "stderr",
     "output_type": "stream",
     "text": [
      "epoch [1452/3000]: 100%|██████████| 9/9 [00:00<00:00, 60.81it/s, loss=1.1] \n"
     ]
    },
    {
     "name": "stdout",
     "output_type": "stream",
     "text": [
      "Epoch [1452/3000]: Train loss: 1.9877,             Valid loss: 1.9672\n"
     ]
    },
    {
     "name": "stderr",
     "output_type": "stream",
     "text": [
      "epoch [1453/3000]: 100%|██████████| 9/9 [00:00<00:00, 84.28it/s, loss=1.1]\n"
     ]
    },
    {
     "name": "stdout",
     "output_type": "stream",
     "text": [
      "Epoch [1453/3000]: Train loss: 1.9933,             Valid loss: 2.1745\n"
     ]
    },
    {
     "name": "stderr",
     "output_type": "stream",
     "text": [
      "epoch [1454/3000]: 100%|██████████| 9/9 [00:00<00:00, 86.10it/s, loss=1.1]\n"
     ]
    },
    {
     "name": "stdout",
     "output_type": "stream",
     "text": [
      "Epoch [1454/3000]: Train loss: 1.9912,             Valid loss: 1.7462\n"
     ]
    },
    {
     "name": "stderr",
     "output_type": "stream",
     "text": [
      "epoch [1455/3000]: 100%|██████████| 9/9 [00:00<00:00, 94.61it/s, loss=1.1]\n"
     ]
    },
    {
     "name": "stdout",
     "output_type": "stream",
     "text": [
      "Epoch [1455/3000]: Train loss: 1.9798,             Valid loss: 1.8761\n"
     ]
    },
    {
     "name": "stderr",
     "output_type": "stream",
     "text": [
      "epoch [1456/3000]: 100%|██████████| 9/9 [00:00<00:00, 93.74it/s, loss=1.11]\n"
     ]
    },
    {
     "name": "stdout",
     "output_type": "stream",
     "text": [
      "Epoch [1456/3000]: Train loss: 1.9915,             Valid loss: 2.2183\n"
     ]
    },
    {
     "name": "stderr",
     "output_type": "stream",
     "text": [
      "epoch [1457/3000]: 100%|██████████| 9/9 [00:00<00:00, 83.06it/s, loss=1.1]\n"
     ]
    },
    {
     "name": "stdout",
     "output_type": "stream",
     "text": [
      "Epoch [1457/3000]: Train loss: 1.9910,             Valid loss: 1.8070\n"
     ]
    },
    {
     "name": "stderr",
     "output_type": "stream",
     "text": [
      "epoch [1458/3000]: 100%|██████████| 9/9 [00:00<00:00, 91.33it/s, loss=1.1]\n"
     ]
    },
    {
     "name": "stdout",
     "output_type": "stream",
     "text": [
      "Epoch [1458/3000]: Train loss: 1.9848,             Valid loss: 1.7816\n"
     ]
    },
    {
     "name": "stderr",
     "output_type": "stream",
     "text": [
      "epoch [1459/3000]: 100%|██████████| 9/9 [00:00<00:00, 91.17it/s, loss=1.11]\n"
     ]
    },
    {
     "name": "stdout",
     "output_type": "stream",
     "text": [
      "Epoch [1459/3000]: Train loss: 1.9949,             Valid loss: 2.0681\n"
     ]
    },
    {
     "name": "stderr",
     "output_type": "stream",
     "text": [
      "epoch [1460/3000]: 100%|██████████| 9/9 [00:00<00:00, 81.70it/s, loss=1.1]\n"
     ]
    },
    {
     "name": "stdout",
     "output_type": "stream",
     "text": [
      "Epoch [1460/3000]: Train loss: 1.9975,             Valid loss: 1.8533\n"
     ]
    },
    {
     "name": "stderr",
     "output_type": "stream",
     "text": [
      "epoch [1461/3000]: 100%|██████████| 9/9 [00:00<00:00, 96.08it/s, loss=1.1]\n"
     ]
    },
    {
     "name": "stdout",
     "output_type": "stream",
     "text": [
      "Epoch [1461/3000]: Train loss: 1.9871,             Valid loss: 1.8790\n"
     ]
    },
    {
     "name": "stderr",
     "output_type": "stream",
     "text": [
      "epoch [1462/3000]: 100%|██████████| 9/9 [00:00<00:00, 91.91it/s, loss=1.11]\n"
     ]
    },
    {
     "name": "stdout",
     "output_type": "stream",
     "text": [
      "Epoch [1462/3000]: Train loss: 1.9911,             Valid loss: 1.9417\n"
     ]
    },
    {
     "name": "stderr",
     "output_type": "stream",
     "text": [
      "epoch [1463/3000]: 100%|██████████| 9/9 [00:00<00:00, 76.13it/s, loss=1.11]\n"
     ]
    },
    {
     "name": "stdout",
     "output_type": "stream",
     "text": [
      "Epoch [1463/3000]: Train loss: 1.9954,             Valid loss: 1.9695\n"
     ]
    },
    {
     "name": "stderr",
     "output_type": "stream",
     "text": [
      "epoch [1464/3000]: 100%|██████████| 9/9 [00:00<00:00, 87.60it/s, loss=1.11]\n"
     ]
    },
    {
     "name": "stdout",
     "output_type": "stream",
     "text": [
      "Epoch [1464/3000]: Train loss: 1.9880,             Valid loss: 1.7277\n"
     ]
    },
    {
     "name": "stderr",
     "output_type": "stream",
     "text": [
      "epoch [1465/3000]: 100%|██████████| 9/9 [00:00<00:00, 83.32it/s, loss=1.11]\n"
     ]
    },
    {
     "name": "stdout",
     "output_type": "stream",
     "text": [
      "Epoch [1465/3000]: Train loss: 1.9947,             Valid loss: 2.0267\n"
     ]
    },
    {
     "name": "stderr",
     "output_type": "stream",
     "text": [
      "epoch [1466/3000]: 100%|██████████| 9/9 [00:00<00:00, 99.86it/s, loss=1.11]\n"
     ]
    },
    {
     "name": "stdout",
     "output_type": "stream",
     "text": [
      "Epoch [1466/3000]: Train loss: 2.0007,             Valid loss: 2.0197\n"
     ]
    },
    {
     "name": "stderr",
     "output_type": "stream",
     "text": [
      "epoch [1467/3000]: 100%|██████████| 9/9 [00:00<00:00, 90.10it/s, loss=1.11]\n"
     ]
    },
    {
     "name": "stdout",
     "output_type": "stream",
     "text": [
      "Epoch [1467/3000]: Train loss: 1.9918,             Valid loss: 1.9627\n"
     ]
    },
    {
     "name": "stderr",
     "output_type": "stream",
     "text": [
      "epoch [1468/3000]: 100%|██████████| 9/9 [00:00<00:00, 85.71it/s, loss=1.11]\n"
     ]
    },
    {
     "name": "stdout",
     "output_type": "stream",
     "text": [
      "Epoch [1468/3000]: Train loss: 1.9951,             Valid loss: 1.7252\n"
     ]
    },
    {
     "name": "stderr",
     "output_type": "stream",
     "text": [
      "epoch [1469/3000]: 100%|██████████| 9/9 [00:00<00:00, 92.78it/s, loss=1.11]\n"
     ]
    },
    {
     "name": "stdout",
     "output_type": "stream",
     "text": [
      "Epoch [1469/3000]: Train loss: 1.9944,             Valid loss: 1.8829\n"
     ]
    },
    {
     "name": "stderr",
     "output_type": "stream",
     "text": [
      "epoch [1470/3000]: 100%|██████████| 9/9 [00:00<00:00, 89.78it/s, loss=1.11]\n"
     ]
    },
    {
     "name": "stdout",
     "output_type": "stream",
     "text": [
      "Epoch [1470/3000]: Train loss: 1.9982,             Valid loss: 2.1087\n"
     ]
    },
    {
     "name": "stderr",
     "output_type": "stream",
     "text": [
      "epoch [1471/3000]: 100%|██████████| 9/9 [00:00<00:00, 88.30it/s, loss=1.11]\n"
     ]
    },
    {
     "name": "stdout",
     "output_type": "stream",
     "text": [
      "Epoch [1471/3000]: Train loss: 1.9960,             Valid loss: 1.5758\n"
     ]
    },
    {
     "name": "stderr",
     "output_type": "stream",
     "text": [
      "epoch [1472/3000]: 100%|██████████| 9/9 [00:00<00:00, 82.81it/s, loss=1.12]\n"
     ]
    },
    {
     "name": "stdout",
     "output_type": "stream",
     "text": [
      "Epoch [1472/3000]: Train loss: 1.9903,             Valid loss: 2.0026\n"
     ]
    },
    {
     "name": "stderr",
     "output_type": "stream",
     "text": [
      "epoch [1473/3000]: 100%|██████████| 9/9 [00:00<00:00, 81.98it/s, loss=1.12]\n"
     ]
    },
    {
     "name": "stdout",
     "output_type": "stream",
     "text": [
      "Epoch [1473/3000]: Train loss: 1.9929,             Valid loss: 1.9669\n"
     ]
    },
    {
     "name": "stderr",
     "output_type": "stream",
     "text": [
      "epoch [1474/3000]: 100%|██████████| 9/9 [00:00<00:00, 85.89it/s, loss=1.12]\n"
     ]
    },
    {
     "name": "stdout",
     "output_type": "stream",
     "text": [
      "Epoch [1474/3000]: Train loss: 2.0104,             Valid loss: 2.1936\n"
     ]
    },
    {
     "name": "stderr",
     "output_type": "stream",
     "text": [
      "epoch [1475/3000]: 100%|██████████| 9/9 [00:00<00:00, 87.62it/s, loss=1.13]\n"
     ]
    },
    {
     "name": "stdout",
     "output_type": "stream",
     "text": [
      "Epoch [1475/3000]: Train loss: 1.9964,             Valid loss: 2.0205\n"
     ]
    },
    {
     "name": "stderr",
     "output_type": "stream",
     "text": [
      "epoch [1476/3000]: 100%|██████████| 9/9 [00:00<00:00, 86.36it/s, loss=1.15]\n"
     ]
    },
    {
     "name": "stdout",
     "output_type": "stream",
     "text": [
      "Epoch [1476/3000]: Train loss: 2.0135,             Valid loss: 1.9848\n"
     ]
    },
    {
     "name": "stderr",
     "output_type": "stream",
     "text": [
      "epoch [1477/3000]: 100%|██████████| 9/9 [00:00<00:00, 87.71it/s, loss=1.14]\n"
     ]
    },
    {
     "name": "stdout",
     "output_type": "stream",
     "text": [
      "Epoch [1477/3000]: Train loss: 2.0214,             Valid loss: 1.7431\n"
     ]
    },
    {
     "name": "stderr",
     "output_type": "stream",
     "text": [
      "epoch [1478/3000]: 100%|██████████| 9/9 [00:00<00:00, 87.18it/s, loss=1.14]\n"
     ]
    },
    {
     "name": "stdout",
     "output_type": "stream",
     "text": [
      "Epoch [1478/3000]: Train loss: 2.0110,             Valid loss: 1.7871\n"
     ]
    },
    {
     "name": "stderr",
     "output_type": "stream",
     "text": [
      "epoch [1479/3000]: 100%|██████████| 9/9 [00:00<00:00, 92.58it/s, loss=1.16]\n"
     ]
    },
    {
     "name": "stdout",
     "output_type": "stream",
     "text": [
      "Epoch [1479/3000]: Train loss: 2.0102,             Valid loss: 2.1645\n"
     ]
    },
    {
     "name": "stderr",
     "output_type": "stream",
     "text": [
      "epoch [1480/3000]: 100%|██████████| 9/9 [00:00<00:00, 75.81it/s, loss=1.16]\n"
     ]
    },
    {
     "name": "stdout",
     "output_type": "stream",
     "text": [
      "Epoch [1480/3000]: Train loss: 2.0352,             Valid loss: 1.8141\n"
     ]
    },
    {
     "name": "stderr",
     "output_type": "stream",
     "text": [
      "epoch [1481/3000]: 100%|██████████| 9/9 [00:00<00:00, 75.85it/s, loss=1.17]\n"
     ]
    },
    {
     "name": "stdout",
     "output_type": "stream",
     "text": [
      "Epoch [1481/3000]: Train loss: 2.0223,             Valid loss: 2.3877\n"
     ]
    },
    {
     "name": "stderr",
     "output_type": "stream",
     "text": [
      "epoch [1482/3000]: 100%|██████████| 9/9 [00:00<00:00, 73.28it/s, loss=1.18]\n"
     ]
    },
    {
     "name": "stdout",
     "output_type": "stream",
     "text": [
      "Epoch [1482/3000]: Train loss: 2.0400,             Valid loss: 1.9630\n"
     ]
    },
    {
     "name": "stderr",
     "output_type": "stream",
     "text": [
      "epoch [1483/3000]: 100%|██████████| 9/9 [00:00<00:00, 85.45it/s, loss=1.22]\n"
     ]
    },
    {
     "name": "stdout",
     "output_type": "stream",
     "text": [
      "Epoch [1483/3000]: Train loss: 2.0262,             Valid loss: 1.9760\n"
     ]
    },
    {
     "name": "stderr",
     "output_type": "stream",
     "text": [
      "epoch [1484/3000]: 100%|██████████| 9/9 [00:00<00:00, 74.46it/s, loss=1.26]\n"
     ]
    },
    {
     "name": "stdout",
     "output_type": "stream",
     "text": [
      "Epoch [1484/3000]: Train loss: 2.0614,             Valid loss: 1.8050\n"
     ]
    },
    {
     "name": "stderr",
     "output_type": "stream",
     "text": [
      "epoch [1485/3000]: 100%|██████████| 9/9 [00:00<00:00, 81.62it/s, loss=1.35]\n"
     ]
    },
    {
     "name": "stdout",
     "output_type": "stream",
     "text": [
      "Epoch [1485/3000]: Train loss: 2.0775,             Valid loss: 1.6512\n"
     ]
    },
    {
     "name": "stderr",
     "output_type": "stream",
     "text": [
      "epoch [1486/3000]: 100%|██████████| 9/9 [00:00<00:00, 67.45it/s, loss=1.39]\n"
     ]
    },
    {
     "name": "stdout",
     "output_type": "stream",
     "text": [
      "Epoch [1486/3000]: Train loss: 2.1433,             Valid loss: 1.7146\n"
     ]
    },
    {
     "name": "stderr",
     "output_type": "stream",
     "text": [
      "epoch [1487/3000]: 100%|██████████| 9/9 [00:00<00:00, 74.96it/s, loss=1.5] \n"
     ]
    },
    {
     "name": "stdout",
     "output_type": "stream",
     "text": [
      "Epoch [1487/3000]: Train loss: 2.1524,             Valid loss: 1.9574\n"
     ]
    },
    {
     "name": "stderr",
     "output_type": "stream",
     "text": [
      "epoch [1488/3000]: 100%|██████████| 9/9 [00:00<00:00, 84.88it/s, loss=1.66]\n"
     ]
    },
    {
     "name": "stdout",
     "output_type": "stream",
     "text": [
      "Epoch [1488/3000]: Train loss: 2.2341,             Valid loss: 1.9536\n"
     ]
    },
    {
     "name": "stderr",
     "output_type": "stream",
     "text": [
      "epoch [1489/3000]: 100%|██████████| 9/9 [00:00<00:00, 72.38it/s, loss=2.27]\n"
     ]
    },
    {
     "name": "stdout",
     "output_type": "stream",
     "text": [
      "Epoch [1489/3000]: Train loss: 2.3478,             Valid loss: 2.3920\n"
     ]
    },
    {
     "name": "stderr",
     "output_type": "stream",
     "text": [
      "epoch [1490/3000]: 100%|██████████| 9/9 [00:00<00:00, 89.42it/s, loss=4.01]\n"
     ]
    },
    {
     "name": "stdout",
     "output_type": "stream",
     "text": [
      "Epoch [1490/3000]: Train loss: 3.2697,             Valid loss: 5.6098\n"
     ]
    },
    {
     "name": "stderr",
     "output_type": "stream",
     "text": [
      "epoch [1491/3000]: 100%|██████████| 9/9 [00:00<00:00, 73.83it/s, loss=3.56]\n"
     ]
    },
    {
     "name": "stdout",
     "output_type": "stream",
     "text": [
      "Epoch [1491/3000]: Train loss: 4.0741,             Valid loss: 3.1415\n"
     ]
    },
    {
     "name": "stderr",
     "output_type": "stream",
     "text": [
      "epoch [1492/3000]: 100%|██████████| 9/9 [00:00<00:00, 100.36it/s, loss=1.25]\n"
     ]
    },
    {
     "name": "stdout",
     "output_type": "stream",
     "text": [
      "Epoch [1492/3000]: Train loss: 2.2260,             Valid loss: 2.6124\n"
     ]
    },
    {
     "name": "stderr",
     "output_type": "stream",
     "text": [
      "epoch [1493/3000]: 100%|██████████| 9/9 [00:00<00:00, 75.46it/s, loss=1.19]\n"
     ]
    },
    {
     "name": "stdout",
     "output_type": "stream",
     "text": [
      "Epoch [1493/3000]: Train loss: 1.7924,             Valid loss: 2.1328\n"
     ]
    },
    {
     "name": "stderr",
     "output_type": "stream",
     "text": [
      "epoch [1494/3000]: 100%|██████████| 9/9 [00:00<00:00, 76.41it/s, loss=1.71]\n"
     ]
    },
    {
     "name": "stdout",
     "output_type": "stream",
     "text": [
      "Epoch [1494/3000]: Train loss: 2.0613,             Valid loss: 1.7748\n"
     ]
    },
    {
     "name": "stderr",
     "output_type": "stream",
     "text": [
      "epoch [1495/3000]: 100%|██████████| 9/9 [00:00<00:00, 71.82it/s, loss=2.92]\n"
     ]
    },
    {
     "name": "stdout",
     "output_type": "stream",
     "text": [
      "Epoch [1495/3000]: Train loss: 2.5497,             Valid loss: 2.8982\n"
     ]
    },
    {
     "name": "stderr",
     "output_type": "stream",
     "text": [
      "epoch [1496/3000]: 100%|██████████| 9/9 [00:00<00:00, 67.63it/s, loss=1.47]\n"
     ]
    },
    {
     "name": "stdout",
     "output_type": "stream",
     "text": [
      "Epoch [1496/3000]: Train loss: 3.8280,             Valid loss: 7.1085\n"
     ]
    },
    {
     "name": "stderr",
     "output_type": "stream",
     "text": [
      "epoch [1497/3000]: 100%|██████████| 9/9 [00:00<00:00, 72.36it/s, loss=1.56]\n"
     ]
    },
    {
     "name": "stdout",
     "output_type": "stream",
     "text": [
      "Epoch [1497/3000]: Train loss: 3.1515,             Valid loss: 2.2294\n"
     ]
    },
    {
     "name": "stderr",
     "output_type": "stream",
     "text": [
      "epoch [1498/3000]: 100%|██████████| 9/9 [00:00<00:00, 69.18it/s, loss=1.11]\n"
     ]
    },
    {
     "name": "stdout",
     "output_type": "stream",
     "text": [
      "Epoch [1498/3000]: Train loss: 1.9775,             Valid loss: 2.0691\n"
     ]
    },
    {
     "name": "stderr",
     "output_type": "stream",
     "text": [
      "epoch [1499/3000]: 100%|██████████| 9/9 [00:00<00:00, 70.90it/s, loss=1.13]\n"
     ]
    },
    {
     "name": "stdout",
     "output_type": "stream",
     "text": [
      "Epoch [1499/3000]: Train loss: 2.0212,             Valid loss: 1.9612\n"
     ]
    },
    {
     "name": "stderr",
     "output_type": "stream",
     "text": [
      "epoch [1500/3000]: 100%|██████████| 9/9 [00:00<00:00, 74.76it/s, loss=1.53]\n"
     ]
    },
    {
     "name": "stdout",
     "output_type": "stream",
     "text": [
      "Epoch [1500/3000]: Train loss: 1.9503,             Valid loss: 1.9626\n"
     ]
    },
    {
     "name": "stderr",
     "output_type": "stream",
     "text": [
      "epoch [1501/3000]: 100%|██████████| 9/9 [00:00<00:00, 36.99it/s, loss=2.81]\n"
     ]
    },
    {
     "name": "stdout",
     "output_type": "stream",
     "text": [
      "Epoch [1501/3000]: Train loss: 2.4592,             Valid loss: 2.4879\n"
     ]
    },
    {
     "name": "stderr",
     "output_type": "stream",
     "text": [
      "epoch [1502/3000]: 100%|██████████| 9/9 [00:00<00:00, 34.45it/s, loss=1.56]\n"
     ]
    },
    {
     "name": "stdout",
     "output_type": "stream",
     "text": [
      "Epoch [1502/3000]: Train loss: 3.7812,             Valid loss: 6.7816\n"
     ]
    },
    {
     "name": "stderr",
     "output_type": "stream",
     "text": [
      "epoch [1503/3000]: 100%|██████████| 9/9 [00:00<00:00, 59.12it/s, loss=1.48]\n"
     ]
    },
    {
     "name": "stdout",
     "output_type": "stream",
     "text": [
      "Epoch [1503/3000]: Train loss: 3.3803,             Valid loss: 2.4055\n"
     ]
    },
    {
     "name": "stderr",
     "output_type": "stream",
     "text": [
      "epoch [1504/3000]: 100%|██████████| 9/9 [00:00<00:00, 52.89it/s, loss=1.17]\n"
     ]
    },
    {
     "name": "stdout",
     "output_type": "stream",
     "text": [
      "Epoch [1504/3000]: Train loss: 2.2019,             Valid loss: 2.0120\n"
     ]
    },
    {
     "name": "stderr",
     "output_type": "stream",
     "text": [
      "epoch [1505/3000]: 100%|██████████| 9/9 [00:00<00:00, 55.73it/s, loss=1.12]\n"
     ]
    },
    {
     "name": "stdout",
     "output_type": "stream",
     "text": [
      "Epoch [1505/3000]: Train loss: 1.9253,             Valid loss: 1.9199\n"
     ]
    },
    {
     "name": "stderr",
     "output_type": "stream",
     "text": [
      "epoch [1506/3000]: 100%|██████████| 9/9 [00:00<00:00, 66.49it/s, loss=1.22]\n"
     ]
    },
    {
     "name": "stdout",
     "output_type": "stream",
     "text": [
      "Epoch [1506/3000]: Train loss: 2.0481,             Valid loss: 1.8633\n"
     ]
    },
    {
     "name": "stderr",
     "output_type": "stream",
     "text": [
      "epoch [1507/3000]: 100%|██████████| 9/9 [00:00<00:00, 68.36it/s, loss=1.6] \n"
     ]
    },
    {
     "name": "stdout",
     "output_type": "stream",
     "text": [
      "Epoch [1507/3000]: Train loss: 2.0803,             Valid loss: 2.1977\n"
     ]
    },
    {
     "name": "stderr",
     "output_type": "stream",
     "text": [
      "epoch [1508/3000]: 100%|██████████| 9/9 [00:00<00:00, 76.23it/s, loss=2.32]\n"
     ]
    },
    {
     "name": "stdout",
     "output_type": "stream",
     "text": [
      "Epoch [1508/3000]: Train loss: 2.4966,             Valid loss: 3.8663\n"
     ]
    },
    {
     "name": "stderr",
     "output_type": "stream",
     "text": [
      "epoch [1509/3000]: 100%|██████████| 9/9 [00:00<00:00, 78.10it/s, loss=1.25]\n"
     ]
    },
    {
     "name": "stdout",
     "output_type": "stream",
     "text": [
      "Epoch [1509/3000]: Train loss: 2.8828,             Valid loss: 4.1937\n"
     ]
    },
    {
     "name": "stderr",
     "output_type": "stream",
     "text": [
      "epoch [1510/3000]: 100%|██████████| 9/9 [00:00<00:00, 77.90it/s, loss=1.18]\n"
     ]
    },
    {
     "name": "stdout",
     "output_type": "stream",
     "text": [
      "Epoch [1510/3000]: Train loss: 2.1211,             Valid loss: 2.8840\n"
     ]
    },
    {
     "name": "stderr",
     "output_type": "stream",
     "text": [
      "epoch [1511/3000]: 100%|██████████| 9/9 [00:00<00:00, 75.91it/s, loss=1.38]\n"
     ]
    },
    {
     "name": "stdout",
     "output_type": "stream",
     "text": [
      "Epoch [1511/3000]: Train loss: 1.9139,             Valid loss: 2.1814\n"
     ]
    },
    {
     "name": "stderr",
     "output_type": "stream",
     "text": [
      "epoch [1512/3000]: 100%|██████████| 9/9 [00:00<00:00, 90.29it/s, loss=2.37]\n"
     ]
    },
    {
     "name": "stdout",
     "output_type": "stream",
     "text": [
      "Epoch [1512/3000]: Train loss: 2.3812,             Valid loss: 2.2925\n"
     ]
    },
    {
     "name": "stderr",
     "output_type": "stream",
     "text": [
      "epoch [1513/3000]: 100%|██████████| 9/9 [00:00<00:00, 81.81it/s, loss=2.7]\n"
     ]
    },
    {
     "name": "stdout",
     "output_type": "stream",
     "text": [
      "Epoch [1513/3000]: Train loss: 3.6019,             Valid loss: 7.4430\n"
     ]
    },
    {
     "name": "stderr",
     "output_type": "stream",
     "text": [
      "epoch [1514/3000]: 100%|██████████| 9/9 [00:00<00:00, 79.77it/s, loss=1.82]\n"
     ]
    },
    {
     "name": "stdout",
     "output_type": "stream",
     "text": [
      "Epoch [1514/3000]: Train loss: 3.4670,             Valid loss: 1.9294\n"
     ]
    },
    {
     "name": "stderr",
     "output_type": "stream",
     "text": [
      "epoch [1515/3000]: 100%|██████████| 9/9 [00:00<00:00, 84.82it/s, loss=1.12]\n"
     ]
    },
    {
     "name": "stdout",
     "output_type": "stream",
     "text": [
      "Epoch [1515/3000]: Train loss: 2.0256,             Valid loss: 2.0846\n"
     ]
    },
    {
     "name": "stderr",
     "output_type": "stream",
     "text": [
      "epoch [1516/3000]: 100%|██████████| 9/9 [00:00<00:00, 88.21it/s, loss=1.13]\n"
     ]
    },
    {
     "name": "stdout",
     "output_type": "stream",
     "text": [
      "Epoch [1516/3000]: Train loss: 1.9312,             Valid loss: 1.9924\n"
     ]
    },
    {
     "name": "stderr",
     "output_type": "stream",
     "text": [
      "epoch [1517/3000]: 100%|██████████| 9/9 [00:00<00:00, 84.33it/s, loss=1.24]\n"
     ]
    },
    {
     "name": "stdout",
     "output_type": "stream",
     "text": [
      "Epoch [1517/3000]: Train loss: 2.0428,             Valid loss: 1.6767\n"
     ]
    },
    {
     "name": "stderr",
     "output_type": "stream",
     "text": [
      "epoch [1518/3000]: 100%|██████████| 9/9 [00:00<00:00, 79.94it/s, loss=1.74]\n"
     ]
    },
    {
     "name": "stdout",
     "output_type": "stream",
     "text": [
      "Epoch [1518/3000]: Train loss: 2.0877,             Valid loss: 1.8417\n"
     ]
    },
    {
     "name": "stderr",
     "output_type": "stream",
     "text": [
      "epoch [1519/3000]: 100%|██████████| 9/9 [00:00<00:00, 97.25it/s, loss=2.39]\n"
     ]
    },
    {
     "name": "stdout",
     "output_type": "stream",
     "text": [
      "Epoch [1519/3000]: Train loss: 2.6334,             Valid loss: 5.4069\n"
     ]
    },
    {
     "name": "stderr",
     "output_type": "stream",
     "text": [
      "epoch [1520/3000]: 100%|██████████| 9/9 [00:00<00:00, 84.34it/s, loss=2.19]\n"
     ]
    },
    {
     "name": "stdout",
     "output_type": "stream",
     "text": [
      "Epoch [1520/3000]: Train loss: 2.9159,             Valid loss: 2.5026\n"
     ]
    },
    {
     "name": "stderr",
     "output_type": "stream",
     "text": [
      "epoch [1521/3000]: 100%|██████████| 9/9 [00:00<00:00, 84.89it/s, loss=1.12]\n"
     ]
    },
    {
     "name": "stdout",
     "output_type": "stream",
     "text": [
      "Epoch [1521/3000]: Train loss: 1.8502,             Valid loss: 2.0573\n"
     ]
    },
    {
     "name": "stderr",
     "output_type": "stream",
     "text": [
      "epoch [1522/3000]: 100%|██████████| 9/9 [00:00<00:00, 84.97it/s, loss=1.31]\n"
     ]
    },
    {
     "name": "stdout",
     "output_type": "stream",
     "text": [
      "Epoch [1522/3000]: Train loss: 1.8759,             Valid loss: 1.9400\n"
     ]
    },
    {
     "name": "stderr",
     "output_type": "stream",
     "text": [
      "epoch [1523/3000]: 100%|██████████| 9/9 [00:00<00:00, 58.05it/s, loss=2.03]\n"
     ]
    },
    {
     "name": "stdout",
     "output_type": "stream",
     "text": [
      "Epoch [1523/3000]: Train loss: 2.1407,             Valid loss: 2.6734\n"
     ]
    },
    {
     "name": "stderr",
     "output_type": "stream",
     "text": [
      "epoch [1524/3000]: 100%|██████████| 9/9 [00:00<00:00, 71.70it/s, loss=2.44]\n"
     ]
    },
    {
     "name": "stdout",
     "output_type": "stream",
     "text": [
      "Epoch [1524/3000]: Train loss: 3.0129,             Valid loss: 4.6262\n"
     ]
    },
    {
     "name": "stderr",
     "output_type": "stream",
     "text": [
      "epoch [1525/3000]: 100%|██████████| 9/9 [00:00<00:00, 82.82it/s, loss=2.07]\n"
     ]
    },
    {
     "name": "stdout",
     "output_type": "stream",
     "text": [
      "Epoch [1525/3000]: Train loss: 2.8962,             Valid loss: 2.6653\n"
     ]
    },
    {
     "name": "stderr",
     "output_type": "stream",
     "text": [
      "epoch [1526/3000]: 100%|██████████| 9/9 [00:00<00:00, 58.88it/s, loss=1.1] \n"
     ]
    },
    {
     "name": "stdout",
     "output_type": "stream",
     "text": [
      "Epoch [1526/3000]: Train loss: 1.8612,             Valid loss: 1.9645\n"
     ]
    },
    {
     "name": "stderr",
     "output_type": "stream",
     "text": [
      "epoch [1527/3000]: 100%|██████████| 9/9 [00:00<00:00, 77.63it/s, loss=1.42]\n"
     ]
    },
    {
     "name": "stdout",
     "output_type": "stream",
     "text": [
      "Epoch [1527/3000]: Train loss: 1.8889,             Valid loss: 1.6371\n"
     ]
    },
    {
     "name": "stderr",
     "output_type": "stream",
     "text": [
      "epoch [1528/3000]: 100%|██████████| 9/9 [00:00<00:00, 80.78it/s, loss=2.19]\n"
     ]
    },
    {
     "name": "stdout",
     "output_type": "stream",
     "text": [
      "Epoch [1528/3000]: Train loss: 2.2484,             Valid loss: 2.6241\n"
     ]
    },
    {
     "name": "stderr",
     "output_type": "stream",
     "text": [
      "epoch [1529/3000]: 100%|██████████| 9/9 [00:00<00:00, 95.17it/s, loss=2.11]\n"
     ]
    },
    {
     "name": "stdout",
     "output_type": "stream",
     "text": [
      "Epoch [1529/3000]: Train loss: 3.1976,             Valid loss: 6.0623\n"
     ]
    },
    {
     "name": "stderr",
     "output_type": "stream",
     "text": [
      "epoch [1530/3000]: 100%|██████████| 9/9 [00:00<00:00, 90.24it/s, loss=1.91]\n"
     ]
    },
    {
     "name": "stdout",
     "output_type": "stream",
     "text": [
      "Epoch [1530/3000]: Train loss: 2.8802,             Valid loss: 2.3334\n"
     ]
    },
    {
     "name": "stderr",
     "output_type": "stream",
     "text": [
      "epoch [1531/3000]: 100%|██████████| 9/9 [00:00<00:00, 84.00it/s, loss=1.11]\n"
     ]
    },
    {
     "name": "stdout",
     "output_type": "stream",
     "text": [
      "Epoch [1531/3000]: Train loss: 1.8371,             Valid loss: 1.9277\n"
     ]
    },
    {
     "name": "stderr",
     "output_type": "stream",
     "text": [
      "epoch [1532/3000]: 100%|██████████| 9/9 [00:00<00:00, 87.28it/s, loss=1.46]\n"
     ]
    },
    {
     "name": "stdout",
     "output_type": "stream",
     "text": [
      "Epoch [1532/3000]: Train loss: 1.9153,             Valid loss: 2.0829\n"
     ]
    },
    {
     "name": "stderr",
     "output_type": "stream",
     "text": [
      "epoch [1533/3000]: 100%|██████████| 9/9 [00:00<00:00, 82.18it/s, loss=2.18]\n"
     ]
    },
    {
     "name": "stdout",
     "output_type": "stream",
     "text": [
      "Epoch [1533/3000]: Train loss: 2.2526,             Valid loss: 2.7517\n"
     ]
    },
    {
     "name": "stderr",
     "output_type": "stream",
     "text": [
      "epoch [1534/3000]: 100%|██████████| 9/9 [00:00<00:00, 81.94it/s, loss=2.03]\n"
     ]
    },
    {
     "name": "stdout",
     "output_type": "stream",
     "text": [
      "Epoch [1534/3000]: Train loss: 3.1153,             Valid loss: 6.2257\n"
     ]
    },
    {
     "name": "stderr",
     "output_type": "stream",
     "text": [
      "epoch [1535/3000]: 100%|██████████| 9/9 [00:00<00:00, 82.11it/s, loss=1.87]\n"
     ]
    },
    {
     "name": "stdout",
     "output_type": "stream",
     "text": [
      "Epoch [1535/3000]: Train loss: 2.8070,             Valid loss: 2.3234\n"
     ]
    },
    {
     "name": "stderr",
     "output_type": "stream",
     "text": [
      "epoch [1536/3000]: 100%|██████████| 9/9 [00:00<00:00, 74.00it/s, loss=1.14]\n"
     ]
    },
    {
     "name": "stdout",
     "output_type": "stream",
     "text": [
      "Epoch [1536/3000]: Train loss: 1.8312,             Valid loss: 1.6570\n"
     ]
    },
    {
     "name": "stderr",
     "output_type": "stream",
     "text": [
      "epoch [1537/3000]: 100%|██████████| 9/9 [00:00<00:00, 77.20it/s, loss=1.54]\n"
     ]
    },
    {
     "name": "stdout",
     "output_type": "stream",
     "text": [
      "Epoch [1537/3000]: Train loss: 1.9495,             Valid loss: 2.1190\n"
     ]
    },
    {
     "name": "stderr",
     "output_type": "stream",
     "text": [
      "epoch [1538/3000]: 100%|██████████| 9/9 [00:00<00:00, 75.18it/s, loss=2.12]\n"
     ]
    },
    {
     "name": "stdout",
     "output_type": "stream",
     "text": [
      "Epoch [1538/3000]: Train loss: 2.3171,             Valid loss: 3.3447\n"
     ]
    },
    {
     "name": "stderr",
     "output_type": "stream",
     "text": [
      "epoch [1539/3000]: 100%|██████████| 9/9 [00:00<00:00, 46.17it/s, loss=1.58]\n"
     ]
    },
    {
     "name": "stdout",
     "output_type": "stream",
     "text": [
      "Epoch [1539/3000]: Train loss: 2.9731,             Valid loss: 4.8169\n"
     ]
    },
    {
     "name": "stderr",
     "output_type": "stream",
     "text": [
      "epoch [1540/3000]: 100%|██████████| 9/9 [00:00<00:00, 51.23it/s, loss=1.55]\n"
     ]
    },
    {
     "name": "stdout",
     "output_type": "stream",
     "text": [
      "Epoch [1540/3000]: Train loss: 2.3941,             Valid loss: 2.5910\n"
     ]
    },
    {
     "name": "stderr",
     "output_type": "stream",
     "text": [
      "epoch [1541/3000]: 100%|██████████| 9/9 [00:00<00:00, 66.18it/s, loss=1.1] \n"
     ]
    },
    {
     "name": "stdout",
     "output_type": "stream",
     "text": [
      "Epoch [1541/3000]: Train loss: 1.7633,             Valid loss: 2.3365\n"
     ]
    },
    {
     "name": "stderr",
     "output_type": "stream",
     "text": [
      "epoch [1542/3000]: 100%|██████████| 9/9 [00:00<00:00, 40.21it/s, loss=1.64]\n"
     ]
    },
    {
     "name": "stdout",
     "output_type": "stream",
     "text": [
      "Epoch [1542/3000]: Train loss: 1.9442,             Valid loss: 2.7060\n"
     ]
    },
    {
     "name": "stderr",
     "output_type": "stream",
     "text": [
      "epoch [1543/3000]: 100%|██████████| 9/9 [00:00<00:00, 48.78it/s, loss=2.21]\n"
     ]
    },
    {
     "name": "stdout",
     "output_type": "stream",
     "text": [
      "Epoch [1543/3000]: Train loss: 2.4882,             Valid loss: 3.1302\n"
     ]
    },
    {
     "name": "stderr",
     "output_type": "stream",
     "text": [
      "epoch [1544/3000]: 100%|██████████| 9/9 [00:00<00:00, 61.83it/s, loss=1.21]\n"
     ]
    },
    {
     "name": "stdout",
     "output_type": "stream",
     "text": [
      "Epoch [1544/3000]: Train loss: 2.8511,             Valid loss: 4.0275\n"
     ]
    },
    {
     "name": "stderr",
     "output_type": "stream",
     "text": [
      "epoch [1545/3000]: 100%|██████████| 9/9 [00:00<00:00, 73.36it/s, loss=1.31]\n"
     ]
    },
    {
     "name": "stdout",
     "output_type": "stream",
     "text": [
      "Epoch [1545/3000]: Train loss: 2.1549,             Valid loss: 2.6932\n"
     ]
    },
    {
     "name": "stderr",
     "output_type": "stream",
     "text": [
      "epoch [1546/3000]: 100%|██████████| 9/9 [00:00<00:00, 78.17it/s, loss=1.16]\n"
     ]
    },
    {
     "name": "stdout",
     "output_type": "stream",
     "text": [
      "Epoch [1546/3000]: Train loss: 1.7354,             Valid loss: 2.1470\n"
     ]
    },
    {
     "name": "stderr",
     "output_type": "stream",
     "text": [
      "epoch [1547/3000]: 100%|██████████| 9/9 [00:00<00:00, 39.78it/s, loss=1.8] \n"
     ]
    },
    {
     "name": "stdout",
     "output_type": "stream",
     "text": [
      "Epoch [1547/3000]: Train loss: 2.0072,             Valid loss: 1.8834\n"
     ]
    },
    {
     "name": "stderr",
     "output_type": "stream",
     "text": [
      "epoch [1548/3000]: 100%|██████████| 9/9 [00:00<00:00, 90.35it/s, loss=2.07]\n"
     ]
    },
    {
     "name": "stdout",
     "output_type": "stream",
     "text": [
      "Epoch [1548/3000]: Train loss: 2.6231,             Valid loss: 3.7964\n"
     ]
    },
    {
     "name": "stderr",
     "output_type": "stream",
     "text": [
      "epoch [1549/3000]: 100%|██████████| 9/9 [00:00<00:00, 82.99it/s, loss=1.26]\n"
     ]
    },
    {
     "name": "stdout",
     "output_type": "stream",
     "text": [
      "Epoch [1549/3000]: Train loss: 2.6158,             Valid loss: 3.8316\n"
     ]
    },
    {
     "name": "stderr",
     "output_type": "stream",
     "text": [
      "epoch [1550/3000]: 100%|██████████| 9/9 [00:00<00:00, 70.83it/s, loss=1.11]\n"
     ]
    },
    {
     "name": "stdout",
     "output_type": "stream",
     "text": [
      "Epoch [1550/3000]: Train loss: 1.9165,             Valid loss: 2.1375\n"
     ]
    },
    {
     "name": "stderr",
     "output_type": "stream",
     "text": [
      "epoch [1551/3000]: 100%|██████████| 9/9 [00:00<00:00, 77.91it/s, loss=1.4] \n"
     ]
    },
    {
     "name": "stdout",
     "output_type": "stream",
     "text": [
      "Epoch [1551/3000]: Train loss: 1.8260,             Valid loss: 2.0839\n"
     ]
    },
    {
     "name": "stderr",
     "output_type": "stream",
     "text": [
      "epoch [1552/3000]: 100%|██████████| 9/9 [00:00<00:00, 58.55it/s, loss=1.96]\n"
     ]
    },
    {
     "name": "stdout",
     "output_type": "stream",
     "text": [
      "Epoch [1552/3000]: Train loss: 2.2242,             Valid loss: 2.7906\n"
     ]
    },
    {
     "name": "stderr",
     "output_type": "stream",
     "text": [
      "epoch [1553/3000]: 100%|██████████| 9/9 [00:00<00:00, 90.41it/s, loss=1.77]\n"
     ]
    },
    {
     "name": "stdout",
     "output_type": "stream",
     "text": [
      "Epoch [1553/3000]: Train loss: 2.7904,             Valid loss: 4.6276\n"
     ]
    },
    {
     "name": "stderr",
     "output_type": "stream",
     "text": [
      "epoch [1554/3000]: 100%|██████████| 9/9 [00:00<00:00, 81.85it/s, loss=1.43]\n"
     ]
    },
    {
     "name": "stdout",
     "output_type": "stream",
     "text": [
      "Epoch [1554/3000]: Train loss: 2.4689,             Valid loss: 3.3608\n"
     ]
    },
    {
     "name": "stderr",
     "output_type": "stream",
     "text": [
      "epoch [1555/3000]: 100%|██████████| 9/9 [00:00<00:00, 71.47it/s, loss=1.09]\n"
     ]
    },
    {
     "name": "stdout",
     "output_type": "stream",
     "text": [
      "Epoch [1555/3000]: Train loss: 1.8251,             Valid loss: 2.4791\n"
     ]
    },
    {
     "name": "stderr",
     "output_type": "stream",
     "text": [
      "epoch [1556/3000]: 100%|██████████| 9/9 [00:00<00:00, 73.31it/s, loss=1.46]\n"
     ]
    },
    {
     "name": "stdout",
     "output_type": "stream",
     "text": [
      "Epoch [1556/3000]: Train loss: 1.8588,             Valid loss: 2.3220\n"
     ]
    },
    {
     "name": "stderr",
     "output_type": "stream",
     "text": [
      "epoch [1557/3000]: 100%|██████████| 9/9 [00:00<00:00, 74.24it/s, loss=1.78]\n"
     ]
    },
    {
     "name": "stdout",
     "output_type": "stream",
     "text": [
      "Epoch [1557/3000]: Train loss: 2.2539,             Valid loss: 2.7027\n"
     ]
    },
    {
     "name": "stderr",
     "output_type": "stream",
     "text": [
      "epoch [1558/3000]: 100%|██████████| 9/9 [00:00<00:00, 73.00it/s, loss=1.46]\n"
     ]
    },
    {
     "name": "stdout",
     "output_type": "stream",
     "text": [
      "Epoch [1558/3000]: Train loss: 2.5810,             Valid loss: 3.4326\n"
     ]
    },
    {
     "name": "stderr",
     "output_type": "stream",
     "text": [
      "epoch [1559/3000]: 100%|██████████| 9/9 [00:00<00:00, 77.25it/s, loss=1.15]\n"
     ]
    },
    {
     "name": "stdout",
     "output_type": "stream",
     "text": [
      "Epoch [1559/3000]: Train loss: 2.2460,             Valid loss: 3.3585\n"
     ]
    },
    {
     "name": "stderr",
     "output_type": "stream",
     "text": [
      "epoch [1560/3000]: 100%|██████████| 9/9 [00:00<00:00, 52.59it/s, loss=1.15]\n"
     ]
    },
    {
     "name": "stdout",
     "output_type": "stream",
     "text": [
      "Epoch [1560/3000]: Train loss: 1.8674,             Valid loss: 2.1975\n"
     ]
    },
    {
     "name": "stderr",
     "output_type": "stream",
     "text": [
      "epoch [1561/3000]: 100%|██████████| 9/9 [00:00<00:00, 46.86it/s, loss=1.73]\n"
     ]
    },
    {
     "name": "stdout",
     "output_type": "stream",
     "text": [
      "Epoch [1561/3000]: Train loss: 2.0577,             Valid loss: 2.4242\n"
     ]
    },
    {
     "name": "stderr",
     "output_type": "stream",
     "text": [
      "epoch [1562/3000]: 100%|██████████| 9/9 [00:00<00:00, 49.21it/s, loss=1.67]\n"
     ]
    },
    {
     "name": "stdout",
     "output_type": "stream",
     "text": [
      "Epoch [1562/3000]: Train loss: 2.4862,             Valid loss: 3.9690\n"
     ]
    },
    {
     "name": "stderr",
     "output_type": "stream",
     "text": [
      "epoch [1563/3000]: 100%|██████████| 9/9 [00:00<00:00, 66.79it/s, loss=1.15]\n"
     ]
    },
    {
     "name": "stdout",
     "output_type": "stream",
     "text": [
      "Epoch [1563/3000]: Train loss: 2.4872,             Valid loss: 3.2589\n"
     ]
    },
    {
     "name": "stderr",
     "output_type": "stream",
     "text": [
      "epoch [1564/3000]: 100%|██████████| 9/9 [00:00<00:00, 63.26it/s, loss=1.09]\n"
     ]
    },
    {
     "name": "stdout",
     "output_type": "stream",
     "text": [
      "Epoch [1564/3000]: Train loss: 2.0378,             Valid loss: 2.6569\n"
     ]
    },
    {
     "name": "stderr",
     "output_type": "stream",
     "text": [
      "epoch [1565/3000]: 100%|██████████| 9/9 [00:00<00:00, 62.00it/s, loss=1.23]\n"
     ]
    },
    {
     "name": "stdout",
     "output_type": "stream",
     "text": [
      "Epoch [1565/3000]: Train loss: 1.8918,             Valid loss: 2.2017\n"
     ]
    },
    {
     "name": "stderr",
     "output_type": "stream",
     "text": [
      "epoch [1566/3000]: 100%|██████████| 9/9 [00:00<00:00, 69.22it/s, loss=1.77]\n"
     ]
    },
    {
     "name": "stdout",
     "output_type": "stream",
     "text": [
      "Epoch [1566/3000]: Train loss: 2.1008,             Valid loss: 2.5848\n"
     ]
    },
    {
     "name": "stderr",
     "output_type": "stream",
     "text": [
      "epoch [1567/3000]: 100%|██████████| 9/9 [00:00<00:00, 76.90it/s, loss=1.59]\n"
     ]
    },
    {
     "name": "stdout",
     "output_type": "stream",
     "text": [
      "Epoch [1567/3000]: Train loss: 2.5539,             Valid loss: 4.0790\n"
     ]
    },
    {
     "name": "stderr",
     "output_type": "stream",
     "text": [
      "epoch [1568/3000]: 100%|██████████| 9/9 [00:00<00:00, 72.70it/s, loss=1.31]\n"
     ]
    },
    {
     "name": "stdout",
     "output_type": "stream",
     "text": [
      "Epoch [1568/3000]: Train loss: 2.3274,             Valid loss: 3.2388\n"
     ]
    },
    {
     "name": "stderr",
     "output_type": "stream",
     "text": [
      "epoch [1569/3000]: 100%|██████████| 9/9 [00:00<00:00, 72.72it/s, loss=1.1] \n"
     ]
    },
    {
     "name": "stdout",
     "output_type": "stream",
     "text": [
      "Epoch [1569/3000]: Train loss: 1.8094,             Valid loss: 2.4702\n"
     ]
    },
    {
     "name": "stderr",
     "output_type": "stream",
     "text": [
      "epoch [1570/3000]: 100%|██████████| 9/9 [00:00<00:00, 58.88it/s, loss=1.49]\n"
     ]
    },
    {
     "name": "stdout",
     "output_type": "stream",
     "text": [
      "Epoch [1570/3000]: Train loss: 1.9204,             Valid loss: 2.3123\n"
     ]
    },
    {
     "name": "stderr",
     "output_type": "stream",
     "text": [
      "epoch [1571/3000]: 100%|██████████| 9/9 [00:00<00:00, 60.18it/s, loss=1.58]\n"
     ]
    },
    {
     "name": "stdout",
     "output_type": "stream",
     "text": [
      "Epoch [1571/3000]: Train loss: 2.2760,             Valid loss: 3.3543\n"
     ]
    },
    {
     "name": "stderr",
     "output_type": "stream",
     "text": [
      "epoch [1572/3000]: 100%|██████████| 9/9 [00:00<00:00, 79.41it/s, loss=1.31]\n"
     ]
    },
    {
     "name": "stdout",
     "output_type": "stream",
     "text": [
      "Epoch [1572/3000]: Train loss: 2.4142,             Valid loss: 3.3231\n"
     ]
    },
    {
     "name": "stderr",
     "output_type": "stream",
     "text": [
      "epoch [1573/3000]: 100%|██████████| 9/9 [00:00<00:00, 65.73it/s, loss=1.1] \n"
     ]
    },
    {
     "name": "stdout",
     "output_type": "stream",
     "text": [
      "Epoch [1573/3000]: Train loss: 2.1774,             Valid loss: 3.2718\n"
     ]
    },
    {
     "name": "stderr",
     "output_type": "stream",
     "text": [
      "epoch [1574/3000]: 100%|██████████| 9/9 [00:00<00:00, 81.11it/s, loss=1.14]\n"
     ]
    },
    {
     "name": "stdout",
     "output_type": "stream",
     "text": [
      "Epoch [1574/3000]: Train loss: 1.9272,             Valid loss: 2.4957\n"
     ]
    },
    {
     "name": "stderr",
     "output_type": "stream",
     "text": [
      "epoch [1575/3000]: 100%|██████████| 9/9 [00:00<00:00, 78.57it/s, loss=1.37]\n"
     ]
    },
    {
     "name": "stdout",
     "output_type": "stream",
     "text": [
      "Epoch [1575/3000]: Train loss: 1.9530,             Valid loss: 2.5980\n"
     ]
    },
    {
     "name": "stderr",
     "output_type": "stream",
     "text": [
      "epoch [1576/3000]: 100%|██████████| 9/9 [00:00<00:00, 86.43it/s, loss=1.47]\n"
     ]
    },
    {
     "name": "stdout",
     "output_type": "stream",
     "text": [
      "Epoch [1576/3000]: Train loss: 2.1855,             Valid loss: 3.1797\n"
     ]
    },
    {
     "name": "stderr",
     "output_type": "stream",
     "text": [
      "epoch [1577/3000]: 100%|██████████| 9/9 [00:00<00:00, 79.65it/s, loss=1.3]\n"
     ]
    },
    {
     "name": "stdout",
     "output_type": "stream",
     "text": [
      "Epoch [1577/3000]: Train loss: 2.3158,             Valid loss: 3.0974\n"
     ]
    },
    {
     "name": "stderr",
     "output_type": "stream",
     "text": [
      "epoch [1578/3000]: 100%|██████████| 9/9 [00:00<00:00, 85.72it/s, loss=1.19]\n"
     ]
    },
    {
     "name": "stdout",
     "output_type": "stream",
     "text": [
      "Epoch [1578/3000]: Train loss: 2.1907,             Valid loss: 3.0397\n"
     ]
    },
    {
     "name": "stderr",
     "output_type": "stream",
     "text": [
      "epoch [1579/3000]: 100%|██████████| 9/9 [00:00<00:00, 90.99it/s, loss=1.2]\n"
     ]
    },
    {
     "name": "stdout",
     "output_type": "stream",
     "text": [
      "Epoch [1579/3000]: Train loss: 2.0560,             Valid loss: 2.9056\n"
     ]
    },
    {
     "name": "stderr",
     "output_type": "stream",
     "text": [
      "epoch [1580/3000]: 100%|██████████| 9/9 [00:00<00:00, 63.01it/s, loss=1.29]\n"
     ]
    },
    {
     "name": "stdout",
     "output_type": "stream",
     "text": [
      "Epoch [1580/3000]: Train loss: 2.0413,             Valid loss: 3.0240\n"
     ]
    },
    {
     "name": "stderr",
     "output_type": "stream",
     "text": [
      "epoch [1581/3000]: 100%|██████████| 9/9 [00:00<00:00, 79.94it/s, loss=1.34]\n"
     ]
    },
    {
     "name": "stdout",
     "output_type": "stream",
     "text": [
      "Epoch [1581/3000]: Train loss: 2.1337,             Valid loss: 3.2223\n"
     ]
    },
    {
     "name": "stderr",
     "output_type": "stream",
     "text": [
      "epoch [1582/3000]: 100%|██████████| 9/9 [00:00<00:00, 82.99it/s, loss=1.28]\n"
     ]
    },
    {
     "name": "stdout",
     "output_type": "stream",
     "text": [
      "Epoch [1582/3000]: Train loss: 2.1767,             Valid loss: 3.1797\n"
     ]
    },
    {
     "name": "stderr",
     "output_type": "stream",
     "text": [
      "epoch [1583/3000]: 100%|██████████| 9/9 [00:00<00:00, 92.75it/s, loss=1.24]\n"
     ]
    },
    {
     "name": "stdout",
     "output_type": "stream",
     "text": [
      "Epoch [1583/3000]: Train loss: 2.1491,             Valid loss: 2.9884\n"
     ]
    },
    {
     "name": "stderr",
     "output_type": "stream",
     "text": [
      "epoch [1584/3000]: 100%|██████████| 9/9 [00:00<00:00, 91.71it/s, loss=1.24]\n"
     ]
    },
    {
     "name": "stdout",
     "output_type": "stream",
     "text": [
      "Epoch [1584/3000]: Train loss: 2.0991,             Valid loss: 3.1195\n"
     ]
    },
    {
     "name": "stderr",
     "output_type": "stream",
     "text": [
      "epoch [1585/3000]: 100%|██████████| 9/9 [00:00<00:00, 81.01it/s, loss=1.22]\n"
     ]
    },
    {
     "name": "stdout",
     "output_type": "stream",
     "text": [
      "Epoch [1585/3000]: Train loss: 2.0819,             Valid loss: 3.2841\n"
     ]
    },
    {
     "name": "stderr",
     "output_type": "stream",
     "text": [
      "epoch [1586/3000]: 100%|██████████| 9/9 [00:00<00:00, 70.08it/s, loss=1.29]\n"
     ]
    },
    {
     "name": "stdout",
     "output_type": "stream",
     "text": [
      "Epoch [1586/3000]: Train loss: 2.0661,             Valid loss: 2.2945\n"
     ]
    },
    {
     "name": "stderr",
     "output_type": "stream",
     "text": [
      "epoch [1587/3000]: 100%|██████████| 9/9 [00:00<00:00, 83.45it/s, loss=1.35]\n"
     ]
    },
    {
     "name": "stdout",
     "output_type": "stream",
     "text": [
      "Epoch [1587/3000]: Train loss: 2.1169,             Valid loss: 2.5420\n"
     ]
    },
    {
     "name": "stderr",
     "output_type": "stream",
     "text": [
      "epoch [1588/3000]: 100%|██████████| 9/9 [00:00<00:00, 68.55it/s, loss=1.3] \n"
     ]
    },
    {
     "name": "stdout",
     "output_type": "stream",
     "text": [
      "Epoch [1588/3000]: Train loss: 2.1866,             Valid loss: 2.7642\n"
     ]
    },
    {
     "name": "stderr",
     "output_type": "stream",
     "text": [
      "epoch [1589/3000]: 100%|██████████| 9/9 [00:00<00:00, 76.76it/s, loss=1.21]\n"
     ]
    },
    {
     "name": "stdout",
     "output_type": "stream",
     "text": [
      "Epoch [1589/3000]: Train loss: 2.1576,             Valid loss: 2.6856\n"
     ]
    },
    {
     "name": "stderr",
     "output_type": "stream",
     "text": [
      "epoch [1590/3000]: 100%|██████████| 9/9 [00:00<00:00, 65.61it/s, loss=1.22]\n"
     ]
    },
    {
     "name": "stdout",
     "output_type": "stream",
     "text": [
      "Epoch [1590/3000]: Train loss: 2.0628,             Valid loss: 2.6988\n"
     ]
    },
    {
     "name": "stderr",
     "output_type": "stream",
     "text": [
      "epoch [1591/3000]: 100%|██████████| 9/9 [00:00<00:00, 43.37it/s, loss=1.27]\n"
     ]
    },
    {
     "name": "stdout",
     "output_type": "stream",
     "text": [
      "Epoch [1591/3000]: Train loss: 2.0589,             Valid loss: 3.2609\n"
     ]
    },
    {
     "name": "stderr",
     "output_type": "stream",
     "text": [
      "epoch [1592/3000]: 100%|██████████| 9/9 [00:00<00:00, 51.06it/s, loss=1.3] \n"
     ]
    },
    {
     "name": "stdout",
     "output_type": "stream",
     "text": [
      "Epoch [1592/3000]: Train loss: 2.1103,             Valid loss: 2.5301\n"
     ]
    },
    {
     "name": "stderr",
     "output_type": "stream",
     "text": [
      "epoch [1593/3000]: 100%|██████████| 9/9 [00:00<00:00, 81.74it/s, loss=1.28]\n"
     ]
    },
    {
     "name": "stdout",
     "output_type": "stream",
     "text": [
      "Epoch [1593/3000]: Train loss: 2.1327,             Valid loss: 3.0474\n"
     ]
    },
    {
     "name": "stderr",
     "output_type": "stream",
     "text": [
      "epoch [1594/3000]: 100%|██████████| 9/9 [00:00<00:00, 86.83it/s, loss=1.25]\n"
     ]
    },
    {
     "name": "stdout",
     "output_type": "stream",
     "text": [
      "Epoch [1594/3000]: Train loss: 2.1257,             Valid loss: 2.8759\n"
     ]
    },
    {
     "name": "stderr",
     "output_type": "stream",
     "text": [
      "epoch [1595/3000]: 100%|██████████| 9/9 [00:00<00:00, 93.58it/s, loss=1.23]\n"
     ]
    },
    {
     "name": "stdout",
     "output_type": "stream",
     "text": [
      "Epoch [1595/3000]: Train loss: 2.0969,             Valid loss: 2.4975\n"
     ]
    },
    {
     "name": "stderr",
     "output_type": "stream",
     "text": [
      "epoch [1596/3000]: 100%|██████████| 9/9 [00:00<00:00, 81.60it/s, loss=1.25]\n"
     ]
    },
    {
     "name": "stdout",
     "output_type": "stream",
     "text": [
      "Epoch [1596/3000]: Train loss: 2.0698,             Valid loss: 3.2335\n"
     ]
    },
    {
     "name": "stderr",
     "output_type": "stream",
     "text": [
      "epoch [1597/3000]: 100%|██████████| 9/9 [00:00<00:00, 73.55it/s, loss=1.29]\n"
     ]
    },
    {
     "name": "stdout",
     "output_type": "stream",
     "text": [
      "Epoch [1597/3000]: Train loss: 2.0879,             Valid loss: 2.8020\n"
     ]
    },
    {
     "name": "stderr",
     "output_type": "stream",
     "text": [
      "epoch [1598/3000]: 100%|██████████| 9/9 [00:00<00:00, 85.94it/s, loss=1.29]\n"
     ]
    },
    {
     "name": "stdout",
     "output_type": "stream",
     "text": [
      "Epoch [1598/3000]: Train loss: 2.1287,             Valid loss: 2.9477\n"
     ]
    },
    {
     "name": "stderr",
     "output_type": "stream",
     "text": [
      "epoch [1599/3000]: 100%|██████████| 9/9 [00:00<00:00, 87.44it/s, loss=1.24]\n"
     ]
    },
    {
     "name": "stdout",
     "output_type": "stream",
     "text": [
      "Epoch [1599/3000]: Train loss: 2.1196,             Valid loss: 2.8989\n"
     ]
    },
    {
     "name": "stderr",
     "output_type": "stream",
     "text": [
      "epoch [1600/3000]: 100%|██████████| 9/9 [00:00<00:00, 85.49it/s, loss=1.21]\n"
     ]
    },
    {
     "name": "stdout",
     "output_type": "stream",
     "text": [
      "Epoch [1600/3000]: Train loss: 2.0844,             Valid loss: 2.7203\n"
     ]
    },
    {
     "name": "stderr",
     "output_type": "stream",
     "text": [
      "epoch [1601/3000]: 100%|██████████| 9/9 [00:00<00:00, 82.78it/s, loss=1.24]\n"
     ]
    },
    {
     "name": "stdout",
     "output_type": "stream",
     "text": [
      "Epoch [1601/3000]: Train loss: 2.0507,             Valid loss: 2.7244\n"
     ]
    },
    {
     "name": "stderr",
     "output_type": "stream",
     "text": [
      "epoch [1602/3000]: 100%|██████████| 9/9 [00:00<00:00, 92.39it/s, loss=1.28]\n"
     ]
    },
    {
     "name": "stdout",
     "output_type": "stream",
     "text": [
      "Epoch [1602/3000]: Train loss: 2.0699,             Valid loss: 3.0508\n"
     ]
    },
    {
     "name": "stderr",
     "output_type": "stream",
     "text": [
      "epoch [1603/3000]: 100%|██████████| 9/9 [00:00<00:00, 85.54it/s, loss=1.3]\n"
     ]
    },
    {
     "name": "stdout",
     "output_type": "stream",
     "text": [
      "Epoch [1603/3000]: Train loss: 2.1078,             Valid loss: 2.7551\n"
     ]
    },
    {
     "name": "stderr",
     "output_type": "stream",
     "text": [
      "epoch [1604/3000]: 100%|██████████| 9/9 [00:00<00:00, 82.20it/s, loss=1.26]\n"
     ]
    },
    {
     "name": "stdout",
     "output_type": "stream",
     "text": [
      "Epoch [1604/3000]: Train loss: 2.1312,             Valid loss: 2.8554\n"
     ]
    },
    {
     "name": "stderr",
     "output_type": "stream",
     "text": [
      "epoch [1605/3000]: 100%|██████████| 9/9 [00:00<00:00, 92.34it/s, loss=1.26]\n"
     ]
    },
    {
     "name": "stdout",
     "output_type": "stream",
     "text": [
      "Epoch [1605/3000]: Train loss: 2.1048,             Valid loss: 3.4106\n"
     ]
    },
    {
     "name": "stderr",
     "output_type": "stream",
     "text": [
      "epoch [1606/3000]: 100%|██████████| 9/9 [00:00<00:00, 71.49it/s, loss=1.26]\n"
     ]
    },
    {
     "name": "stdout",
     "output_type": "stream",
     "text": [
      "Epoch [1606/3000]: Train loss: 2.0959,             Valid loss: 3.3716\n"
     ]
    },
    {
     "name": "stderr",
     "output_type": "stream",
     "text": [
      "epoch [1607/3000]: 100%|██████████| 9/9 [00:00<00:00, 85.52it/s, loss=1.25]\n"
     ]
    },
    {
     "name": "stdout",
     "output_type": "stream",
     "text": [
      "Epoch [1607/3000]: Train loss: 2.0939,             Valid loss: 3.5296\n"
     ]
    },
    {
     "name": "stderr",
     "output_type": "stream",
     "text": [
      "epoch [1608/3000]: 100%|██████████| 9/9 [00:00<00:00, 74.43it/s, loss=1.24]\n"
     ]
    },
    {
     "name": "stdout",
     "output_type": "stream",
     "text": [
      "Epoch [1608/3000]: Train loss: 2.0766,             Valid loss: 2.8101\n"
     ]
    },
    {
     "name": "stderr",
     "output_type": "stream",
     "text": [
      "epoch [1609/3000]: 100%|██████████| 9/9 [00:00<00:00, 86.18it/s, loss=1.25]\n"
     ]
    },
    {
     "name": "stdout",
     "output_type": "stream",
     "text": [
      "Epoch [1609/3000]: Train loss: 2.0682,             Valid loss: 2.6847\n"
     ]
    },
    {
     "name": "stderr",
     "output_type": "stream",
     "text": [
      "epoch [1610/3000]: 100%|██████████| 9/9 [00:00<00:00, 93.54it/s, loss=1.26]\n"
     ]
    },
    {
     "name": "stdout",
     "output_type": "stream",
     "text": [
      "Epoch [1610/3000]: Train loss: 2.0768,             Valid loss: 3.0265\n"
     ]
    },
    {
     "name": "stderr",
     "output_type": "stream",
     "text": [
      "epoch [1611/3000]: 100%|██████████| 9/9 [00:00<00:00, 80.63it/s, loss=1.26]\n"
     ]
    },
    {
     "name": "stdout",
     "output_type": "stream",
     "text": [
      "Epoch [1611/3000]: Train loss: 2.0900,             Valid loss: 2.5596\n"
     ]
    },
    {
     "name": "stderr",
     "output_type": "stream",
     "text": [
      "epoch [1612/3000]: 100%|██████████| 9/9 [00:00<00:00, 90.77it/s, loss=1.25]\n"
     ]
    },
    {
     "name": "stdout",
     "output_type": "stream",
     "text": [
      "Epoch [1612/3000]: Train loss: 2.0859,             Valid loss: 2.7892\n"
     ]
    },
    {
     "name": "stderr",
     "output_type": "stream",
     "text": [
      "epoch [1613/3000]: 100%|██████████| 9/9 [00:00<00:00, 86.40it/s, loss=1.25]\n"
     ]
    },
    {
     "name": "stdout",
     "output_type": "stream",
     "text": [
      "Epoch [1613/3000]: Train loss: 2.0774,             Valid loss: 2.8677\n"
     ]
    },
    {
     "name": "stderr",
     "output_type": "stream",
     "text": [
      "epoch [1614/3000]: 100%|██████████| 9/9 [00:00<00:00, 89.51it/s, loss=1.25]\n"
     ]
    },
    {
     "name": "stdout",
     "output_type": "stream",
     "text": [
      "Epoch [1614/3000]: Train loss: 2.0770,             Valid loss: 2.4885\n"
     ]
    },
    {
     "name": "stderr",
     "output_type": "stream",
     "text": [
      "epoch [1615/3000]: 100%|██████████| 9/9 [00:00<00:00, 76.63it/s, loss=1.25]\n"
     ]
    },
    {
     "name": "stdout",
     "output_type": "stream",
     "text": [
      "Epoch [1615/3000]: Train loss: 2.0808,             Valid loss: 2.9069\n"
     ]
    },
    {
     "name": "stderr",
     "output_type": "stream",
     "text": [
      "epoch [1616/3000]: 100%|██████████| 9/9 [00:00<00:00, 84.11it/s, loss=1.23]\n"
     ]
    },
    {
     "name": "stdout",
     "output_type": "stream",
     "text": [
      "Epoch [1616/3000]: Train loss: 2.0700,             Valid loss: 3.0372\n"
     ]
    },
    {
     "name": "stderr",
     "output_type": "stream",
     "text": [
      "epoch [1617/3000]: 100%|██████████| 9/9 [00:00<00:00, 97.49it/s, loss=1.24]\n"
     ]
    },
    {
     "name": "stdout",
     "output_type": "stream",
     "text": [
      "Epoch [1617/3000]: Train loss: 2.0584,             Valid loss: 2.5715\n"
     ]
    },
    {
     "name": "stderr",
     "output_type": "stream",
     "text": [
      "epoch [1618/3000]: 100%|██████████| 9/9 [00:00<00:00, 91.95it/s, loss=1.25]\n"
     ]
    },
    {
     "name": "stdout",
     "output_type": "stream",
     "text": [
      "Epoch [1618/3000]: Train loss: 2.0623,             Valid loss: 2.7736\n"
     ]
    },
    {
     "name": "stderr",
     "output_type": "stream",
     "text": [
      "epoch [1619/3000]: 100%|██████████| 9/9 [00:00<00:00, 86.09it/s, loss=1.24]\n"
     ]
    },
    {
     "name": "stdout",
     "output_type": "stream",
     "text": [
      "Epoch [1619/3000]: Train loss: 2.0725,             Valid loss: 2.5583\n"
     ]
    },
    {
     "name": "stderr",
     "output_type": "stream",
     "text": [
      "epoch [1620/3000]: 100%|██████████| 9/9 [00:00<00:00, 90.57it/s, loss=1.24]\n"
     ]
    },
    {
     "name": "stdout",
     "output_type": "stream",
     "text": [
      "Epoch [1620/3000]: Train loss: 2.0745,             Valid loss: 2.5715\n"
     ]
    },
    {
     "name": "stderr",
     "output_type": "stream",
     "text": [
      "epoch [1621/3000]: 100%|██████████| 9/9 [00:00<00:00, 86.24it/s, loss=1.25]\n"
     ]
    },
    {
     "name": "stdout",
     "output_type": "stream",
     "text": [
      "Epoch [1621/3000]: Train loss: 2.0811,             Valid loss: 2.8707\n"
     ]
    },
    {
     "name": "stderr",
     "output_type": "stream",
     "text": [
      "epoch [1622/3000]: 100%|██████████| 9/9 [00:00<00:00, 84.71it/s, loss=1.23]\n"
     ]
    },
    {
     "name": "stdout",
     "output_type": "stream",
     "text": [
      "Epoch [1622/3000]: Train loss: 2.0783,             Valid loss: 2.7945\n"
     ]
    },
    {
     "name": "stderr",
     "output_type": "stream",
     "text": [
      "epoch [1623/3000]: 100%|██████████| 9/9 [00:00<00:00, 86.45it/s, loss=1.22]\n"
     ]
    },
    {
     "name": "stdout",
     "output_type": "stream",
     "text": [
      "Epoch [1623/3000]: Train loss: 2.0592,             Valid loss: 3.0241\n"
     ]
    },
    {
     "name": "stderr",
     "output_type": "stream",
     "text": [
      "epoch [1624/3000]: 100%|██████████| 9/9 [00:00<00:00, 83.10it/s, loss=1.23]\n"
     ]
    },
    {
     "name": "stdout",
     "output_type": "stream",
     "text": [
      "Epoch [1624/3000]: Train loss: 2.0480,             Valid loss: 2.9528\n"
     ]
    },
    {
     "name": "stderr",
     "output_type": "stream",
     "text": [
      "epoch [1625/3000]: 100%|██████████| 9/9 [00:00<00:00, 80.92it/s, loss=1.25]\n"
     ]
    },
    {
     "name": "stdout",
     "output_type": "stream",
     "text": [
      "Epoch [1625/3000]: Train loss: 2.0565,             Valid loss: 2.7682\n"
     ]
    },
    {
     "name": "stderr",
     "output_type": "stream",
     "text": [
      "epoch [1626/3000]: 100%|██████████| 9/9 [00:00<00:00, 104.95it/s, loss=1.25]\n"
     ]
    },
    {
     "name": "stdout",
     "output_type": "stream",
     "text": [
      "Epoch [1626/3000]: Train loss: 2.0710,             Valid loss: 2.6738\n"
     ]
    },
    {
     "name": "stderr",
     "output_type": "stream",
     "text": [
      "epoch [1627/3000]: 100%|██████████| 9/9 [00:00<00:00, 77.30it/s, loss=1.24]\n"
     ]
    },
    {
     "name": "stdout",
     "output_type": "stream",
     "text": [
      "Epoch [1627/3000]: Train loss: 2.0763,             Valid loss: 2.4388\n"
     ]
    },
    {
     "name": "stderr",
     "output_type": "stream",
     "text": [
      "epoch [1628/3000]: 100%|██████████| 9/9 [00:00<00:00, 55.66it/s, loss=1.22]\n"
     ]
    },
    {
     "name": "stdout",
     "output_type": "stream",
     "text": [
      "Epoch [1628/3000]: Train loss: 2.0653,             Valid loss: 3.1129\n"
     ]
    },
    {
     "name": "stderr",
     "output_type": "stream",
     "text": [
      "epoch [1629/3000]: 100%|██████████| 9/9 [00:00<00:00, 38.13it/s, loss=1.23]\n"
     ]
    },
    {
     "name": "stdout",
     "output_type": "stream",
     "text": [
      "Epoch [1629/3000]: Train loss: 2.0565,             Valid loss: 2.7908\n"
     ]
    },
    {
     "name": "stderr",
     "output_type": "stream",
     "text": [
      "epoch [1630/3000]: 100%|██████████| 9/9 [00:00<00:00, 78.51it/s, loss=1.23]\n"
     ]
    },
    {
     "name": "stdout",
     "output_type": "stream",
     "text": [
      "Epoch [1630/3000]: Train loss: 2.0466,             Valid loss: 2.7821\n"
     ]
    },
    {
     "name": "stderr",
     "output_type": "stream",
     "text": [
      "epoch [1631/3000]: 100%|██████████| 9/9 [00:00<00:00, 83.07it/s, loss=1.24]\n"
     ]
    },
    {
     "name": "stdout",
     "output_type": "stream",
     "text": [
      "Epoch [1631/3000]: Train loss: 2.0509,             Valid loss: 3.3068\n"
     ]
    },
    {
     "name": "stderr",
     "output_type": "stream",
     "text": [
      "epoch [1632/3000]: 100%|██████████| 9/9 [00:00<00:00, 85.36it/s, loss=1.23]\n"
     ]
    },
    {
     "name": "stdout",
     "output_type": "stream",
     "text": [
      "Epoch [1632/3000]: Train loss: 2.0551,             Valid loss: 2.9273\n"
     ]
    },
    {
     "name": "stderr",
     "output_type": "stream",
     "text": [
      "epoch [1633/3000]: 100%|██████████| 9/9 [00:00<00:00, 67.07it/s, loss=1.23]\n"
     ]
    },
    {
     "name": "stdout",
     "output_type": "stream",
     "text": [
      "Epoch [1633/3000]: Train loss: 2.0555,             Valid loss: 3.0542\n"
     ]
    },
    {
     "name": "stderr",
     "output_type": "stream",
     "text": [
      "epoch [1634/3000]: 100%|██████████| 9/9 [00:00<00:00, 81.18it/s, loss=1.22]\n"
     ]
    },
    {
     "name": "stdout",
     "output_type": "stream",
     "text": [
      "Epoch [1634/3000]: Train loss: 2.0462,             Valid loss: 2.5344\n"
     ]
    },
    {
     "name": "stderr",
     "output_type": "stream",
     "text": [
      "epoch [1635/3000]: 100%|██████████| 9/9 [00:00<00:00, 80.06it/s, loss=1.24]\n"
     ]
    },
    {
     "name": "stdout",
     "output_type": "stream",
     "text": [
      "Epoch [1635/3000]: Train loss: 2.0504,             Valid loss: 2.7944\n"
     ]
    },
    {
     "name": "stderr",
     "output_type": "stream",
     "text": [
      "epoch [1636/3000]: 100%|██████████| 9/9 [00:00<00:00, 78.91it/s, loss=1.23]\n"
     ]
    },
    {
     "name": "stdout",
     "output_type": "stream",
     "text": [
      "Epoch [1636/3000]: Train loss: 2.0512,             Valid loss: 3.1514\n"
     ]
    },
    {
     "name": "stderr",
     "output_type": "stream",
     "text": [
      "epoch [1637/3000]: 100%|██████████| 9/9 [00:00<00:00, 93.83it/s, loss=1.22]\n"
     ]
    },
    {
     "name": "stdout",
     "output_type": "stream",
     "text": [
      "Epoch [1637/3000]: Train loss: 2.0506,             Valid loss: 2.9575\n"
     ]
    },
    {
     "name": "stderr",
     "output_type": "stream",
     "text": [
      "epoch [1638/3000]: 100%|██████████| 9/9 [00:00<00:00, 86.15it/s, loss=1.22]\n"
     ]
    },
    {
     "name": "stdout",
     "output_type": "stream",
     "text": [
      "Epoch [1638/3000]: Train loss: 2.0379,             Valid loss: 2.7122\n"
     ]
    },
    {
     "name": "stderr",
     "output_type": "stream",
     "text": [
      "epoch [1639/3000]: 100%|██████████| 9/9 [00:00<00:00, 70.54it/s, loss=1.23]\n"
     ]
    },
    {
     "name": "stdout",
     "output_type": "stream",
     "text": [
      "Epoch [1639/3000]: Train loss: 2.0404,             Valid loss: 2.6498\n"
     ]
    },
    {
     "name": "stderr",
     "output_type": "stream",
     "text": [
      "epoch [1640/3000]: 100%|██████████| 9/9 [00:00<00:00, 77.95it/s, loss=1.22]\n"
     ]
    },
    {
     "name": "stdout",
     "output_type": "stream",
     "text": [
      "Epoch [1640/3000]: Train loss: 2.0428,             Valid loss: 3.8153\n"
     ]
    },
    {
     "name": "stderr",
     "output_type": "stream",
     "text": [
      "epoch [1641/3000]: 100%|██████████| 9/9 [00:00<00:00, 75.48it/s, loss=1.22]\n"
     ]
    },
    {
     "name": "stdout",
     "output_type": "stream",
     "text": [
      "Epoch [1641/3000]: Train loss: 2.0418,             Valid loss: 2.8331\n"
     ]
    },
    {
     "name": "stderr",
     "output_type": "stream",
     "text": [
      "epoch [1642/3000]: 100%|██████████| 9/9 [00:00<00:00, 71.12it/s, loss=1.21]\n"
     ]
    },
    {
     "name": "stdout",
     "output_type": "stream",
     "text": [
      "Epoch [1642/3000]: Train loss: 2.0314,             Valid loss: 2.5738\n"
     ]
    },
    {
     "name": "stderr",
     "output_type": "stream",
     "text": [
      "epoch [1643/3000]: 100%|██████████| 9/9 [00:00<00:00, 74.36it/s, loss=1.22]\n"
     ]
    },
    {
     "name": "stdout",
     "output_type": "stream",
     "text": [
      "Epoch [1643/3000]: Train loss: 2.0304,             Valid loss: 3.7618\n"
     ]
    },
    {
     "name": "stderr",
     "output_type": "stream",
     "text": [
      "epoch [1644/3000]: 100%|██████████| 9/9 [00:00<00:00, 76.15it/s, loss=1.22]\n"
     ]
    },
    {
     "name": "stdout",
     "output_type": "stream",
     "text": [
      "Epoch [1644/3000]: Train loss: 2.0284,             Valid loss: 2.4859\n"
     ]
    },
    {
     "name": "stderr",
     "output_type": "stream",
     "text": [
      "epoch [1645/3000]: 100%|██████████| 9/9 [00:00<00:00, 71.41it/s, loss=1.24]\n"
     ]
    },
    {
     "name": "stdout",
     "output_type": "stream",
     "text": [
      "Epoch [1645/3000]: Train loss: 2.0397,             Valid loss: 2.7782\n"
     ]
    },
    {
     "name": "stderr",
     "output_type": "stream",
     "text": [
      "epoch [1646/3000]: 100%|██████████| 9/9 [00:00<00:00, 76.18it/s, loss=1.22]\n"
     ]
    },
    {
     "name": "stdout",
     "output_type": "stream",
     "text": [
      "Epoch [1646/3000]: Train loss: 2.0453,             Valid loss: 2.8043\n"
     ]
    },
    {
     "name": "stderr",
     "output_type": "stream",
     "text": [
      "epoch [1647/3000]: 100%|██████████| 9/9 [00:00<00:00, 65.87it/s, loss=1.22]\n"
     ]
    },
    {
     "name": "stdout",
     "output_type": "stream",
     "text": [
      "Epoch [1647/3000]: Train loss: 2.0445,             Valid loss: 2.8283\n"
     ]
    },
    {
     "name": "stderr",
     "output_type": "stream",
     "text": [
      "epoch [1648/3000]: 100%|██████████| 9/9 [00:00<00:00, 72.07it/s, loss=1.21]\n"
     ]
    },
    {
     "name": "stdout",
     "output_type": "stream",
     "text": [
      "Epoch [1648/3000]: Train loss: 2.0321,             Valid loss: 2.6910\n"
     ]
    },
    {
     "name": "stderr",
     "output_type": "stream",
     "text": [
      "epoch [1649/3000]: 100%|██████████| 9/9 [00:00<00:00, 85.91it/s, loss=1.22]\n"
     ]
    },
    {
     "name": "stdout",
     "output_type": "stream",
     "text": [
      "Epoch [1649/3000]: Train loss: 2.0297,             Valid loss: 2.7491\n"
     ]
    },
    {
     "name": "stderr",
     "output_type": "stream",
     "text": [
      "epoch [1650/3000]: 100%|██████████| 9/9 [00:00<00:00, 81.68it/s, loss=1.21]\n"
     ]
    },
    {
     "name": "stdout",
     "output_type": "stream",
     "text": [
      "Epoch [1650/3000]: Train loss: 2.0271,             Valid loss: 2.7744\n"
     ]
    },
    {
     "name": "stderr",
     "output_type": "stream",
     "text": [
      "epoch [1651/3000]: 100%|██████████| 9/9 [00:00<00:00, 83.62it/s, loss=1.22]\n"
     ]
    },
    {
     "name": "stdout",
     "output_type": "stream",
     "text": [
      "Epoch [1651/3000]: Train loss: 2.0301,             Valid loss: 2.9309\n"
     ]
    },
    {
     "name": "stderr",
     "output_type": "stream",
     "text": [
      "epoch [1652/3000]: 100%|██████████| 9/9 [00:00<00:00, 83.56it/s, loss=1.21]\n"
     ]
    },
    {
     "name": "stdout",
     "output_type": "stream",
     "text": [
      "Epoch [1652/3000]: Train loss: 2.0278,             Valid loss: 2.6129\n"
     ]
    },
    {
     "name": "stderr",
     "output_type": "stream",
     "text": [
      "epoch [1653/3000]: 100%|██████████| 9/9 [00:00<00:00, 91.63it/s, loss=1.22]\n"
     ]
    },
    {
     "name": "stdout",
     "output_type": "stream",
     "text": [
      "Epoch [1653/3000]: Train loss: 2.0289,             Valid loss: 2.8694\n"
     ]
    },
    {
     "name": "stderr",
     "output_type": "stream",
     "text": [
      "epoch [1654/3000]: 100%|██████████| 9/9 [00:00<00:00, 91.97it/s, loss=1.21]\n"
     ]
    },
    {
     "name": "stdout",
     "output_type": "stream",
     "text": [
      "Epoch [1654/3000]: Train loss: 2.0276,             Valid loss: 3.1073\n"
     ]
    },
    {
     "name": "stderr",
     "output_type": "stream",
     "text": [
      "epoch [1655/3000]: 100%|██████████| 9/9 [00:00<00:00, 83.81it/s, loss=1.22]\n"
     ]
    },
    {
     "name": "stdout",
     "output_type": "stream",
     "text": [
      "Epoch [1655/3000]: Train loss: 2.0272,             Valid loss: 2.8947\n"
     ]
    },
    {
     "name": "stderr",
     "output_type": "stream",
     "text": [
      "epoch [1656/3000]: 100%|██████████| 9/9 [00:00<00:00, 82.66it/s, loss=1.21]\n"
     ]
    },
    {
     "name": "stdout",
     "output_type": "stream",
     "text": [
      "Epoch [1656/3000]: Train loss: 2.0260,             Valid loss: 2.6815\n"
     ]
    },
    {
     "name": "stderr",
     "output_type": "stream",
     "text": [
      "epoch [1657/3000]: 100%|██████████| 9/9 [00:00<00:00, 90.60it/s, loss=1.22]\n"
     ]
    },
    {
     "name": "stdout",
     "output_type": "stream",
     "text": [
      "Epoch [1657/3000]: Train loss: 2.0252,             Valid loss: 2.7978\n"
     ]
    },
    {
     "name": "stderr",
     "output_type": "stream",
     "text": [
      "epoch [1658/3000]: 100%|██████████| 9/9 [00:00<00:00, 84.34it/s, loss=1.2]\n"
     ]
    },
    {
     "name": "stdout",
     "output_type": "stream",
     "text": [
      "Epoch [1658/3000]: Train loss: 2.0257,             Valid loss: 3.3126\n"
     ]
    },
    {
     "name": "stderr",
     "output_type": "stream",
     "text": [
      "epoch [1659/3000]: 100%|██████████| 9/9 [00:00<00:00, 86.87it/s, loss=1.21]\n"
     ]
    },
    {
     "name": "stdout",
     "output_type": "stream",
     "text": [
      "Epoch [1659/3000]: Train loss: 2.0240,             Valid loss: 2.4776\n"
     ]
    },
    {
     "name": "stderr",
     "output_type": "stream",
     "text": [
      "epoch [1660/3000]: 100%|██████████| 9/9 [00:00<00:00, 83.70it/s, loss=1.2]\n"
     ]
    },
    {
     "name": "stdout",
     "output_type": "stream",
     "text": [
      "Epoch [1660/3000]: Train loss: 2.0169,             Valid loss: 2.9916\n"
     ]
    },
    {
     "name": "stderr",
     "output_type": "stream",
     "text": [
      "epoch [1661/3000]: 100%|██████████| 9/9 [00:00<00:00, 82.21it/s, loss=1.21]\n"
     ]
    },
    {
     "name": "stdout",
     "output_type": "stream",
     "text": [
      "Epoch [1661/3000]: Train loss: 2.0189,             Valid loss: 2.7495\n"
     ]
    },
    {
     "name": "stderr",
     "output_type": "stream",
     "text": [
      "epoch [1662/3000]: 100%|██████████| 9/9 [00:00<00:00, 71.26it/s, loss=1.2] \n"
     ]
    },
    {
     "name": "stdout",
     "output_type": "stream",
     "text": [
      "Epoch [1662/3000]: Train loss: 2.0181,             Valid loss: 3.0047\n"
     ]
    },
    {
     "name": "stderr",
     "output_type": "stream",
     "text": [
      "epoch [1663/3000]: 100%|██████████| 9/9 [00:00<00:00, 73.41it/s, loss=1.21]\n"
     ]
    },
    {
     "name": "stdout",
     "output_type": "stream",
     "text": [
      "Epoch [1663/3000]: Train loss: 2.0194,             Valid loss: 3.1555\n"
     ]
    },
    {
     "name": "stderr",
     "output_type": "stream",
     "text": [
      "epoch [1664/3000]: 100%|██████████| 9/9 [00:00<00:00, 85.82it/s, loss=1.2]\n"
     ]
    },
    {
     "name": "stdout",
     "output_type": "stream",
     "text": [
      "Epoch [1664/3000]: Train loss: 2.0151,             Valid loss: 2.6538\n"
     ]
    },
    {
     "name": "stderr",
     "output_type": "stream",
     "text": [
      "epoch [1665/3000]: 100%|██████████| 9/9 [00:00<00:00, 76.67it/s, loss=1.22]\n"
     ]
    },
    {
     "name": "stdout",
     "output_type": "stream",
     "text": [
      "Epoch [1665/3000]: Train loss: 2.0202,             Valid loss: 3.1570\n"
     ]
    },
    {
     "name": "stderr",
     "output_type": "stream",
     "text": [
      "epoch [1666/3000]: 100%|██████████| 9/9 [00:00<00:00, 83.25it/s, loss=1.21]\n"
     ]
    },
    {
     "name": "stdout",
     "output_type": "stream",
     "text": [
      "Epoch [1666/3000]: Train loss: 2.0233,             Valid loss: 2.9185\n"
     ]
    },
    {
     "name": "stderr",
     "output_type": "stream",
     "text": [
      "epoch [1667/3000]: 100%|██████████| 9/9 [00:00<00:00, 92.61it/s, loss=1.21]\n"
     ]
    },
    {
     "name": "stdout",
     "output_type": "stream",
     "text": [
      "Epoch [1667/3000]: Train loss: 2.0250,             Valid loss: 3.2067\n"
     ]
    },
    {
     "name": "stderr",
     "output_type": "stream",
     "text": [
      "epoch [1668/3000]: 100%|██████████| 9/9 [00:00<00:00, 61.93it/s, loss=1.2] \n"
     ]
    },
    {
     "name": "stdout",
     "output_type": "stream",
     "text": [
      "Epoch [1668/3000]: Train loss: 2.0135,             Valid loss: 2.3861\n"
     ]
    },
    {
     "name": "stderr",
     "output_type": "stream",
     "text": [
      "epoch [1669/3000]: 100%|██████████| 9/9 [00:00<00:00, 71.91it/s, loss=1.21]\n"
     ]
    },
    {
     "name": "stdout",
     "output_type": "stream",
     "text": [
      "Epoch [1669/3000]: Train loss: 2.0124,             Valid loss: 3.1354\n"
     ]
    },
    {
     "name": "stderr",
     "output_type": "stream",
     "text": [
      "epoch [1670/3000]: 100%|██████████| 9/9 [00:00<00:00, 65.92it/s, loss=1.2] \n"
     ]
    },
    {
     "name": "stdout",
     "output_type": "stream",
     "text": [
      "Epoch [1670/3000]: Train loss: 2.0100,             Valid loss: 3.0501\n"
     ]
    },
    {
     "name": "stderr",
     "output_type": "stream",
     "text": [
      "epoch [1671/3000]: 100%|██████████| 9/9 [00:00<00:00, 73.92it/s, loss=1.21]\n"
     ]
    },
    {
     "name": "stdout",
     "output_type": "stream",
     "text": [
      "Epoch [1671/3000]: Train loss: 2.0116,             Valid loss: 3.1745\n"
     ]
    },
    {
     "name": "stderr",
     "output_type": "stream",
     "text": [
      "epoch [1672/3000]: 100%|██████████| 9/9 [00:00<00:00, 79.02it/s, loss=1.19]\n"
     ]
    },
    {
     "name": "stdout",
     "output_type": "stream",
     "text": [
      "Epoch [1672/3000]: Train loss: 2.0089,             Valid loss: 2.5827\n"
     ]
    },
    {
     "name": "stderr",
     "output_type": "stream",
     "text": [
      "epoch [1673/3000]: 100%|██████████| 9/9 [00:00<00:00, 80.03it/s, loss=1.2]\n"
     ]
    },
    {
     "name": "stdout",
     "output_type": "stream",
     "text": [
      "Epoch [1673/3000]: Train loss: 2.0074,             Valid loss: 2.7950\n"
     ]
    },
    {
     "name": "stderr",
     "output_type": "stream",
     "text": [
      "epoch [1674/3000]: 100%|██████████| 9/9 [00:00<00:00, 80.24it/s, loss=1.2] \n"
     ]
    },
    {
     "name": "stdout",
     "output_type": "stream",
     "text": [
      "Epoch [1674/3000]: Train loss: 2.0029,             Valid loss: 2.6373\n"
     ]
    },
    {
     "name": "stderr",
     "output_type": "stream",
     "text": [
      "epoch [1675/3000]: 100%|██████████| 9/9 [00:00<00:00, 83.25it/s, loss=1.21]\n"
     ]
    },
    {
     "name": "stdout",
     "output_type": "stream",
     "text": [
      "Epoch [1675/3000]: Train loss: 2.0099,             Valid loss: 3.6690\n"
     ]
    },
    {
     "name": "stderr",
     "output_type": "stream",
     "text": [
      "epoch [1676/3000]: 100%|██████████| 9/9 [00:00<00:00, 67.14it/s, loss=1.2] \n"
     ]
    },
    {
     "name": "stdout",
     "output_type": "stream",
     "text": [
      "Epoch [1676/3000]: Train loss: 2.0147,             Valid loss: 3.0447\n"
     ]
    },
    {
     "name": "stderr",
     "output_type": "stream",
     "text": [
      "epoch [1677/3000]: 100%|██████████| 9/9 [00:00<00:00, 69.01it/s, loss=1.2] \n"
     ]
    },
    {
     "name": "stdout",
     "output_type": "stream",
     "text": [
      "Epoch [1677/3000]: Train loss: 2.0145,             Valid loss: 2.4666\n"
     ]
    },
    {
     "name": "stderr",
     "output_type": "stream",
     "text": [
      "epoch [1678/3000]: 100%|██████████| 9/9 [00:00<00:00, 75.33it/s, loss=1.19]\n"
     ]
    },
    {
     "name": "stdout",
     "output_type": "stream",
     "text": [
      "Epoch [1678/3000]: Train loss: 2.0038,             Valid loss: 2.8469\n"
     ]
    },
    {
     "name": "stderr",
     "output_type": "stream",
     "text": [
      "epoch [1679/3000]: 100%|██████████| 9/9 [00:00<00:00, 84.34it/s, loss=1.2]\n"
     ]
    },
    {
     "name": "stdout",
     "output_type": "stream",
     "text": [
      "Epoch [1679/3000]: Train loss: 2.0025,             Valid loss: 2.8978\n"
     ]
    },
    {
     "name": "stderr",
     "output_type": "stream",
     "text": [
      "epoch [1680/3000]: 100%|██████████| 9/9 [00:00<00:00, 83.17it/s, loss=1.19]\n"
     ]
    },
    {
     "name": "stdout",
     "output_type": "stream",
     "text": [
      "Epoch [1680/3000]: Train loss: 1.9984,             Valid loss: 3.2938\n"
     ]
    },
    {
     "name": "stderr",
     "output_type": "stream",
     "text": [
      "epoch [1681/3000]: 100%|██████████| 9/9 [00:00<00:00, 75.96it/s, loss=1.19]\n"
     ]
    },
    {
     "name": "stdout",
     "output_type": "stream",
     "text": [
      "Epoch [1681/3000]: Train loss: 1.9993,             Valid loss: 2.5141\n"
     ]
    },
    {
     "name": "stderr",
     "output_type": "stream",
     "text": [
      "epoch [1682/3000]: 100%|██████████| 9/9 [00:00<00:00, 58.36it/s, loss=1.19]\n"
     ]
    },
    {
     "name": "stdout",
     "output_type": "stream",
     "text": [
      "Epoch [1682/3000]: Train loss: 1.9929,             Valid loss: 2.6158\n"
     ]
    },
    {
     "name": "stderr",
     "output_type": "stream",
     "text": [
      "epoch [1683/3000]: 100%|██████████| 9/9 [00:00<00:00, 73.34it/s, loss=1.2] \n"
     ]
    },
    {
     "name": "stdout",
     "output_type": "stream",
     "text": [
      "Epoch [1683/3000]: Train loss: 1.9955,             Valid loss: 2.5494\n"
     ]
    },
    {
     "name": "stderr",
     "output_type": "stream",
     "text": [
      "epoch [1684/3000]: 100%|██████████| 9/9 [00:00<00:00, 67.10it/s, loss=1.2] \n"
     ]
    },
    {
     "name": "stdout",
     "output_type": "stream",
     "text": [
      "Epoch [1684/3000]: Train loss: 2.0015,             Valid loss: 2.7846\n"
     ]
    },
    {
     "name": "stderr",
     "output_type": "stream",
     "text": [
      "epoch [1685/3000]: 100%|██████████| 9/9 [00:00<00:00, 74.96it/s, loss=1.2] \n"
     ]
    },
    {
     "name": "stdout",
     "output_type": "stream",
     "text": [
      "Epoch [1685/3000]: Train loss: 2.0079,             Valid loss: 3.1219\n"
     ]
    },
    {
     "name": "stderr",
     "output_type": "stream",
     "text": [
      "epoch [1686/3000]: 100%|██████████| 9/9 [00:00<00:00, 77.06it/s, loss=1.2] \n"
     ]
    },
    {
     "name": "stdout",
     "output_type": "stream",
     "text": [
      "Epoch [1686/3000]: Train loss: 2.0045,             Valid loss: 2.8376\n"
     ]
    },
    {
     "name": "stderr",
     "output_type": "stream",
     "text": [
      "epoch [1687/3000]: 100%|██████████| 9/9 [00:00<00:00, 74.64it/s, loss=1.2] \n"
     ]
    },
    {
     "name": "stdout",
     "output_type": "stream",
     "text": [
      "Epoch [1687/3000]: Train loss: 2.0071,             Valid loss: 2.8176\n"
     ]
    },
    {
     "name": "stderr",
     "output_type": "stream",
     "text": [
      "epoch [1688/3000]: 100%|██████████| 9/9 [00:00<00:00, 74.23it/s, loss=1.19]\n"
     ]
    },
    {
     "name": "stdout",
     "output_type": "stream",
     "text": [
      "Epoch [1688/3000]: Train loss: 2.0017,             Valid loss: 3.0816\n"
     ]
    },
    {
     "name": "stderr",
     "output_type": "stream",
     "text": [
      "epoch [1689/3000]: 100%|██████████| 9/9 [00:00<00:00, 67.10it/s, loss=1.19]\n"
     ]
    },
    {
     "name": "stdout",
     "output_type": "stream",
     "text": [
      "Epoch [1689/3000]: Train loss: 1.9982,             Valid loss: 2.7498\n"
     ]
    },
    {
     "name": "stderr",
     "output_type": "stream",
     "text": [
      "epoch [1690/3000]: 100%|██████████| 9/9 [00:00<00:00, 63.09it/s, loss=1.17]\n"
     ]
    },
    {
     "name": "stdout",
     "output_type": "stream",
     "text": [
      "Epoch [1690/3000]: Train loss: 1.9883,             Valid loss: 2.7601\n"
     ]
    },
    {
     "name": "stderr",
     "output_type": "stream",
     "text": [
      "epoch [1691/3000]: 100%|██████████| 9/9 [00:00<00:00, 71.52it/s, loss=1.18]\n"
     ]
    },
    {
     "name": "stdout",
     "output_type": "stream",
     "text": [
      "Epoch [1691/3000]: Train loss: 1.9833,             Valid loss: 2.8506\n"
     ]
    },
    {
     "name": "stderr",
     "output_type": "stream",
     "text": [
      "epoch [1692/3000]: 100%|██████████| 9/9 [00:00<00:00, 87.69it/s, loss=1.18]\n"
     ]
    },
    {
     "name": "stdout",
     "output_type": "stream",
     "text": [
      "Epoch [1692/3000]: Train loss: 1.9797,             Valid loss: 2.7765\n"
     ]
    },
    {
     "name": "stderr",
     "output_type": "stream",
     "text": [
      "epoch [1693/3000]: 100%|██████████| 9/9 [00:00<00:00, 74.54it/s, loss=1.19]\n"
     ]
    },
    {
     "name": "stdout",
     "output_type": "stream",
     "text": [
      "Epoch [1693/3000]: Train loss: 1.9854,             Valid loss: 3.2021\n"
     ]
    },
    {
     "name": "stderr",
     "output_type": "stream",
     "text": [
      "epoch [1694/3000]: 100%|██████████| 9/9 [00:00<00:00, 75.48it/s, loss=1.19]\n"
     ]
    },
    {
     "name": "stdout",
     "output_type": "stream",
     "text": [
      "Epoch [1694/3000]: Train loss: 1.9915,             Valid loss: 2.5793\n"
     ]
    },
    {
     "name": "stderr",
     "output_type": "stream",
     "text": [
      "epoch [1695/3000]: 100%|██████████| 9/9 [00:00<00:00, 79.17it/s, loss=1.2] \n"
     ]
    },
    {
     "name": "stdout",
     "output_type": "stream",
     "text": [
      "Epoch [1695/3000]: Train loss: 2.0011,             Valid loss: 2.4162\n"
     ]
    },
    {
     "name": "stderr",
     "output_type": "stream",
     "text": [
      "epoch [1696/3000]: 100%|██████████| 9/9 [00:00<00:00, 82.63it/s, loss=1.19]\n"
     ]
    },
    {
     "name": "stdout",
     "output_type": "stream",
     "text": [
      "Epoch [1696/3000]: Train loss: 1.9985,             Valid loss: 3.0881\n"
     ]
    },
    {
     "name": "stderr",
     "output_type": "stream",
     "text": [
      "epoch [1697/3000]: 100%|██████████| 9/9 [00:00<00:00, 86.85it/s, loss=1.2]\n"
     ]
    },
    {
     "name": "stdout",
     "output_type": "stream",
     "text": [
      "Epoch [1697/3000]: Train loss: 2.0026,             Valid loss: 2.6860\n"
     ]
    },
    {
     "name": "stderr",
     "output_type": "stream",
     "text": [
      "epoch [1698/3000]: 100%|██████████| 9/9 [00:00<00:00, 74.83it/s, loss=1.18]\n"
     ]
    },
    {
     "name": "stdout",
     "output_type": "stream",
     "text": [
      "Epoch [1698/3000]: Train loss: 1.9970,             Valid loss: 2.8676\n"
     ]
    },
    {
     "name": "stderr",
     "output_type": "stream",
     "text": [
      "epoch [1699/3000]: 100%|██████████| 9/9 [00:00<00:00, 63.73it/s, loss=1.18]\n"
     ]
    },
    {
     "name": "stdout",
     "output_type": "stream",
     "text": [
      "Epoch [1699/3000]: Train loss: 1.9921,             Valid loss: 2.6082\n"
     ]
    },
    {
     "name": "stderr",
     "output_type": "stream",
     "text": [
      "epoch [1700/3000]: 100%|██████████| 9/9 [00:00<00:00, 71.88it/s, loss=1.17]\n"
     ]
    },
    {
     "name": "stdout",
     "output_type": "stream",
     "text": [
      "Epoch [1700/3000]: Train loss: 1.9773,             Valid loss: 2.6138\n"
     ]
    },
    {
     "name": "stderr",
     "output_type": "stream",
     "text": [
      "epoch [1701/3000]: 100%|██████████| 9/9 [00:00<00:00, 62.39it/s, loss=1.18]\n"
     ]
    },
    {
     "name": "stdout",
     "output_type": "stream",
     "text": [
      "Epoch [1701/3000]: Train loss: 1.9785,             Valid loss: 2.6761\n"
     ]
    },
    {
     "name": "stderr",
     "output_type": "stream",
     "text": [
      "epoch [1702/3000]: 100%|██████████| 9/9 [00:00<00:00, 66.55it/s, loss=1.18]\n"
     ]
    },
    {
     "name": "stdout",
     "output_type": "stream",
     "text": [
      "Epoch [1702/3000]: Train loss: 1.9778,             Valid loss: 2.6306\n"
     ]
    },
    {
     "name": "stderr",
     "output_type": "stream",
     "text": [
      "epoch [1703/3000]: 100%|██████████| 9/9 [00:00<00:00, 73.34it/s, loss=1.19]\n"
     ]
    },
    {
     "name": "stdout",
     "output_type": "stream",
     "text": [
      "Epoch [1703/3000]: Train loss: 1.9823,             Valid loss: 2.5555\n"
     ]
    },
    {
     "name": "stderr",
     "output_type": "stream",
     "text": [
      "epoch [1704/3000]: 100%|██████████| 9/9 [00:00<00:00, 62.03it/s, loss=1.18]\n"
     ]
    },
    {
     "name": "stdout",
     "output_type": "stream",
     "text": [
      "Epoch [1704/3000]: Train loss: 1.9797,             Valid loss: 2.8452\n"
     ]
    },
    {
     "name": "stderr",
     "output_type": "stream",
     "text": [
      "epoch [1705/3000]: 100%|██████████| 9/9 [00:00<00:00, 83.32it/s, loss=1.19]\n"
     ]
    },
    {
     "name": "stdout",
     "output_type": "stream",
     "text": [
      "Epoch [1705/3000]: Train loss: 1.9838,             Valid loss: 2.8896\n"
     ]
    },
    {
     "name": "stderr",
     "output_type": "stream",
     "text": [
      "epoch [1706/3000]: 100%|██████████| 9/9 [00:00<00:00, 68.98it/s, loss=1.18]\n"
     ]
    },
    {
     "name": "stdout",
     "output_type": "stream",
     "text": [
      "Epoch [1706/3000]: Train loss: 1.9811,             Valid loss: 2.6739\n"
     ]
    },
    {
     "name": "stderr",
     "output_type": "stream",
     "text": [
      "epoch [1707/3000]: 100%|██████████| 9/9 [00:00<00:00, 71.94it/s, loss=1.19]\n"
     ]
    },
    {
     "name": "stdout",
     "output_type": "stream",
     "text": [
      "Epoch [1707/3000]: Train loss: 1.9884,             Valid loss: 2.5651\n"
     ]
    },
    {
     "name": "stderr",
     "output_type": "stream",
     "text": [
      "epoch [1708/3000]: 100%|██████████| 9/9 [00:00<00:00, 78.41it/s, loss=1.18]\n"
     ]
    },
    {
     "name": "stdout",
     "output_type": "stream",
     "text": [
      "Epoch [1708/3000]: Train loss: 1.9912,             Valid loss: 2.5596\n"
     ]
    },
    {
     "name": "stderr",
     "output_type": "stream",
     "text": [
      "epoch [1709/3000]: 100%|██████████| 9/9 [00:00<00:00, 84.96it/s, loss=1.19]\n"
     ]
    },
    {
     "name": "stdout",
     "output_type": "stream",
     "text": [
      "Epoch [1709/3000]: Train loss: 1.9929,             Valid loss: 2.3660\n"
     ]
    },
    {
     "name": "stderr",
     "output_type": "stream",
     "text": [
      "epoch [1710/3000]: 100%|██████████| 9/9 [00:00<00:00, 64.63it/s, loss=1.18]\n"
     ]
    },
    {
     "name": "stdout",
     "output_type": "stream",
     "text": [
      "Epoch [1710/3000]: Train loss: 1.9859,             Valid loss: 2.7273\n"
     ]
    },
    {
     "name": "stderr",
     "output_type": "stream",
     "text": [
      "epoch [1711/3000]: 100%|██████████| 9/9 [00:00<00:00, 30.04it/s, loss=1.18]\n"
     ]
    },
    {
     "name": "stdout",
     "output_type": "stream",
     "text": [
      "Epoch [1711/3000]: Train loss: 1.9865,             Valid loss: 2.8654\n"
     ]
    },
    {
     "name": "stderr",
     "output_type": "stream",
     "text": [
      "epoch [1712/3000]: 100%|██████████| 9/9 [00:00<00:00, 75.32it/s, loss=1.18]\n"
     ]
    },
    {
     "name": "stdout",
     "output_type": "stream",
     "text": [
      "Epoch [1712/3000]: Train loss: 1.9804,             Valid loss: 3.2907\n"
     ]
    },
    {
     "name": "stderr",
     "output_type": "stream",
     "text": [
      "epoch [1713/3000]: 100%|██████████| 9/9 [00:00<00:00, 69.48it/s, loss=1.18]\n"
     ]
    },
    {
     "name": "stdout",
     "output_type": "stream",
     "text": [
      "Epoch [1713/3000]: Train loss: 1.9819,             Valid loss: 2.5024\n"
     ]
    },
    {
     "name": "stderr",
     "output_type": "stream",
     "text": [
      "epoch [1714/3000]: 100%|██████████| 9/9 [00:00<00:00, 64.72it/s, loss=1.16]\n"
     ]
    },
    {
     "name": "stdout",
     "output_type": "stream",
     "text": [
      "Epoch [1714/3000]: Train loss: 1.9753,             Valid loss: 2.5619\n"
     ]
    },
    {
     "name": "stderr",
     "output_type": "stream",
     "text": [
      "epoch [1715/3000]: 100%|██████████| 9/9 [00:00<00:00, 75.01it/s, loss=1.17]\n"
     ]
    },
    {
     "name": "stdout",
     "output_type": "stream",
     "text": [
      "Epoch [1715/3000]: Train loss: 1.9714,             Valid loss: 3.0307\n"
     ]
    },
    {
     "name": "stderr",
     "output_type": "stream",
     "text": [
      "epoch [1716/3000]: 100%|██████████| 9/9 [00:00<00:00, 66.17it/s, loss=1.17]\n"
     ]
    },
    {
     "name": "stdout",
     "output_type": "stream",
     "text": [
      "Epoch [1716/3000]: Train loss: 1.9689,             Valid loss: 2.6815\n"
     ]
    },
    {
     "name": "stderr",
     "output_type": "stream",
     "text": [
      "epoch [1717/3000]: 100%|██████████| 9/9 [00:00<00:00, 53.45it/s, loss=1.18]\n"
     ]
    },
    {
     "name": "stdout",
     "output_type": "stream",
     "text": [
      "Epoch [1717/3000]: Train loss: 1.9711,             Valid loss: 2.5193\n"
     ]
    },
    {
     "name": "stderr",
     "output_type": "stream",
     "text": [
      "epoch [1718/3000]: 100%|██████████| 9/9 [00:00<00:00, 65.20it/s, loss=1.18]\n"
     ]
    },
    {
     "name": "stdout",
     "output_type": "stream",
     "text": [
      "Epoch [1718/3000]: Train loss: 1.9746,             Valid loss: 2.5788\n"
     ]
    },
    {
     "name": "stderr",
     "output_type": "stream",
     "text": [
      "epoch [1719/3000]: 100%|██████████| 9/9 [00:00<00:00, 74.24it/s, loss=1.19]\n"
     ]
    },
    {
     "name": "stdout",
     "output_type": "stream",
     "text": [
      "Epoch [1719/3000]: Train loss: 1.9846,             Valid loss: 2.7429\n"
     ]
    },
    {
     "name": "stderr",
     "output_type": "stream",
     "text": [
      "epoch [1720/3000]: 100%|██████████| 9/9 [00:00<00:00, 69.78it/s, loss=1.18]\n"
     ]
    },
    {
     "name": "stdout",
     "output_type": "stream",
     "text": [
      "Epoch [1720/3000]: Train loss: 1.9902,             Valid loss: 2.6475\n"
     ]
    },
    {
     "name": "stderr",
     "output_type": "stream",
     "text": [
      "epoch [1721/3000]: 100%|██████████| 9/9 [00:00<00:00, 86.89it/s, loss=1.18]\n"
     ]
    },
    {
     "name": "stdout",
     "output_type": "stream",
     "text": [
      "Epoch [1721/3000]: Train loss: 1.9884,             Valid loss: 2.6525\n"
     ]
    },
    {
     "name": "stderr",
     "output_type": "stream",
     "text": [
      "epoch [1722/3000]: 100%|██████████| 9/9 [00:00<00:00, 83.99it/s, loss=1.17]\n"
     ]
    },
    {
     "name": "stdout",
     "output_type": "stream",
     "text": [
      "Epoch [1722/3000]: Train loss: 1.9786,             Valid loss: 3.2693\n"
     ]
    },
    {
     "name": "stderr",
     "output_type": "stream",
     "text": [
      "epoch [1723/3000]: 100%|██████████| 9/9 [00:00<00:00, 83.89it/s, loss=1.17]\n"
     ]
    },
    {
     "name": "stdout",
     "output_type": "stream",
     "text": [
      "Epoch [1723/3000]: Train loss: 1.9754,             Valid loss: 2.9495\n"
     ]
    },
    {
     "name": "stderr",
     "output_type": "stream",
     "text": [
      "epoch [1724/3000]: 100%|██████████| 9/9 [00:00<00:00, 80.78it/s, loss=1.17]\n"
     ]
    },
    {
     "name": "stdout",
     "output_type": "stream",
     "text": [
      "Epoch [1724/3000]: Train loss: 1.9743,             Valid loss: 2.7061\n"
     ]
    },
    {
     "name": "stderr",
     "output_type": "stream",
     "text": [
      "epoch [1725/3000]: 100%|██████████| 9/9 [00:00<00:00, 87.20it/s, loss=1.17]\n"
     ]
    },
    {
     "name": "stdout",
     "output_type": "stream",
     "text": [
      "Epoch [1725/3000]: Train loss: 1.9754,             Valid loss: 3.0080\n"
     ]
    },
    {
     "name": "stderr",
     "output_type": "stream",
     "text": [
      "epoch [1726/3000]: 100%|██████████| 9/9 [00:00<00:00, 87.86it/s, loss=1.17]\n"
     ]
    },
    {
     "name": "stdout",
     "output_type": "stream",
     "text": [
      "Epoch [1726/3000]: Train loss: 1.9732,             Valid loss: 3.0238\n"
     ]
    },
    {
     "name": "stderr",
     "output_type": "stream",
     "text": [
      "epoch [1727/3000]: 100%|██████████| 9/9 [00:00<00:00, 82.89it/s, loss=1.17]\n"
     ]
    },
    {
     "name": "stdout",
     "output_type": "stream",
     "text": [
      "Epoch [1727/3000]: Train loss: 1.9727,             Valid loss: 2.6978\n"
     ]
    },
    {
     "name": "stderr",
     "output_type": "stream",
     "text": [
      "epoch [1728/3000]: 100%|██████████| 9/9 [00:00<00:00, 82.02it/s, loss=1.16]\n"
     ]
    },
    {
     "name": "stdout",
     "output_type": "stream",
     "text": [
      "Epoch [1728/3000]: Train loss: 1.9696,             Valid loss: 2.7527\n"
     ]
    },
    {
     "name": "stderr",
     "output_type": "stream",
     "text": [
      "epoch [1729/3000]: 100%|██████████| 9/9 [00:00<00:00, 84.79it/s, loss=1.17]\n"
     ]
    },
    {
     "name": "stdout",
     "output_type": "stream",
     "text": [
      "Epoch [1729/3000]: Train loss: 1.9668,             Valid loss: 2.7215\n"
     ]
    },
    {
     "name": "stderr",
     "output_type": "stream",
     "text": [
      "epoch [1730/3000]: 100%|██████████| 9/9 [00:00<00:00, 84.70it/s, loss=1.16]\n"
     ]
    },
    {
     "name": "stdout",
     "output_type": "stream",
     "text": [
      "Epoch [1730/3000]: Train loss: 1.9656,             Valid loss: 2.9838\n"
     ]
    },
    {
     "name": "stderr",
     "output_type": "stream",
     "text": [
      "epoch [1731/3000]: 100%|██████████| 9/9 [00:00<00:00, 80.20it/s, loss=1.17]\n"
     ]
    },
    {
     "name": "stdout",
     "output_type": "stream",
     "text": [
      "Epoch [1731/3000]: Train loss: 1.9642,             Valid loss: 2.6030\n"
     ]
    },
    {
     "name": "stderr",
     "output_type": "stream",
     "text": [
      "epoch [1732/3000]: 100%|██████████| 9/9 [00:00<00:00, 78.77it/s, loss=1.16]\n"
     ]
    },
    {
     "name": "stdout",
     "output_type": "stream",
     "text": [
      "Epoch [1732/3000]: Train loss: 1.9652,             Valid loss: 3.4784\n"
     ]
    },
    {
     "name": "stderr",
     "output_type": "stream",
     "text": [
      "epoch [1733/3000]: 100%|██████████| 9/9 [00:00<00:00, 82.08it/s, loss=1.17]\n"
     ]
    },
    {
     "name": "stdout",
     "output_type": "stream",
     "text": [
      "Epoch [1733/3000]: Train loss: 1.9655,             Valid loss: 2.7550\n"
     ]
    },
    {
     "name": "stderr",
     "output_type": "stream",
     "text": [
      "epoch [1734/3000]: 100%|██████████| 9/9 [00:00<00:00, 93.62it/s, loss=1.17]\n"
     ]
    },
    {
     "name": "stdout",
     "output_type": "stream",
     "text": [
      "Epoch [1734/3000]: Train loss: 1.9670,             Valid loss: 2.6014\n"
     ]
    },
    {
     "name": "stderr",
     "output_type": "stream",
     "text": [
      "epoch [1735/3000]: 100%|██████████| 9/9 [00:00<00:00, 73.81it/s, loss=1.17]\n"
     ]
    },
    {
     "name": "stdout",
     "output_type": "stream",
     "text": [
      "Epoch [1735/3000]: Train loss: 1.9680,             Valid loss: 2.8468\n"
     ]
    },
    {
     "name": "stderr",
     "output_type": "stream",
     "text": [
      "epoch [1736/3000]: 100%|██████████| 9/9 [00:00<00:00, 79.63it/s, loss=1.16]\n"
     ]
    },
    {
     "name": "stdout",
     "output_type": "stream",
     "text": [
      "Epoch [1736/3000]: Train loss: 1.9666,             Valid loss: 2.4307\n"
     ]
    },
    {
     "name": "stderr",
     "output_type": "stream",
     "text": [
      "epoch [1737/3000]: 100%|██████████| 9/9 [00:00<00:00, 85.73it/s, loss=1.17]\n"
     ]
    },
    {
     "name": "stdout",
     "output_type": "stream",
     "text": [
      "Epoch [1737/3000]: Train loss: 1.9637,             Valid loss: 2.8428\n"
     ]
    },
    {
     "name": "stderr",
     "output_type": "stream",
     "text": [
      "epoch [1738/3000]: 100%|██████████| 9/9 [00:00<00:00, 78.83it/s, loss=1.16]\n"
     ]
    },
    {
     "name": "stdout",
     "output_type": "stream",
     "text": [
      "Epoch [1738/3000]: Train loss: 1.9630,             Valid loss: 3.0026\n"
     ]
    },
    {
     "name": "stderr",
     "output_type": "stream",
     "text": [
      "epoch [1739/3000]: 100%|██████████| 9/9 [00:00<00:00, 86.71it/s, loss=1.16]\n"
     ]
    },
    {
     "name": "stdout",
     "output_type": "stream",
     "text": [
      "Epoch [1739/3000]: Train loss: 1.9618,             Valid loss: 2.6613\n"
     ]
    },
    {
     "name": "stderr",
     "output_type": "stream",
     "text": [
      "epoch [1740/3000]: 100%|██████████| 9/9 [00:00<00:00, 52.85it/s, loss=1.16]\n"
     ]
    },
    {
     "name": "stdout",
     "output_type": "stream",
     "text": [
      "Epoch [1740/3000]: Train loss: 1.9621,             Valid loss: 2.7782\n"
     ]
    },
    {
     "name": "stderr",
     "output_type": "stream",
     "text": [
      "epoch [1741/3000]: 100%|██████████| 9/9 [00:00<00:00, 41.09it/s, loss=1.16]\n"
     ]
    },
    {
     "name": "stdout",
     "output_type": "stream",
     "text": [
      "Epoch [1741/3000]: Train loss: 1.9593,             Valid loss: 3.0613\n"
     ]
    },
    {
     "name": "stderr",
     "output_type": "stream",
     "text": [
      "epoch [1742/3000]: 100%|██████████| 9/9 [00:00<00:00, 59.64it/s, loss=1.16]\n"
     ]
    },
    {
     "name": "stdout",
     "output_type": "stream",
     "text": [
      "Epoch [1742/3000]: Train loss: 1.9594,             Valid loss: 2.9822\n"
     ]
    },
    {
     "name": "stderr",
     "output_type": "stream",
     "text": [
      "epoch [1743/3000]: 100%|██████████| 9/9 [00:00<00:00, 78.54it/s, loss=1.16]\n"
     ]
    },
    {
     "name": "stdout",
     "output_type": "stream",
     "text": [
      "Epoch [1743/3000]: Train loss: 1.9565,             Valid loss: 2.6790\n"
     ]
    },
    {
     "name": "stderr",
     "output_type": "stream",
     "text": [
      "epoch [1744/3000]: 100%|██████████| 9/9 [00:00<00:00, 72.23it/s, loss=1.17]\n"
     ]
    },
    {
     "name": "stdout",
     "output_type": "stream",
     "text": [
      "Epoch [1744/3000]: Train loss: 1.9597,             Valid loss: 3.0624\n"
     ]
    },
    {
     "name": "stderr",
     "output_type": "stream",
     "text": [
      "epoch [1745/3000]: 100%|██████████| 9/9 [00:00<00:00, 75.17it/s, loss=1.17]\n"
     ]
    },
    {
     "name": "stdout",
     "output_type": "stream",
     "text": [
      "Epoch [1745/3000]: Train loss: 1.9644,             Valid loss: 2.2155\n"
     ]
    },
    {
     "name": "stderr",
     "output_type": "stream",
     "text": [
      "epoch [1746/3000]: 100%|██████████| 9/9 [00:00<00:00, 72.83it/s, loss=1.17]\n"
     ]
    },
    {
     "name": "stdout",
     "output_type": "stream",
     "text": [
      "Epoch [1746/3000]: Train loss: 1.9697,             Valid loss: 2.8060\n"
     ]
    },
    {
     "name": "stderr",
     "output_type": "stream",
     "text": [
      "epoch [1747/3000]: 100%|██████████| 9/9 [00:00<00:00, 69.60it/s, loss=1.17]\n"
     ]
    },
    {
     "name": "stdout",
     "output_type": "stream",
     "text": [
      "Epoch [1747/3000]: Train loss: 1.9673,             Valid loss: 2.9327\n"
     ]
    },
    {
     "name": "stderr",
     "output_type": "stream",
     "text": [
      "epoch [1748/3000]: 100%|██████████| 9/9 [00:00<00:00, 65.30it/s, loss=1.17]\n"
     ]
    },
    {
     "name": "stdout",
     "output_type": "stream",
     "text": [
      "Epoch [1748/3000]: Train loss: 1.9712,             Valid loss: 2.7237\n"
     ]
    },
    {
     "name": "stderr",
     "output_type": "stream",
     "text": [
      "epoch [1749/3000]: 100%|██████████| 9/9 [00:00<00:00, 61.69it/s, loss=1.17]\n"
     ]
    },
    {
     "name": "stdout",
     "output_type": "stream",
     "text": [
      "Epoch [1749/3000]: Train loss: 1.9699,             Valid loss: 3.1153\n"
     ]
    },
    {
     "name": "stderr",
     "output_type": "stream",
     "text": [
      "epoch [1750/3000]: 100%|██████████| 9/9 [00:00<00:00, 57.70it/s, loss=1.16]\n"
     ]
    },
    {
     "name": "stdout",
     "output_type": "stream",
     "text": [
      "Epoch [1750/3000]: Train loss: 1.9662,             Valid loss: 2.7147\n"
     ]
    },
    {
     "name": "stderr",
     "output_type": "stream",
     "text": [
      "epoch [1751/3000]: 100%|██████████| 9/9 [00:00<00:00, 55.82it/s, loss=1.15]\n"
     ]
    },
    {
     "name": "stdout",
     "output_type": "stream",
     "text": [
      "Epoch [1751/3000]: Train loss: 1.9613,             Valid loss: 3.3155\n"
     ]
    },
    {
     "name": "stderr",
     "output_type": "stream",
     "text": [
      "epoch [1752/3000]: 100%|██████████| 9/9 [00:00<00:00, 63.21it/s, loss=1.15]\n"
     ]
    },
    {
     "name": "stdout",
     "output_type": "stream",
     "text": [
      "Epoch [1752/3000]: Train loss: 1.9518,             Valid loss: 2.9321\n"
     ]
    },
    {
     "name": "stderr",
     "output_type": "stream",
     "text": [
      "epoch [1753/3000]: 100%|██████████| 9/9 [00:00<00:00, 46.59it/s, loss=1.17]\n"
     ]
    },
    {
     "name": "stdout",
     "output_type": "stream",
     "text": [
      "Epoch [1753/3000]: Train loss: 1.9434,             Valid loss: 3.1075\n"
     ]
    },
    {
     "name": "stderr",
     "output_type": "stream",
     "text": [
      "epoch [1754/3000]: 100%|██████████| 9/9 [00:00<00:00, 56.80it/s, loss=1.15]\n"
     ]
    },
    {
     "name": "stdout",
     "output_type": "stream",
     "text": [
      "Epoch [1754/3000]: Train loss: 1.9572,             Valid loss: 3.5020\n"
     ]
    },
    {
     "name": "stderr",
     "output_type": "stream",
     "text": [
      "epoch [1755/3000]: 100%|██████████| 9/9 [00:00<00:00, 49.36it/s, loss=1.16]\n"
     ]
    },
    {
     "name": "stdout",
     "output_type": "stream",
     "text": [
      "Epoch [1755/3000]: Train loss: 1.9589,             Valid loss: 2.7571\n"
     ]
    },
    {
     "name": "stderr",
     "output_type": "stream",
     "text": [
      "epoch [1756/3000]: 100%|██████████| 9/9 [00:00<00:00, 61.69it/s, loss=1.15]\n"
     ]
    },
    {
     "name": "stdout",
     "output_type": "stream",
     "text": [
      "Epoch [1756/3000]: Train loss: 1.9466,             Valid loss: 3.0451\n"
     ]
    },
    {
     "name": "stderr",
     "output_type": "stream",
     "text": [
      "epoch [1757/3000]: 100%|██████████| 9/9 [00:00<00:00, 79.23it/s, loss=1.16]\n"
     ]
    },
    {
     "name": "stdout",
     "output_type": "stream",
     "text": [
      "Epoch [1757/3000]: Train loss: 1.9589,             Valid loss: 2.5832\n"
     ]
    },
    {
     "name": "stderr",
     "output_type": "stream",
     "text": [
      "epoch [1758/3000]: 100%|██████████| 9/9 [00:00<00:00, 74.89it/s, loss=1.18]\n"
     ]
    },
    {
     "name": "stdout",
     "output_type": "stream",
     "text": [
      "Epoch [1758/3000]: Train loss: 1.9502,             Valid loss: 2.3423\n"
     ]
    },
    {
     "name": "stderr",
     "output_type": "stream",
     "text": [
      "epoch [1759/3000]: 100%|██████████| 9/9 [00:00<00:00, 81.17it/s, loss=1.17]\n"
     ]
    },
    {
     "name": "stdout",
     "output_type": "stream",
     "text": [
      "Epoch [1759/3000]: Train loss: 1.9720,             Valid loss: 2.8263\n"
     ]
    },
    {
     "name": "stderr",
     "output_type": "stream",
     "text": [
      "epoch [1760/3000]: 100%|██████████| 9/9 [00:00<00:00, 82.62it/s, loss=1.16]\n"
     ]
    },
    {
     "name": "stdout",
     "output_type": "stream",
     "text": [
      "Epoch [1760/3000]: Train loss: 1.9729,             Valid loss: 2.8089\n"
     ]
    },
    {
     "name": "stderr",
     "output_type": "stream",
     "text": [
      "epoch [1761/3000]: 100%|██████████| 9/9 [00:00<00:00, 79.03it/s, loss=1.15]\n"
     ]
    },
    {
     "name": "stdout",
     "output_type": "stream",
     "text": [
      "Epoch [1761/3000]: Train loss: 1.9624,             Valid loss: 3.3138\n"
     ]
    },
    {
     "name": "stderr",
     "output_type": "stream",
     "text": [
      "epoch [1762/3000]: 100%|██████████| 9/9 [00:00<00:00, 89.47it/s, loss=1.15]\n"
     ]
    },
    {
     "name": "stdout",
     "output_type": "stream",
     "text": [
      "Epoch [1762/3000]: Train loss: 1.9521,             Valid loss: 2.9509\n"
     ]
    },
    {
     "name": "stderr",
     "output_type": "stream",
     "text": [
      "epoch [1763/3000]: 100%|██████████| 9/9 [00:00<00:00, 91.10it/s, loss=1.14]\n"
     ]
    },
    {
     "name": "stdout",
     "output_type": "stream",
     "text": [
      "Epoch [1763/3000]: Train loss: 1.9458,             Valid loss: 3.4073\n"
     ]
    },
    {
     "name": "stderr",
     "output_type": "stream",
     "text": [
      "epoch [1764/3000]: 100%|██████████| 9/9 [00:00<00:00, 70.65it/s, loss=1.16]\n"
     ]
    },
    {
     "name": "stdout",
     "output_type": "stream",
     "text": [
      "Epoch [1764/3000]: Train loss: 1.9347,             Valid loss: 2.5677\n"
     ]
    },
    {
     "name": "stderr",
     "output_type": "stream",
     "text": [
      "epoch [1765/3000]: 100%|██████████| 9/9 [00:00<00:00, 61.80it/s, loss=1.17]\n"
     ]
    },
    {
     "name": "stdout",
     "output_type": "stream",
     "text": [
      "Epoch [1765/3000]: Train loss: 1.9414,             Valid loss: 2.6824\n"
     ]
    },
    {
     "name": "stderr",
     "output_type": "stream",
     "text": [
      "epoch [1766/3000]: 100%|██████████| 9/9 [00:00<00:00, 78.38it/s, loss=1.17]\n"
     ]
    },
    {
     "name": "stdout",
     "output_type": "stream",
     "text": [
      "Epoch [1766/3000]: Train loss: 1.9616,             Valid loss: 2.7703\n"
     ]
    },
    {
     "name": "stderr",
     "output_type": "stream",
     "text": [
      "epoch [1767/3000]: 100%|██████████| 9/9 [00:00<00:00, 62.69it/s, loss=1.16]\n"
     ]
    },
    {
     "name": "stdout",
     "output_type": "stream",
     "text": [
      "Epoch [1767/3000]: Train loss: 1.9665,             Valid loss: 2.9115\n"
     ]
    },
    {
     "name": "stderr",
     "output_type": "stream",
     "text": [
      "epoch [1768/3000]: 100%|██████████| 9/9 [00:00<00:00, 69.64it/s, loss=1.15]\n"
     ]
    },
    {
     "name": "stdout",
     "output_type": "stream",
     "text": [
      "Epoch [1768/3000]: Train loss: 1.9583,             Valid loss: 2.5408\n"
     ]
    },
    {
     "name": "stderr",
     "output_type": "stream",
     "text": [
      "epoch [1769/3000]: 100%|██████████| 9/9 [00:00<00:00, 76.02it/s, loss=1.15]\n"
     ]
    },
    {
     "name": "stdout",
     "output_type": "stream",
     "text": [
      "Epoch [1769/3000]: Train loss: 1.9476,             Valid loss: 2.6294\n"
     ]
    },
    {
     "name": "stderr",
     "output_type": "stream",
     "text": [
      "epoch [1770/3000]: 100%|██████████| 9/9 [00:00<00:00, 82.65it/s, loss=1.13]\n"
     ]
    },
    {
     "name": "stdout",
     "output_type": "stream",
     "text": [
      "Epoch [1770/3000]: Train loss: 1.9413,             Valid loss: 2.6928\n"
     ]
    },
    {
     "name": "stderr",
     "output_type": "stream",
     "text": [
      "epoch [1771/3000]: 100%|██████████| 9/9 [00:00<00:00, 97.82it/s, loss=1.16]\n"
     ]
    },
    {
     "name": "stdout",
     "output_type": "stream",
     "text": [
      "Epoch [1771/3000]: Train loss: 1.9264,             Valid loss: 2.8830\n"
     ]
    },
    {
     "name": "stderr",
     "output_type": "stream",
     "text": [
      "epoch [1772/3000]: 100%|██████████| 9/9 [00:00<00:00, 82.86it/s, loss=1.17]\n"
     ]
    },
    {
     "name": "stdout",
     "output_type": "stream",
     "text": [
      "Epoch [1772/3000]: Train loss: 1.9379,             Valid loss: 2.6574\n"
     ]
    },
    {
     "name": "stderr",
     "output_type": "stream",
     "text": [
      "epoch [1773/3000]: 100%|██████████| 9/9 [00:00<00:00, 95.12it/s, loss=1.16]\n"
     ]
    },
    {
     "name": "stdout",
     "output_type": "stream",
     "text": [
      "Epoch [1773/3000]: Train loss: 1.9620,             Valid loss: 2.6223\n",
      "\n",
      "Model is not improving, so we halt the training session\n"
     ]
    }
   ],
   "source": [
    "# put model and data on the same computation device\n",
    "model = My_Model(input_dim=x_train.shape[1]).to(device)\n",
    "\n",
    "trainer(train_loader, valid_loader, model, config, device)"
   ]
  },
  {
   "cell_type": "markdown",
   "metadata": {},
   "source": [
    "# Testing"
   ]
  },
  {
   "cell_type": "code",
   "execution_count": 15,
   "metadata": {},
   "outputs": [
    {
     "name": "stderr",
     "output_type": "stream",
     "text": [
      "100%|██████████| 5/5 [00:00<00:00, 198.95it/s]\n"
     ]
    }
   ],
   "source": [
    "def save_pred(preds, file):\n",
    "    '''Save predictions to specified file'''\n",
    "    with open(file, 'w') as fp:\n",
    "        writer = csv.writer(fp)\n",
    "        writer.writerow(['id', 'tested_positive'])\n",
    "        for i, p in enumerate(preds):\n",
    "            writer.writerow([i, p])\n",
    "\n",
    "model = My_Model(input_dim=x_train.shape[1]).to(device)\n",
    "model.load_state_dict(torch.load(config['save_path']))\n",
    "preds = predict(test_loader, model, device)\n",
    "save_pred(preds, 'pred.csv')"
   ]
  }
 ],
 "metadata": {
  "kernelspec": {
   "display_name": "Python 3.10.6 64-bit",
   "language": "python",
   "name": "python3"
  },
  "language_info": {
   "codemirror_mode": {
    "name": "ipython",
    "version": 3
   },
   "file_extension": ".py",
   "mimetype": "text/x-python",
   "name": "python",
   "nbconvert_exporter": "python",
   "pygments_lexer": "ipython3",
   "version": "3.10.6"
  },
  "orig_nbformat": 4,
  "vscode": {
   "interpreter": {
    "hash": "916dbcbb3f70747c44a77c7bcd40155683ae19c65e1c03b4aa3499c5328201f1"
   }
  }
 },
 "nbformat": 4,
 "nbformat_minor": 2
}
